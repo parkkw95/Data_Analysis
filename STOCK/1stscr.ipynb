{
 "cells": [
  {
   "cell_type": "code",
   "execution_count": 1,
   "id": "8e9bc54a-d73a-446e-8c48-a3941d2ffed1",
   "metadata": {},
   "outputs": [],
   "source": [
    "# url =https://finance.naver.com/item/sise.naver?code=003490\n",
    "import requests\n",
    "#pip install beautifulsoup4\n",
    "from bs4 import BeautifulSoup as bsp\n",
    "import sqlite3"
   ]
  },
  {
   "cell_type": "code",
   "execution_count": 2,
   "id": "d8204ae8-19e7-43b2-bc6f-99f292371295",
   "metadata": {},
   "outputs": [
    {
     "name": "stdout",
     "output_type": "stream",
     "text": [
      "[<span class=\"red03\">일별</span>]\n"
     ]
    }
   ],
   "source": [
    "# 허들2:  헤더정보를 속여서 브라우저인것 처럼 알림\n",
    "# 헤더정보를 속이기\n",
    "h = {'User-Agent':'Mozilla/5.0 (Windows NT 6.3; Win64; x64) AppleWebKit/537.36 (KHTML, like Gecko) Chrome/63.0.3239.132 Safari/537.36'}\n",
    "newurl='https://finance.naver.com/item/sise_day.naver?code=003490'\n",
    "src=requests.get(newurl,headers=h)\n",
    "#src.text[:600]\n",
    "htdoc=bsp(src.text,'html.parser')\n",
    "# css 셀렉터\n",
    "tgt=htdoc.select('.red03')\n",
    "if(tgt):\n",
    "    print(tgt)\n",
    "else:\n",
    "    print('데이터가 존재하지 않습니다.')"
   ]
  },
  {
   "cell_type": "raw",
   "id": "cc87baa6-64d3-4a3b-abaf-626a7dcbdd57",
   "metadata": {},
   "source": [
    "'sno','scode','sname','sopenp','shighp','slowp','sclosep','svol'\n",
    "sno,scode,sname,sopenp,shighp,slowp,sclosep,svol"
   ]
  },
  {
   "cell_type": "code",
   "execution_count": 23,
   "id": "dc0bbf5d-ebe0-4111-a878-3c459cff20e7",
   "metadata": {},
   "outputs": [],
   "source": [
    "# 데이터 베이스 사용하기 SQLITE3\n",
    "def insdata(d=[]):\n",
    "    dbname='../_db/stockdb.db'\n",
    "    if(len(d)==9):\n",
    "        with sqlite3.connect(dbname) as conn:\n",
    "            cur=conn.cursor()\n",
    "            selsql=\"select skey from stockp where skey='\"+str(d[0])+\"'\"\n",
    "            exkey=cur.execute(selsql).fetchall()\n",
    "            print(exkey)\n",
    "            if exkey:\n",
    "                print('+',end='')\n",
    "            else:\n",
    "                sql=\"insert into stockp (skey,scode,sname,sday,sopenp,shighp,slowp,sclosep,svol) values(?,?,?,?,?,?,?,?,?)\"\n",
    "                cur.execute(sql,d)\n",
    "            \n",
    "    else:\n",
    "        print('입력데이터 오류')\n",
    "    print('.',end='')\n"
   ]
  },
  {
   "cell_type": "code",
   "execution_count": 24,
   "id": "d15330d6-6dbe-49a8-ae27-2ca6a7f99e02",
   "metadata": {},
   "outputs": [],
   "source": [
    "def getPage(no='1'):\n",
    "    h = {'User-Agent':'Mozilla/5.0 (Windows NT 6.3; Win64; x64) AppleWebKit/537.36 (KHTML, like Gecko) Chrome/63.0.3239.132 Safari/537.36'}\n",
    "    newurl='https://finance.naver.com/item/sise_day.naver?code=003490&page='+no\n",
    "    print(newurl)\n",
    "    src=requests.get(newurl,headers=h)\n",
    "    htdoc=bsp(src.text,'html.parser') \n",
    "    tbl=htdoc.select('table.type2 tr')\n",
    "    # 데이터가 있는 라인만 접근\n",
    "    for tr in tbl:\n",
    "        tday=tr.select('.p10')\n",
    "        if(len(tday)):\n",
    "            tds=tr.select('td')\n",
    "            sday=tds[0].getText().strip().replace('.','-')\n",
    "            sendp=tds[1].getText().strip().replace(',','')\n",
    "            sstartp=tds[3].getText().strip().replace(',','')\n",
    "            shighp=tds[4].getText().strip().replace(',','')\n",
    "            slowp=tds[5].getText().strip().replace(',','')\n",
    "            svol=tds[6].getText().strip().replace(',','')\n",
    "            sktxt=sday.replace('-','')+'003490'\n",
    "            skey=int(sktxt)\n",
    "            d=[skey,'003490','대한항공',sday,sendp,sstartp,shighp,slowp,svol]\n",
    "            insdata(d)\n"
   ]
  },
  {
   "cell_type": "code",
   "execution_count": 25,
   "id": "7888619e-7179-4339-9bf2-63597bda18ee",
   "metadata": {
    "tags": []
   },
   "outputs": [
    {
     "name": "stdout",
     "output_type": "stream",
     "text": [
      "https://finance.naver.com/item/sise_day.naver?code=003490&page=1\n",
      "[(20211227003490,)]\n",
      "+.[(20211224003490,)]\n",
      "+.[(20211223003490,)]\n",
      "+.[(20211222003490,)]\n",
      "+.[(20211221003490,)]\n",
      "+.[(20211220003490,)]\n",
      "+.[(20211217003490,)]\n",
      "+.[(20211216003490,)]\n",
      "+.[(20211215003490,)]\n",
      "+.[(20211214003490,)]\n",
      "+.https://finance.naver.com/item/sise_day.naver?code=003490&page=2\n",
      "[]\n",
      ".[]\n",
      ".[]\n",
      ".[]\n",
      ".[]\n",
      ".[]\n",
      ".[]\n",
      ".[]\n",
      ".[]\n",
      ".[]\n",
      ".https://finance.naver.com/item/sise_day.naver?code=003490&page=3\n",
      "[]\n",
      ".[]\n",
      ".[]\n",
      ".[]\n",
      ".[]\n",
      ".[]\n",
      ".[]\n",
      ".[(20211118003490,)]\n",
      "+.[(20211117003490,)]\n",
      "+.[(20211116003490,)]\n",
      "+.https://finance.naver.com/item/sise_day.naver?code=003490&page=4\n",
      "[(20211115003490,)]\n",
      "+.[(20211112003490,)]\n",
      "+.[(20211111003490,)]\n",
      "+.[(20211110003490,)]\n",
      "+.[(20211109003490,)]\n",
      "+.[(20211108003490,)]\n",
      "+.[(20211105003490,)]\n",
      "+.[(20211104003490,)]\n",
      "+.[(20211103003490,)]\n",
      "+.[(20211102003490,)]\n",
      "+.https://finance.naver.com/item/sise_day.naver?code=003490&page=5\n",
      "[(20211101003490,)]\n",
      "+.[(20211029003490,)]\n",
      "+.[(20211028003490,)]\n",
      "+.[(20211027003490,)]\n",
      "+.[(20211026003490,)]\n",
      "+.[(20211025003490,)]\n",
      "+.[(20211022003490,)]\n",
      "+.[(20211021003490,)]\n",
      "+.[(20211020003490,)]\n",
      "+.[(20211019003490,)]\n",
      "+.https://finance.naver.com/item/sise_day.naver?code=003490&page=6\n",
      "[(20211018003490,)]\n",
      "+.[(20211015003490,)]\n",
      "+.[(20211014003490,)]\n",
      "+.[(20211013003490,)]\n",
      "+.[(20211012003490,)]\n",
      "+.[(20211008003490,)]\n",
      "+.[(20211007003490,)]\n",
      "+.[(20211006003490,)]\n",
      "+.[(20211005003490,)]\n",
      "+.[(20211001003490,)]\n",
      "+.https://finance.naver.com/item/sise_day.naver?code=003490&page=7\n",
      "[(20210930003490,)]\n",
      "+.[(20210929003490,)]\n",
      "+.[(20210928003490,)]\n",
      "+.[(20210927003490,)]\n",
      "+.[(20210924003490,)]\n",
      "+.[(20210923003490,)]\n",
      "+.[(20210917003490,)]\n",
      "+.[(20210916003490,)]\n",
      "+.[(20210915003490,)]\n",
      "+.[(20210914003490,)]\n",
      "+.https://finance.naver.com/item/sise_day.naver?code=003490&page=8\n",
      "[(20210913003490,)]\n",
      "+.[(20210910003490,)]\n",
      "+.[(20210909003490,)]\n",
      "+.[(20210908003490,)]\n",
      "+.[(20210907003490,)]\n",
      "+.[(20210906003490,)]\n",
      "+.[(20210903003490,)]\n",
      "+.[(20210902003490,)]\n",
      "+.[(20210901003490,)]\n",
      "+.[(20210831003490,)]\n",
      "+.https://finance.naver.com/item/sise_day.naver?code=003490&page=9\n",
      "[(20210830003490,)]\n",
      "+.[(20210827003490,)]\n",
      "+.[(20210826003490,)]\n",
      "+.[(20210825003490,)]\n",
      "+.[(20210824003490,)]\n",
      "+.[(20210823003490,)]\n",
      "+.[(20210820003490,)]\n",
      "+.[(20210819003490,)]\n",
      "+.[(20210818003490,)]\n",
      "+.[(20210817003490,)]\n",
      "+."
     ]
    }
   ],
   "source": [
    "for i in range(1,10):\n",
    "    getPage(str(i))"
   ]
  },
  {
   "cell_type": "code",
   "execution_count": null,
   "id": "210b98e6-1d04-4d4a-ab1f-df27ee3381dd",
   "metadata": {},
   "outputs": [],
   "source": [
    "###\n"
   ]
  }
 ],
 "metadata": {
  "kernelspec": {
   "display_name": "Python 3 (ipykernel)",
   "language": "python",
   "name": "python3"
  },
  "language_info": {
   "codemirror_mode": {
    "name": "ipython",
    "version": 3
   },
   "file_extension": ".py",
   "mimetype": "text/x-python",
   "name": "python",
   "nbconvert_exporter": "python",
   "pygments_lexer": "ipython3",
   "version": "3.8.0"
  }
 },
 "nbformat": 4,
 "nbformat_minor": 5
}
