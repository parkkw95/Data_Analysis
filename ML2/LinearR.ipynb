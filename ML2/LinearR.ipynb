{
 "cells": [
  {
   "cell_type": "markdown",
   "id": "e298e372-2350-4d1d-b1d9-44a7897d4f31",
   "metadata": {},
   "source": [
    "### 회귀분석\n",
    "*  독립변수 사이에 인과 관계를 알기위한 분석\n",
    "    - 독립변수와 그 영향을 받는 종속변수 사이에 선형성이 있음을 가정하고 분석\n",
    "    - 회귀식: y=a1*x1+a2*x2+a3*x3 ...\n",
    "    - 기울기와 절편\n",
    "    - 종류\n",
    "        - 단순회귀: 독립변수 1개\n",
    "        - 다중회귀: 독립변수 2개이상\n",
    "    - 도출\n",
    "        - 단순회귀: y= a*x + b\n",
    "    - 가정\n",
    "        - 등분산성: 독립변수는 동일한 분산을 가진다\n",
    "        - 선형성: 독립변수와 종속변수는 선형관계\n",
    "        - 여러개의 독립변수의 경우에는 서로 독립적이어야 한다\n",
    "        - 정규성: 에러항은 정규분포 하여야 한다.\n",
    "        \n",
    "        \n",
    "* 상관분석과의 차이\n",
    "    - 상관분석: 어느정도 관계가 있다 여부\n",
    "    - 회귀: 독립변수가 종속변수에 영향을 미치는 정도\n",
    "    "
   ]
  },
  {
   "cell_type": "code",
   "execution_count": 1,
   "id": "0c331cf9-2b64-407c-81b3-392e2c968225",
   "metadata": {},
   "outputs": [],
   "source": [
    "import sklearn\n",
    "import numpy as np\n",
    "import pandas as pd\n",
    "import matplotlib as mpl\n",
    "import matplotlib.pyplot as plt\n",
    "import seaborn as sns"
   ]
  },
  {
   "cell_type": "code",
   "execution_count": 2,
   "id": "5428bc1c-d529-433d-b168-538be9cc8df0",
   "metadata": {},
   "outputs": [],
   "source": [
    "np.random.seed(123)\n",
    "num=10\n",
    "X=[]\n",
    "Y=[]\n",
    "a=3\n",
    "b=4\n",
    "for i in range(num):\n",
    "    X.append(i)\n",
    "    x=i\n",
    "    y=a*x+b # 모델 데이터 만들기\n",
    "    e=np.random.standard_normal()*5 # 정규분포 기반의 난수\n",
    "    Y.append(y+e)"
   ]
  },
  {
   "cell_type": "code",
   "execution_count": 4,
   "id": "99289c41-b6ac-49cd-8aee-a4b902b7c176",
   "metadata": {},
   "outputs": [
    {
     "data": {
      "image/png": "[encoded data removed]",
      "text/plain": [
       "<Figure size 432x288 with 1 Axes>"
      ]
     },
     "metadata": {
      "needs_background": "light"
     },
     "output_type": "display_data"
    }
   ],
   "source": [
    "plt.plot(X,Y,'r+',label='Data')\n",
    "#plt.plot(X,YL,label='Model')\n",
    "plt.plot([0,num],[0,3.5*num+2],label='model2')\n",
    "plt.plot([0,num],[0,2.5*num+8],label='model1')\n",
    "plt.plot([0,num],[0,3*num+4],label='model')\n",
    "plt.legend()\n",
    "plt.title('Linear Regression')\n",
    "plt.show()"
   ]
  },
  {
   "cell_type": "markdown",
   "id": "1c8c5fb2-344f-44d0-b239-99fde85e3903",
   "metadata": {},
   "source": [
    "- 선형회귀 검정\n",
    "    - 에러항의 평가 기준\n",
    "        - 기본값 : 극단치의 영향이 너무 많음 = Error\n",
    "        - 절대값 : 에러 차이가 많이 나는 데이터에 대한 영향력이 적음 = Absolute Error\n",
    "        - 에러항의 제곱(RSS) : 큰 에러에 대한 영향력 강화 = Squared Error SE\n",
    "    - 에러항의 합이 0에 가까워야 한다 : 데이터량이 많으면 커진다\n",
    "        - Sum of Error\n",
    "        - SAE : Sum of AE\n",
    "        - SSE : Sum of SE\n",
    "    - 에러항의 합을 데이터 갯수로 나눠서 데이터량에 따른 영향력 감소\n",
    "        - MAE : Mean of AE\n",
    "        - MSE : Mean of SE = 오차항이 매우 커질 수 있음 (제곱)\n",
    "            - RMSE : (Root MSE) 오차항에 영향이 너무 크면 Root 사용\n",
    "        - MSE = sum(square(Y - (ax + b))) / num\n",
    "        "
   ]
  },
  {
   "cell_type": "code",
   "execution_count": null,
   "id": "1e0b5ad9-1f18-4ba1-827e-a53547d7dbaf",
   "metadata": {},
   "outputs": [],
   "source": []
  }
 ],
 "metadata": {
  "kernelspec": {
   "display_name": "Python 3 (ipykernel)",
   "language": "python",
   "name": "python3"
  },
  "language_info": {
   "codemirror_mode": {
    "name": "ipython",
    "version": 3
   },
   "file_extension": ".py",
   "mimetype": "text/x-python",
   "name": "python",
   "nbconvert_exporter": "python",
   "pygments_lexer": "ipython3",
   "version": "3.7.11"
  }
 },
 "nbformat": 4,
 "nbformat_minor": 5
}
