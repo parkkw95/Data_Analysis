{
 "cells": [
  {
   "cell_type": "code",
   "execution_count": 3,
   "id": "6ea65454-ae22-4559-9e61-5c28f61db3ac",
   "metadata": {},
   "outputs": [],
   "source": [
    "import numpy as np\n",
    "import pandas as pd\n",
    "import matplotlib.pyplot as plt\n",
    "#한글 쓰기1\n",
    "import matplotlib.font_manager as fm\n",
    "import matplotlib as mpl\n",
    "mpl.rcParams['font.family'] = 'GyeonggiBatang'\n",
    "mpl.rcParams['axes.unicode_minus'] = False"
   ]
  },
  {
   "cell_type": "code",
   "execution_count": 4,
   "id": "2748f9a5-181d-4171-8068-0cf3eacb0c8c",
   "metadata": {},
   "outputs": [
    {
     "data": {
      "image/png": "[encoded data removed]",
      "text/plain": [
       "<Figure size 432x288 with 1 Axes>"
      ]
     },
     "metadata": {
      "needs_background": "light"
     },
     "output_type": "display_data"
    }
   ],
   "source": [
    "plt.scatter(1, 2)\n",
    "plt.title('산점도')\n",
    "plt.show()"
   ]
  },
  {
   "cell_type": "code",
   "execution_count": 7,
   "id": "496fa18c-4827-404c-a561-28cf7086b1d8",
   "metadata": {},
   "outputs": [],
   "source": [
    "popcsv = pd.read_csv('../_data/행정구역_시군구_별__성별_인구수_20211029104519.csv', encoding = 'cp949')"
   ]
  },
  {
   "cell_type": "code",
   "execution_count": 114,
   "id": "48172980-cc15-43f1-8902-33ac29e07202",
   "metadata": {
    "tags": []
   },
   "outputs": [
    {
     "data": {
      "text/html": [
       "<div>\n",
       "<style scoped>\n",
       "    .dataframe tbody tr th:only-of-type {\n",
       "        vertical-align: middle;\n",
       "    }\n",
       "\n",
       "    .dataframe tbody tr th {\n",
       "        vertical-align: top;\n",
       "    }\n",
       "\n",
       "    .dataframe thead th {\n",
       "        text-align: right;\n",
       "    }\n",
       "</style>\n",
       "<table border=\"1\" class=\"dataframe\">\n",
       "  <thead>\n",
       "    <tr style=\"text-align: right;\">\n",
       "      <th></th>\n",
       "      <th>시도</th>\n",
       "      <th>인구</th>\n",
       "    </tr>\n",
       "  </thead>\n",
       "  <tbody>\n",
       "    <tr>\n",
       "      <th>2</th>\n",
       "      <td>서울특별시</td>\n",
       "      <td>9558153</td>\n",
       "    </tr>\n",
       "    <tr>\n",
       "      <th>3</th>\n",
       "      <td>부산광역시</td>\n",
       "      <td>3361781</td>\n",
       "    </tr>\n",
       "    <tr>\n",
       "      <th>4</th>\n",
       "      <td>대구광역시</td>\n",
       "      <td>2395749</td>\n",
       "    </tr>\n",
       "    <tr>\n",
       "      <th>5</th>\n",
       "      <td>인천광역시</td>\n",
       "      <td>2937440</td>\n",
       "    </tr>\n",
       "    <tr>\n",
       "      <th>6</th>\n",
       "      <td>광주광역시</td>\n",
       "      <td>1442482</td>\n",
       "    </tr>\n",
       "    <tr>\n",
       "      <th>7</th>\n",
       "      <td>대전광역시</td>\n",
       "      <td>1455300</td>\n",
       "    </tr>\n",
       "    <tr>\n",
       "      <th>8</th>\n",
       "      <td>울산광역시</td>\n",
       "      <td>1125727</td>\n",
       "    </tr>\n",
       "    <tr>\n",
       "      <th>9</th>\n",
       "      <td>세종특별자치시</td>\n",
       "      <td>364364</td>\n",
       "    </tr>\n",
       "  </tbody>\n",
       "</table>\n",
       "</div>"
      ],
      "text/plain": [
       "        시도       인구\n",
       "2    서울특별시  9558153\n",
       "3    부산광역시  3361781\n",
       "4    대구광역시  2395749\n",
       "5    인천광역시  2937440\n",
       "6    광주광역시  1442482\n",
       "7    대전광역시  1455300\n",
       "8    울산광역시  1125727\n",
       "9  세종특별자치시   364364"
      ]
     },
     "execution_count": 114,
     "metadata": {},
     "output_type": "execute_result"
    }
   ],
   "source": [
    "popcity = popcsv[['행정구역(시군구)별','2021. 07']][2:10]\n",
    "popcity.columns = ['시도', '인구']\n",
    "popcity"
   ]
  },
  {
   "cell_type": "code",
   "execution_count": 55,
   "id": "3a9d8f52-6658-4d89-8973-13a2d09ec497",
   "metadata": {},
   "outputs": [],
   "source": [
    "gpsxls = pd.read_excel('../_data/행정_법정동 중심좌표.xlsx')"
   ]
  },
  {
   "cell_type": "code",
   "execution_count": 115,
   "id": "811be257-9967-4f3c-a8b6-4ed87fa58052",
   "metadata": {
    "tags": []
   },
   "outputs": [
    {
     "data": {
      "text/html": [
       "<div>\n",
       "<style scoped>\n",
       "    .dataframe tbody tr th:only-of-type {\n",
       "        vertical-align: middle;\n",
       "    }\n",
       "\n",
       "    .dataframe tbody tr th {\n",
       "        vertical-align: top;\n",
       "    }\n",
       "\n",
       "    .dataframe thead th {\n",
       "        text-align: right;\n",
       "    }\n",
       "</style>\n",
       "<table border=\"1\" class=\"dataframe\">\n",
       "  <thead>\n",
       "    <tr style=\"text-align: right;\">\n",
       "      <th></th>\n",
       "      <th>시도</th>\n",
       "      <th>위도</th>\n",
       "      <th>경도</th>\n",
       "    </tr>\n",
       "  </thead>\n",
       "  <tbody>\n",
       "    <tr>\n",
       "      <th>0</th>\n",
       "      <td>서울특별시</td>\n",
       "      <td>37.584009</td>\n",
       "      <td>126.970626</td>\n",
       "    </tr>\n",
       "    <tr>\n",
       "      <th>1</th>\n",
       "      <td>서울특별시</td>\n",
       "      <td>37.575408</td>\n",
       "      <td>126.965944</td>\n",
       "    </tr>\n",
       "    <tr>\n",
       "      <th>2</th>\n",
       "      <td>서울특별시</td>\n",
       "      <td>37.590758</td>\n",
       "      <td>126.980996</td>\n",
       "    </tr>\n",
       "    <tr>\n",
       "      <th>3</th>\n",
       "      <td>서울특별시</td>\n",
       "      <td>37.594768</td>\n",
       "      <td>126.965574</td>\n",
       "    </tr>\n",
       "    <tr>\n",
       "      <th>4</th>\n",
       "      <td>서울특별시</td>\n",
       "      <td>37.613029</td>\n",
       "      <td>126.974485</td>\n",
       "    </tr>\n",
       "  </tbody>\n",
       "</table>\n",
       "</div>"
      ],
      "text/plain": [
       "      시도         위도          경도\n",
       "0  서울특별시  37.584009  126.970626\n",
       "1  서울특별시  37.575408  126.965944\n",
       "2  서울특별시  37.590758  126.980996\n",
       "3  서울특별시  37.594768  126.965574\n",
       "4  서울특별시  37.613029  126.974485"
      ]
     },
     "execution_count": 115,
     "metadata": {},
     "output_type": "execute_result"
    }
   ],
   "source": [
    "gpscity = gpsxls[['시도', '위도', '경도']]\n",
    "gpscity.head()"
   ]
  },
  {
   "cell_type": "code",
   "execution_count": 226,
   "id": "680a48cd-fc65-4628-a7b0-ea1f34d947f1",
   "metadata": {},
   "outputs": [
    {
     "data": {
      "text/html": [
       "<div>\n",
       "<style scoped>\n",
       "    .dataframe tbody tr th:only-of-type {\n",
       "        vertical-align: middle;\n",
       "    }\n",
       "\n",
       "    .dataframe tbody tr th {\n",
       "        vertical-align: top;\n",
       "    }\n",
       "\n",
       "    .dataframe thead th {\n",
       "        text-align: right;\n",
       "    }\n",
       "</style>\n",
       "<table border=\"1\" class=\"dataframe\">\n",
       "  <thead>\n",
       "    <tr style=\"text-align: right;\">\n",
       "      <th></th>\n",
       "      <th>인구</th>\n",
       "      <th>위도</th>\n",
       "      <th>경도</th>\n",
       "    </tr>\n",
       "    <tr>\n",
       "      <th>시도</th>\n",
       "      <th></th>\n",
       "      <th></th>\n",
       "      <th></th>\n",
       "    </tr>\n",
       "  </thead>\n",
       "  <tbody>\n",
       "    <tr>\n",
       "      <th>광주광역시</th>\n",
       "      <td>1442482</td>\n",
       "      <td>35.054641</td>\n",
       "      <td>126.659374</td>\n",
       "    </tr>\n",
       "    <tr>\n",
       "      <th>대구광역시</th>\n",
       "      <td>2395749</td>\n",
       "      <td>35.620628</td>\n",
       "      <td>128.349012</td>\n",
       "    </tr>\n",
       "    <tr>\n",
       "      <th>대전광역시</th>\n",
       "      <td>1455300</td>\n",
       "      <td>36.216518</td>\n",
       "      <td>127.257924</td>\n",
       "    </tr>\n",
       "    <tr>\n",
       "      <th>부산광역시</th>\n",
       "      <td>3361781</td>\n",
       "      <td>35.011799</td>\n",
       "      <td>128.815823</td>\n",
       "    </tr>\n",
       "    <tr>\n",
       "      <th>서울특별시</th>\n",
       "      <td>9558153</td>\n",
       "      <td>37.446848</td>\n",
       "      <td>126.775768</td>\n",
       "    </tr>\n",
       "    <tr>\n",
       "      <th>세종특별자치시</th>\n",
       "      <td>364364</td>\n",
       "      <td>36.419531</td>\n",
       "      <td>127.148470</td>\n",
       "    </tr>\n",
       "    <tr>\n",
       "      <th>울산광역시</th>\n",
       "      <td>1125727</td>\n",
       "      <td>35.347682</td>\n",
       "      <td>129.014419</td>\n",
       "    </tr>\n",
       "    <tr>\n",
       "      <th>인천광역시</th>\n",
       "      <td>2937440</td>\n",
       "      <td>37.025743</td>\n",
       "      <td>124.638333</td>\n",
       "    </tr>\n",
       "  </tbody>\n",
       "</table>\n",
       "</div>"
      ],
      "text/plain": [
       "              인구         위도          경도\n",
       "시도                                     \n",
       "광주광역시    1442482  35.054641  126.659374\n",
       "대구광역시    2395749  35.620628  128.349012\n",
       "대전광역시    1455300  36.216518  127.257924\n",
       "부산광역시    3361781  35.011799  128.815823\n",
       "서울특별시    9558153  37.446848  126.775768\n",
       "세종특별자치시   364364  36.419531  127.148470\n",
       "울산광역시    1125727  35.347682  129.014419\n",
       "인천광역시    2937440  37.025743  124.638333"
      ]
     },
     "execution_count": 226,
     "metadata": {},
     "output_type": "execute_result"
    }
   ],
   "source": [
    "popgps = popcity.merge(gpscity, how = 'inner').groupby('시도').min()\n",
    "popgps"
   ]
  },
  {
   "cell_type": "code",
   "execution_count": 245,
   "id": "fdfbb6dc-b77f-4c59-97b8-9ccb6c81d41f",
   "metadata": {
    "tags": []
   },
   "outputs": [
    {
     "data": {
      "text/html": [
       "<div>\n",
       "<style scoped>\n",
       "    .dataframe tbody tr th:only-of-type {\n",
       "        vertical-align: middle;\n",
       "    }\n",
       "\n",
       "    .dataframe tbody tr th {\n",
       "        vertical-align: top;\n",
       "    }\n",
       "\n",
       "    .dataframe thead th {\n",
       "        text-align: right;\n",
       "    }\n",
       "</style>\n",
       "<table border=\"1\" class=\"dataframe\">\n",
       "  <thead>\n",
       "    <tr style=\"text-align: right;\">\n",
       "      <th></th>\n",
       "      <th>위도</th>\n",
       "      <th>경도</th>\n",
       "    </tr>\n",
       "  </thead>\n",
       "  <tbody>\n",
       "    <tr>\n",
       "      <th>count</th>\n",
       "      <td>8.000000</td>\n",
       "      <td>8.000000</td>\n",
       "    </tr>\n",
       "    <tr>\n",
       "      <th>mean</th>\n",
       "      <td>36.017924</td>\n",
       "      <td>127.332390</td>\n",
       "    </tr>\n",
       "    <tr>\n",
       "      <th>std</th>\n",
       "      <td>0.910692</td>\n",
       "      <td>1.420433</td>\n",
       "    </tr>\n",
       "    <tr>\n",
       "      <th>min</th>\n",
       "      <td>35.011799</td>\n",
       "      <td>124.638333</td>\n",
       "    </tr>\n",
       "    <tr>\n",
       "      <th>25%</th>\n",
       "      <td>35.274422</td>\n",
       "      <td>126.746669</td>\n",
       "    </tr>\n",
       "    <tr>\n",
       "      <th>50%</th>\n",
       "      <td>35.918573</td>\n",
       "      <td>127.203197</td>\n",
       "    </tr>\n",
       "    <tr>\n",
       "      <th>75%</th>\n",
       "      <td>36.571084</td>\n",
       "      <td>128.465715</td>\n",
       "    </tr>\n",
       "    <tr>\n",
       "      <th>max</th>\n",
       "      <td>37.446848</td>\n",
       "      <td>129.014419</td>\n",
       "    </tr>\n",
       "  </tbody>\n",
       "</table>\n",
       "</div>"
      ],
      "text/plain": [
       "              위도          경도\n",
       "count   8.000000    8.000000\n",
       "mean   36.017924  127.332390\n",
       "std     0.910692    1.420433\n",
       "min    35.011799  124.638333\n",
       "25%    35.274422  126.746669\n",
       "50%    35.918573  127.203197\n",
       "75%    36.571084  128.465715\n",
       "max    37.446848  129.014419"
      ]
     },
     "execution_count": 245,
     "metadata": {},
     "output_type": "execute_result"
    }
   ],
   "source": [
    "popgps.describe()"
   ]
  },
  {
   "cell_type": "code",
   "execution_count": 274,
   "id": "1d077326-e6b3-448d-97d2-bd380460ff76",
   "metadata": {},
   "outputs": [],
   "source": [
    "pops = popgps['인구'].astype('float') / 10000\n",
    "len(pops)\n",
    "#colors = 'rgbcmkyr'\n",
    "colors = ['red', 'orange', 'yellow', 'green', 'blue', 'navy', 'purple', 'black']\n",
    "cmap = 'jet'"
   ]
  },
  {
   "cell_type": "markdown",
   "id": "a1ada14d-d044-4bc9-b78f-abbffb2b2ce9",
   "metadata": {},
   "source": [
    "### 산점도 scatter\n",
    "* 분포와 크기 정보를 동시에 전달\n",
    "* 옵션\n",
    "    - x, y\n",
    "    - s : 사이즈\n",
    "    - c : 컬러\n",
    "    - alpha : 투명도"
   ]
  },
  {
   "cell_type": "code",
   "execution_count": 211,
   "id": "bd447544-d907-4902-8e6e-a1e7315e40d5",
   "metadata": {
    "collapsed": true,
    "jupyter": {
     "outputs_hidden": true
    },
    "tags": []
   },
   "outputs": [
    {
     "data": {
      "text/plain": [
       "<matplotlib.image.AxesImage at 0x2064e3db7f0>"
      ]
     },
     "execution_count": 211,
     "metadata": {},
     "output_type": "execute_result"
    },
    {
     "data": {
      "image/png": "[encoded data removed]",
      "text/plain": [
       "<Figure size 432x288 with 1 Axes>"
      ]
     },
     "metadata": {
      "needs_background": "light"
     },
     "output_type": "display_data"
    }
   ],
   "source": [
    "img = plt.imread('../_data/skorea.png')\n",
    "plt.imshow(img)"
   ]
  },
  {
   "cell_type": "code",
   "execution_count": 275,
   "id": "7347f8ea-9d07-4991-94ea-6ed88c895a90",
   "metadata": {},
   "outputs": [
    {
     "data": {
      "image/png": "[encoded data removed]",
      "text/plain": [
       "<Figure size 432x288 with 1 Axes>"
      ]
     },
     "metadata": {
      "needs_background": "light"
     },
     "output_type": "display_data"
    }
   ],
   "source": [
    "rex = popgps['경도']\n",
    "rey = popgps['위도']\n",
    "plt.scatter(rex, rey, s = pops, c = colors)\n",
    "plt.title('주요 도시 인구 분포도')\n",
    "plt.grid()\n",
    "plt.show()"
   ]
  },
  {
   "cell_type": "code",
   "execution_count": 276,
   "id": "c772e4e2-379a-4590-b597-888872274a96",
   "metadata": {},
   "outputs": [
    {
     "data": {
      "image/png": "[encoded data removed]",
      "text/plain": [
       "<Figure size 432x288 with 1 Axes>"
      ]
     },
     "metadata": {
      "needs_background": "light"
     },
     "output_type": "display_data"
    }
   ],
   "source": [
    "fig, ax = plt.subplots()\n",
    "img = plt.imread('../_data/skorea.png')\n",
    "ax.imshow(img, 'bwr')\n",
    "rex = (popgps['경도'] - 124.638333) * 130 + 280\n",
    "rey = (popgps['위도'] - 35.011799) * 350 + 300\n",
    "ax.scatter(rex, rey, s = pops, c = colors, alpha = 0.5)\n",
    "ax.set_title('주요 도시 인구 분포도')\n",
    "ax.grid()\n",
    "plt.show()"
   ]
  },
  {
   "cell_type": "code",
   "execution_count": 300,
   "id": "99999fd0-89ae-4bc7-9771-80f6633f2ad0",
   "metadata": {},
   "outputs": [
    {
     "name": "stderr",
     "output_type": "stream",
     "text": [
      "Clipping input data to the valid range for imshow with RGB data ([0..1] for floats or [0..255] for integers).\n"
     ]
    },
    {
     "name": "stdout",
     "output_type": "stream",
     "text": [
      "(1494, 1506, 4)\n",
      "시도\n",
      "광주광역시      542.73533\n",
      "대구광역시      762.38827\n",
      "대전광역시      620.54683\n",
      "부산광역시      823.07370\n",
      "서울특별시      557.86655\n",
      "세종특별자치시    606.31781\n",
      "울산광역시      848.89118\n",
      "인천광역시      280.00000\n",
      "Name: 경도, dtype: float64\n",
      "시도\n",
      "광주광역시       314.99470\n",
      "대구광역시       513.09015\n",
      "대전광역시       721.65165\n",
      "부산광역시       300.00000\n",
      "서울특별시      1152.26715\n",
      "세종특별자치시     792.70620\n",
      "울산광역시       417.55905\n",
      "인천광역시      1004.88040\n",
      "Name: 위도, dtype: float64\n"
     ]
    },
    {
     "data": {
      "image/png": "[encoded data removed]",
      "text/plain": [
       "<Figure size 432x288 with 1 Axes>"
      ]
     },
     "metadata": {
      "needs_background": "light"
     },
     "output_type": "display_data"
    }
   ],
   "source": [
    "fig, ax = plt.subplots()\n",
    "img = plt.imread('../_data/skorea.png')\n",
    "nimg = np.array(img)\n",
    "print(nimg.shape)\n",
    "ax.imshow(nimg * 2)\n",
    "rex = (popgps['경도'] - 124.638333) * 130 + 280\n",
    "rey = (popgps['위도'] - 35.011799) * 350 + 300\n",
    "orders = np.arange(len(popgps))\n",
    "ax.scatter(rex, rey, s = pops, c = colors, cmap = plt.cm.autumn, alpha = 0.7)\n",
    "for r in (rex, rey):\n",
    "    print(r)\n",
    "ax.set_title('주요 도시 인구 분포도')\n",
    "ax.grid()\n",
    "plt.show()"
   ]
  },
  {
   "cell_type": "code",
   "execution_count": 280,
   "id": "82ea9061-4f5c-4902-aec3-83caa7c4a74d",
   "metadata": {},
   "outputs": [
    {
     "data": {
      "text/plain": [
       "<BarContainer object of 8 artists>"
      ]
     },
     "execution_count": 280,
     "metadata": {},
     "output_type": "execute_result"
    },
    {
     "data": {
      "image/png": "[encoded data removed]",
      "text/plain": [
       "<Figure size 432x288 with 1 Axes>"
      ]
     },
     "metadata": {
      "needs_background": "light"
     },
     "output_type": "display_data"
    }
   ],
   "source": [
    "orders = np.arange(len(popgps))\n",
    "plt.bar(orders, popgps['인구'].values)"
   ]
  },
  {
   "cell_type": "code",
   "execution_count": 281,
   "id": "1535fdd4-58a7-46ae-82f0-c24678c18c7b",
   "metadata": {},
   "outputs": [],
   "source": [
    "popint = popgps['인구'].astype('int')"
   ]
  },
  {
   "cell_type": "code",
   "execution_count": 290,
   "id": "852c59ad-ac7b-409d-9075-82da33d972d4",
   "metadata": {},
   "outputs": [],
   "source": [
    "colors = ['red', 'orange', 'yellow', 'green', 'blue', 'navy', 'purple', 'black']"
   ]
  },
  {
   "cell_type": "markdown",
   "id": "975a834c-57af-40ed-9b4e-c775f4324b10",
   "metadata": {},
   "source": [
    "### barplot\n",
    "* plt.bar(x,\n",
    "*         y, \n",
    "*         color : 컬러,\n",
    "*         tick_label : x축 값\n",
    "*         width : 세로 막대 폭 사이즈\n",
    "*         height : 가로 막대 폭 사이즈)\n",
    "* plt.barh : 가로바 그래프"
   ]
  },
  {
   "cell_type": "code",
   "execution_count": 291,
   "id": "312641f3-c6ea-4d41-a745-ef80625de4df",
   "metadata": {},
   "outputs": [
    {
     "data": {
      "image/png": "[encoded data removed]",
      "text/plain": [
       "<Figure size 432x288 with 1 Axes>"
      ]
     },
     "metadata": {
      "needs_background": "light"
     },
     "output_type": "display_data"
    }
   ],
   "source": [
    "orders = np.arange(len(popgps))\n",
    "plt.bar(orders, popint.values, \n",
    "        color = colors, \n",
    "        tick_label = popint.index,\n",
    "        width = 0.5)\n",
    "plt.xticks(rotation = 45)\n",
    "plt.title('세로 막대 그래프')\n",
    "plt.show()"
   ]
  },
  {
   "cell_type": "code",
   "execution_count": 299,
   "id": "83c839cc-e7d9-41d3-becf-1e2032cdfd0e",
   "metadata": {},
   "outputs": [
    {
     "data": {
      "image/png": "[encoded data removed]",
      "text/plain": [
       "<Figure size 432x288 with 1 Axes>"
      ]
     },
     "metadata": {
      "needs_background": "light"
     },
     "output_type": "display_data"
    }
   ],
   "source": [
    "orders = np.arange(len(popgps))\n",
    "plt.barh(orders, popint.values, \n",
    "        color = colors, \n",
    "        tick_label = popint.index,\n",
    "        height = 0.5)\n",
    "# plt.yticks(rotation = 45)\n",
    "plt.title('가로 막대 그래프')\n",
    "plt.show()"
   ]
  },
  {
   "cell_type": "code",
   "execution_count": null,
   "id": "000e555c-00ae-45d7-9caa-b1484c55cddf",
   "metadata": {},
   "outputs": [],
   "source": []
  }
 ],
 "metadata": {
  "kernelspec": {
   "display_name": "Python 3 (ipykernel)",
   "language": "python",
   "name": "python3"
  },
  "language_info": {
   "codemirror_mode": {
    "name": "ipython",
    "version": 3
   },
   "file_extension": ".py",
   "mimetype": "text/x-python",
   "name": "python",
   "nbconvert_exporter": "python",
   "pygments_lexer": "ipython3",
   "version": "3.7.11"
  }
 },
 "nbformat": 4,
 "nbformat_minor": 5
}
