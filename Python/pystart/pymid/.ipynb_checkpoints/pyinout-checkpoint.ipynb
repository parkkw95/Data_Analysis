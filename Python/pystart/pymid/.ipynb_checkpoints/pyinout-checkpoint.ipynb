{
 "cells": [
  {
   "cell_type": "markdown",
   "id": "6c727e73-1d6f-4117-9f80-bc6e62ce645a",
   "metadata": {},
   "source": [
    "### 입출력\n",
    "* 출력문\n",
    "    - print() 기본적으로 개행이 들어간 형태의 화면 출력\n",
    "    - print(end='') 마지막에 들어갈 문자 지정\n",
    "* 형식지정\n",
    "    - % 형식지정\n",
    "        * %s : 문자열\n",
    "        * %d : 정수형\n",
    "        * %f : 실수형\n",
    "        "
   ]
  },
  {
   "cell_type": "code",
   "execution_count": 1,
   "id": "a8aa743e-d9f6-41eb-929c-b8d03be5d442",
   "metadata": {
    "tags": []
   },
   "outputs": [
    {
     "name": "stdout",
     "output_type": "stream",
     "text": [
      "내 이름은 홍길동 입니다\n"
     ]
    }
   ],
   "source": [
    "print(\"내 이름은 %s 입니다\" % \"홍길동\")"
   ]
  },
  {
   "cell_type": "code",
   "execution_count": 2,
   "id": "39dc3d13-0dd3-4dcd-bbee-4fe49ee2c767",
   "metadata": {
    "jupyter": {
     "source_hidden": true
    },
    "tags": []
   },
   "outputs": [
    {
     "name": "stdout",
     "output_type": "stream",
     "text": [
      "저는  덤블링을 12 할수 있어요\n"
     ]
    }
   ],
   "source": [
    "# 2개이상 형식 지정\n",
    "name=\" 덤블링\"\n",
    "no=12\n",
    "print(\"저는 %s을 %d 할수 있어요\" % (name,no))"
   ]
  },
  {
   "cell_type": "code",
   "execution_count": 3,
   "id": "3717fb24-2a47-4ab4-9b57-55a1f927ca0d",
   "metadata": {},
   "outputs": [
    {
     "name": "stdout",
     "output_type": "stream",
     "text": [
      "우편번호는 [02345] 입니다.\n",
      "우편번호는 [                                              2345] 입니다.\n",
      "우편번호는 [2345.00000] 입니다.\n"
     ]
    }
   ],
   "source": [
    "# 고급출력문\n",
    "a=2345\n",
    "print('우편번호는 [%05d] 입니다.'%a) # 0 으로 5칸 채우기\n",
    "print('우편번호는 [%50d] 입니다.'%a) # 50 칸을 빈칸으로 채우기\n",
    "print('우편번호는 [%.5f] 입니다.'%a) # 소수점5째자리까지 출력"
   ]
  },
  {
   "cell_type": "markdown",
   "id": "584e8bf0-a37a-45d3-b16d-09eab3e933f0",
   "metadata": {},
   "source": [
    "# format 출력문\n",
    "* '{ }문자열'.format(출력요소)"
   ]
  },
  {
   "cell_type": "code",
   "execution_count": 4,
   "id": "594b5dce-9388-458d-b866-d706220eaed1",
   "metadata": {},
   "outputs": [
    {
     "name": "stdout",
     "output_type": "stream",
     "text": [
      "내 이름은 홍길동 입니다.\n"
     ]
    }
   ],
   "source": [
    "print('내 이름은 {} 입니다.'.format('홍길동'))"
   ]
  },
  {
   "cell_type": "code",
   "execution_count": 5,
   "id": "b39abebf-2112-447e-8e8c-9d22665545ba",
   "metadata": {},
   "outputs": [
    {
     "name": "stdout",
     "output_type": "stream",
     "text": [
      "나는 덤블링를 12번 할 수 있습니다.\n"
     ]
    }
   ],
   "source": [
    "# 여러 요소 출력  순서대로 들어감\n",
    "print('나는 {}를 {}번 할 수 있습니다.'.format('덤블링',12))"
   ]
  },
  {
   "cell_type": "code",
   "execution_count": 6,
   "id": "a2eb965a-5f40-44bb-b216-58bfd294e676",
   "metadata": {},
   "outputs": [
    {
     "name": "stdout",
     "output_type": "stream",
     "text": [
      "나는 덤블링을 12번 점프도 12번 한다.\n"
     ]
    }
   ],
   "source": [
    "# 순서 지정 반복사용\n",
    "print('나는 {0}을 {1}번 {2}도 {1}번 한다.'.format('덤블링',12,'점프'))"
   ]
  },
  {
   "cell_type": "code",
   "execution_count": 7,
   "id": "c1ef655a-1341-495f-be42-2627dc7e685a",
   "metadata": {},
   "outputs": [
    {
     "name": "stdout",
     "output_type": "stream",
     "text": [
      "우편번호는 02345 입니다.\n",
      "우편번호는 23450 입니다.\n",
      "우편번호는       2345 입니다.\n",
      "우편번호는 2345.00000 입니다.\n",
      "내 잔고는 USD5,678.00,KRW12,345 입니다.\n"
     ]
    }
   ],
   "source": [
    "# 형식문자열\n",
    "a=2345\n",
    "print('우편번호는 {:0>5} 입니다.'.format(a)) # 0 으로 5칸 좌측 채우기\n",
    "print('우편번호는 {:0<5} 입니다.'.format(a)) # 0 으로 5칸 우측 채우기\n",
    "print('우편번호는 {: >10} 입니다.'.format(a)) # 빈칸으로 10칸 좌측 채우기\n",
    "print('우편번호는 {:.5f} 입니다.'.format(a)) # 소수점 정밀도 지정\n",
    "print('내 잔고는 USD{1:,.2f},KRW{0:,.0f} 입니다.'.format(12345,5678)) # 천단위표시"
   ]
  },
  {
   "cell_type": "markdown",
   "id": "0de7a284-acd5-41d9-aaec-626298a528f5",
   "metadata": {},
   "source": [
    "### 입력받기\n",
    "* input\n"
   ]
  },
  {
   "cell_type": "code",
   "execution_count": 8,
   "id": "9c1ac9da-a463-43ce-8129-0f3efef04ba1",
   "metadata": {},
   "outputs": [
    {
     "name": "stdin",
     "output_type": "stream",
     "text": [
      "숫자를 입력 하세요 3\n"
     ]
    },
    {
     "name": "stdout",
     "output_type": "stream",
     "text": [
      "3 입니다.\n"
     ]
    }
   ],
   "source": [
    "a=input(\"숫자를 입력 하세요\")\n",
    "print(a,'입니다.')"
   ]
  },
  {
   "cell_type": "code",
   "execution_count": 9,
   "id": "2791ae6c-26e8-45be-908d-353d4ca03d98",
   "metadata": {},
   "outputs": [
    {
     "name": "stdin",
     "output_type": "stream",
     "text": [
      "평수를 입력하세요 3\n"
     ]
    },
    {
     "name": "stdout",
     "output_type": "stream",
     "text": [
      "면적은 9.92 제곱미터입니다.\n"
     ]
    }
   ],
   "source": [
    "py=input('평수를 입력하세요')\n",
    "m2=float(py)*3.30579\n",
    "print('면적은 {:.2f} 제곱미터입니다.'.format(m2))"
   ]
  },
  {
   "cell_type": "markdown",
   "id": "bedec918-94ea-4da7-810f-f7409163396f",
   "metadata": {},
   "source": [
    "# 파일 입출력\n",
    "* open() 오픈함수를 이용하여 파일 오픈\n",
    "* mode 파일 읽고 쓰기 모드\n",
    "    - r: 읽기\n",
    "    - w: 쓰기\n",
    "    - x: 중복쓰기 방지 모드\n",
    "    - a: 추가모드  주로 로그에 사용\n",
    "    - b: 바이너리\n",
    "    \n",
    "* close()\n",
    "    - 파일닫기"
   ]
  },
  {
   "cell_type": "code",
   "execution_count": 10,
   "id": "40bcc720-b215-4e60-8231-76b191c2360c",
   "metadata": {},
   "outputs": [],
   "source": [
    "fname='test.txt'\n",
    "f=open(fname,'w')\n",
    "f.write('yhello')\n",
    "f.close()"
   ]
  },
  {
   "cell_type": "code",
   "execution_count": 11,
   "id": "8af58650-d2f1-4ab7-ae26-28377c7eade2",
   "metadata": {
    "tags": []
   },
   "outputs": [
    {
     "ename": "FileExistsError",
     "evalue": "[Errno 17] File exists: 'test.txt'",
     "output_type": "error",
     "traceback": [
      "\u001b[1;31m---------------------------------------------------------------------------\u001b[0m",
      "\u001b[1;31mFileExistsError\u001b[0m                           Traceback (most recent call last)",
      "\u001b[1;32m<ipython-input-11-1cb65e371f09>\u001b[0m in \u001b[0;36m<module>\u001b[1;34m\u001b[0m\n\u001b[0;32m      1\u001b[0m \u001b[1;31m# x 모드 파일 있으면 에러\u001b[0m\u001b[1;33m\u001b[0m\u001b[1;33m\u001b[0m\u001b[1;33m\u001b[0m\u001b[0m\n\u001b[0;32m      2\u001b[0m \u001b[0mfname\u001b[0m\u001b[1;33m=\u001b[0m\u001b[1;34m'test.txt'\u001b[0m\u001b[1;33m\u001b[0m\u001b[1;33m\u001b[0m\u001b[0m\n\u001b[1;32m----> 3\u001b[1;33m \u001b[0mf\u001b[0m\u001b[1;33m=\u001b[0m\u001b[0mopen\u001b[0m\u001b[1;33m(\u001b[0m\u001b[0mfname\u001b[0m\u001b[1;33m,\u001b[0m\u001b[1;34m'x'\u001b[0m\u001b[1;33m)\u001b[0m\u001b[1;33m\u001b[0m\u001b[1;33m\u001b[0m\u001b[0m\n\u001b[0m\u001b[0;32m      4\u001b[0m \u001b[0mf\u001b[0m\u001b[1;33m.\u001b[0m\u001b[0mwrite\u001b[0m\u001b[1;33m(\u001b[0m\u001b[1;34m'x hello'\u001b[0m\u001b[1;33m)\u001b[0m\u001b[1;33m\u001b[0m\u001b[1;33m\u001b[0m\u001b[0m\n\u001b[0;32m      5\u001b[0m \u001b[0mf\u001b[0m\u001b[1;33m.\u001b[0m\u001b[0mclose\u001b[0m\u001b[1;33m(\u001b[0m\u001b[1;33m)\u001b[0m\u001b[1;33m\u001b[0m\u001b[1;33m\u001b[0m\u001b[0m\n",
      "\u001b[1;31mFileExistsError\u001b[0m: [Errno 17] File exists: 'test.txt'"
     ]
    }
   ],
   "source": [
    "# x 모드 파일 있으면 에러\n",
    "fname='test.txt'\n",
    "f=open(fname,'x')\n",
    "f.write('x hello')\n",
    "f.close()"
   ]
  },
  {
   "cell_type": "code",
   "execution_count": 12,
   "id": "a7ae4e34-a11b-471a-a959-53d45b0ad8b5",
   "metadata": {},
   "outputs": [
    {
     "name": "stdout",
     "output_type": "stream",
     "text": [
      "yhello\n"
     ]
    }
   ],
   "source": [
    "# 파일 읽기\n",
    "fname='test.txt'\n",
    "f=open(fname,'r')\n",
    "data =f.read()\n",
    "f.close()\n",
    "print(data)"
   ]
  },
  {
   "cell_type": "markdown",
   "id": "279b8619-3b1b-44cc-8d15-d18ad554c1cb",
   "metadata": {},
   "source": [
    "### 파일 읽기\n",
    "* read()\n",
    "* readline()\n",
    "* readlines()\n",
    "\n",
    "* with open(파일명, 모드 ) as f:\n"
   ]
  },
  {
   "cell_type": "code",
   "execution_count": 13,
   "id": "ea619cce-f476-4cc7-9c07-bddf21b668a7",
   "metadata": {},
   "outputs": [],
   "source": [
    "fname='test.txt'\n",
    "with open(fname,'w') as f:\n",
    "    for i in range(10):\n",
    "        f.write(str(i)+'\\n')"
   ]
  },
  {
   "cell_type": "code",
   "execution_count": 14,
   "id": "6e94d1fc-bf08-45e2-8978-ac716c8848ff",
   "metadata": {
    "collapsed": true,
    "jupyter": {
     "outputs_hidden": true
    },
    "tags": []
   },
   "outputs": [
    {
     "name": "stdout",
     "output_type": "stream",
     "text": [
      "0\n",
      "1\n",
      "2\n",
      "3\n",
      "4\n",
      "5\n",
      "6\n",
      "7\n",
      "8\n",
      "9\n",
      "\n"
     ]
    },
    {
     "data": {
      "text/plain": [
       "['0', '1', '2', '3', '4', '5', '6', '7', '8', '9', '']"
      ]
     },
     "execution_count": 14,
     "metadata": {},
     "output_type": "execute_result"
    }
   ],
   "source": [
    "with open(fname,'r') as f:\n",
    "    data=f.read()\n",
    "print(data)\n",
    "fdata=data.split('\\n')\n",
    "fdata"
   ]
  },
  {
   "cell_type": "code",
   "execution_count": 19,
   "id": "9fd4982d-67d4-4eb9-bd0d-21d2e72a800d",
   "metadata": {},
   "outputs": [
    {
     "name": "stdout",
     "output_type": "stream",
     "text": [
      "end\n",
      "['0', '1', '2', '3', '4', '5', '6', '7', '8', '9']\n"
     ]
    }
   ],
   "source": [
    "with open(fname,'r') as f:\n",
    "    data=[]\n",
    "    line=f.readline()\n",
    "    while line:\n",
    "        data.append(line.strip())\n",
    "        line=f.readline()\n",
    "    print('end')\n",
    "print(data)"
   ]
  },
  {
   "cell_type": "code",
   "execution_count": 20,
   "id": "b414098b-682b-47c3-925f-531de647c9dc",
   "metadata": {},
   "outputs": [
    {
     "name": "stdout",
     "output_type": "stream",
     "text": [
      "['0\\n', '1\\n', '2\\n', '3\\n', '4\\n', '5\\n', '6\\n', '7\\n', '8\\n', '9\\n']\n"
     ]
    }
   ],
   "source": [
    "with open(fname,'r') as f:\n",
    "    lines=f.readlines()\n",
    "print(lines)"
   ]
  },
  {
   "cell_type": "code",
   "execution_count": 21,
   "id": "9b8d463b-1db7-4b8b-a603-1196c022dc98",
   "metadata": {},
   "outputs": [],
   "source": [
    "def readFile(fname='test.txt'):\n",
    "    with open(fname,'r') as f:\n",
    "        lines=f.readlines()\n",
    "    return(lines)"
   ]
  },
  {
   "cell_type": "code",
   "execution_count": 23,
   "id": "7bcd26ba-eade-43ef-b90e-84b93c3c6ac8",
   "metadata": {},
   "outputs": [
    {
     "data": {
      "text/plain": [
       "['0\\n', '1\\n', '2\\n', '3\\n', '4\\n', '5\\n', '6\\n', '7\\n', '8\\n', '9\\n']"
      ]
     },
     "execution_count": 23,
     "metadata": {},
     "output_type": "execute_result"
    }
   ],
   "source": [
    "readFile('test.txt')"
   ]
  },
  {
   "cell_type": "code",
   "execution_count": 24,
   "id": "5e5da5a3-8e9c-4cd2-8239-d145485c7dbb",
   "metadata": {},
   "outputs": [],
   "source": [
    "# 변수의 범위\n"
   ]
  },
  {
   "cell_type": "code",
   "execution_count": 31,
   "id": "d25acc28-3c4d-4111-8496-990769768a6b",
   "metadata": {},
   "outputs": [
    {
     "name": "stdout",
     "output_type": "stream",
     "text": [
      "함수 이전: 10 | 110\n",
      "==============================\n",
      "함수 내부 7 | 117\n",
      "------------------------------\n",
      "for 내부 0 | 117\n",
      "for 내부 1 | 118\n",
      "for 내부 2 | 120\n",
      "for 내부 3 | 123\n",
      "------------------------------\n",
      "for 다음 3 | 126\n",
      "==============================\n",
      "함수 다음 10 | 136\n"
     ]
    }
   ],
   "source": [
    "i=10\n",
    "j=100\n",
    "j=j+i\n",
    "print('함수 이전:',i,'|',j)\n",
    "print('='*30)\n",
    "def testfn(i=7): # 함수 내부 변수는 별도 관리 외부 i 와 다름 지역변수\n",
    "    global j # 전역변수 사용\n",
    "    j=j+i\n",
    "    print('함수 내부',i,'|',j)\n",
    "    print('-'*30)\n",
    "    for i in range(4):\n",
    "        j=j+i\n",
    "        print('for 내부',i,'|',j)\n",
    "    print('-'*30)\n",
    "    j=j+i\n",
    "    print('for 다음',i,'|',j)\n",
    "testfn()\n",
    "print('='*30)\n",
    "j=j+i\n",
    "print('함수 다음',i,'|',j)"
   ]
  },
  {
   "cell_type": "markdown",
   "id": "44f9f9a8-43eb-4bf6-9e67-c23139067e48",
   "metadata": {},
   "source": [
    "### 람다함수\n",
    "* lambda 변수명: 변수가들어있는 수식 -> 자동반환\n"
   ]
  },
  {
   "cell_type": "code",
   "execution_count": 32,
   "id": "90af11f1-cca1-40bd-aa93-8a2ef10700a8",
   "metadata": {},
   "outputs": [
    {
     "data": {
      "text/plain": [
       "4"
      ]
     },
     "execution_count": 32,
     "metadata": {},
     "output_type": "execute_result"
    }
   ],
   "source": [
    "addx=lambda x:x+1\n",
    "addx(3)"
   ]
  },
  {
   "cell_type": "code",
   "execution_count": null,
   "id": "98311bd1-68b6-4987-a1c8-d79875a957d2",
   "metadata": {},
   "outputs": [],
   "source": []
  }
 ],
 "metadata": {
  "kernelspec": {
   "display_name": "Python 3",
   "language": "python",
   "name": "python3"
  },
  "language_info": {
   "codemirror_mode": {
    "name": "ipython",
    "version": 3
   },
   "file_extension": ".py",
   "mimetype": "text/x-python",
   "name": "python",
   "nbconvert_exporter": "python",
   "pygments_lexer": "ipython3",
   "version": "3.8.8"
  }
 },
 "nbformat": 4,
 "nbformat_minor": 5
}
