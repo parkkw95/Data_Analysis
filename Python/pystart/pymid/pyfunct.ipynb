{
 "cells": [
  {
   "cell_type": "markdown",
   "id": "0ea5911e-d1cc-4e37-b4fa-6b86dd7356cf",
   "metadata": {},
   "source": [
    "### 문자열 함수\n",
    "* 문자열 자르기\n",
    "* split(maxsplit=2)\n"
   ]
  },
  {
   "cell_type": "code",
   "execution_count": 2,
   "id": "808b7865-a784-46e4-9e5b-bf5d5d6e2ab5",
   "metadata": {},
   "outputs": [
    {
     "data": {
      "text/plain": [
       "['서울,', '대구,', '부산,광주,목포']"
      ]
     },
     "execution_count": 2,
     "metadata": {},
     "output_type": "execute_result"
    }
   ],
   "source": [
    "'서울, 대구, 부산,광주,목포'.split() # 인자가 없으면 공백기준 분리"
   ]
  },
  {
   "cell_type": "code",
   "execution_count": 5,
   "id": "5056189b-f6e3-42aa-833d-d32602a99c97",
   "metadata": {},
   "outputs": [
    {
     "data": {
      "text/plain": [
       "['서울', ' 대구', ' 부산', '광주', '목포']"
      ]
     },
     "execution_count": 5,
     "metadata": {},
     "output_type": "execute_result"
    }
   ],
   "source": [
    "city='서울, 대구, 부산,광주,목포'.split(',') # 인자 있으면 인자로 분리\n",
    "city"
   ]
  },
  {
   "cell_type": "code",
   "execution_count": 6,
   "id": "70484b7f-4feb-4aae-87bd-7e3d52b17072",
   "metadata": {},
   "outputs": [
    {
     "data": {
      "text/plain": [
       "['서울', '대구', '부산', '광주', '목포']"
      ]
     },
     "execution_count": 6,
     "metadata": {},
     "output_type": "execute_result"
    }
   ],
   "source": [
    "scity=[c.strip() for c in city] # 공백제거를 위한 처리\n",
    "scity"
   ]
  },
  {
   "cell_type": "code",
   "execution_count": 3,
   "id": "285bd6bc-5ec9-4304-834c-904d2f718083",
   "metadata": {},
   "outputs": [
    {
     "data": {
      "text/plain": [
       "['서울,', '대구,', '부산, 광주, 목포']"
      ]
     },
     "execution_count": 3,
     "metadata": {},
     "output_type": "execute_result"
    }
   ],
   "source": [
    "'서울, 대구, 부산, 광주, 목포'.split(maxsplit=2) # 해당횟수만 분리"
   ]
  },
  {
   "cell_type": "markdown",
   "id": "3e8c816f-63c0-4e8f-a8f3-5f310ab193ca",
   "metadata": {},
   "source": [
    "* 문자 제거\n",
    "    - strip()"
   ]
  },
  {
   "cell_type": "code",
   "execution_count": 8,
   "id": "b3d53bef-92a7-4ac5-8c55-b4e29ef1cbdb",
   "metadata": {},
   "outputs": [
    {
     "data": {
      "text/plain": [
       "'서울 1945'"
      ]
     },
     "execution_count": 8,
     "metadata": {},
     "output_type": "execute_result"
    }
   ],
   "source": [
    "stest='  서울 1945  '\n",
    "stest.strip()"
   ]
  },
  {
   "cell_type": "code",
   "execution_count": 10,
   "id": "d48504dd-b5fb-4864-b256-366070a3e2c9",
   "metadata": {},
   "outputs": [
    {
     "data": {
      "text/plain": [
       "'서울 19'"
      ]
     },
     "execution_count": 10,
     "metadata": {},
     "output_type": "execute_result"
    }
   ],
   "source": [
    "stest.strip(' 145') # 인자가 있으면 다른것이 나오기 직전까지 삭제"
   ]
  },
  {
   "cell_type": "markdown",
   "id": "545f381d-a6b4-4473-8990-cc0d63ce8d5b",
   "metadata": {},
   "source": [
    "* 문자열 연결\n",
    "    - +\n",
    "    - join()\n",
    "    "
   ]
  },
  {
   "cell_type": "code",
   "execution_count": 13,
   "id": "2de9670c-5c60-44db-8b90-270c9854eb18",
   "metadata": {},
   "outputs": [
    {
     "data": {
      "text/plain": [
       "'서울,대구'"
      ]
     },
     "execution_count": 13,
     "metadata": {},
     "output_type": "execute_result"
    }
   ],
   "source": [
    "scity[0]+','+scity[1]"
   ]
  },
  {
   "cell_type": "code",
   "execution_count": 14,
   "id": "a73597ab-8ecf-4b3c-8463-6c146f56190c",
   "metadata": {},
   "outputs": [
    {
     "data": {
      "text/plain": [
       "'서울,대구,부산,광주,목포'"
      ]
     },
     "execution_count": 14,
     "metadata": {},
     "output_type": "execute_result"
    }
   ],
   "source": [
    "','.join(scity)"
   ]
  },
  {
   "cell_type": "code",
   "execution_count": 22,
   "id": "515aa8e8-d027-4104-a278-a05191c02478",
   "metadata": {},
   "outputs": [
    {
     "name": "stdout",
     "output_type": "stream",
     "text": [
      "목포\n",
      "목포,광주\n",
      "목포,광주,부산\n",
      "목포,광주,부산,대구\n",
      "목포,광주,부산,대구,서울\n"
     ]
    }
   ],
   "source": [
    "scity=['서울', '대구', '부산', '광주', '목포']\n",
    "res=''\n",
    "while scity:\n",
    "    s=scity.pop()\n",
    "    res+=s+','\n",
    "    print(res[:-1])"
   ]
  },
  {
   "cell_type": "markdown",
   "id": "bc71899c-be2c-4e2c-80c9-7d43f3c0aec4",
   "metadata": {},
   "source": [
    "* 문자열 찾기\n",
    "    - find() # 없으면 -1\n",
    "    - index() # 없으면 에러\n",
    "    - count('인자') #인자 세기 \n",
    "    - startswith('인자') # 인자로 시작되는가 T/F"
   ]
  },
  {
   "cell_type": "code",
   "execution_count": 27,
   "id": "ea443ba4-f7d9-4238-a3b7-22b72dccd404",
   "metadata": {},
   "outputs": [
    {
     "data": {
      "text/plain": [
       "-1"
      ]
     },
     "execution_count": 27,
     "metadata": {},
     "output_type": "execute_result"
    }
   ],
   "source": [
    "scity='목포,광주,부산,대구,서울'\n",
    "scity.find('부',7) # start 위치지정"
   ]
  },
  {
   "cell_type": "code",
   "execution_count": 38,
   "id": "b9a66b38-0208-4ed4-925c-d1b6416e7eb1",
   "metadata": {},
   "outputs": [
    {
     "data": {
      "text/plain": [
       "6"
      ]
     },
     "execution_count": 38,
     "metadata": {},
     "output_type": "execute_result"
    }
   ],
   "source": [
    "scity.find('부',1,8) # start 위치지정 end 위치지정"
   ]
  },
  {
   "cell_type": "code",
   "execution_count": 39,
   "id": "1c664528-d0c7-46ca-8ccb-8a88addf7d4e",
   "metadata": {},
   "outputs": [
    {
     "data": {
      "text/plain": [
       "6"
      ]
     },
     "execution_count": 39,
     "metadata": {},
     "output_type": "execute_result"
    }
   ],
   "source": [
    "scity.index('부',1,8) # start 위치지정 end 위치지정"
   ]
  },
  {
   "cell_type": "code",
   "execution_count": 40,
   "id": "be47c405-9d86-4910-8256-87ef0695be59",
   "metadata": {},
   "outputs": [
    {
     "ename": "ValueError",
     "evalue": "substring not found",
     "output_type": "error",
     "traceback": [
      "\u001b[1;31m---------------------------------------------------------------------------\u001b[0m",
      "\u001b[1;31mValueError\u001b[0m                                Traceback (most recent call last)",
      "\u001b[1;32m<ipython-input-40-115afc72906f>\u001b[0m in \u001b[0;36m<module>\u001b[1;34m\u001b[0m\n\u001b[1;32m----> 1\u001b[1;33m \u001b[0mscity\u001b[0m\u001b[1;33m.\u001b[0m\u001b[0mindex\u001b[0m\u001b[1;33m(\u001b[0m\u001b[1;34m'궤'\u001b[0m\u001b[1;33m,\u001b[0m\u001b[1;36m1\u001b[0m\u001b[1;33m,\u001b[0m\u001b[1;36m8\u001b[0m\u001b[1;33m)\u001b[0m \u001b[1;31m# start 위치지정 end 위치지정\u001b[0m\u001b[1;33m\u001b[0m\u001b[1;33m\u001b[0m\u001b[0m\n\u001b[0m",
      "\u001b[1;31mValueError\u001b[0m: substring not found"
     ]
    }
   ],
   "source": [
    "scity.index('궤',1,8) # start 위치지정 end 위치지정"
   ]
  },
  {
   "cell_type": "code",
   "execution_count": 41,
   "id": "eee5be69-68ac-4ba2-8883-8945e7c9785c",
   "metadata": {},
   "outputs": [
    {
     "data": {
      "text/plain": [
       "-1"
      ]
     },
     "execution_count": 41,
     "metadata": {},
     "output_type": "execute_result"
    }
   ],
   "source": [
    "scity.find('궤',1,8) # start 위치지정 end 위치지정"
   ]
  },
  {
   "cell_type": "code",
   "execution_count": 42,
   "id": "6d2b6e13-ea26-4f8a-a9cf-9ade548ebf8a",
   "metadata": {},
   "outputs": [
    {
     "data": {
      "text/plain": [
       "4"
      ]
     },
     "execution_count": 42,
     "metadata": {},
     "output_type": "execute_result"
    }
   ],
   "source": [
    "scity.count(',') # start 위치지정 end 위치지정"
   ]
  },
  {
   "cell_type": "code",
   "execution_count": 45,
   "id": "b782884f-1698-4933-aff7-5515dc187571",
   "metadata": {},
   "outputs": [
    {
     "data": {
      "text/plain": [
       "True"
      ]
     },
     "execution_count": 45,
     "metadata": {},
     "output_type": "execute_result"
    }
   ],
   "source": [
    "scity='목포,광주,부산,대구,서울'\n",
    "scity.startswith('목포')"
   ]
  },
  {
   "cell_type": "markdown",
   "id": "d743ee84-2f3e-4895-99f2-591a2552fa0e",
   "metadata": {},
   "source": [
    "* 문자열 바꾸기\n",
    "* replace( '기존','새',횟수)\n"
   ]
  },
  {
   "cell_type": "code",
   "execution_count": 46,
   "id": "f0d0f0da-c2e6-4c10-8a28-1ee0a68e047f",
   "metadata": {},
   "outputs": [
    {
     "data": {
      "text/plain": [
       "'목포 | 광주 | 부산,대구,서울'"
      ]
     },
     "execution_count": 46,
     "metadata": {},
     "output_type": "execute_result"
    }
   ],
   "source": [
    "scity='목포,광주,부산,대구,서울'\n",
    "scity.replace(',',' | ',2)"
   ]
  },
  {
   "cell_type": "markdown",
   "id": "c8813c50-d034-4d6b-86c9-ec17c5acac42",
   "metadata": {},
   "source": [
    "* 문자열 구성\n",
    "    - isalpha()"
   ]
  },
  {
   "cell_type": "code",
   "execution_count": 49,
   "id": "d42da6e4-500d-4346-8c23-bf60e9ff451a",
   "metadata": {
    "collapsed": true,
    "jupyter": {
     "outputs_hidden": true
    },
    "tags": []
   },
   "outputs": [
    {
     "name": "stdout",
     "output_type": "stream",
     "text": [
      "가나 \t: True\n",
      "가aB \t: True\n",
      "12 \t: False\n",
      "aB \t: True\n",
      "ab1234 \t: False\n",
      "#$! \t: False\n",
      "가나abAB \t: True\n",
      ".#$!123 \t: False\n"
     ]
    }
   ],
   "source": [
    "s1=['가나','가aB','12','aB','ab1234','#$!','가나abAB','.#$!123']\n",
    "for s in s1:\n",
    "    print(s,'\\t:',s.isalpha()) # 특수문자 숫자 제외 문자만 있는가?"
   ]
  },
  {
   "cell_type": "code",
   "execution_count": 52,
   "id": "08862309-77f4-4f64-b2fa-2ba38788d0f3",
   "metadata": {
    "collapsed": true,
    "jupyter": {
     "outputs_hidden": true
    },
    "tags": []
   },
   "outputs": [
    {
     "name": "stdout",
     "output_type": "stream",
     "text": [
      "가나 \t: False\n",
      "가aB \t: False\n",
      "12 \t: True\n",
      "12. \t: False\n",
      "12  \t: False\n",
      "aB \t: False\n",
      "ab1234 \t: False\n",
      "#$! \t: False\n",
      "가나abAB \t: False\n",
      ".#$!123 \t: False\n"
     ]
    }
   ],
   "source": [
    "s1=['가나','가aB','12','12.','12 ','aB','ab1234','#$!','가나abAB','.#$!123']\n",
    "for s in s1:\n",
    "    print(s,'\\t:',s.isdigit()) # 특수문자 숫자 제외 문자만 있는가?"
   ]
  },
  {
   "cell_type": "code",
   "execution_count": 53,
   "id": "cef1de2a-c53d-4e5d-adcc-d9ea2ec84fca",
   "metadata": {
    "collapsed": true,
    "jupyter": {
     "outputs_hidden": true
    },
    "tags": []
   },
   "outputs": [
    {
     "name": "stdout",
     "output_type": "stream",
     "text": [
      "가나 \t: True\n",
      "가aB \t: True\n",
      "12 \t: True\n",
      "12. \t: False\n",
      "12  \t: False\n",
      "aB \t: True\n",
      "ab1234 \t: True\n",
      "#$! \t: False\n",
      "가나abAB \t: True\n",
      ".#$!123 \t: False\n"
     ]
    }
   ],
   "source": [
    "s1=['가나','가aB','12','12.','12 ','aB','ab1234','#$!','가나abAB','.#$!123']\n",
    "for s in s1:\n",
    "    print(s,'\\t:',s.isalnum()) # 알파벳숫자만 있는가?"
   ]
  },
  {
   "cell_type": "code",
   "execution_count": 61,
   "id": "29f8cf9e-5d5b-4944-aa2f-c9b8402c555a",
   "metadata": {
    "collapsed": true,
    "jupyter": {
     "outputs_hidden": true
    },
    "tags": []
   },
   "outputs": [
    {
     "name": "stdout",
     "output_type": "stream",
     "text": [
      " \t: False\n",
      " \t\n",
      " \t: True\n",
      "가나 \t: False\n",
      "가aB \t: False\n",
      "12 \t: False\n",
      "12. \t: False\n",
      "12  \t: False\n",
      "aB \t: False\n",
      "ab1234 \t: False\n",
      "#$! \t: False\n",
      "가나abAB \t: False\n",
      ".#$!123 \t: False\n"
     ]
    }
   ],
   "source": [
    "s1=['', ' \\t\\n','가나','가aB','12','12.','12 ','aB','ab1234','#$!','가나abAB','.#$!123']\n",
    "for s in s1:\n",
    "    print(s,'\\t:',s.isspace()) # 공백문자들만 있는가?"
   ]
  },
  {
   "cell_type": "code",
   "execution_count": 59,
   "id": "9ed2def3-832f-47fa-a7f8-381ce3c65558",
   "metadata": {
    "collapsed": true,
    "jupyter": {
     "outputs_hidden": true
    },
    "tags": []
   },
   "outputs": [
    {
     "name": "stdout",
     "output_type": "stream",
     "text": [
      " \t\n",
      " \t: False\n",
      "가나 \t: False\n",
      "가aB \t: False\n",
      "12 \t: False\n",
      "12. \t: False\n",
      "12  \t: False\n",
      "AB  \t: True\n",
      "ab1234 \t: False\n",
      "#$! \t: False\n",
      "가나abAB \t: False\n",
      ".#$!123 \t: False\n"
     ]
    }
   ],
   "source": [
    "s1=[' \\t\\n','가나','가aB','12','12.','12 ','AB ','ab1234','#$!','가나abAB','.#$!123']\n",
    "for s in s1:\n",
    "    print(s,'\\t:',s.isupper()) # 대문자만 있는가? 공백포함"
   ]
  },
  {
   "cell_type": "code",
   "execution_count": 62,
   "id": "6c110cc3-8496-4495-ab92-509eb962440c",
   "metadata": {
    "collapsed": true,
    "jupyter": {
     "outputs_hidden": true
    },
    "tags": []
   },
   "outputs": [
    {
     "name": "stdout",
     "output_type": "stream",
     "text": [
      " \t\n",
      " \t: False\n",
      "가나 \t: False\n",
      "가aB \t: False\n",
      "12 \t: False\n",
      "12. \t: False\n",
      "12  \t: False\n",
      "AB  \t: False\n",
      "ab1234 \t: True\n",
      "#$! \t: False\n",
      "가나abAB \t: False\n",
      ".#$!123 \t: False\n"
     ]
    }
   ],
   "source": [
    "s1=[' \\t\\n','가나','가aB','12','12.','12 ','AB ','ab1234','#$!','가나abAB','.#$!123']\n",
    "for s in s1:\n",
    "    print(s,'\\t:',s.islower()) # 대문자만 있는가? 공백포함"
   ]
  },
  {
   "cell_type": "code",
   "execution_count": null,
   "id": "092b7098-a7ee-4b5f-9385-805d8b0fb618",
   "metadata": {},
   "outputs": [],
   "source": []
  }
 ],
 "metadata": {
  "kernelspec": {
   "display_name": "Python 3",
   "language": "python",
   "name": "python3"
  },
  "language_info": {
   "codemirror_mode": {
    "name": "ipython",
    "version": 3
   },
   "file_extension": ".py",
   "mimetype": "text/x-python",
   "name": "python",
   "nbconvert_exporter": "python",
   "pygments_lexer": "ipython3",
   "version": "3.8.8"
  }
 },
 "nbformat": 4,
 "nbformat_minor": 5
}
