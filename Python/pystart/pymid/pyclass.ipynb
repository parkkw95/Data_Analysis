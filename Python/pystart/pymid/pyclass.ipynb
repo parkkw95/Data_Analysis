{
 "cells": [
  {
   "cell_type": "markdown",
   "id": "b1b814ac-9992-46dd-ba37-113cf9018203",
   "metadata": {},
   "source": [
    "### 클래스\n",
    "* OOP 의 기반이 되는 프로그램의 모델형태(빵틀)\n",
    "* 클래스 기반으로 생성된 객체: 객체 인스턴스\n",
    "---\n",
    "~~~python\n",
    "class 클래스명:\n",
    "     변수              #프로퍼티 인스턴스 변수(상태 특징)\n",
    "     def __init__(self): #초기화 함수( 초기 변수 설정및 행동)\n",
    "         ...\n",
    "     def 함수명(self): #메서드 (행동 동작 기능)\n",
    "         ...\n",
    "~~~\n",
    "---"
   ]
  },
  {
   "cell_type": "code",
   "execution_count": 34,
   "id": "b8b4927b-006c-45ae-aad2-bcded6e14eeb",
   "metadata": {},
   "outputs": [
    {
     "name": "stdout",
     "output_type": "stream",
     "text": [
      "초기화 완료1|1\n",
      "초기화 완료2|1\n",
      "트럭1 아이오닉\n",
      "트럭1 6바퀴가 출발했습니다.\n",
      "아이오닉 4바퀴가 회전했습니다.\n",
      "2000에 팔았습니다.\n",
      "2번째상용차가 출고되었습니다.\n"
     ]
    },
    {
     "ename": "TypeError",
     "evalue": "buy() takes from 0 to 1 positional arguments but 2 were given",
     "output_type": "error",
     "traceback": [
      "\u001b[1;31m---------------------------------------------------------------------------\u001b[0m",
      "\u001b[1;31mTypeError\u001b[0m                                 Traceback (most recent call last)",
      "\u001b[1;32m<ipython-input-34-48100360a031>\u001b[0m in \u001b[0;36m<module>\u001b[1;34m\u001b[0m\n\u001b[0;32m     40\u001b[0m \u001b[0ms2\u001b[0m\u001b[1;33m.\u001b[0m\u001b[0msell\u001b[0m\u001b[1;33m(\u001b[0m\u001b[1;36m2000\u001b[0m\u001b[1;33m)\u001b[0m\u001b[1;31m# 클래스 내부함수지만 정적 메서드로 호출 가능\u001b[0m\u001b[1;33m\u001b[0m\u001b[1;33m\u001b[0m\u001b[0m\n\u001b[0;32m     41\u001b[0m \u001b[0mCar\u001b[0m\u001b[1;33m.\u001b[0m\u001b[0mmake\u001b[0m\u001b[1;33m(\u001b[0m\u001b[1;33m)\u001b[0m\u001b[1;33m\u001b[0m\u001b[1;33m\u001b[0m\u001b[0m\n\u001b[1;32m---> 42\u001b[1;33m \u001b[0ms2\u001b[0m\u001b[1;33m.\u001b[0m\u001b[0mbuy\u001b[0m\u001b[1;33m(\u001b[0m\u001b[1;36m2000\u001b[0m\u001b[1;33m)\u001b[0m \u001b[1;31m# 클래스 내부함수를 외부에서 못부름\u001b[0m\u001b[1;33m\u001b[0m\u001b[1;33m\u001b[0m\u001b[0m\n\u001b[0m",
      "\u001b[1;31mTypeError\u001b[0m: buy() takes from 0 to 1 positional arguments but 2 were given"
     ]
    }
   ],
   "source": [
    "class Car():\n",
    "    cnt=0\n",
    "    no=0\n",
    "    wheel=4\n",
    "    cc=2000\n",
    "    name='소나타'\n",
    "    def __init__(self,_w=4,_c=0,_n='',roof=0 ): # 초기화 함수\n",
    "        self.no+=1\n",
    "        Car.cnt+=1\n",
    "        self.wheel=_w\n",
    "        self.cc=_c\n",
    "        self.name=_n\n",
    "        if(roof):\n",
    "            self.roof='루프랙'\n",
    "        print('초기화 완료'+str(Car.cnt)+'|'+str(self.no))\n",
    "        \n",
    "    def run(self):\n",
    "        print(self.name+' '+str(self.wheel)+'바퀴가 출발했습니다.')\n",
    "        \n",
    "    def turn(self):\n",
    "        print(self.name+' '+str(self.wheel)+'바퀴가 회전했습니다.')\n",
    "    \n",
    "    @staticmethod\n",
    "    def sell(price=0):\n",
    "        print(str(price)+'에 팔았습니다.')\n",
    "\n",
    "    @classmethod\n",
    "    def make(cls,base='상용차'):\n",
    "        print(str(Car.cnt)+'번째'+base+'가 출고되었습니다.')\n",
    "        \n",
    "    def buy(price=0):\n",
    "        print(str(price)+'에 샀습니다.')\n",
    "        \n",
    "s1=Car(6,8000,'트럭1') # 순서대로 지정\n",
    "s2=Car(_n='아이오닉',_c=3800) # 변수명으로 지정\n",
    "#s2.name='K5'\n",
    "print(s1.name,s2.name)\n",
    "s1.run()\n",
    "s2.turn()\n",
    "s2.sell(2000)# 클래스 내부함수지만 정적 메서드로 호출 가능\n",
    "Car.make()\n",
    "s2.buy(2000) # 클래스 내부함수를 외부에서 못부름"
   ]
  },
  {
   "cell_type": "code",
   "execution_count": null,
   "id": "f547708c-3c79-4e4f-b47c-b9115ab39c93",
   "metadata": {},
   "outputs": [],
   "source": []
  },
  {
   "cell_type": "code",
   "execution_count": null,
   "id": "30678da2-2edb-4e4c-b5da-449350449572",
   "metadata": {},
   "outputs": [],
   "source": []
  }
 ],
 "metadata": {
  "kernelspec": {
   "display_name": "Python 3",
   "language": "python",
   "name": "python3"
  },
  "language_info": {
   "codemirror_mode": {
    "name": "ipython",
    "version": 3
   },
   "file_extension": ".py",
   "mimetype": "text/x-python",
   "name": "python",
   "nbconvert_exporter": "python",
   "pygments_lexer": "ipython3",
   "version": "3.8.8"
  }
 },
 "nbformat": 4,
 "nbformat_minor": 5
}
