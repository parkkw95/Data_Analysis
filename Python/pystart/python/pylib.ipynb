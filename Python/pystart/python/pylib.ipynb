{
 "cells": [
  {
   "cell_type": "code",
   "execution_count": 3,
   "id": "5a06885b-c680-4d2f-b6b2-cecd2c72db26",
   "metadata": {},
   "outputs": [],
   "source": [
    "# 수학라이브러리 numpy\n",
    "import numpy as np\n",
    "# 그래픽 라이브러리\n",
    "import matplotlib.pyplot as plt\n",
    "# 데이터 처리 라이브러리 pandas\n",
    "import pandas as pd\n",
    "# 고도화 그래픽 라이브러리 \n",
    "import seaborn as sns\n"
   ]
  },
  {
   "cell_type": "code",
   "execution_count": null,
   "id": "940029d6-e0fc-4690-a6a0-368024eae8a2",
   "metadata": {},
   "outputs": [],
   "source": []
  }
 ],
 "metadata": {
  "kernelspec": {
   "display_name": "Python 3",
   "language": "python",
   "name": "python3"
  },
  "language_info": {
   "codemirror_mode": {
    "name": "ipython",
    "version": 3
   },
   "file_extension": ".py",
   "mimetype": "text/x-python",
   "name": "python",
   "nbconvert_exporter": "python",
   "pygments_lexer": "ipython3",
   "version": "3.8.8"
  }
 },
 "nbformat": 4,
 "nbformat_minor": 5
}
