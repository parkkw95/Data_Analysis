{
 "cells": [
  {
   "cell_type": "code",
   "execution_count": 1,
   "id": "d3a91334-32c8-497c-b802-915c3a44b143",
   "metadata": {},
   "outputs": [],
   "source": [
    "tno=4\n",
    "def run():\n",
    "    print('바퀴가 굴러갑니다.')"
   ]
  },
  {
   "cell_type": "code",
   "execution_count": null,
   "id": "59439942-83ba-4f24-95cc-51991f5c57f6",
   "metadata": {},
   "outputs": [],
   "source": []
  }
 ],
 "metadata": {
  "kernelspec": {
   "display_name": "Python 3",
   "language": "python",
   "name": "python3"
  },
  "language_info": {
   "codemirror_mode": {
    "name": "ipython",
    "version": 3
   },
   "file_extension": ".py",
   "mimetype": "text/x-python",
   "name": "python",
   "nbconvert_exporter": "python",
   "pygments_lexer": "ipython3",
   "version": "3.8.8"
  }
 },
 "nbformat": 4,
 "nbformat_minor": 5
}
