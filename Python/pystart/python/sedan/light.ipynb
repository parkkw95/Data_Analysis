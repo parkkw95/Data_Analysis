{
 "cells": [
  {
   "cell_type": "code",
   "execution_count": 1,
   "id": "659a90c0-2dcc-4f93-bbee-05b8d7dbb6e9",
   "metadata": {},
   "outputs": [],
   "source": [
    "lno=2\n",
    "def poweron():\n",
    "    print('라이트가 켜졌습니다.')"
   ]
  },
  {
   "cell_type": "code",
   "execution_count": null,
   "id": "760a2bd1-ea6a-47fe-be77-926bb743d163",
   "metadata": {},
   "outputs": [],
   "source": []
  }
 ],
 "metadata": {
  "kernelspec": {
   "display_name": "Python 3",
   "language": "python",
   "name": "python3"
  },
  "language_info": {
   "codemirror_mode": {
    "name": "ipython",
    "version": 3
   },
   "file_extension": ".py",
   "mimetype": "text/x-python",
   "name": "python",
   "nbconvert_exporter": "python",
   "pygments_lexer": "ipython3",
   "version": "3.8.8"
  }
 },
 "nbformat": 4,
 "nbformat_minor": 5
}
