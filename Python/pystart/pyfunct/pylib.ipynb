{
 "cells": [
  {
   "cell_type": "markdown",
   "id": "4ba2e3c8-5656-4719-b40d-738b167a024b",
   "metadata": {},
   "source": [
    "# 파이썬 라이브러리\n",
    "    * 설치\n",
    "        - 콘다 환경 설치 (추천): conda install tensorflow\n",
    "        - 파이썬 환경 설치 : pip install tensorflow\n",
    "    *  불러오기\n",
    "        - import 라이브러리명\n",
    "        * import tensorflow\n",
    " "
   ]
  },
  {
   "cell_type": "code",
   "execution_count": 4,
   "id": "c6e6384f-f852-4b20-bfb4-270a739dad02",
   "metadata": {},
   "outputs": [
    {
     "data": {
      "text/plain": [
       "['c:\\\\work2110\\\\pyfunct',\n",
       " 'C:\\\\ProgramData\\\\Anaconda3\\\\python38.zip',\n",
       " 'C:\\\\ProgramData\\\\Anaconda3\\\\DLLs',\n",
       " 'C:\\\\ProgramData\\\\Anaconda3\\\\lib',\n",
       " 'C:\\\\ProgramData\\\\Anaconda3',\n",
       " '',\n",
       " 'C:\\\\Users\\\\ASIAE1\\\\AppData\\\\Roaming\\\\Python\\\\Python38\\\\site-packages',\n",
       " 'C:\\\\ProgramData\\\\Anaconda3\\\\lib\\\\site-packages',\n",
       " 'C:\\\\ProgramData\\\\Anaconda3\\\\lib\\\\site-packages\\\\locket-0.2.1-py3.8.egg',\n",
       " 'C:\\\\ProgramData\\\\Anaconda3\\\\lib\\\\site-packages\\\\win32',\n",
       " 'C:\\\\ProgramData\\\\Anaconda3\\\\lib\\\\site-packages\\\\win32\\\\lib',\n",
       " 'C:\\\\ProgramData\\\\Anaconda3\\\\lib\\\\site-packages\\\\Pythonwin',\n",
       " 'C:\\\\ProgramData\\\\Anaconda3\\\\lib\\\\site-packages\\\\IPython\\\\extensions',\n",
       " 'C:\\\\Users\\\\ASIAE1\\\\.ipython']"
      ]
     },
     "execution_count": 4,
     "metadata": {},
     "output_type": "execute_result"
    }
   ],
   "source": [
    "# 시스템\n",
    "import sys\n",
    "sys.path"
   ]
  },
  {
   "cell_type": "code",
   "execution_count": 7,
   "id": "e6212102-0ffe-4297-9cb9-cebe0596ad8f",
   "metadata": {},
   "outputs": [
    {
     "data": {
      "text/plain": [
       "'c:\\\\work2110\\\\pyfunct'"
      ]
     },
     "execution_count": 7,
     "metadata": {},
     "output_type": "execute_result"
    }
   ],
   "source": [
    "# 실행 환경 관련\n",
    "import os\n",
    "os.environ['PATH']\n",
    "# 현재 나의 위치\n",
    "os.getcwd()"
   ]
  },
  {
   "cell_type": "code",
   "execution_count": 9,
   "id": "a19f0038-b0a3-44fb-a1db-533425e39c81",
   "metadata": {},
   "outputs": [],
   "source": [
    "# 시간관련 라이브러리\n",
    "import time\n",
    "# 원래 시간 표시\n",
    "oritime=time.time()"
   ]
  },
  {
   "cell_type": "code",
   "execution_count": 19,
   "id": "bb3c4570-4eb8-4f9f-9dd0-7a88eb74c960",
   "metadata": {},
   "outputs": [
    {
     "data": {
      "text/plain": [
       "time.struct_time(tm_year=2021, tm_mon=10, tm_mday=15, tm_hour=13, tm_min=17, tm_sec=16, tm_wday=4, tm_yday=288, tm_isdst=0)"
      ]
     },
     "execution_count": 19,
     "metadata": {},
     "output_type": "execute_result"
    }
   ],
   "source": [
    "# 시간 요소로 추출\n",
    "ltime=time.localtime(oritime)\n",
    "ltime"
   ]
  },
  {
   "cell_type": "code",
   "execution_count": 15,
   "id": "ea266de3-8f15-489e-a50a-2b0aa80253d2",
   "metadata": {
    "tags": []
   },
   "outputs": [
    {
     "data": {
      "text/plain": [
       "'Fri Oct 15 13:17:16 2021'"
      ]
     },
     "execution_count": 15,
     "metadata": {},
     "output_type": "execute_result"
    }
   ],
   "source": [
    "time.asctime(ltime)"
   ]
  },
  {
   "cell_type": "code",
   "execution_count": 16,
   "id": "d0f3601e-591b-448b-a4de-8e88540fa922",
   "metadata": {
    "tags": []
   },
   "outputs": [
    {
     "data": {
      "text/plain": [
       "'Fri Oct 15 13:18:59 2021'"
      ]
     },
     "execution_count": 16,
     "metadata": {},
     "output_type": "execute_result"
    }
   ],
   "source": [
    "# 한방에 보여주기\n",
    "time.ctime()"
   ]
  },
  {
   "cell_type": "code",
   "execution_count": 25,
   "id": "aa222947-a7e9-4e50-8ecf-f736405d4f91",
   "metadata": {},
   "outputs": [
    {
     "data": {
      "text/plain": [
       "'2021-10-15 13:17:16'"
      ]
     },
     "execution_count": 25,
     "metadata": {},
     "output_type": "execute_result"
    }
   ],
   "source": [
    "# 타임포멧\n",
    "time.strftime('%Y-%m-%d %H:%M:%S',ltime)"
   ]
  },
  {
   "cell_type": "code",
   "execution_count": 26,
   "id": "70d95ef4-6b4f-4ec0-944a-3f01a111e67f",
   "metadata": {
    "collapsed": true,
    "jupyter": {
     "outputs_hidden": true
    },
    "tags": []
   },
   "outputs": [
    {
     "name": "stdout",
     "output_type": "stream",
     "text": [
      "0\n",
      "1\n",
      "2\n",
      "3\n",
      "4\n",
      "5\n",
      "6\n",
      "7\n",
      "8\n",
      "9\n"
     ]
    }
   ],
   "source": [
    "for i in range(10):\n",
    "    print(i)\n",
    "    time.sleep(3)"
   ]
  },
  {
   "cell_type": "code",
   "execution_count": 37,
   "id": "60652c78-e634-4c0b-8e9d-d6aa9155bdb2",
   "metadata": {},
   "outputs": [
    {
     "data": {
      "text/plain": [
       "datetime.date(2021, 10, 17)"
      ]
     },
     "execution_count": 37,
     "metadata": {},
     "output_type": "execute_result"
    }
   ],
   "source": [
    "#날짜 라이브러리\n",
    "from datetime import date,datetime \n",
    "day1=date(2021,1,1)\n",
    "day1\n",
    "day2=date(2021,10,17)\n",
    "day2"
   ]
  },
  {
   "cell_type": "code",
   "execution_count": 30,
   "id": "fa629fa5-7dfd-422a-a6dc-17e6de3dea75",
   "metadata": {},
   "outputs": [
    {
     "data": {
      "text/plain": [
       "-289"
      ]
     },
     "execution_count": 30,
     "metadata": {},
     "output_type": "execute_result"
    }
   ],
   "source": [
    "daydiff=day1-day2\n",
    "daydiff.days"
   ]
  },
  {
   "cell_type": "code",
   "execution_count": 32,
   "id": "466c5f68-d54b-48f7-901e-5400b9f3540b",
   "metadata": {},
   "outputs": [
    {
     "data": {
      "text/plain": [
       "6"
      ]
     },
     "execution_count": 32,
     "metadata": {},
     "output_type": "execute_result"
    }
   ],
   "source": [
    "day2.weekday()# 0:일요일 ~7:토요일"
   ]
  },
  {
   "cell_type": "code",
   "execution_count": 33,
   "id": "99393e3b-7a9c-4055-9415-62d27156a07b",
   "metadata": {},
   "outputs": [
    {
     "data": {
      "text/plain": [
       "'2021-10-17'"
      ]
     },
     "execution_count": 33,
     "metadata": {},
     "output_type": "execute_result"
    }
   ],
   "source": [
    "day2.isoformat()"
   ]
  },
  {
   "cell_type": "code",
   "execution_count": 35,
   "id": "2815f848-c01c-453e-8b79-940d46f2918a",
   "metadata": {},
   "outputs": [
    {
     "data": {
      "text/plain": [
       "datetime.date(2021, 10, 15)"
      ]
     },
     "execution_count": 35,
     "metadata": {},
     "output_type": "execute_result"
    }
   ],
   "source": [
    "# 오늘 일\n",
    "today=date.today()\n",
    "today"
   ]
  },
  {
   "cell_type": "code",
   "execution_count": 38,
   "id": "9214902b-55d8-47ac-85d6-fe262a75dca6",
   "metadata": {},
   "outputs": [
    {
     "data": {
      "text/plain": [
       "datetime.datetime(2021, 10, 15, 15, 7, 45, 541464)"
      ]
     },
     "execution_count": 38,
     "metadata": {},
     "output_type": "execute_result"
    }
   ],
   "source": [
    "# 오늘 일시\n",
    "now=datetime.now()\n",
    "now"
   ]
  },
  {
   "cell_type": "code",
   "execution_count": 39,
   "id": "bfc32317-c311-44ee-b029-1929fd504e61",
   "metadata": {},
   "outputs": [
    {
     "data": {
      "text/plain": [
       "'2021-10-15 15:07:45'"
      ]
     },
     "execution_count": 39,
     "metadata": {},
     "output_type": "execute_result"
    }
   ],
   "source": [
    "now.strftime('%Y-%m-%d %H:%M:%S')"
   ]
  },
  {
   "cell_type": "code",
   "execution_count": null,
   "id": "89efeeeb-6a8f-4428-baea-85740af86239",
   "metadata": {},
   "outputs": [],
   "source": []
  }
 ],
 "metadata": {
  "kernelspec": {
   "display_name": "Python 3",
   "language": "python",
   "name": "python3"
  },
  "language_info": {
   "codemirror_mode": {
    "name": "ipython",
    "version": 3
   },
   "file_extension": ".py",
   "mimetype": "text/x-python",
   "name": "python",
   "nbconvert_exporter": "python",
   "pygments_lexer": "ipython3",
   "version": "3.8.8"
  }
 },
 "nbformat": 4,
 "nbformat_minor": 5
}
