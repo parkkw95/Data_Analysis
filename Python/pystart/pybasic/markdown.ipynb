{
 "cells": [
  {
   "cell_type": "markdown",
   "id": "38a4a558-0e5a-4adb-a832-1dd65464010d",
   "metadata": {},
   "source": [
    "# 마크다운 연습\n",
    "## 헤더연습\n",
    "# h1\n",
    "## h2\n",
    "### h3\n",
    "#### h4\n",
    "##### h5\n",
    "###### h6\n",
    "####### h7\n"
   ]
  },
  {
   "cell_type": "markdown",
   "id": "d16f8b30-f9cb-4e51-8289-440aa455690f",
   "metadata": {},
   "source": [
    "# 리스트 연습\n",
    "## 순서있는 리스트\n",
    "1. 과일\n",
    "    * 사과\n",
    "    *  배\n",
    "2. 잡화\n",
    "    1. 신발\n",
    "    2. 가방\n",
    "\n",
    "## 순서없는 리스트\n",
    "* 한국\n",
    "    * 서울\n",
    "    * 부산\n",
    "* 미국\n",
    "\n",
    "## 가로선\n",
    "---\n",
    "\n",
    "### 구분하기\n",
    "***"
   ]
  },
  {
   "cell_type": "markdown",
   "id": "73b1bff7-73cd-4388-a7f8-1cfdacc1b244",
   "metadata": {},
   "source": [
    "# 주피터 노트북 코드 블럭의 종류\n",
    "* 코드 블럭  esc y\n",
    "    - 파이썬 코드를 작성 \n",
    "* 마크다운 블럭  esc m\n",
    "    - 파이썬 문서화 블럭\n",
    "* Raw 블럭  esc r\n",
    "    - 예제 코드 블럭"
   ]
  },
  {
   "cell_type": "code",
   "execution_count": 7,
   "id": "902e352e-1555-4966-9b60-b5f1aab8cbb6",
   "metadata": {},
   "outputs": [
    {
     "data": {
      "text/plain": [
       "1"
      ]
     },
     "execution_count": 7,
     "metadata": {},
     "output_type": "execute_result"
    }
   ],
   "source": [
    "# 코드블럭 - code  파이썬 코드 블럭\n",
    "a=1\n",
    "a"
   ]
  },
  {
   "cell_type": "raw",
   "id": "e298292e-9c2a-487f-bdeb-bbb4addc125f",
   "metadata": {},
   "source": [
    "# 코드블럭 - raw 예제를 보여주되 실행 안함 블럭\n",
    "a=1\n",
    "a"
   ]
  },
  {
   "cell_type": "markdown",
   "id": "6ecbd21e-edb9-4401-a377-f8de3b3d6357",
   "metadata": {},
   "source": [
    "# 코드블럭- markdown: 문서화 작업용 블럭\n",
    "a=1\n",
    "a"
   ]
  },
  {
   "cell_type": "markdown",
   "id": "2667e4dd-3071-4399-ace2-e323e5aee31a",
   "metadata": {},
   "source": [
    "* 주피터 노트북 블럭 성질 변환\n",
    "    * m : markdown\n",
    "    * y : code\n",
    "    * r : raw\n",
    "* 주피터 노트북 블럭 단축키\n",
    "    * 실행후 한칸 내리기: shift + enter\n",
    "    * 실행만 하기:       ctlr + enter\n",
    "    * 삭제하기:          dd"
   ]
  },
  {
   "cell_type": "code",
   "execution_count": null,
   "id": "61de0df5-3bbd-4aee-bb5e-41cbb126e9ea",
   "metadata": {},
   "outputs": [],
   "source": []
  }
 ],
 "metadata": {
  "kernelspec": {
   "display_name": "Python 3",
   "language": "python",
   "name": "python3"
  },
  "language_info": {
   "codemirror_mode": {
    "name": "ipython",
    "version": 3
   },
   "file_extension": ".py",
   "mimetype": "text/x-python",
   "name": "python",
   "nbconvert_exporter": "python",
   "pygments_lexer": "ipython3",
   "version": "3.8.8"
  }
 },
 "nbformat": 4,
 "nbformat_minor": 5
}
