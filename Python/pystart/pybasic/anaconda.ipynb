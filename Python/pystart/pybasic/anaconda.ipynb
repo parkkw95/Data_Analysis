{
 "cells": [
  {
   "cell_type": "markdown",
   "id": "32a9f83d-af9f-41b1-87ed-27bbb3b209cf",
   "metadata": {},
   "source": [
    "# 아나콘다\n",
    "* 데이터 분석 플랫폼\n",
    "* 아나콘다(Anaconda)는 패키지 관리와 디플로이를 단순케 할 목적으로 과학 계산(데이터 과학, 기계 학습 애플리케이션, 대규모 데이터 처리, 예측 분석 등)을 위해 파이썬과 R 프로그래밍 언어의 자유-오픈 소스 배포판이다\n",
    "\n",
    "\n",
    "# 설치하기\n",
    "* 기본 에디터: notepad ++\n",
    "* anaconda repo 에 들어가서 최신 버전 설치\n",
    "* 한글경로 피할것\n",
    "* 기본 경로 바꾸지 말것\n",
    "* 주피터 노트북 시작 폴더 변경\n",
    "    - jupyter notebook --generate-config\n",
    "    - .jupyter 폴더 C:\\Users\\ASIAE1\\.jupyter\n",
    "    - jupyter_notebook_config.py :385 번째 줄 수정\n",
    "    - #c.NotebookApp.notebook_dir= 'c:\\work2106' 문장을 수정 주석 지우고 실제 작업폴더 적용"
   ]
  },
  {
   "cell_type": "code",
   "execution_count": null,
   "id": "10c5d1c3-a18e-4bd2-b375-f00cdbd3f91a",
   "metadata": {},
   "outputs": [],
   "source": []
  }
 ],
 "metadata": {
  "kernelspec": {
   "display_name": "Python 3",
   "language": "python",
   "name": "python3"
  },
  "language_info": {
   "codemirror_mode": {
    "name": "ipython",
    "version": 3
   },
   "file_extension": ".py",
   "mimetype": "text/x-python",
   "name": "python",
   "nbconvert_exporter": "python",
   "pygments_lexer": "ipython3",
   "version": "3.8.8"
  }
 },
 "nbformat": 4,
 "nbformat_minor": 5
}
