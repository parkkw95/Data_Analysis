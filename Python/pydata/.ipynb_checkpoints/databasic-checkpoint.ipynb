{
 "cells": [
  {
   "cell_type": "markdown",
   "id": "70e64c78-a5b2-4e99-a019-2843c876dbf0",
   "metadata": {},
   "source": [
    "# 데이터 분석을 위한 패키지\n",
    "* numpy\n",
    "    - numpy.array"
   ]
  },
  {
   "cell_type": "code",
   "execution_count": 1,
   "id": "483e0330-73fa-4d2c-b4e2-5eec9fe1850a",
   "metadata": {},
   "outputs": [
    {
     "name": "stdout",
     "output_type": "stream",
     "text": [
      "[1, '2', 3, 4, 5] <class 'list'>\n"
     ]
    }
   ],
   "source": [
    "import numpy as np\n",
    "li = [1, '2', 3, 4, 5]\n",
    "print(li, type(li))"
   ]
  },
  {
   "cell_type": "code",
   "execution_count": 2,
   "id": "963c56b7-faac-458b-9af7-e857f15d8777",
   "metadata": {},
   "outputs": [
    {
     "name": "stdout",
     "output_type": "stream",
     "text": [
      "2\n",
      "22\n",
      "6\n",
      "8\n",
      "10\n"
     ]
    }
   ],
   "source": [
    "for i in li:\n",
    "    print(i * 2)"
   ]
  },
  {
   "cell_type": "code",
   "execution_count": 3,
   "id": "0c61a644-69b5-41d6-885f-c55bf3994da9",
   "metadata": {},
   "outputs": [
    {
     "name": "stdout",
     "output_type": "stream",
     "text": [
      "data : ['1' '2' '3' '4' '5'] \n",
      "type : <class 'numpy.ndarray'> \n",
      "data type : <U11\n"
     ]
    }
   ],
   "source": [
    "# 동일 자료형으로 된 배열로 바꿔줌\n",
    "nli = np.array(li)\n",
    "print('data :', nli, '\\ntype :', type(nli),'\\ndata type :', nli.dtype)"
   ]
  },
  {
   "cell_type": "code",
   "execution_count": 4,
   "id": "fcf831dd-d709-4820-a9a2-e1772059c5cb",
   "metadata": {},
   "outputs": [],
   "source": [
    "def showData(src = None):\n",
    "    print('data :\\n', src,\n",
    "          '\\ntype :', type(src),         # 배열의 타입을 알려줌\n",
    "          '\\ndata type :', src.dtype,    # 배열의 데이터 타입을 알려줌\n",
    "          '\\ndata shape :', src.shape)   # 배열의 형태를 알려줌\n",
    "    print('-' * 50)"
   ]
  },
  {
   "cell_type": "code",
   "execution_count": 5,
   "id": "7afb1e8b-8d19-4990-a405-5a87f63e460e",
   "metadata": {},
   "outputs": [
    {
     "name": "stdout",
     "output_type": "stream",
     "text": [
      "data :\n",
      " [1 2 3 4 5] \n",
      "type : <class 'numpy.ndarray'> \n",
      "data type : int32 \n",
      "data shape : (5,)\n",
      "--------------------------------------------------\n",
      "data :\n",
      " [1. 2. 3. 4. 5.] \n",
      "type : <class 'numpy.ndarray'> \n",
      "data type : float64 \n",
      "data shape : (5,)\n",
      "--------------------------------------------------\n",
      "data :\n",
      " ['1' '2' '3' '4' '5'] \n",
      "type : <class 'numpy.ndarray'> \n",
      "data type : <U11 \n",
      "data shape : (5,)\n",
      "--------------------------------------------------\n"
     ]
    }
   ],
   "source": [
    "idata = [1, 2, 3, 4, 5]\n",
    "fdata = [1.0, 2, 3, 4, 5]\n",
    "sdata = [1, '2', 3, 4, 5]\n",
    "nidata = np.array(idata)\n",
    "nfdata = np.array(fdata)\n",
    "nsdata = np.array(sdata)\n",
    "showData(nidata)\n",
    "showData(nfdata)\n",
    "showData(nsdata)"
   ]
  },
  {
   "cell_type": "code",
   "execution_count": 6,
   "id": "de27f8e1-2dd7-43c2-a474-4c2875fba9a1",
   "metadata": {},
   "outputs": [
    {
     "name": "stdout",
     "output_type": "stream",
     "text": [
      "[1, 2, 3, 4]\n",
      "[2, 4, 6, 8]\n",
      "[3, 6, 9, 12]\n"
     ]
    }
   ],
   "source": [
    "def make99(r = 2,c =  3):\n",
    "    res = []\n",
    "    for i in range(1, r + 2):\n",
    "        sub = []\n",
    "        for j in range(1, c + 2):\n",
    "            r = i * j\n",
    "            sub.append(r)\n",
    "        res.append(sub)\n",
    "        print(sub)\n",
    "    return res\n",
    "d2 = make99()"
   ]
  },
  {
   "cell_type": "code",
   "execution_count": 7,
   "id": "6e5e38ef-6dab-4319-8e72-92bcbb9e0926",
   "metadata": {},
   "outputs": [
    {
     "name": "stdout",
     "output_type": "stream",
     "text": [
      "<class 'list'> 3 4\n"
     ]
    }
   ],
   "source": [
    "print(type(d2), len(d2), len(d2[0]))"
   ]
  },
  {
   "cell_type": "code",
   "execution_count": 8,
   "id": "245d26ac-d2e8-4c83-b18e-047f080988de",
   "metadata": {},
   "outputs": [
    {
     "name": "stdout",
     "output_type": "stream",
     "text": [
      "0\n",
      "1\n",
      "2\n",
      "3\n",
      "4\n",
      "5\n",
      "6\n",
      "7\n",
      "8\n",
      "9\n",
      "10\n",
      "11\n"
     ]
    }
   ],
   "source": [
    "for i in np.arange(12):\n",
    "    print(i)"
   ]
  },
  {
   "cell_type": "code",
   "execution_count": 9,
   "id": "988cd7f7-891a-4143-9764-40c2e6df95a1",
   "metadata": {},
   "outputs": [
    {
     "name": "stdout",
     "output_type": "stream",
     "text": [
      "data :\n",
      " [ 2.  4.  6.  8. 10. 12. 14. 16. 18. 20. 22. 24.] \n",
      "type : <class 'numpy.ndarray'> \n",
      "data type : float64 \n",
      "data shape : (12,)\n",
      "--------------------------------------------------\n"
     ]
    }
   ],
   "source": [
    "# 갯수 지정을 통한 연속된 데이터 생성\n",
    "nl12 = np.linspace(2, 2*12, 12)  # 시작, 끝, n분할\n",
    "showData(nl12)"
   ]
  },
  {
   "cell_type": "code",
   "execution_count": 10,
   "id": "c1cfcf73-a025-410f-871c-37c27ebb5755",
   "metadata": {},
   "outputs": [
    {
     "name": "stdout",
     "output_type": "stream",
     "text": [
      "data :\n",
      " [ 2  4  6  8 10 12 14 16 18 20 22 24] \n",
      "type : <class 'numpy.ndarray'> \n",
      "data type : int32 \n",
      "data shape : (12,)\n",
      "--------------------------------------------------\n"
     ]
    }
   ],
   "source": [
    "# 마지막 지정을 통한 연속된 데이터 생성\n",
    "n12 = np.arange(2, 26, 2)  # arange(시작, 끝, 스텝)\n",
    "showData(n12)"
   ]
  },
  {
   "cell_type": "code",
   "execution_count": 11,
   "id": "57130c0e-8f57-4168-b37e-df2ad1fb7202",
   "metadata": {},
   "outputs": [
    {
     "name": "stdout",
     "output_type": "stream",
     "text": [
      "data :\n",
      " [[ 2  4  6  8]\n",
      " [10 12 14 16]\n",
      " [18 20 22 24]] \n",
      "type : <class 'numpy.ndarray'> \n",
      "data type : int32 \n",
      "data shape : (3, 4)\n",
      "--------------------------------------------------\n"
     ]
    }
   ],
   "source": [
    "# 차원 변경\n",
    "n34 = n12.reshape(3,4)\n",
    "showData(n34)"
   ]
  },
  {
   "cell_type": "code",
   "execution_count": 12,
   "id": "07b7378b-1d1e-4420-9593-a6b1980b9ba7",
   "metadata": {},
   "outputs": [
    {
     "name": "stdout",
     "output_type": "stream",
     "text": [
      "data :\n",
      " [0. 0. 0. 0.] \n",
      "type : <class 'numpy.ndarray'> \n",
      "data type : float64 \n",
      "data shape : (4,)\n",
      "--------------------------------------------------\n",
      "data :\n",
      " [0. 0. 0. 0.] \n",
      "type : <class 'numpy.ndarray'> \n",
      "data type : float64 \n",
      "data shape : (4,)\n",
      "--------------------------------------------------\n",
      "data :\n",
      " [[0. 0. 0.]\n",
      " [0. 0. 0.]\n",
      " [0. 0. 0.]] \n",
      "type : <class 'numpy.ndarray'> \n",
      "data type : float64 \n",
      "data shape : (3, 3)\n",
      "--------------------------------------------------\n"
     ]
    }
   ],
   "source": [
    "# 특별한 형태의 배열\n",
    "# 0행렬\n",
    "nzero = np.zeros(4)\n",
    "showData(nzero)\n",
    "nzero1 = np.zeros((4, ))\n",
    "showData(nzero1)\n",
    "nzero2 = np.zeros((3, 3))\n",
    "showData(nzero2)"
   ]
  },
  {
   "cell_type": "code",
   "execution_count": 13,
   "id": "4b0ab0d6-acb4-4205-ae1a-30b892bb9310",
   "metadata": {},
   "outputs": [
    {
     "name": "stdout",
     "output_type": "stream",
     "text": [
      "data :\n",
      " [1. 1. 1. 1.] \n",
      "type : <class 'numpy.ndarray'> \n",
      "data type : float64 \n",
      "data shape : (4,)\n",
      "--------------------------------------------------\n",
      "data :\n",
      " [1. 1. 1. 1.] \n",
      "type : <class 'numpy.ndarray'> \n",
      "data type : float64 \n",
      "data shape : (4,)\n",
      "--------------------------------------------------\n",
      "data :\n",
      " [[1. 1. 1.]\n",
      " [1. 1. 1.]\n",
      " [1. 1. 1.]\n",
      " [1. 1. 1.]] \n",
      "type : <class 'numpy.ndarray'> \n",
      "data type : float64 \n",
      "data shape : (4, 3)\n",
      "--------------------------------------------------\n"
     ]
    }
   ],
   "source": [
    "# 1행렬\n",
    "np1 = np.ones(4)\n",
    "showData(np1)\n",
    "np11 = np.ones(4, )\n",
    "showData(np11)\n",
    "np12 = np.ones((4, 3))\n",
    "showData(np12)"
   ]
  },
  {
   "cell_type": "code",
   "execution_count": 14,
   "id": "36beff3f-9b84-4ce5-a257-4f02efa65c01",
   "metadata": {},
   "outputs": [
    {
     "name": "stdout",
     "output_type": "stream",
     "text": [
      "data :\n",
      " [[0. 0. 0. 0. 0.]\n",
      " [1. 0. 0. 0. 0.]\n",
      " [0. 1. 0. 0. 0.]\n",
      " [0. 0. 1. 0. 0.]\n",
      " [0. 0. 0. 1. 0.]] \n",
      "type : <class 'numpy.ndarray'> \n",
      "data type : float64 \n",
      "data shape : (5, 5)\n",
      "--------------------------------------------------\n"
     ]
    }
   ],
   "source": [
    "# 대각 행렬 (대각선이 1로 이루어진 행렬) 대각 행렬의 위치 조정\n",
    "ne4 = np.eye(5, k = -1)\n",
    "showData(ne4)"
   ]
  },
  {
   "cell_type": "code",
   "execution_count": 15,
   "id": "3f774d54-d8fd-4c3e-8cab-d49521c94abc",
   "metadata": {},
   "outputs": [
    {
     "name": "stdout",
     "output_type": "stream",
     "text": [
      "data :\n",
      " [[1. 0. 0. 0.]\n",
      " [0. 1. 0. 0.]\n",
      " [0. 0. 1. 0.]\n",
      " [0. 0. 0. 1.]] \n",
      "type : <class 'numpy.ndarray'> \n",
      "data type : float64 \n",
      "data shape : (4, 4)\n",
      "--------------------------------------------------\n"
     ]
    }
   ],
   "source": [
    "# 단위 행렬\n",
    "n34 = np.identity(4)\n",
    "showData(n34)"
   ]
  },
  {
   "cell_type": "code",
   "execution_count": 16,
   "id": "ddbe98b5-800c-4333-a355-9eaa4dfe7d4e",
   "metadata": {},
   "outputs": [
    {
     "name": "stdout",
     "output_type": "stream",
     "text": [
      "data :\n",
      " ['1' '2' '3' '4' '5'] \n",
      "type : <class 'numpy.ndarray'> \n",
      "data type : <U11 \n",
      "data shape : (5,)\n",
      "--------------------------------------------------\n",
      "data :\n",
      " [1 2 3 4 5] \n",
      "type : <class 'numpy.ndarray'> \n",
      "data type : int32 \n",
      "data shape : (5,)\n",
      "--------------------------------------------------\n"
     ]
    }
   ],
   "source": [
    "# 데이터 타입의 변환 astype\n",
    "src = [1, '2', 3, 4, 5]\n",
    "npa = np.array(src)\n",
    "showData(npa)\n",
    "npas = npa.astype('int32')\n",
    "showData(npas)"
   ]
  },
  {
   "cell_type": "code",
   "execution_count": 17,
   "id": "ab4da8d6-09b1-49fb-84d1-7b83ea8c862f",
   "metadata": {},
   "outputs": [
    {
     "name": "stdout",
     "output_type": "stream",
     "text": [
      "data :\n",
      " [1.22481494e-311 1.77863633e-322 0.00000000e+000 0.00000000e+000\n",
      " 0.00000000e+000 3.31185900e-033 1.16189403e+165 6.86651276e-091\n",
      " 1.65641483e-047 8.13990291e-315] \n",
      "type : <class 'numpy.ndarray'> \n",
      "data type : float64 \n",
      "data shape : (10,)\n",
      "--------------------------------------------------\n"
     ]
    }
   ],
   "source": [
    "# 메모이 초기화가 없는 빈 공간만 가지고 생성\n",
    "e5 = np.empty(10)\n",
    "showData(e5)"
   ]
  },
  {
   "cell_type": "code",
   "execution_count": 18,
   "id": "b133e9d9-9411-4b06-8eba-c6dfd3e63fb3",
   "metadata": {},
   "outputs": [
    {
     "name": "stdout",
     "output_type": "stream",
     "text": [
      "data :\n",
      " [[[0.87672471 0.50856639 0.65507376 0.38453462]\n",
      "  [0.15994912 0.89902013 0.04507182 0.32591995]\n",
      "  [0.0784654  0.18201737 0.82506567 0.15652044]]\n",
      "\n",
      " [[0.12425622 0.70939903 0.91169157 0.66285095]\n",
      "  [0.80219589 0.03381303 0.87720405 0.48404223]\n",
      "  [0.71468974 0.00240219 0.75793645 0.01917486]]\n",
      "\n",
      " [[0.5790359  0.61964424 0.40721842 0.23128709]\n",
      "  [0.46908987 0.52533118 0.39405278 0.66052376]\n",
      "  [0.82797663 0.73150008 0.02904715 0.76027801]]] \n",
      "type : <class 'numpy.ndarray'> \n",
      "data type : float64 \n",
      "data shape : (3, 3, 4)\n",
      "--------------------------------------------------\n"
     ]
    }
   ],
   "source": [
    "# 난수 생성\n",
    "nr1 = np.random.rand(3, 3, 4)\n",
    "showData(nr1)"
   ]
  },
  {
   "cell_type": "code",
   "execution_count": 19,
   "id": "e3514bea-a826-464a-a2e4-059c3559dbf3",
   "metadata": {},
   "outputs": [
    {
     "name": "stdout",
     "output_type": "stream",
     "text": [
      "data :\n",
      " [[5 3 4 8]\n",
      " [7 8 3 2]\n",
      " [6 8 6 6]] \n",
      "type : <class 'numpy.ndarray'> \n",
      "data type : int32 \n",
      "data shape : (3, 4)\n",
      "--------------------------------------------------\n"
     ]
    }
   ],
   "source": [
    "# 난수 생성 int\n",
    "# randint(난수 생성 범위, 행렬 사이즈)\n",
    "nr2 = np.random.randint(1, 9, size = (3, 4))\n",
    "showData(nr2)"
   ]
  },
  {
   "cell_type": "markdown",
   "id": "f0718773-c2b9-423e-8753-a3e26d7849cd",
   "metadata": {},
   "source": [
    "### 매트릭스/헹렬/배열/벡터 연산 <=> 스칼라\n",
    "- 0차원 2 스칼라\n",
    "- 1차원 이상 벡터, 행렬, 배열, 매트릭스\n",
    "- 3차원 이상 텐서, 벡터\n"
   ]
  },
  {
   "cell_type": "markdown",
   "id": "f1c6a1d9-24a4-4eb6-acf5-4d123884dd97",
   "metadata": {},
   "source": [
    "### 스칼라 연산\n",
    "    - 4칙 연산 나머지 나누기 거듭제곱연산 +, -, *, /, //, %, **\n",
    "### 벡터 연산\n",
    "    - 합차"
   ]
  },
  {
   "cell_type": "code",
   "execution_count": 20,
   "id": "948eb0f3-f30c-4bd3-a9e2-df5f70a033e3",
   "metadata": {},
   "outputs": [
    {
     "name": "stdout",
     "output_type": "stream",
     "text": [
      "data :\n",
      " [0 1 2] \n",
      "type : <class 'numpy.ndarray'> \n",
      "data type : int32 \n",
      "data shape : (3,)\n",
      "--------------------------------------------------\n",
      "data :\n",
      " [10. 11. 12.] \n",
      "type : <class 'numpy.ndarray'> \n",
      "data type : float64 \n",
      "data shape : (3,)\n",
      "--------------------------------------------------\n",
      "data :\n",
      " [10. 12. 14.] \n",
      "type : <class 'numpy.ndarray'> \n",
      "data type : float64 \n",
      "data shape : (3,)\n",
      "--------------------------------------------------\n",
      "data :\n",
      " [-10. -10. -10.] \n",
      "type : <class 'numpy.ndarray'> \n",
      "data type : float64 \n",
      "data shape : (3,)\n",
      "--------------------------------------------------\n"
     ]
    }
   ],
   "source": [
    "# 배열의 합차\n",
    "n1 = np.arange(3)  # int\n",
    "n2 = np.linspace(10, 12, 3)  # float\n",
    "showData(n1)\n",
    "showData(n2)\n",
    "n3 = n1 + n2  # int + float = float\n",
    "showData(n3)\n",
    "n4 = n1 - n2  # int - float = float\n",
    "showData(n4)"
   ]
  },
  {
   "cell_type": "code",
   "execution_count": 21,
   "id": "2f0bc0e0-6aaf-46a6-844f-125660c95cde",
   "metadata": {},
   "outputs": [
    {
     "name": "stdout",
     "output_type": "stream",
     "text": [
      "data :\n",
      " [0 2 4] \n",
      "type : <class 'numpy.ndarray'> \n",
      "data type : int32 \n",
      "data shape : (3,)\n",
      "--------------------------------------------------\n",
      "data :\n",
      " [0. 2. 4.] \n",
      "type : <class 'numpy.ndarray'> \n",
      "data type : float64 \n",
      "data shape : (3,)\n",
      "--------------------------------------------------\n"
     ]
    }
   ],
   "source": [
    "# 스칼라/배열의 곱\n",
    "n5 = n1 * 2\n",
    "showData(n5)  # int32\n",
    "n6 = n1 * 2.\n",
    "showData(n6)  # float64"
   ]
  },
  {
   "cell_type": "code",
   "execution_count": 22,
   "id": "184c4204-312d-4138-9e7e-43feff1f0954",
   "metadata": {},
   "outputs": [
    {
     "name": "stdout",
     "output_type": "stream",
     "text": [
      "data :\n",
      " [ 0. 11. 24.] \n",
      "type : <class 'numpy.ndarray'> \n",
      "data type : float64 \n",
      "data shape : (3,)\n",
      "--------------------------------------------------\n"
     ]
    }
   ],
   "source": [
    "## 배열의 곱 - 같은 차수끼리 곱함\n",
    "n7 = n1 * n2\n",
    "showData(n7)"
   ]
  },
  {
   "cell_type": "code",
   "execution_count": 23,
   "id": "1fee86b1-7ce4-44b8-8a3a-2e20017b6b47",
   "metadata": {},
   "outputs": [
    {
     "name": "stdout",
     "output_type": "stream",
     "text": [
      "data :\n",
      " [100. 121. 144.] \n",
      "type : <class 'numpy.ndarray'> \n",
      "data type : float64 \n",
      "data shape : (3,)\n",
      "--------------------------------------------------\n",
      "data :\n",
      " [  1.  11. 144.] \n",
      "type : <class 'numpy.ndarray'> \n",
      "data type : float64 \n",
      "data shape : (3,)\n",
      "--------------------------------------------------\n"
     ]
    }
   ],
   "source": [
    "## 배열의 스칼라 거듭제곱\n",
    "n8 = n2 ** 2\n",
    "showData(n8)\n",
    "## 배열끼리의 거듭제곱 - 차수가 같아야 함 \n",
    "n10 = n2 ** n1\n",
    "showData(n10)"
   ]
  },
  {
   "cell_type": "code",
   "execution_count": 24,
   "id": "34f54a31-1d55-4aac-bd6a-d98c1537d35b",
   "metadata": {},
   "outputs": [
    {
     "name": "stdout",
     "output_type": "stream",
     "text": [
      "data :\n",
      " [0.         0.09090909 0.16666667] \n",
      "type : <class 'numpy.ndarray'> \n",
      "data type : float64 \n",
      "data shape : (3,)\n",
      "--------------------------------------------------\n"
     ]
    }
   ],
   "source": [
    "## 배열의 스칼라 나눗셈 \n",
    "n9 = n1 / n2\n",
    "showData(n9)"
   ]
  },
  {
   "cell_type": "code",
   "execution_count": 25,
   "id": "40a5b611-120a-4d6a-a0ce-fc1b906c63e2",
   "metadata": {},
   "outputs": [
    {
     "name": "stdout",
     "output_type": "stream",
     "text": [
      "data :\n",
      " [0. 1. 2.] \n",
      "type : <class 'numpy.ndarray'> \n",
      "data type : float64 \n",
      "data shape : (3,)\n",
      "--------------------------------------------------\n"
     ]
    }
   ],
   "source": [
    "## 배열의 나머지 연산 - 0으로 나누지 않도록  주의할 것\n",
    "n11 = n1 % n2\n",
    "showData(n11)"
   ]
  },
  {
   "cell_type": "code",
   "execution_count": 26,
   "id": "5fc4d432-df98-4148-a8bb-b862ec501330",
   "metadata": {},
   "outputs": [
    {
     "name": "stdout",
     "output_type": "stream",
     "text": [
      "data :\n",
      " [ 0.  1. 12.] \n",
      "type : <class 'numpy.ndarray'> \n",
      "data type : float64 \n",
      "data shape : (3,)\n",
      "--------------------------------------------------\n"
     ]
    }
   ],
   "source": [
    "## 배열의 몫 연산 - 0으로 나누지 않도록  주의할 것\n",
    "n12 = n10 // n2\n",
    "showData(n12)"
   ]
  },
  {
   "cell_type": "code",
   "execution_count": 27,
   "id": "4a329298-2097-4b3e-aa11-31e1028f3be5",
   "metadata": {},
   "outputs": [
    {
     "data": {
      "text/plain": [
       "array([0, 1, 2, 3, 4])"
      ]
     },
     "execution_count": 27,
     "metadata": {},
     "output_type": "execute_result"
    }
   ],
   "source": [
    "# 기초 통계를 위한 연산\n",
    "n1 = np.arange(5)\n",
    "n1"
   ]
  },
  {
   "cell_type": "code",
   "execution_count": 28,
   "id": "4b799ed5-dd9d-4e09-82f6-275856977b1e",
   "metadata": {},
   "outputs": [
    {
     "data": {
      "text/plain": [
       "10"
      ]
     },
     "execution_count": 28,
     "metadata": {},
     "output_type": "execute_result"
    }
   ],
   "source": [
    "# 합\n",
    "n1.sum()"
   ]
  },
  {
   "cell_type": "code",
   "execution_count": 29,
   "id": "68102906-bbc3-42bf-999b-042a0ed5142f",
   "metadata": {},
   "outputs": [
    {
     "data": {
      "text/plain": [
       "2.0"
      ]
     },
     "execution_count": 29,
     "metadata": {},
     "output_type": "execute_result"
    }
   ],
   "source": [
    "# 평균\n",
    "n1.mean()"
   ]
  },
  {
   "cell_type": "code",
   "execution_count": 30,
   "id": "b3a9618d-53f6-47e8-8e9c-1b9442c68a83",
   "metadata": {},
   "outputs": [
    {
     "data": {
      "text/plain": [
       "4"
      ]
     },
     "execution_count": 30,
     "metadata": {},
     "output_type": "execute_result"
    }
   ],
   "source": [
    "# 최대\n",
    "n1.max()"
   ]
  },
  {
   "cell_type": "code",
   "execution_count": 31,
   "id": "3e03b97d-3433-447d-8b3e-815947dd2030",
   "metadata": {},
   "outputs": [
    {
     "data": {
      "text/plain": [
       "0"
      ]
     },
     "execution_count": 31,
     "metadata": {},
     "output_type": "execute_result"
    }
   ],
   "source": [
    "# 최소\n",
    "n1.min()"
   ]
  },
  {
   "cell_type": "code",
   "execution_count": 32,
   "id": "d54364a9-5b05-43fc-8067-a7fc9627cf44",
   "metadata": {},
   "outputs": [
    {
     "data": {
      "text/plain": [
       "2.0"
      ]
     },
     "execution_count": 32,
     "metadata": {},
     "output_type": "execute_result"
    }
   ],
   "source": [
    "# 분산\n",
    "n1.var()"
   ]
  },
  {
   "cell_type": "code",
   "execution_count": 33,
   "id": "175560e4-129b-4446-a9bf-fdaaddb614cc",
   "metadata": {},
   "outputs": [
    {
     "data": {
      "text/plain": [
       "1.4142135623730951"
      ]
     },
     "execution_count": 33,
     "metadata": {},
     "output_type": "execute_result"
    }
   ],
   "source": [
    "# 표준편차\n",
    "n1.std()"
   ]
  },
  {
   "cell_type": "code",
   "execution_count": 34,
   "id": "ee03141a-2848-4928-875c-6e0984389296",
   "metadata": {},
   "outputs": [
    {
     "data": {
      "text/plain": [
       "array([ 0,  1,  3,  6, 10], dtype=int32)"
      ]
     },
     "execution_count": 34,
     "metadata": {},
     "output_type": "execute_result"
    }
   ],
   "source": [
    "# 누적합\n",
    "n1.cumsum()"
   ]
  },
  {
   "cell_type": "code",
   "execution_count": 35,
   "id": "7857b18a-dbdb-4101-8525-d527c19de1cf",
   "metadata": {},
   "outputs": [
    {
     "data": {
      "text/plain": [
       "array([0, 0, 0, 0, 0], dtype=int32)"
      ]
     },
     "execution_count": 35,
     "metadata": {},
     "output_type": "execute_result"
    }
   ],
   "source": [
    "# 누적곱\n",
    "n1.cumprod()"
   ]
  },
  {
   "cell_type": "markdown",
   "id": "9be5b1ba-8eb8-4547-a133-94ae7385835a",
   "metadata": {},
   "source": [
    "### 대표값 : 데이터를 한마디로 나타낸다면?\n",
    "* 총합, 최대, 최소, 평균, 분산, 표준편차\n",
    "* 사분위수 : 100분으로 나누고 0, 25, 50, 75, 100번 째 숫자\n"
   ]
  },
  {
   "cell_type": "code",
   "execution_count": 36,
   "id": "d7a2aaaf-b177-46e5-a639-35cf0dcfd122",
   "metadata": {},
   "outputs": [
    {
     "name": "stdout",
     "output_type": "stream",
     "text": [
      "12.857142857142856\n",
      "0.0\n"
     ]
    }
   ],
   "source": [
    "n1 = np.array([1, 2, 3, 4, 5, 6, 100])\n",
    "n2 = np.array([1, 2, 3, 4, 5, 6, 10])\n",
    "# 평균의 차이\n",
    "print(n1.mean() - n2.mean())\n",
    "# 중앙값의 차이\n",
    "print(np.median(n1) - np.median(n2))"
   ]
  },
  {
   "cell_type": "code",
   "execution_count": 37,
   "id": "980b50fc-0dbf-48c1-ac41-11c22b0deea4",
   "metadata": {},
   "outputs": [
    {
     "data": {
      "text/plain": [
       "array([  1. ,   2.5,   4. ,   5.5, 100. ])"
      ]
     },
     "execution_count": 37,
     "metadata": {},
     "output_type": "execute_result"
    }
   ],
   "source": [
    "# 사분위수 : 가장 심플하게 분포를 알아볼 수 있는 통계량\n",
    "np.percentile(n1, [0, 25, 50, 75, 100])"
   ]
  },
  {
   "cell_type": "code",
   "execution_count": 38,
   "id": "377a9360-31ac-4982-bfb6-abffd464a5fe",
   "metadata": {},
   "outputs": [
    {
     "data": {
      "text/plain": [
       "array([ 1. ,  2.5,  4. ,  5.5, 10. ])"
      ]
     },
     "execution_count": 38,
     "metadata": {},
     "output_type": "execute_result"
    }
   ],
   "source": [
    "np.percentile(n2, [0, 25, 50, 75, 100])"
   ]
  },
  {
   "cell_type": "code",
   "execution_count": 39,
   "id": "cb43b20c-4b05-45d2-a8f0-7ea69726df04",
   "metadata": {},
   "outputs": [
    {
     "name": "stdout",
     "output_type": "stream",
     "text": [
      "[[0 1]\n",
      " [2 3]] \n",
      "\n",
      " [[2 3]\n",
      " [4 5]]\n"
     ]
    }
   ],
   "source": [
    "# 행렬 연산(내적)\n",
    "n1 = np.array([0, 1, 2, 3]).reshape((2, 2))\n",
    "n2 = np.array([2, 3, 4, 5]).reshape((2, 2))\n",
    "print(n1,'\\n\\n',n2)"
   ]
  },
  {
   "cell_type": "code",
   "execution_count": 40,
   "id": "bb49de72-fdf7-4ff7-a99b-5fd491b14b9f",
   "metadata": {},
   "outputs": [
    {
     "data": {
      "text/plain": [
       "array([[ 4,  5],\n",
       "       [16, 21]])"
      ]
     },
     "execution_count": 40,
     "metadata": {},
     "output_type": "execute_result"
    }
   ],
   "source": [
    "n4 = np.dot(n1, n2)\n",
    "n4"
   ]
  },
  {
   "cell_type": "code",
   "execution_count": 41,
   "id": "7ad7c0ac-76f2-4665-8b9c-cc28f0b14c93",
   "metadata": {},
   "outputs": [
    {
     "data": {
      "text/plain": [
       "array([[ 6, 11],\n",
       "       [10, 19]])"
      ]
     },
     "execution_count": 41,
     "metadata": {},
     "output_type": "execute_result"
    }
   ],
   "source": [
    "# 교환 법칙이 성립 안함\n",
    "n5 = n2.dot(n1)\n",
    "n5"
   ]
  },
  {
   "cell_type": "code",
   "execution_count": 42,
   "id": "ff7ffdff-381b-4a5a-a8a6-4c2567f86064",
   "metadata": {},
   "outputs": [
    {
     "data": {
      "text/plain": [
       "array([[0., 1., 0.],\n",
       "       [0., 0., 1.]])"
      ]
     },
     "execution_count": 42,
     "metadata": {},
     "output_type": "execute_result"
    }
   ],
   "source": [
    "# 대각 행렬\n",
    "neye = np.eye(2, 3, k = 1)\n",
    "neye"
   ]
  },
  {
   "cell_type": "code",
   "execution_count": 43,
   "id": "cadba563-1188-4269-80b5-110eaacd0962",
   "metadata": {},
   "outputs": [
    {
     "data": {
      "text/plain": [
       "array([[1., 0.],\n",
       "       [0., 1.]])"
      ]
     },
     "execution_count": 43,
     "metadata": {},
     "output_type": "execute_result"
    }
   ],
   "source": [
    "# 단위 행렬\n",
    "neye = np.identity(2)\n",
    "neye"
   ]
  },
  {
   "cell_type": "code",
   "execution_count": 44,
   "id": "a078ee54-b58e-4ca6-b8ae-1ac53abc2515",
   "metadata": {},
   "outputs": [
    {
     "data": {
      "text/plain": [
       "array([[0., 1.],\n",
       "       [2., 3.]])"
      ]
     },
     "execution_count": 44,
     "metadata": {},
     "output_type": "execute_result"
    }
   ],
   "source": [
    "# 단위 행렬을 곱할 시 자기 자신이 나온다\n",
    "ne = n1.dot(neye)\n",
    "ne"
   ]
  },
  {
   "cell_type": "code",
   "execution_count": 45,
   "id": "591b7edc-f343-4d9f-afb3-600ee860d196",
   "metadata": {},
   "outputs": [
    {
     "name": "stdout",
     "output_type": "stream",
     "text": [
      "리스트: [1, 2, 3, 1, 2, 3, 1, 2, 3]\n",
      "numpy array: [3 6 9]\n",
      "numpy array: [3 6 9]\n"
     ]
    }
   ],
   "source": [
    "a1 = [1, 2, 3]  # 문자로 바라보는 느낌\n",
    "a2 = 3\n",
    "print('리스트:', a1 * a2)  # 그냥 문자열 복사처럼 나옴\n",
    "\n",
    "a3 = np.array([1, 2, 3])\n",
    "print('numpy array:', a3 * a2)  # 각 인덱스마다 스칼라 곱\n",
    "# 3 = ?[3, 3, 3]\n",
    "a4 = np.array([3, 3, 3])\n",
    "print('numpy array:', a3 * a4)  # 인덱스끼리의 곱"
   ]
  },
  {
   "cell_type": "markdown",
   "id": "4e0e6a38-0f37-4752-b5d4-9524e9e95eff",
   "metadata": {},
   "source": [
    "### 배열의 인덱싱\n",
    "* 인덱스 : 0부터 시작하는 배열의 순서 번호\n",
    "* 슬라이스 : 문자열 슬라이스와 유사"
   ]
  },
  {
   "cell_type": "code",
   "execution_count": 46,
   "id": "f4725b6c-33a9-4a30-b323-1f068e1bce95",
   "metadata": {},
   "outputs": [
    {
     "name": "stdout",
     "output_type": "stream",
     "text": [
      "[ 0  2  4  6  8 10 12 14 16 18 20 22] \n",
      " 2 \n",
      " [ 2  6 10]\n"
     ]
    }
   ],
   "source": [
    "# 인덱싱\n",
    "n1 = np.arange(12) * 2\n",
    "print(n1, '\\n', n1[1], '\\n', n1[[1, 3, 5]])"
   ]
  },
  {
   "cell_type": "code",
   "execution_count": 47,
   "id": "48b88b24-ae92-47fe-ae3c-d7791b82de4a",
   "metadata": {},
   "outputs": [
    {
     "name": "stdout",
     "output_type": "stream",
     "text": [
      "data :\n",
      " [ 0  2  4  6  8 10 12 14 16 18 20 22] \n",
      "type : <class 'numpy.ndarray'> \n",
      "data type : int32 \n",
      "data shape : (12,)\n",
      "--------------------------------------------------\n"
     ]
    }
   ],
   "source": [
    "n2 = np.arange(12).reshape(3, 4)\n",
    "showData(n1)"
   ]
  },
  {
   "cell_type": "code",
   "execution_count": 48,
   "id": "5f29ca23-c801-42aa-81da-7dc80dd09421",
   "metadata": {},
   "outputs": [
    {
     "data": {
      "text/plain": [
       "array([0, 1, 2, 3])"
      ]
     },
     "execution_count": 48,
     "metadata": {},
     "output_type": "execute_result"
    }
   ],
   "source": [
    "# 행 호출\n",
    "n2[0]"
   ]
  },
  {
   "cell_type": "code",
   "execution_count": 49,
   "id": "c363a2cd-f61d-4d4e-abf9-f40f9675b531",
   "metadata": {},
   "outputs": [
    {
     "name": "stdout",
     "output_type": "stream",
     "text": [
      "5 6\n"
     ]
    }
   ],
   "source": [
    "# 스칼라 호출\n",
    "print(n2[1][1], n2[1][2])  # [row][column]"
   ]
  },
  {
   "cell_type": "code",
   "execution_count": 50,
   "id": "93d9aeb6-d5cc-459f-b1b1-2c6d7f48f533",
   "metadata": {},
   "outputs": [
    {
     "name": "stdout",
     "output_type": "stream",
     "text": [
      "[[ 0  1  2  3]\n",
      " [ 4  5  6  7]\n",
      " [ 8  9 10 11]] \n",
      "\n",
      " [[ 4  5  6  7]\n",
      " [ 8  9 10 11]]\n"
     ]
    }
   ],
   "source": [
    "# 2차원 인덱싱\n",
    "print(n2, '\\n\\n', n2[[1, 2]])"
   ]
  },
  {
   "cell_type": "code",
   "execution_count": 51,
   "id": "c72f938f-5bb6-4d12-b64a-4d7a3dda8fe5",
   "metadata": {},
   "outputs": [
    {
     "name": "stdout",
     "output_type": "stream",
     "text": [
      "[[ 0  1  2  3]\n",
      " [ 4  5  6  7]\n",
      " [ 8  9 10 11]] \n",
      "\n",
      " [[ 4  5  6  7]\n",
      " [ 8  9 10 11]] \n",
      "\n",
      " [5 9] \n",
      "\n",
      " [ 5 10]\n"
     ]
    }
   ],
   "source": [
    "print(n2, '\\n\\n', n2[[1, 2]], '\\n\\n', n2[[1, 2], 1], '\\n\\n', n2[[1, 2], [1, 2]])  # 인데스 세로만 뽑아내기 위해 1행의 1번째 인덱스와 2행의 2번째 인덱스의 값을 뽑아낸다."
   ]
  },
  {
   "cell_type": "code",
   "execution_count": 52,
   "id": "b3b5045a-bff9-4f30-b1a8-98350eaef387",
   "metadata": {},
   "outputs": [
    {
     "data": {
      "text/plain": [
       "False"
      ]
     },
     "execution_count": 52,
     "metadata": {},
     "output_type": "execute_result"
    }
   ],
   "source": [
    "# 리스트 불린 => 그냥 그 자체가 참인지 거짓인지 확인\n",
    "city = ['서울', '부산', '베이징']\n",
    "city == '부산'"
   ]
  },
  {
   "cell_type": "code",
   "execution_count": 53,
   "id": "fb7c7edc-9beb-4887-9c94-ed0b4d09db37",
   "metadata": {},
   "outputs": [
    {
     "data": {
      "text/plain": [
       "array([False,  True, False])"
      ]
     },
     "execution_count": 53,
     "metadata": {},
     "output_type": "execute_result"
    }
   ],
   "source": [
    "# array 불린 => 각 인덱스가 참인지 거짓인지 확인\n",
    "ncity = np.array(['서울', '부산', '베이징'])\n",
    "ncity == '부산'"
   ]
  },
  {
   "cell_type": "code",
   "execution_count": 54,
   "id": "b5d6a42d-ca80-4f4c-80ce-16c48ee03632",
   "metadata": {},
   "outputs": [
    {
     "data": {
      "text/plain": [
       "array([False,  True, False])"
      ]
     },
     "execution_count": 54,
     "metadata": {},
     "output_type": "execute_result"
    }
   ],
   "source": [
    "ncity = np.array(['서울', '부산', '베이징'])\n",
    "ncity == ['부산']"
   ]
  },
  {
   "cell_type": "code",
   "execution_count": 55,
   "id": "788070f0-cb9d-4e70-bfe5-a3fb9d20e68b",
   "metadata": {},
   "outputs": [],
   "source": [
    "# shape mismatch => 배열의 사이즈가 맞아야 배열 연산 시 연산이 가능하다\n",
    "# broadcast => 확장이 불가능하다\n",
    "# 배열의 크기를 확인!!\n",
    "# ncity == ['서울', '광주']"
   ]
  },
  {
   "cell_type": "code",
   "execution_count": 56,
   "id": "04426df2-ef63-4af6-a9c9-0fe3d888ea63",
   "metadata": {},
   "outputs": [
    {
     "data": {
      "text/plain": [
       "array([ True, False,  True])"
      ]
     },
     "execution_count": 56,
     "metadata": {},
     "output_type": "execute_result"
    }
   ],
   "source": [
    "# 동일 배열 사이즈에 대한 불린 인덱스\n",
    "ncity == ['서울', '광주', '베이징']"
   ]
  },
  {
   "cell_type": "code",
   "execution_count": 57,
   "id": "ad1e73ae-299b-4266-b00e-6c3b0a13a9d6",
   "metadata": {},
   "outputs": [],
   "source": [
    "# 배열의 슬라이싱\n",
    "n1 = np.arange(1, 10)"
   ]
  },
  {
   "cell_type": "code",
   "execution_count": 58,
   "id": "2295e552-f0fc-4885-9a44-312c8496b683",
   "metadata": {},
   "outputs": [
    {
     "name": "stdout",
     "output_type": "stream",
     "text": [
      "원본: [1 2 3 4 5 6 7 8 9]\n",
      "인덱스: 3\n",
      "인덱싱: [3 5 7]\n",
      "from 슬라이싱: [3 4 5 6 7 8 9] 인덱스~ 시작 포함\n",
      "to 슬라이싱: [1 2] ~인덱스 끝 불포함\n",
      "from to 슬라이싱: [3 4 5] 인덱스~인덱스 끝 불포함\n"
     ]
    }
   ],
   "source": [
    "print('원본:',n1)\n",
    "print('인덱스:',n1[2])\n",
    "print('인덱싱:',n1[[2, 4, 6]])\n",
    "print('from 슬라이싱:',n1[2:], '인덱스~ 시작 포함')\n",
    "print('to 슬라이싱:',n1[:2], '~인덱스 끝 불포함')\n",
    "print('from to 슬라이싱:',n1[2:5],'인덱스~인덱스 끝 불포함')\n",
    "#print('from to 슬라이싱:',n1[2, -2:],'인덱스~인덱스 끝 불포함')"
   ]
  },
  {
   "cell_type": "code",
   "execution_count": 59,
   "id": "d96f4c2b-6565-4296-bc25-b2aa0c8b074d",
   "metadata": {},
   "outputs": [
    {
     "name": "stdout",
     "output_type": "stream",
     "text": [
      " [0 1 2] \n",
      " [5 6 7]\n"
     ]
    }
   ],
   "source": [
    "# 브로드 캐스팅 스칼라 확장\n",
    "n1 = np.arange(3)\n",
    "n2 = n1 + 5\n",
    "print('',n1,'\\n',n2)"
   ]
  },
  {
   "cell_type": "code",
   "execution_count": 60,
   "id": "e8af3aae-aeb2-4d82-9f6c-a5a12bf56dea",
   "metadata": {},
   "outputs": [
    {
     "name": "stdout",
     "output_type": "stream",
     "text": [
      " [0 1 2] \n",
      " [5 6 7]\n"
     ]
    }
   ],
   "source": [
    "n1 = np.arange(3)\n",
    "n2 = n1 + (5, 5, 5)\n",
    "print('',n1,'\\n',n2)"
   ]
  },
  {
   "cell_type": "code",
   "execution_count": 61,
   "id": "8e0d1916-af26-44b2-b2a5-2c3cdb282fd4",
   "metadata": {},
   "outputs": [
    {
     "name": "stdout",
     "output_type": "stream",
     "text": [
      " [[ 0  1  2  3]\n",
      " [ 4  5  6  7]\n",
      " [ 8  9 10 11]] \n",
      "\n",
      " [[ 5  6  7  8]\n",
      " [ 9 10 11 12]\n",
      " [13 14 15 16]]\n"
     ]
    }
   ],
   "source": [
    "# 브로드 캐스팅 1차원 확장\n",
    "n1 = np.arange(12).reshape(3, 4)\n",
    "n2 = n1 + 5\n",
    "print('',n1,'\\n\\n',n2)"
   ]
  },
  {
   "cell_type": "code",
   "execution_count": 62,
   "id": "1946511d-390d-43f6-90af-c32bf11e2bfb",
   "metadata": {},
   "outputs": [
    {
     "name": "stdout",
     "output_type": "stream",
     "text": [
      " [[ 0  1  2  3]\n",
      " [ 4  5  6  7]\n",
      " [ 8  9 10 11]] \n",
      "\n",
      " [0 1 2 3] \n",
      "\n",
      " [[ 0  2  4  6]\n",
      " [ 4  6  8 10]\n",
      " [ 8 10 12 14]]\n"
     ]
    }
   ],
   "source": [
    "n1 = np.arange(12).reshape(3, 4)\n",
    "n2 = np.arange(4)  # 열 개수에 맞춰야 브로드 캐스팅 가능 행렬로 생각하면 됨\n",
    "n3 = n1 + n2\n",
    "print('',n1,'\\n\\n',n2,'\\n\\n',n3)"
   ]
  },
  {
   "cell_type": "code",
   "execution_count": 80,
   "id": "0d43976f-a2be-4716-8470-de80d090d228",
   "metadata": {},
   "outputs": [
    {
     "name": "stdout",
     "output_type": "stream",
     "text": [
      " [[ 0  1  2  3]\n",
      " [ 4  5  6  7]\n",
      " [ 8  9 10 11]] \n",
      "\n",
      " [[0]\n",
      " [1]\n",
      " [2]] \n",
      "\n",
      " [[ 0  1  2  3]\n",
      " [ 5  6  7  8]\n",
      " [10 11 12 13]]\n"
     ]
    }
   ],
   "source": [
    "n1 = np.arange(12).reshape(3, 4)\n",
    "n2 = np.arange(3).reshape(3, 1)  # (1, 3)을 (3, 1)로 맞춰서 계산 진행. 변경하는 방법 reshape말고 없는가?\n",
    "n3 = n1 + n2\n",
    "print('',n1,'\\n\\n',n2,'\\n\\n',n3)"
   ]
  },
  {
   "cell_type": "code",
   "execution_count": 65,
   "id": "24523b29-b849-401a-aede-6b2cff49a1a6",
   "metadata": {},
   "outputs": [
    {
     "name": "stdout",
     "output_type": "stream",
     "text": [
      " [0. 0. 0.] \n",
      "\n",
      " [0 1 2] \n",
      "\n",
      " [0. 1. 2.]\n"
     ]
    }
   ],
   "source": [
    "# 브로드 캐스팅 2차원\n",
    "# 동일 차원이면 차수가 맞아야한다.\n",
    "n1 = np.zeros(3)\n",
    "n2 = np.arange(3)\n",
    "n3 = n1 + n2\n",
    "print('',n1,'\\n\\n',n2,'\\n\\n',n3)"
   ]
  },
  {
   "cell_type": "code",
   "execution_count": 71,
   "id": "feead08c-0d0c-45ce-b723-27f07ede3a5b",
   "metadata": {},
   "outputs": [
    {
     "name": "stdout",
     "output_type": "stream",
     "text": [
      " [0 1 2] \n",
      "\n",
      " [[0]\n",
      " [1]\n",
      " [2]\n",
      " [3]] \n",
      "\n",
      " [[0 1 2]\n",
      " [1 2 3]\n",
      " [2 3 4]\n",
      " [3 4 5]]\n"
     ]
    }
   ],
   "source": [
    "# 브로드 캐스팅 2차원\n",
    "# 동일 차원이면 차수가 맞아야한다.\n",
    "n1 = np.arange(3)\n",
    "n2 = np.arange(4).reshape(4, 1)\n",
    "n3 = n1 + n2\n",
    "print('',n1,'\\n\\n',n2,'\\n\\n',n3)"
   ]
  },
  {
   "cell_type": "markdown",
   "id": "05a30572-f2e2-4b44-831f-d2867b07e3a6",
   "metadata": {},
   "source": [
    "#### numpy 기본 내장 함수\n",
    "- abs \n",
    "- sqrt\n",
    "- square\n",
    "- exp  #e 지수 log10\n",
    "- sign\n",
    "- ceil, floor, round\n",
    "- sin, cos, tan .... 기타 수학 함수들"
   ]
  },
  {
   "cell_type": "code",
   "execution_count": 83,
   "id": "02c2f895-7111-43a4-9872-f5a25cfda860",
   "metadata": {},
   "outputs": [
    {
     "data": {
      "text/plain": [
       "array([1, 1, 0, 5, 2, 3])"
      ]
     },
     "execution_count": 83,
     "metadata": {},
     "output_type": "execute_result"
    }
   ],
   "source": [
    "# abs : 절대값 표시\n",
    "n1 = np.array([1, -1, 0, 5, -2, -3])\n",
    "np.abs(n1)"
   ]
  },
  {
   "cell_type": "code",
   "execution_count": 88,
   "id": "ced73526-f7c1-4763-a43d-8dec2bbac147",
   "metadata": {},
   "outputs": [
    {
     "data": {
      "text/plain": [
       "array([2., 3., 4., 5., 6., 7.])"
      ]
     },
     "execution_count": 88,
     "metadata": {},
     "output_type": "execute_result"
    }
   ],
   "source": [
    "# sqrt : 제곱근\n",
    "n2 = np.array([4, 9, 16, 25, 36, 49])\n",
    "np.sqrt(n2)"
   ]
  },
  {
   "cell_type": "code",
   "execution_count": 89,
   "id": "e18c7247-87e9-48bf-a35c-1a11458eb72d",
   "metadata": {},
   "outputs": [
    {
     "data": {
      "text/plain": [
       "array([  16,   81,  256,  625, 1296, 2401], dtype=int32)"
      ]
     },
     "execution_count": 89,
     "metadata": {},
     "output_type": "execute_result"
    }
   ],
   "source": [
    "# square : 제곱\n",
    "n3 = np.array([4, 9, 16, 25, 36, 49])\n",
    "np.square(n3)"
   ]
  },
  {
   "cell_type": "code",
   "execution_count": 96,
   "id": "6a3d7cde-87cc-49e4-a1e4-7b4cf86abaf5",
   "metadata": {},
   "outputs": [
    {
     "data": {
      "text/plain": [
       "array([5.45981500e+01, 8.10308393e+03, 8.88611052e+06, 7.20048993e+10,\n",
       "       4.31123155e+15, 1.90734657e+21])"
      ]
     },
     "execution_count": 96,
     "metadata": {},
     "output_type": "execute_result"
    }
   ],
   "source": [
    "# exp : 지수\n",
    "np.exp(n2)"
   ]
  },
  {
   "cell_type": "code",
   "execution_count": 98,
   "id": "e975648e-0cd1-4f88-9d31-905d0919e72d",
   "metadata": {},
   "outputs": [
    {
     "data": {
      "text/plain": [
       "array([ 1, -1,  0,  1, -1, -1])"
      ]
     },
     "execution_count": 98,
     "metadata": {},
     "output_type": "execute_result"
    }
   ],
   "source": [
    "# sign : 음수 or 양수\n",
    "np.sign(n1)  # -1은 음수, 1은 양수, 0은 0"
   ]
  },
  {
   "cell_type": "code",
   "execution_count": 104,
   "id": "14f5282e-36f6-4c1a-84f2-7eab5644e616",
   "metadata": {},
   "outputs": [
    {
     "name": "stdout",
     "output_type": "stream",
     "text": [
      "[ 2. -1.  3. -2.  3. -3.  6.] \n",
      "\n",
      " [ 1. -2.  2. -3.  3. -4.  6.] \n",
      "\n",
      " [ 1. -1.  2. -2.  3. -4.  6.]\n"
     ]
    }
   ],
   "source": [
    "# ceil : 올림\n",
    "# floor : 내림\n",
    "# round : 반올림\n",
    "f1 = np.array([1.1, -1.3, 2.4, -2.5, 3.0, -3.7, 6.0])\n",
    "print(np.ceil(f1),'\\n\\n',np.floor(f1),'\\n\\n',np.round(f1))"
   ]
  },
  {
   "cell_type": "code",
   "execution_count": null,
   "id": "714629a1-5e0c-433a-ad74-a76865ddf356",
   "metadata": {},
   "outputs": [],
   "source": []
  }
 ],
 "metadata": {
  "kernelspec": {
   "display_name": "Python 3",
   "language": "python",
   "name": "python3"
  },
  "language_info": {
   "codemirror_mode": {
    "name": "ipython",
    "version": 3
   },
   "file_extension": ".py",
   "mimetype": "text/x-python",
   "name": "python",
   "nbconvert_exporter": "python",
   "pygments_lexer": "ipython3",
   "version": "3.8.8"
  }
 },
 "nbformat": 4,
 "nbformat_minor": 5
}
