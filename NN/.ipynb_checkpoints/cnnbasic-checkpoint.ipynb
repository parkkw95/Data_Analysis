{
 "cells": [
  {
   "cell_type": "markdown",
   "id": "536a687f-24fe-4c29-8203-b1246a2d6eec",
   "metadata": {},
   "source": [
    "### CNN convolution Layer(컨벌루션 뉴럴 네트워크)\n",
    "* Convolution\n",
    "    - padded\n",
    "* Pooling\n",
    "* flatten\n",
    "* dense\n",
    "\n",
    "\n",
    "\n"
   ]
  },
  {
   "cell_type": "code",
   "execution_count": 2,
   "id": "0932e867-8686-4eef-a640-32121d1a25cb",
   "metadata": {},
   "outputs": [],
   "source": [
    "import tensorflow as tf\n",
    "from tensorflow import keras\n",
    "import numpy as np\n",
    "import pandas as pd\n",
    "import matplotlib as mpl\n",
    "import matplotlib.pyplot as plt\n",
    "# 랜덤 시드 고정\n",
    "tf.random.set_seed(123)"
   ]
  },
  {
   "cell_type": "code",
   "execution_count": 3,
   "id": "69acbf5b-5d92-4d3e-b658-ba12e5c398f1",
   "metadata": {},
   "outputs": [
    {
     "name": "stdout",
     "output_type": "stream",
     "text": [
      "(60000, 28, 28) (60000,) (10000, 28, 28) (10000,)\n"
     ]
    }
   ],
   "source": [
    "# 미 손글씨 숫자 데이터 6만개의 학습셋과 1만개의 테스트셋\n",
    "# 데이터 가져오기\n",
    "mnist=keras.datasets.mnist\n",
    "(x_train,y_train),(x_test,y_test)=mnist.load_data()\n",
    "print(x_train.shape,y_train.shape,x_test.shape,y_test.shape)"
   ]
  },
  {
   "cell_type": "code",
   "execution_count": 7,
   "id": "ce581976-ebe4-42c5-a9bc-062e67d6df4f",
   "metadata": {
    "tags": []
   },
   "outputs": [
    {
     "name": "stdout",
     "output_type": "stream",
     "text": [
      "X형태: (28, 28) y 형태: 5 x최대값: 255 x최소값: 0 y최대값: 9 y최소값: 0\n"
     ]
    },
    {
     "data": {
      "image/png": "[encoded data removed]",
      "text/plain": [
       "<Figure size 432x288 with 1 Axes>"
      ]
     },
     "metadata": {
      "needs_background": "light"
     },
     "output_type": "display_data"
    }
   ],
   "source": [
    "#28*28개의 이미지 데이터\n",
    "print('X형태:',x_train[0].shape\n",
    "      ,'y 형태:',y_train[0]\n",
    "      ,'x최대값:',np.max(x_train[0])\n",
    "      ,'x최소값:',np.min(x_train[0])\n",
    "      ,'y최대값:',np.max(y_train)\n",
    "      ,'y최소값:',np.min(y_train)\n",
    "     )\n",
    "plt.imshow(x_train[0],cmap='bwr')\n",
    "plt.show()"
   ]
  },
  {
   "cell_type": "code",
   "execution_count": 8,
   "id": "622fbb42-ce61-4c1f-baf1-a89c45e789e2",
   "metadata": {},
   "outputs": [
    {
     "data": {
      "text/plain": [
       "60000"
      ]
     },
     "execution_count": 8,
     "metadata": {},
     "output_type": "execute_result"
    }
   ],
   "source": [
    "x_train.shape[0]"
   ]
  },
  {
   "cell_type": "code",
   "execution_count": 9,
   "id": "33865d66-4c10-4488-a270-b5bbefe77263",
   "metadata": {},
   "outputs": [
    {
     "data": {
      "text/plain": [
       "dtype('float32')"
      ]
     },
     "execution_count": 9,
     "metadata": {},
     "output_type": "execute_result"
    }
   ],
   "source": [
    "# minmax 처리 float32 정밀도 사용\n",
    "\n",
    "X_train=x_train.reshape(x_train.shape[0],28,28,1).astype('float32')/255\n",
    "X_test=x_test.reshape(x_test.shape[0],28,28,1).astype('float32')/255\n",
    "X_train[0].dtype"
   ]
  },
  {
   "cell_type": "code",
   "execution_count": 10,
   "id": "6d2fd5ab-af50-4026-b29c-4059f19d0c31",
   "metadata": {
    "tags": []
   },
   "outputs": [
    {
     "name": "stdout",
     "output_type": "stream",
     "text": [
      "값>>>>>>>>>: 5\n"
     ]
    },
    {
     "data": {
      "image/png": "[encoded data removed]",
      "text/plain": [
       "<Figure size 432x288 with 1 Axes>"
      ]
     },
     "metadata": {
      "needs_background": "light"
     },
     "output_type": "display_data"
    }
   ],
   "source": [
    "for i,img in enumerate(X_train[:1]):\n",
    "    print('값>>>>>>>>>:',y_train[i])\n",
    "    plt.imshow(img,cmap='bwr')\n",
    "    plt.show()"
   ]
  },
  {
   "cell_type": "code",
   "execution_count": 11,
   "id": "f90bae5e-88e8-4c3e-a532-d85327a70d5e",
   "metadata": {},
   "outputs": [
    {
     "data": {
      "text/plain": [
       "array([0., 0., 0., 0., 0., 1., 0., 0., 0., 0.], dtype=float32)"
      ]
     },
     "execution_count": 11,
     "metadata": {},
     "output_type": "execute_result"
    }
   ],
   "source": [
    "# 입력데이터:784 출력데이터 1->10개로 변환\n",
    "Y_train=keras.utils.to_categorical(y_train)\n",
    "Y_test=keras.utils.to_categorical(y_test)\n",
    "Y_train[0]"
   ]
  },
  {
   "cell_type": "code",
   "execution_count": 12,
   "id": "2d48a702-9590-48df-a520-554b0f86e96e",
   "metadata": {},
   "outputs": [
    {
     "data": {
      "text/plain": [
       "(60000, 28, 28, 1)"
      ]
     },
     "execution_count": 12,
     "metadata": {},
     "output_type": "execute_result"
    }
   ],
   "source": [
    "X_train.shape"
   ]
  },
  {
   "cell_type": "code",
   "execution_count": 13,
   "id": "e4243b3c-b3cd-412e-bc7a-325e9865cce1",
   "metadata": {},
   "outputs": [
    {
     "data": {
      "text/plain": [
       "(28, 28, 1)"
      ]
     },
     "execution_count": 13,
     "metadata": {},
     "output_type": "execute_result"
    }
   ],
   "source": [
    "inpshape=X_train[0].shape\n",
    "inpshape"
   ]
  },
  {
   "cell_type": "markdown",
   "id": "e80c8cbe-25c5-4f4c-9ca4-19e47123e671",
   "metadata": {},
   "source": [
    "* Reshape(): \n",
    "    - keras.layers.Reshape((-1,28,28,1),input_shape=(28,28,)),\n",
    "* Conv2D: 컨볼루션 2D->2D\n",
    "    - kernel_size : 특징추출용 행렬 사이즈\n",
    "    - padding: same: 테두리 가중치를 보장-> 이미지 사이즈가 줄지 않음\n",
    "    - input_shape: 입력값\n",
    "    - relu, 활성함수\n",
    "* MaxPooling2D:맥스 풀링 2D->2D\n",
    "    - 특징기반의 차원 축소\n",
    "    - 해당크기의 큰값을 차원 축소\n",
    "* Dropout: 비율\n",
    "    - 특징기반의 과적합을 방지하기위해 일부노드 학습을 중지\n",
    "* Flatten: 행렬 shape 변환\n",
    "    - 2차원 행렬을 1차원으로 줄여서 구분에 용이하게 함\n",
    "* Dense: 일반 딥러닝 레이어 \n",
    "    - softmax: 활성함수중 최고 확률을가지는 값을 반환"
   ]
  },
  {
   "cell_type": "code",
   "execution_count": 14,
   "id": "05143f5b-1bde-4550-a748-b26ab08020e9",
   "metadata": {
    "tags": []
   },
   "outputs": [
    {
     "name": "stdout",
     "output_type": "stream",
     "text": [
      "Model: \"sequential\"\n",
      "_________________________________________________________________\n",
      "Layer (type)                 Output Shape              Param #   \n",
      "=================================================================\n",
      "conv2d (Conv2D)              (None, 28, 28, 32)        832       \n",
      "_________________________________________________________________\n",
      "conv2d_1 (Conv2D)            (None, 28, 28, 32)        25632     \n",
      "_________________________________________________________________\n",
      "max_pooling2d (MaxPooling2D) (None, 14, 14, 32)        0         \n",
      "_________________________________________________________________\n",
      "dropout (Dropout)            (None, 14, 14, 32)        0         \n",
      "_________________________________________________________________\n",
      "conv2d_2 (Conv2D)            (None, 14, 14, 16)        12816     \n",
      "_________________________________________________________________\n",
      "max_pooling2d_1 (MaxPooling2 (None, 7, 7, 16)          0         \n",
      "_________________________________________________________________\n",
      "flatten (Flatten)            (None, 784)               0         \n",
      "_________________________________________________________________\n",
      "dense (Dense)                (None, 128)               100480    \n",
      "_________________________________________________________________\n",
      "dropout_1 (Dropout)          (None, 128)               0         \n",
      "_________________________________________________________________\n",
      "dense_1 (Dense)              (None, 10)                1290      \n",
      "=================================================================\n",
      "Total params: 141,050\n",
      "Trainable params: 141,050\n",
      "Non-trainable params: 0\n",
      "_________________________________________________________________\n"
     ]
    }
   ],
   "source": [
    "keras.backend.clear_session()\n",
    "# 모델 생성:sequential\n",
    "model=keras.models.Sequential(\n",
    "[\n",
    "#keras.layers.Reshape((-1,28,28,1),input_shape=(28,28,)),\n",
    "    keras.layers.Conv2D(32,\n",
    "                        kernel_size=(5,5),\n",
    "                        padding='same',\n",
    "                        activation='relu',\n",
    "                        input_shape=(28, 28,1)),\n",
    "    keras.layers.Conv2D(32,\n",
    "                        kernel_size=(5,5),\n",
    "                        padding='same',\n",
    "                        ),    \n",
    "    keras.layers.MaxPooling2D(pool_size=(2,2)),\n",
    "    keras.layers.Dropout(0.2),    \n",
    "    keras.layers.Conv2D(16,\n",
    "                        kernel_size=(5,5),\n",
    "                        padding='same',\n",
    "                        ),\n",
    "    keras.layers.MaxPooling2D(pool_size=(2,2)),    \n",
    "    keras.layers.Flatten(),\n",
    "\n",
    "    keras.layers.Dense(128,activation='relu'),\n",
    "    keras.layers.Dropout(0.2),\n",
    "    keras.layers.Dense(10,activation='softmax')\n",
    "    # 출력데이터는 10개로 구분될것이다 one-hot\n",
    "]\n",
    ")\n",
    "model.summary()"
   ]
  },
  {
   "cell_type": "raw",
   "id": "1dcc9ec6-7372-41eb-8173-7842a246e0e8",
   "metadata": {},
   "source": [
    "!conda install pydot\n",
    "!conda install python-graphviz"
   ]
  },
  {
   "cell_type": "code",
   "execution_count": 24,
   "id": "3ca7bf13-682a-4d58-8e94-a8dab6a69ef4",
   "metadata": {},
   "outputs": [
    {
     "data": {
      "image/svg+xml": [
       "<svg xmlns=\"http://www.w3.org/2000/svg\" xmlns:xlink=\"http://www.w3.org/1999/xlink\" width=\"491pt\" height=\"1180pt\" viewBox=\"0.00 0.00 368.00 885.00\">\n",
       "<g id=\"graph0\" class=\"graph\" transform=\"scale(1.33333 1.33333) rotate(0) translate(4 881)\">\n",
       "<title>G</title>\n",
       "<polygon fill=\"white\" stroke=\"none\" points=\"-4,4 -4,-881 364,-881 364,4 -4,4\"/>\n",
       "<!-- 1406604992128 -->\n",
       "<g id=\"node1\" class=\"node\"><title>1406604992128</title>\n",
       "<polygon fill=\"none\" stroke=\"black\" points=\"23,-830.5 23,-876.5 337,-876.5 337,-830.5 23,-830.5\"/>\n",
       "<text text-anchor=\"middle\" x=\"103.5\" y=\"-849.8\" font-family=\"Times New Roman,serif\" font-size=\"14.00\">conv2d_input: InputLayer</text>\n",
       "<polyline fill=\"none\" stroke=\"black\" points=\"184,-830.5 184,-876.5 \"/>\n",
       "<text text-anchor=\"middle\" x=\"212\" y=\"-861.3\" font-family=\"Times New Roman,serif\" font-size=\"14.00\">input:</text>\n",
       "<polyline fill=\"none\" stroke=\"black\" points=\"184,-853.5 240,-853.5 \"/>\n",
       "<text text-anchor=\"middle\" x=\"212\" y=\"-838.3\" font-family=\"Times New Roman,serif\" font-size=\"14.00\">output:</text>\n",
       "<polyline fill=\"none\" stroke=\"black\" points=\"240,-830.5 240,-876.5 \"/>\n",
       "<text text-anchor=\"middle\" x=\"288.5\" y=\"-861.3\" font-family=\"Times New Roman,serif\" font-size=\"14.00\">[(?, 28, 28, 1)]</text>\n",
       "<polyline fill=\"none\" stroke=\"black\" points=\"240,-853.5 337,-853.5 \"/>\n",
       "<text text-anchor=\"middle\" x=\"288.5\" y=\"-838.3\" font-family=\"Times New Roman,serif\" font-size=\"14.00\">[(?, 28, 28, 1)]</text>\n",
       "</g>\n",
       "<!-- 1408280518560 -->\n",
       "<g id=\"node2\" class=\"node\"><title>1408280518560</title>\n",
       "<polygon fill=\"none\" stroke=\"black\" points=\"48,-747.5 48,-793.5 312,-793.5 312,-747.5 48,-747.5\"/>\n",
       "<text text-anchor=\"middle\" x=\"104.5\" y=\"-766.8\" font-family=\"Times New Roman,serif\" font-size=\"14.00\">conv2d: Conv2D</text>\n",
       "<polyline fill=\"none\" stroke=\"black\" points=\"161,-747.5 161,-793.5 \"/>\n",
       "<text text-anchor=\"middle\" x=\"189\" y=\"-778.3\" font-family=\"Times New Roman,serif\" font-size=\"14.00\">input:</text>\n",
       "<polyline fill=\"none\" stroke=\"black\" points=\"161,-770.5 217,-770.5 \"/>\n",
       "<text text-anchor=\"middle\" x=\"189\" y=\"-755.3\" font-family=\"Times New Roman,serif\" font-size=\"14.00\">output:</text>\n",
       "<polyline fill=\"none\" stroke=\"black\" points=\"217,-747.5 217,-793.5 \"/>\n",
       "<text text-anchor=\"middle\" x=\"264.5\" y=\"-778.3\" font-family=\"Times New Roman,serif\" font-size=\"14.00\">(?, 28, 28, 1)</text>\n",
       "<polyline fill=\"none\" stroke=\"black\" points=\"217,-770.5 312,-770.5 \"/>\n",
       "<text text-anchor=\"middle\" x=\"264.5\" y=\"-755.3\" font-family=\"Times New Roman,serif\" font-size=\"14.00\">(?, 28, 28, 32)</text>\n",
       "</g>\n",
       "<!-- 1406604992128&#45;&gt;1408280518560 -->\n",
       "<g id=\"edge1\" class=\"edge\"><title>1406604992128-&gt;1408280518560</title>\n",
       "<path fill=\"none\" stroke=\"black\" d=\"M180,-830.366C180,-822.152 180,-812.658 180,-803.725\"/>\n",
       "<polygon fill=\"black\" stroke=\"black\" points=\"183.5,-803.607 180,-793.607 176.5,-803.607 183.5,-803.607\"/>\n",
       "</g>\n",
       "<!-- 1408280518080 -->\n",
       "<g id=\"node3\" class=\"node\"><title>1408280518080</title>\n",
       "<polygon fill=\"none\" stroke=\"black\" points=\"41,-664.5 41,-710.5 319,-710.5 319,-664.5 41,-664.5\"/>\n",
       "<text text-anchor=\"middle\" x=\"104.5\" y=\"-683.8\" font-family=\"Times New Roman,serif\" font-size=\"14.00\">conv2d_1: Conv2D</text>\n",
       "<polyline fill=\"none\" stroke=\"black\" points=\"168,-664.5 168,-710.5 \"/>\n",
       "<text text-anchor=\"middle\" x=\"196\" y=\"-695.3\" font-family=\"Times New Roman,serif\" font-size=\"14.00\">input:</text>\n",
       "<polyline fill=\"none\" stroke=\"black\" points=\"168,-687.5 224,-687.5 \"/>\n",
       "<text text-anchor=\"middle\" x=\"196\" y=\"-672.3\" font-family=\"Times New Roman,serif\" font-size=\"14.00\">output:</text>\n",
       "<polyline fill=\"none\" stroke=\"black\" points=\"224,-664.5 224,-710.5 \"/>\n",
       "<text text-anchor=\"middle\" x=\"271.5\" y=\"-695.3\" font-family=\"Times New Roman,serif\" font-size=\"14.00\">(?, 28, 28, 32)</text>\n",
       "<polyline fill=\"none\" stroke=\"black\" points=\"224,-687.5 319,-687.5 \"/>\n",
       "<text text-anchor=\"middle\" x=\"271.5\" y=\"-672.3\" font-family=\"Times New Roman,serif\" font-size=\"14.00\">(?, 28, 28, 32)</text>\n",
       "</g>\n",
       "<!-- 1408280518560&#45;&gt;1408280518080 -->\n",
       "<g id=\"edge2\" class=\"edge\"><title>1408280518560-&gt;1408280518080</title>\n",
       "<path fill=\"none\" stroke=\"black\" d=\"M180,-747.366C180,-739.152 180,-729.658 180,-720.725\"/>\n",
       "<polygon fill=\"black\" stroke=\"black\" points=\"183.5,-720.607 180,-710.607 176.5,-720.607 183.5,-720.607\"/>\n",
       "</g>\n",
       "<!-- 1406604721744 -->\n",
       "<g id=\"node4\" class=\"node\"><title>1406604721744</title>\n",
       "<polygon fill=\"none\" stroke=\"black\" points=\"7.5,-581.5 7.5,-627.5 352.5,-627.5 352.5,-581.5 7.5,-581.5\"/>\n",
       "<text text-anchor=\"middle\" x=\"104.5\" y=\"-600.8\" font-family=\"Times New Roman,serif\" font-size=\"14.00\">max_pooling2d: MaxPooling2D</text>\n",
       "<polyline fill=\"none\" stroke=\"black\" points=\"201.5,-581.5 201.5,-627.5 \"/>\n",
       "<text text-anchor=\"middle\" x=\"229.5\" y=\"-612.3\" font-family=\"Times New Roman,serif\" font-size=\"14.00\">input:</text>\n",
       "<polyline fill=\"none\" stroke=\"black\" points=\"201.5,-604.5 257.5,-604.5 \"/>\n",
       "<text text-anchor=\"middle\" x=\"229.5\" y=\"-589.3\" font-family=\"Times New Roman,serif\" font-size=\"14.00\">output:</text>\n",
       "<polyline fill=\"none\" stroke=\"black\" points=\"257.5,-581.5 257.5,-627.5 \"/>\n",
       "<text text-anchor=\"middle\" x=\"305\" y=\"-612.3\" font-family=\"Times New Roman,serif\" font-size=\"14.00\">(?, 28, 28, 32)</text>\n",
       "<polyline fill=\"none\" stroke=\"black\" points=\"257.5,-604.5 352.5,-604.5 \"/>\n",
       "<text text-anchor=\"middle\" x=\"305\" y=\"-589.3\" font-family=\"Times New Roman,serif\" font-size=\"14.00\">(?, 14, 14, 32)</text>\n",
       "</g>\n",
       "<!-- 1408280518080&#45;&gt;1406604721744 -->\n",
       "<g id=\"edge3\" class=\"edge\"><title>1408280518080-&gt;1406604721744</title>\n",
       "<path fill=\"none\" stroke=\"black\" d=\"M180,-664.366C180,-656.152 180,-646.658 180,-637.725\"/>\n",
       "<polygon fill=\"black\" stroke=\"black\" points=\"183.5,-637.607 180,-627.607 176.5,-637.607 183.5,-637.607\"/>\n",
       "</g>\n",
       "<!-- 1406604952624 -->\n",
       "<g id=\"node5\" class=\"node\"><title>1406604952624</title>\n",
       "<polygon fill=\"none\" stroke=\"black\" points=\"46.5,-498.5 46.5,-544.5 313.5,-544.5 313.5,-498.5 46.5,-498.5\"/>\n",
       "<text text-anchor=\"middle\" x=\"104.5\" y=\"-517.8\" font-family=\"Times New Roman,serif\" font-size=\"14.00\">dropout: Dropout</text>\n",
       "<polyline fill=\"none\" stroke=\"black\" points=\"162.5,-498.5 162.5,-544.5 \"/>\n",
       "<text text-anchor=\"middle\" x=\"190.5\" y=\"-529.3\" font-family=\"Times New Roman,serif\" font-size=\"14.00\">input:</text>\n",
       "<polyline fill=\"none\" stroke=\"black\" points=\"162.5,-521.5 218.5,-521.5 \"/>\n",
       "<text text-anchor=\"middle\" x=\"190.5\" y=\"-506.3\" font-family=\"Times New Roman,serif\" font-size=\"14.00\">output:</text>\n",
       "<polyline fill=\"none\" stroke=\"black\" points=\"218.5,-498.5 218.5,-544.5 \"/>\n",
       "<text text-anchor=\"middle\" x=\"266\" y=\"-529.3\" font-family=\"Times New Roman,serif\" font-size=\"14.00\">(?, 14, 14, 32)</text>\n",
       "<polyline fill=\"none\" stroke=\"black\" points=\"218.5,-521.5 313.5,-521.5 \"/>\n",
       "<text text-anchor=\"middle\" x=\"266\" y=\"-506.3\" font-family=\"Times New Roman,serif\" font-size=\"14.00\">(?, 14, 14, 32)</text>\n",
       "</g>\n",
       "<!-- 1406604721744&#45;&gt;1406604952624 -->\n",
       "<g id=\"edge4\" class=\"edge\"><title>1406604721744-&gt;1406604952624</title>\n",
       "<path fill=\"none\" stroke=\"black\" d=\"M180,-581.366C180,-573.152 180,-563.658 180,-554.725\"/>\n",
       "<polygon fill=\"black\" stroke=\"black\" points=\"183.5,-554.607 180,-544.607 176.5,-554.607 183.5,-554.607\"/>\n",
       "</g>\n",
       "<!-- 1406604953056 -->\n",
       "<g id=\"node6\" class=\"node\"><title>1406604953056</title>\n",
       "<polygon fill=\"none\" stroke=\"black\" points=\"41,-415.5 41,-461.5 319,-461.5 319,-415.5 41,-415.5\"/>\n",
       "<text text-anchor=\"middle\" x=\"104.5\" y=\"-434.8\" font-family=\"Times New Roman,serif\" font-size=\"14.00\">conv2d_2: Conv2D</text>\n",
       "<polyline fill=\"none\" stroke=\"black\" points=\"168,-415.5 168,-461.5 \"/>\n",
       "<text text-anchor=\"middle\" x=\"196\" y=\"-446.3\" font-family=\"Times New Roman,serif\" font-size=\"14.00\">input:</text>\n",
       "<polyline fill=\"none\" stroke=\"black\" points=\"168,-438.5 224,-438.5 \"/>\n",
       "<text text-anchor=\"middle\" x=\"196\" y=\"-423.3\" font-family=\"Times New Roman,serif\" font-size=\"14.00\">output:</text>\n",
       "<polyline fill=\"none\" stroke=\"black\" points=\"224,-415.5 224,-461.5 \"/>\n",
       "<text text-anchor=\"middle\" x=\"271.5\" y=\"-446.3\" font-family=\"Times New Roman,serif\" font-size=\"14.00\">(?, 14, 14, 32)</text>\n",
       "<polyline fill=\"none\" stroke=\"black\" points=\"224,-438.5 319,-438.5 \"/>\n",
       "<text text-anchor=\"middle\" x=\"271.5\" y=\"-423.3\" font-family=\"Times New Roman,serif\" font-size=\"14.00\">(?, 14, 14, 16)</text>\n",
       "</g>\n",
       "<!-- 1406604952624&#45;&gt;1406604953056 -->\n",
       "<g id=\"edge5\" class=\"edge\"><title>1406604952624-&gt;1406604953056</title>\n",
       "<path fill=\"none\" stroke=\"black\" d=\"M180,-498.366C180,-490.152 180,-480.658 180,-471.725\"/>\n",
       "<polygon fill=\"black\" stroke=\"black\" points=\"183.5,-471.607 180,-461.607 176.5,-471.607 183.5,-471.607\"/>\n",
       "</g>\n",
       "<!-- 1406604954160 -->\n",
       "<g id=\"node7\" class=\"node\"><title>1406604954160</title>\n",
       "<polygon fill=\"none\" stroke=\"black\" points=\"0,-332.5 0,-378.5 360,-378.5 360,-332.5 0,-332.5\"/>\n",
       "<text text-anchor=\"middle\" x=\"104.5\" y=\"-351.8\" font-family=\"Times New Roman,serif\" font-size=\"14.00\">max_pooling2d_1: MaxPooling2D</text>\n",
       "<polyline fill=\"none\" stroke=\"black\" points=\"209,-332.5 209,-378.5 \"/>\n",
       "<text text-anchor=\"middle\" x=\"237\" y=\"-363.3\" font-family=\"Times New Roman,serif\" font-size=\"14.00\">input:</text>\n",
       "<polyline fill=\"none\" stroke=\"black\" points=\"209,-355.5 265,-355.5 \"/>\n",
       "<text text-anchor=\"middle\" x=\"237\" y=\"-340.3\" font-family=\"Times New Roman,serif\" font-size=\"14.00\">output:</text>\n",
       "<polyline fill=\"none\" stroke=\"black\" points=\"265,-332.5 265,-378.5 \"/>\n",
       "<text text-anchor=\"middle\" x=\"312.5\" y=\"-363.3\" font-family=\"Times New Roman,serif\" font-size=\"14.00\">(?, 14, 14, 16)</text>\n",
       "<polyline fill=\"none\" stroke=\"black\" points=\"265,-355.5 360,-355.5 \"/>\n",
       "<text text-anchor=\"middle\" x=\"312.5\" y=\"-340.3\" font-family=\"Times New Roman,serif\" font-size=\"14.00\">(?, 7, 7, 16)</text>\n",
       "</g>\n",
       "<!-- 1406604953056&#45;&gt;1406604954160 -->\n",
       "<g id=\"edge6\" class=\"edge\"><title>1406604953056-&gt;1406604954160</title>\n",
       "<path fill=\"none\" stroke=\"black\" d=\"M180,-415.366C180,-407.152 180,-397.658 180,-388.725\"/>\n",
       "<polygon fill=\"black\" stroke=\"black\" points=\"183.5,-388.607 180,-378.607 176.5,-388.607 183.5,-388.607\"/>\n",
       "</g>\n",
       "<!-- 1406604954976 -->\n",
       "<g id=\"node8\" class=\"node\"><title>1406604954976</title>\n",
       "<polygon fill=\"none\" stroke=\"black\" points=\"64,-249.5 64,-295.5 296,-295.5 296,-249.5 64,-249.5\"/>\n",
       "<text text-anchor=\"middle\" x=\"111.5\" y=\"-268.8\" font-family=\"Times New Roman,serif\" font-size=\"14.00\">flatten: Flatten</text>\n",
       "<polyline fill=\"none\" stroke=\"black\" points=\"159,-249.5 159,-295.5 \"/>\n",
       "<text text-anchor=\"middle\" x=\"187\" y=\"-280.3\" font-family=\"Times New Roman,serif\" font-size=\"14.00\">input:</text>\n",
       "<polyline fill=\"none\" stroke=\"black\" points=\"159,-272.5 215,-272.5 \"/>\n",
       "<text text-anchor=\"middle\" x=\"187\" y=\"-257.3\" font-family=\"Times New Roman,serif\" font-size=\"14.00\">output:</text>\n",
       "<polyline fill=\"none\" stroke=\"black\" points=\"215,-249.5 215,-295.5 \"/>\n",
       "<text text-anchor=\"middle\" x=\"255.5\" y=\"-280.3\" font-family=\"Times New Roman,serif\" font-size=\"14.00\">(?, 7, 7, 16)</text>\n",
       "<polyline fill=\"none\" stroke=\"black\" points=\"215,-272.5 296,-272.5 \"/>\n",
       "<text text-anchor=\"middle\" x=\"255.5\" y=\"-257.3\" font-family=\"Times New Roman,serif\" font-size=\"14.00\">(?, 784)</text>\n",
       "</g>\n",
       "<!-- 1406604954160&#45;&gt;1406604954976 -->\n",
       "<g id=\"edge7\" class=\"edge\"><title>1406604954160-&gt;1406604954976</title>\n",
       "<path fill=\"none\" stroke=\"black\" d=\"M180,-332.366C180,-324.152 180,-314.658 180,-305.725\"/>\n",
       "<polygon fill=\"black\" stroke=\"black\" points=\"183.5,-305.607 180,-295.607 176.5,-305.607 183.5,-305.607\"/>\n",
       "</g>\n",
       "<!-- 1406604955456 -->\n",
       "<g id=\"node9\" class=\"node\"><title>1406604955456</title>\n",
       "<polygon fill=\"none\" stroke=\"black\" points=\"77.5,-166.5 77.5,-212.5 282.5,-212.5 282.5,-166.5 77.5,-166.5\"/>\n",
       "<text text-anchor=\"middle\" x=\"122.5\" y=\"-185.8\" font-family=\"Times New Roman,serif\" font-size=\"14.00\">dense: Dense</text>\n",
       "<polyline fill=\"none\" stroke=\"black\" points=\"167.5,-166.5 167.5,-212.5 \"/>\n",
       "<text text-anchor=\"middle\" x=\"195.5\" y=\"-197.3\" font-family=\"Times New Roman,serif\" font-size=\"14.00\">input:</text>\n",
       "<polyline fill=\"none\" stroke=\"black\" points=\"167.5,-189.5 223.5,-189.5 \"/>\n",
       "<text text-anchor=\"middle\" x=\"195.5\" y=\"-174.3\" font-family=\"Times New Roman,serif\" font-size=\"14.00\">output:</text>\n",
       "<polyline fill=\"none\" stroke=\"black\" points=\"223.5,-166.5 223.5,-212.5 \"/>\n",
       "<text text-anchor=\"middle\" x=\"253\" y=\"-197.3\" font-family=\"Times New Roman,serif\" font-size=\"14.00\">(?, 784)</text>\n",
       "<polyline fill=\"none\" stroke=\"black\" points=\"223.5,-189.5 282.5,-189.5 \"/>\n",
       "<text text-anchor=\"middle\" x=\"253\" y=\"-174.3\" font-family=\"Times New Roman,serif\" font-size=\"14.00\">(?, 128)</text>\n",
       "</g>\n",
       "<!-- 1406604954976&#45;&gt;1406604955456 -->\n",
       "<g id=\"edge8\" class=\"edge\"><title>1406604954976-&gt;1406604955456</title>\n",
       "<path fill=\"none\" stroke=\"black\" d=\"M180,-249.366C180,-241.152 180,-231.658 180,-222.725\"/>\n",
       "<polygon fill=\"black\" stroke=\"black\" points=\"183.5,-222.607 180,-212.607 176.5,-222.607 183.5,-222.607\"/>\n",
       "</g>\n",
       "<!-- 1406604989152 -->\n",
       "<g id=\"node10\" class=\"node\"><title>1406604989152</title>\n",
       "<polygon fill=\"none\" stroke=\"black\" points=\"57.5,-83.5 57.5,-129.5 302.5,-129.5 302.5,-83.5 57.5,-83.5\"/>\n",
       "<text text-anchor=\"middle\" x=\"122.5\" y=\"-102.8\" font-family=\"Times New Roman,serif\" font-size=\"14.00\">dropout_1: Dropout</text>\n",
       "<polyline fill=\"none\" stroke=\"black\" points=\"187.5,-83.5 187.5,-129.5 \"/>\n",
       "<text text-anchor=\"middle\" x=\"215.5\" y=\"-114.3\" font-family=\"Times New Roman,serif\" font-size=\"14.00\">input:</text>\n",
       "<polyline fill=\"none\" stroke=\"black\" points=\"187.5,-106.5 243.5,-106.5 \"/>\n",
       "<text text-anchor=\"middle\" x=\"215.5\" y=\"-91.3\" font-family=\"Times New Roman,serif\" font-size=\"14.00\">output:</text>\n",
       "<polyline fill=\"none\" stroke=\"black\" points=\"243.5,-83.5 243.5,-129.5 \"/>\n",
       "<text text-anchor=\"middle\" x=\"273\" y=\"-114.3\" font-family=\"Times New Roman,serif\" font-size=\"14.00\">(?, 128)</text>\n",
       "<polyline fill=\"none\" stroke=\"black\" points=\"243.5,-106.5 302.5,-106.5 \"/>\n",
       "<text text-anchor=\"middle\" x=\"273\" y=\"-91.3\" font-family=\"Times New Roman,serif\" font-size=\"14.00\">(?, 128)</text>\n",
       "</g>\n",
       "<!-- 1406604955456&#45;&gt;1406604989152 -->\n",
       "<g id=\"edge9\" class=\"edge\"><title>1406604955456-&gt;1406604989152</title>\n",
       "<path fill=\"none\" stroke=\"black\" d=\"M180,-166.366C180,-158.152 180,-148.658 180,-139.725\"/>\n",
       "<polygon fill=\"black\" stroke=\"black\" points=\"183.5,-139.607 180,-129.607 176.5,-139.607 183.5,-139.607\"/>\n",
       "</g>\n",
       "<!-- 1406604989584 -->\n",
       "<g id=\"node11\" class=\"node\"><title>1406604989584</title>\n",
       "<polygon fill=\"none\" stroke=\"black\" points=\"70.5,-0.5 70.5,-46.5 289.5,-46.5 289.5,-0.5 70.5,-0.5\"/>\n",
       "<text text-anchor=\"middle\" x=\"122.5\" y=\"-19.8\" font-family=\"Times New Roman,serif\" font-size=\"14.00\">dense_1: Dense</text>\n",
       "<polyline fill=\"none\" stroke=\"black\" points=\"174.5,-0.5 174.5,-46.5 \"/>\n",
       "<text text-anchor=\"middle\" x=\"202.5\" y=\"-31.3\" font-family=\"Times New Roman,serif\" font-size=\"14.00\">input:</text>\n",
       "<polyline fill=\"none\" stroke=\"black\" points=\"174.5,-23.5 230.5,-23.5 \"/>\n",
       "<text text-anchor=\"middle\" x=\"202.5\" y=\"-8.3\" font-family=\"Times New Roman,serif\" font-size=\"14.00\">output:</text>\n",
       "<polyline fill=\"none\" stroke=\"black\" points=\"230.5,-0.5 230.5,-46.5 \"/>\n",
       "<text text-anchor=\"middle\" x=\"260\" y=\"-31.3\" font-family=\"Times New Roman,serif\" font-size=\"14.00\">(?, 128)</text>\n",
       "<polyline fill=\"none\" stroke=\"black\" points=\"230.5,-23.5 289.5,-23.5 \"/>\n",
       "<text text-anchor=\"middle\" x=\"260\" y=\"-8.3\" font-family=\"Times New Roman,serif\" font-size=\"14.00\">(?, 10)</text>\n",
       "</g>\n",
       "<!-- 1406604989152&#45;&gt;1406604989584 -->\n",
       "<g id=\"edge10\" class=\"edge\"><title>1406604989152-&gt;1406604989584</title>\n",
       "<path fill=\"none\" stroke=\"black\" d=\"M180,-83.3664C180,-75.1516 180,-65.6579 180,-56.7252\"/>\n",
       "<polygon fill=\"black\" stroke=\"black\" points=\"183.5,-56.6068 180,-46.6068 176.5,-56.6069 183.5,-56.6068\"/>\n",
       "</g>\n",
       "</g>\n",
       "</svg>"
      ],
      "text/plain": [
       "<IPython.core.display.SVG object>"
      ]
     },
     "execution_count": 24,
     "metadata": {},
     "output_type": "execute_result"
    }
   ],
   "source": [
    "from IPython.display import SVG\n",
    "from tensorflow.keras.utils import plot_model,model_to_dot\n",
    "#png로 만들기\n",
    "#plot_model(model,to_file='img/cnnmodel.png',show_shapes=True)\n",
    "# svg로 만들기\n",
    "SVG(model_to_dot(model,show_shapes=True).create(prog='dot',format='svg'))"
   ]
  },
  {
   "cell_type": "code",
   "execution_count": 115,
   "id": "05bc00f6-b93d-4bca-8fee-3c89a4579d1c",
   "metadata": {},
   "outputs": [],
   "source": [
    "# 모델 학습 과정을 설정: compile\n",
    "model.compile(optimizer='ADAM' # Stochastic gradient descent 확률적 경사 하강법\n",
    "              ,loss='MSE' # Mean Square Error\n",
    "              ,metrics=['accuracy'] # 정확도\n",
    "             )"
   ]
  },
  {
   "cell_type": "code",
   "execution_count": 116,
   "id": "080306f0-0d42-42d1-9e4b-56bf666cac66",
   "metadata": {
    "tags": []
   },
   "outputs": [
    {
     "name": "stdout",
     "output_type": "stream",
     "text": [
      "Epoch 1/5\n",
      "480/480 [==============================] - 19s 39ms/step - loss: 0.0098 - accuracy: 0.9349 - val_loss: 0.0037 - val_accuracy: 0.9755\n",
      "Epoch 2/5\n",
      "480/480 [==============================] - 18s 38ms/step - loss: 0.0035 - accuracy: 0.9781 - val_loss: 0.0028 - val_accuracy: 0.9825\n",
      "Epoch 3/5\n",
      "480/480 [==============================] - 18s 37ms/step - loss: 0.0024 - accuracy: 0.9848 - val_loss: 0.0026 - val_accuracy: 0.9832\n",
      "Epoch 4/5\n",
      "480/480 [==============================] - 17s 36ms/step - loss: 0.0019 - accuracy: 0.9881 - val_loss: 0.0022 - val_accuracy: 0.9845\n",
      "Epoch 5/5\n",
      "480/480 [==============================] - 17s 36ms/step - loss: 0.0015 - accuracy: 0.9909 - val_loss: 0.0023 - val_accuracy: 0.9845\n"
     ]
    }
   ],
   "source": [
    "# 학습하기: fit\n",
    "hist=model.fit(X_train,Y_train,epochs=5,batch_size=100,validation_split=0.2)"
   ]
  },
  {
   "cell_type": "code",
   "execution_count": 118,
   "id": "8f13ba93-3c33-43a5-8a16-1f5e6fc70586",
   "metadata": {},
   "outputs": [
    {
     "name": "stdout",
     "output_type": "stream",
     "text": [
      "313/313 [==============================] - 2s 6ms/step - loss: 0.0022 - accuracy: 0.9862\n",
      "손실값: 0.0022 정확도: 0.9862\n"
     ]
    }
   ],
   "source": [
    "tloss,tacc=model.evaluate(X_test,Y_test)\n",
    "print('손실값:',np.round(tloss,4),'정확도:',np.round(tacc,4))"
   ]
  },
  {
   "cell_type": "code",
   "execution_count": null,
   "id": "289fca37-4bb5-41c6-ae32-69432bfcb61e",
   "metadata": {},
   "outputs": [],
   "source": []
  },
  {
   "cell_type": "code",
   "execution_count": null,
   "id": "72913aa4-e3ec-4440-89fd-797c1ed12bf4",
   "metadata": {},
   "outputs": [],
   "source": []
  }
 ],
 "metadata": {
  "kernelspec": {
   "display_name": "Python 3",
   "language": "python",
   "name": "python3"
  },
  "language_info": {
   "codemirror_mode": {
    "name": "ipython",
    "version": 3
   },
   "file_extension": ".py",
   "mimetype": "text/x-python",
   "name": "python",
   "nbconvert_exporter": "python",
   "pygments_lexer": "ipython3",
   "version": "3.8.8"
  }
 },
 "nbformat": 4,
 "nbformat_minor": 5
}
