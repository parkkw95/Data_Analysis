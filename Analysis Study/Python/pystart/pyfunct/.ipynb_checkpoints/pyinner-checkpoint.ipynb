{
 "cells": [
  {
   "cell_type": "markdown",
   "id": "33d18781-c8b1-4a36-a155-0c33180435d6",
   "metadata": {},
   "source": [
    "# 파이썬 내장함수\n",
    "* 용도\n",
    "    - 데이터 전처리\n",
    "        * 데이터 정제\n",
    "        * 데이터 분류, 정리\n",
    "        * 시각화\n",
    "        * DB화\n",
    "    - 결과 후처리\n",
    "        * 시각화\n",
    "        * 데이터 통합"
   ]
  },
  {
   "cell_type": "code",
   "execution_count": 1,
   "id": "937f96cb-6da3-4d17-b2d3-b6dc137ff39c",
   "metadata": {},
   "outputs": [
    {
     "name": "stdout",
     "output_type": "stream",
     "text": [
      "4 3 0\n"
     ]
    }
   ],
   "source": [
    "# 수학연산\n",
    "# 내장함수 abs: 절대값 표현 - 음수를 양수로 변환\n",
    "a=abs(4)\n",
    "b=abs(-3)\n",
    "c=abs(0)\n",
    "print(a,b,c)\n"
   ]
  },
  {
   "cell_type": "code",
   "execution_count": 10,
   "id": "a65a9756-5945-4a42-a037-b32c4cdceb0e",
   "metadata": {},
   "outputs": [
    {
     "name": "stdout",
     "output_type": "stream",
     "text": [
      "a 가\n"
     ]
    }
   ],
   "source": [
    "# chr 유니코드 -> 문자\n",
    "# 파이썬 폰트 체계 utf-8 byte 128자 a~zA~Z0~9기타특수문자 \n",
    "# 한글 체계 : 초,중,종  조합형 ㄱ~ㅎㅏ~ㅣㄱ~ㅎ 완성형 ㄱ~힣\n",
    "# utf-8 !!!!\n",
    "print(chr(97),chr(44032))\n"
   ]
  },
  {
   "cell_type": "code",
   "execution_count": 16,
   "id": "7ed885c2-28cc-4d27-bc82-cedb0aa478cd",
   "metadata": {},
   "outputs": [
    {
     "name": "stdout",
     "output_type": "stream",
     "text": [
      "7\n",
      "11 | 7 | 11 | 6\n"
     ]
    }
   ],
   "source": [
    "# 최대값 max()\n",
    "a=[1,7,2,4,6,11,5] # 리스트도 됨\n",
    "b=(1,7,2,4,6,11,5) # 튜플도 됨\n",
    "c={1:'서울',6:'도쿄',3:'뉴욕'} # 키값으로 처리\n",
    "print(max(2,3,7,1,2)) # 직접 표현도 됨 \n",
    "print(max(a),'|', max(2,3,7,1,2),'|',max(b),'|',max(c)) "
   ]
  },
  {
   "cell_type": "code",
   "execution_count": 18,
   "id": "59bafe4a-0328-49e9-95eb-df0e321b8614",
   "metadata": {},
   "outputs": [
    {
     "name": "stdout",
     "output_type": "stream",
     "text": [
      "ㅡ | 호텔 | 값\n"
     ]
    }
   ],
   "source": [
    "# 최대값 문자열\n",
    "# 앞글자의 순서에 기반\n",
    "a=['ㄱ','ㄷ','ㅎ','a','ㅡ','ㄴ','z'] # 음\n",
    "b=('각','나라','마다는','호텔','을','有','ham') # 단어 한자 영어 \n",
    "c=['ㄱ','가','값'] # ㄱ 기반\n",
    "print(max(a),'|',max(b),'|',max(c)) "
   ]
  },
  {
   "cell_type": "code",
   "execution_count": 25,
   "id": "3ae6b4e3-3cd6-4d72-827d-ee7ce7721162",
   "metadata": {},
   "outputs": [
    {
     "name": "stdout",
     "output_type": "stream",
     "text": [
      "54840 26377 104\n"
     ]
    }
   ],
   "source": [
    "# ord : 문자->ascii  코드로 바꿔줌\n",
    "print(ord('호'),ord('有'),ord('h'))"
   ]
  },
  {
   "cell_type": "code",
   "execution_count": 29,
   "id": "5dcb912a-df29-4d02-acc0-36c9148a45d1",
   "metadata": {},
   "outputs": [
    {
     "name": "stdout",
     "output_type": "stream",
     "text": [
      "1\n",
      "2 | 3 | 6\n"
     ]
    }
   ],
   "source": [
    "# 최소값 min()\n",
    "a=[7,2,4,6,11,5] # 리스트도 됨\n",
    "b=(7,3,4,6,11,5) # 튜플도 됨\n",
    "c={9:'서울',6:'도쿄',11:'뉴욕'} # 키값으로 처리\n",
    "print(min(2,3,7,1,2)) # 직접 표현도 됨 \n",
    "print(min(a),'|',min(b),'|',min(c)) "
   ]
  },
  {
   "cell_type": "code",
   "execution_count": 34,
   "id": "4b396480-4259-4654-8706-6ac16ae66a4b",
   "metadata": {},
   "outputs": [
    {
     "name": "stdout",
     "output_type": "stream",
     "text": [
      "8 0.5 0.25 1 1.4142135623730951 1.2599210498948732\n"
     ]
    }
   ],
   "source": [
    "# pow(x,n) 거듭 제곱 n 제곱 x의 n 제곱\n",
    " # 2*2*2\n",
    "    # 음수 제곱\n",
    "    # 분수 제곱근\n",
    "print(pow(2,3),pow(2,-1),pow(2,-2),pow(2,0),pow(2,0.5),pow(2,1/3))"
   ]
  },
  {
   "cell_type": "code",
   "execution_count": 43,
   "id": "b2f94bfe-439d-4d7d-9239-6b53a85bd7ec",
   "metadata": {},
   "outputs": [
    {
     "name": "stdout",
     "output_type": "stream",
     "text": [
      "1.456 round(a): 1\n",
      "1.456 round(a): 1.5\n",
      "1.456 round(a): 1.46\n",
      "1.456 round(a): 1.456\n"
     ]
    }
   ],
   "source": [
    "# 소수점 처리 반올림 round\n",
    "a= pow(2,0.5)\n",
    "a=1.456\n",
    "ra=round(a)\n",
    "print(a,'round(a):',round(a))\n",
    "print(a,'round(a):',round(a,1))\n",
    "print(a,'round(a):',round(a,2))\n",
    "print(a,'round(a):',round(a,3))"
   ]
  },
  {
   "cell_type": "code",
   "execution_count": 47,
   "id": "2a38659e-77b1-4de9-923b-1ab213ed697d",
   "metadata": {},
   "outputs": [
    {
     "name": "stdout",
     "output_type": "stream",
     "text": [
      "(2, 1) 2 1\n"
     ]
    }
   ],
   "source": [
    "# 몫 나머지 연산 divmod()\n",
    "dm=divmod(13,6) # 몫과 나머지로 나옴\n",
    "a=13//6\n",
    "b=13%6\n",
    "print(dm,a,b)"
   ]
  },
  {
   "cell_type": "code",
   "execution_count": 52,
   "id": "ce908b13-a0d1-49d1-8c95-106617515163",
   "metadata": {},
   "outputs": [
    {
     "name": "stdout",
     "output_type": "stream",
     "text": [
      "2 1\n"
     ]
    }
   ],
   "source": [
    "# 참고 math 라이브러리\n",
    "# 올림, 내림\n",
    "import math\n",
    "a=math.ceil(1.456)\n",
    "b=math.floor(1.456)\n",
    "print(a,b)"
   ]
  },
  {
   "cell_type": "code",
   "execution_count": 53,
   "id": "a354f9c3-f055-45a6-97c0-5b34583a2c56",
   "metadata": {},
   "outputs": [
    {
     "ename": "NameError",
     "evalue": "name 'floor' is not defined",
     "output_type": "error",
     "traceback": [
      "\u001b[1;31m---------------------------------------------------------------------------\u001b[0m",
      "\u001b[1;31mNameError\u001b[0m                                 Traceback (most recent call last)",
      "\u001b[1;32m<ipython-input-53-2eef9de2cdc1>\u001b[0m in \u001b[0;36m<module>\u001b[1;34m\u001b[0m\n\u001b[1;32m----> 1\u001b[1;33m \u001b[0mfloor\u001b[0m\u001b[1;33m(\u001b[0m\u001b[1;36m1.456\u001b[0m\u001b[1;33m)\u001b[0m\u001b[1;33m\u001b[0m\u001b[1;33m\u001b[0m\u001b[0m\n\u001b[0m",
      "\u001b[1;31mNameError\u001b[0m: name 'floor' is not defined"
     ]
    }
   ],
   "source": [
    "floor(1.456)"
   ]
  },
  {
   "cell_type": "code",
   "execution_count": 59,
   "id": "b15b1e51-1f4c-4aa4-9bba-5b85f85c2973",
   "metadata": {},
   "outputs": [
    {
     "name": "stdout",
     "output_type": "stream",
     "text": [
      "안녕하세요 안 녕 요 세\n"
     ]
    }
   ],
   "source": [
    "# 문자열 연산\n",
    "a = '안녕하세요'\n",
    "# 문자열 인덱스 접근\n",
    "# - 음수는 뒤에서부터의 순서\n",
    "print(a,a[0],a[1],a[-1],a[-2])"
   ]
  },
  {
   "cell_type": "code",
   "execution_count": 63,
   "id": "2d8000fa-c69d-474f-9897-543dfecbdec5",
   "metadata": {},
   "outputs": [
    {
     "name": "stdout",
     "output_type": "stream",
     "text": [
      "녕하\n",
      "녕하세요 여러분 반갑습니다.\n",
      "안녕하\n"
     ]
    }
   ],
   "source": [
    "# 문자열 슬라이스\n",
    "a = '안녕하세요 여러분 반갑습니다.'\n",
    "print(a[1:3]) # 마지막 인덱스는 안들어간다\n",
    "print(a[1:]) # 생략됬으면 끝까지 간다\n",
    "print(a[:3]) # 생략됬으면 끝까지 간다"
   ]
  },
  {
   "cell_type": "code",
   "execution_count": 64,
   "id": "4c2ddc02-eccf-436e-a163-cbc7e7d944e3",
   "metadata": {},
   "outputs": [
    {
     "data": {
      "text/plain": [
       "[3, 4, 5]"
      ]
     },
     "execution_count": 64,
     "metadata": {},
     "output_type": "execute_result"
    }
   ],
   "source": [
    "b=[1,2,3,4,5,6,7]\n",
    "b[2:5]"
   ]
  },
  {
   "cell_type": "code",
   "execution_count": 65,
   "id": "0e81f57e-de72-4d52-9abf-2967514d40c1",
   "metadata": {},
   "outputs": [
    {
     "name": "stdout",
     "output_type": "stream",
     "text": [
      "안\n",
      "녕\n",
      "하\n",
      "세\n",
      "요\n"
     ]
    }
   ],
   "source": [
    "a='안녕하세요'\n",
    "for i in a:\n",
    "    print(i)"
   ]
  },
  {
   "cell_type": "code",
   "execution_count": 66,
   "id": "dabd1d06-4c29-45f4-b458-4ec2830cd6c0",
   "metadata": {},
   "outputs": [
    {
     "data": {
      "text/plain": [
       "5"
      ]
     },
     "execution_count": 66,
     "metadata": {},
     "output_type": "execute_result"
    }
   ],
   "source": [
    "# 글자의 길이 len\n",
    "len(a)"
   ]
  },
  {
   "cell_type": "code",
   "execution_count": 68,
   "id": "a59b939f-350f-4215-b2c4-1d582ddba06d",
   "metadata": {},
   "outputs": [
    {
     "data": {
      "text/plain": [
       "'안녕하세요 여러분'"
      ]
     },
     "execution_count": 68,
     "metadata": {},
     "output_type": "execute_result"
    }
   ],
   "source": [
    "# 문자열 합치기 +\n",
    "b=a+' 여러분'\n",
    "b"
   ]
  },
  {
   "cell_type": "code",
   "execution_count": 71,
   "id": "a1d9e102-9f51-4262-95d2-8260e55ae8ff",
   "metadata": {},
   "outputs": [
    {
     "data": {
      "text/plain": [
       "'안녕~안녕~안녕~'"
      ]
     },
     "execution_count": 71,
     "metadata": {},
     "output_type": "execute_result"
    }
   ],
   "source": [
    "# 문자열 반복 *\n",
    "'안녕~'*3"
   ]
  },
  {
   "cell_type": "code",
   "execution_count": 74,
   "id": "3c51526a-d5ea-40a8-b352-0ad7f6252985",
   "metadata": {},
   "outputs": [
    {
     "name": "stdout",
     "output_type": "stream",
     "text": [
      "'안녕' 이라고 말합니다.\n",
      "\"안녕\" 이라고 말합니다.\n"
     ]
    }
   ],
   "source": [
    "# 쌍 홑 따옴표\n",
    "print(\"'안녕' 이라고 말합니다.\")\n",
    "print('\"안녕\" 이라고 말합니다.')"
   ]
  },
  {
   "cell_type": "code",
   "execution_count": 75,
   "id": "7735b71f-07c3-4803-b3ee-ab34c0158968",
   "metadata": {},
   "outputs": [
    {
     "ename": "SyntaxError",
     "evalue": "invalid syntax (<ipython-input-75-248d4a1bb5fc>, line 1)",
     "output_type": "error",
     "traceback": [
      "\u001b[1;36m  File \u001b[1;32m\"<ipython-input-75-248d4a1bb5fc>\"\u001b[1;36m, line \u001b[1;32m1\u001b[0m\n\u001b[1;33m    print('\"안녕' 이라고 말합니다.')\u001b[0m\n\u001b[1;37m                ^\u001b[0m\n\u001b[1;31mSyntaxError\u001b[0m\u001b[1;31m:\u001b[0m invalid syntax\n"
     ]
    }
   ],
   "source": [
    "print('\"안녕' 이라고 말합니다.') # 짝이 맞아야한다"
   ]
  },
  {
   "cell_type": "code",
   "execution_count": 76,
   "id": "89f596a6-8c3c-4420-a5a8-9830f5b024fb",
   "metadata": {},
   "outputs": [
    {
     "name": "stdout",
     "output_type": "stream",
     "text": [
      "\"안녕\" 이라고 말합니다.\n"
     ]
    }
   ],
   "source": [
    "# 이스케이프 문자열 사용\n",
    "print(\"\\\"안녕\\\" 이라고 말합니다.\")"
   ]
  },
  {
   "cell_type": "code",
   "execution_count": 78,
   "id": "91dbf5ed-37d9-4385-a0e2-eb7f54a2fdf2",
   "metadata": {},
   "outputs": [
    {
     "name": "stdout",
     "output_type": "stream",
     "text": [
      "'안녕' 이라고 말합니다.\n"
     ]
    }
   ],
   "source": [
    "# 이스케이프 문자열 사용\n",
    "print('\\'안녕\\' 이라고 말합니다.')"
   ]
  },
  {
   "cell_type": "code",
   "execution_count": 79,
   "id": "e8cda027-4049-4700-ba6a-395121fbc9c3",
   "metadata": {},
   "outputs": [
    {
     "data": {
      "text/plain": [
       "5"
      ]
     },
     "execution_count": 79,
     "metadata": {},
     "output_type": "execute_result"
    }
   ],
   "source": [
    "# 문자열 검색\n",
    "a='\\'안녕\\' 이라고 말합니다.'\n",
    "a.find('이')"
   ]
  },
  {
   "cell_type": "code",
   "execution_count": 80,
   "id": "12533bf6-0da1-4c4e-908b-2aee61b42b51",
   "metadata": {},
   "outputs": [
    {
     "data": {
      "text/plain": [
       "-1"
      ]
     },
     "execution_count": 80,
     "metadata": {},
     "output_type": "execute_result"
    }
   ],
   "source": [
    "# 없으면 -1\n",
    "a='\\'안녕\\' 이라고 말합니다.'\n",
    "a.find('학')"
   ]
  },
  {
   "cell_type": "code",
   "execution_count": 86,
   "id": "2fa9c570-9f16-45b4-add4-e90a931ee1b2",
   "metadata": {},
   "outputs": [
    {
     "name": "stdout",
     "output_type": "stream",
     "text": [
      "['한국:서울', '일본:도쿄', '미국:뉴욕', '중국:베이징']\n",
      "['한국', '서울']\n",
      "['일본', '도쿄']\n",
      "['미국', '뉴욕']\n",
      "['중국', '베이징']\n"
     ]
    }
   ],
   "source": [
    "a='한국:서울 일본:도쿄 미국:뉴욕 중국:베이징'\n",
    "b=a.split() # 기준 문자열이 없으면 띄어쓰기 기반으로 분해\n",
    "print(b)\n",
    "city={}\n",
    "for bb in b:\n",
    "    cc=bb.split(':')  # 특정 문자열 기반으로 분해\n",
    "    city[cc[0]]=cc[1]\n",
    "    print(cc)"
   ]
  },
  {
   "cell_type": "code",
   "execution_count": 87,
   "id": "78989ffc-480b-40a4-ae8a-a911db4f93a6",
   "metadata": {},
   "outputs": [
    {
     "data": {
      "text/plain": [
       "{'한국': '서울', '일본': '도쿄', '미국': '뉴욕', '중국': '베이징'}"
      ]
     },
     "execution_count": 87,
     "metadata": {},
     "output_type": "execute_result"
    }
   ],
   "source": [
    "city"
   ]
  },
  {
   "cell_type": "code",
   "execution_count": 88,
   "id": "280a4bbc-6e3b-4a88-869c-ee8219b2ac67",
   "metadata": {},
   "outputs": [
    {
     "name": "stdout",
     "output_type": "stream",
     "text": [
      "   안녕 ~      안녕 ~      안녕 ~   \n"
     ]
    }
   ],
   "source": [
    "# strip 빈칸제거\n",
    "a='   안녕 ~   '\n",
    "print(a*3)"
   ]
  },
  {
   "cell_type": "code",
   "execution_count": 89,
   "id": "73a48da6-be43-43ff-8dff-07570c7883dd",
   "metadata": {},
   "outputs": [
    {
     "name": "stdout",
     "output_type": "stream",
     "text": [
      "안녕 ~안녕 ~안녕 ~\n"
     ]
    }
   ],
   "source": [
    "# 좌우측 공백제거\n",
    "print(a.strip()*3)"
   ]
  },
  {
   "cell_type": "code",
   "execution_count": 90,
   "id": "c670cb05-1b7d-423f-94db-00da80433f77",
   "metadata": {},
   "outputs": [
    {
     "name": "stdout",
     "output_type": "stream",
     "text": [
      "안녕 ~   안녕 ~   안녕 ~   \n"
     ]
    }
   ],
   "source": [
    "# 좌측 공백 제거\n",
    "print(a.lstrip()*3)"
   ]
  },
  {
   "cell_type": "code",
   "execution_count": 91,
   "id": "d2c10eb4-606a-4002-9fcd-1d64cffbdf18",
   "metadata": {},
   "outputs": [
    {
     "name": "stdout",
     "output_type": "stream",
     "text": [
      "   안녕 ~   안녕 ~   안녕 ~\n"
     ]
    }
   ],
   "source": [
    "# 우측 공백 제거\n",
    "print(a.rstrip()*3)"
   ]
  },
  {
   "cell_type": "code",
   "execution_count": 94,
   "id": "2b47baaf-9762-487d-91a7-548f28e43dbe",
   "metadata": {},
   "outputs": [
    {
     "name": "stdout",
     "output_type": "stream",
     "text": [
      " 123 00 45 0 67 \n"
     ]
    }
   ],
   "source": [
    "a='000 123 00 45 0 67 000'\n",
    "print(a.strip('0')) # 좌우 특정문자  제거"
   ]
  },
  {
   "cell_type": "code",
   "execution_count": 95,
   "id": "f3320834-2291-412f-b5ea-33b8686dbe02",
   "metadata": {},
   "outputs": [
    {
     "name": "stdout",
     "output_type": "stream",
     "text": [
      " 123 00 45 0 67 000\n"
     ]
    }
   ],
   "source": [
    "print(a.lstrip('0')) # 좌 특정문자  제거"
   ]
  },
  {
   "cell_type": "code",
   "execution_count": 96,
   "id": "000a6643-df12-49bf-a369-b699d40dd466",
   "metadata": {},
   "outputs": [
    {
     "name": "stdout",
     "output_type": "stream",
     "text": [
      "000 123 00 45 0 67 \n"
     ]
    }
   ],
   "source": [
    "print(a.rstrip('0')) # 우 특정문자  제거"
   ]
  },
  {
   "cell_type": "code",
   "execution_count": 99,
   "id": "23122b92-5a1b-457f-aae0-a629dbfea7e4",
   "metadata": {},
   "outputs": [
    {
     "name": "stdout",
     "output_type": "stream",
     "text": [
      "23 00 45 0 6\n"
     ]
    }
   ],
   "source": [
    "print(a.strip('0 17')) # 좌우 특정문자들  제거"
   ]
  },
  {
   "cell_type": "code",
   "execution_count": 100,
   "id": "ca9a92f6-6e7e-410b-8dfb-f041c63b1cff",
   "metadata": {},
   "outputs": [
    {
     "name": "stdout",
     "output_type": "stream",
     "text": [
      "23 00 45 0 67 000\n"
     ]
    }
   ],
   "source": [
    "print(a.lstrip('0 17')) # 좌 특정문자들  제거"
   ]
  },
  {
   "cell_type": "code",
   "execution_count": 101,
   "id": "0c1c172a-0017-4ed6-affa-8e94bf588923",
   "metadata": {},
   "outputs": [
    {
     "name": "stdout",
     "output_type": "stream",
     "text": [
      "000 123 00 45 0 6\n"
     ]
    }
   ],
   "source": [
    "print(a.rstrip('0 17')) # 우 특정문자들  제거"
   ]
  },
  {
   "cell_type": "code",
   "execution_count": 104,
   "id": "fbac9103-faf6-4f47-8ec9-28d07a380945",
   "metadata": {},
   "outputs": [
    {
     "data": {
      "text/plain": [
       "' 123  45  67 '"
      ]
     },
     "execution_count": 104,
     "metadata": {},
     "output_type": "execute_result"
    }
   ],
   "source": [
    "# 문자열 치환 replace\n",
    "a.replace('0','')"
   ]
  },
  {
   "cell_type": "code",
   "execution_count": 105,
   "id": "ecaab713-c126-4368-b60f-27b0a54f6a63",
   "metadata": {},
   "outputs": [
    {
     "data": {
      "text/plain": [
       "'00123 045 67 000'"
      ]
     },
     "execution_count": 105,
     "metadata": {},
     "output_type": "execute_result"
    }
   ],
   "source": [
    "a.replace('0 ','')# strip 처럼 일일이 바꾸지 않고 덩어리로 바꿈"
   ]
  },
  {
   "cell_type": "code",
   "execution_count": 106,
   "id": "574de608-3ef4-41cf-a2a4-c9775eeec94c",
   "metadata": {},
   "outputs": [
    {
     "data": {
      "text/plain": [
       "'HELLO WORLD'"
      ]
     },
     "execution_count": 106,
     "metadata": {},
     "output_type": "execute_result"
    }
   ],
   "source": [
    "# 대문자로 바꾸기\n",
    "a='Hello World'\n",
    "a.upper()"
   ]
  },
  {
   "cell_type": "code",
   "execution_count": 107,
   "id": "d05285f1-a95f-4952-9222-6a0db317e168",
   "metadata": {},
   "outputs": [
    {
     "data": {
      "text/plain": [
       "'hello world'"
      ]
     },
     "execution_count": 107,
     "metadata": {},
     "output_type": "execute_result"
    }
   ],
   "source": [
    "# 소문자로 바꾸기\n",
    "a='Hello World'\n",
    "a.lower()"
   ]
  },
  {
   "cell_type": "code",
   "execution_count": 109,
   "id": "0e594db1-bb85-4f3f-8cba-d8b6d2ae6c20",
   "metadata": {},
   "outputs": [
    {
     "name": "stdin",
     "output_type": "stream",
     "text": [
      " 123\n"
     ]
    },
    {
     "name": "stdout",
     "output_type": "stream",
     "text": [
      "3\n"
     ]
    }
   ],
   "source": [
    "# 문자열 입력받기\n",
    "x=input()\n",
    "print(len(x))"
   ]
  },
  {
   "cell_type": "code",
   "execution_count": 110,
   "id": "07baab82-eddb-484e-91f7-c6bcd3d4d94a",
   "metadata": {},
   "outputs": [
    {
     "data": {
      "text/plain": [
       "True"
      ]
     },
     "execution_count": 110,
     "metadata": {},
     "output_type": "execute_result"
    }
   ],
   "source": [
    "# 문자열 포함여부 in\n",
    "'녕' in '안녕하세요'"
   ]
  },
  {
   "cell_type": "code",
   "execution_count": 113,
   "id": "866d3594-67e5-4926-8c7a-d20a9717037f",
   "metadata": {},
   "outputs": [
    {
     "data": {
      "text/plain": [
       "False"
      ]
     },
     "execution_count": 113,
     "metadata": {},
     "output_type": "execute_result"
    }
   ],
   "source": [
    "# 리스트 포함 여부\n",
    "9 in [1,2,3,]"
   ]
  },
  {
   "cell_type": "code",
   "execution_count": 114,
   "id": "a67ac384-04e5-4187-ae4d-aee32aca05ab",
   "metadata": {},
   "outputs": [
    {
     "data": {
      "text/plain": [
       "False"
      ]
     },
     "execution_count": 114,
     "metadata": {},
     "output_type": "execute_result"
    }
   ],
   "source": [
    "'학' in '안녕하세요'"
   ]
  },
  {
   "cell_type": "code",
   "execution_count": 115,
   "id": "01bc0db8-6830-4dad-9aff-89eb6347b3b7",
   "metadata": {},
   "outputs": [
    {
     "data": {
      "text/plain": [
       "True"
      ]
     },
     "execution_count": 115,
     "metadata": {},
     "output_type": "execute_result"
    }
   ],
   "source": [
    "'안녕하세요'.find('녕')>=0"
   ]
  },
  {
   "cell_type": "code",
   "execution_count": 116,
   "id": "fb428e55-acdd-4edf-ab21-b4471551e2d3",
   "metadata": {
    "collapsed": true,
    "jupyter": {
     "outputs_hidden": true
    },
    "tags": []
   },
   "outputs": [
    {
     "ename": "TypeError",
     "evalue": "can only concatenate str (not \"int\") to str",
     "output_type": "error",
     "traceback": [
      "\u001b[1;31m---------------------------------------------------------------------------\u001b[0m",
      "\u001b[1;31mTypeError\u001b[0m                                 Traceback (most recent call last)",
      "\u001b[1;32m<ipython-input-116-af6be933817d>\u001b[0m in \u001b[0;36m<module>\u001b[1;34m\u001b[0m\n\u001b[0;32m      2\u001b[0m \u001b[0ma\u001b[0m\u001b[1;33m=\u001b[0m\u001b[1;34m'1'\u001b[0m\u001b[1;33m\u001b[0m\u001b[1;33m\u001b[0m\u001b[0m\n\u001b[0;32m      3\u001b[0m \u001b[0mb\u001b[0m\u001b[1;33m=\u001b[0m\u001b[1;36m2\u001b[0m\u001b[1;33m\u001b[0m\u001b[1;33m\u001b[0m\u001b[0m\n\u001b[1;32m----> 4\u001b[1;33m \u001b[0ma\u001b[0m\u001b[1;33m+\u001b[0m\u001b[0mb\u001b[0m\u001b[1;33m\u001b[0m\u001b[1;33m\u001b[0m\u001b[0m\n\u001b[0m",
      "\u001b[1;31mTypeError\u001b[0m: can only concatenate str (not \"int\") to str"
     ]
    }
   ],
   "source": [
    "# 형변환\n",
    "a='1'\n",
    "b=2\n",
    "a+b # 다른 형끼리 연산 불가"
   ]
  },
  {
   "cell_type": "code",
   "execution_count": 118,
   "id": "d222c914-9303-4618-ad57-94ed8edfc452",
   "metadata": {},
   "outputs": [
    {
     "data": {
      "text/plain": [
       "3"
      ]
     },
     "execution_count": 118,
     "metadata": {},
     "output_type": "execute_result"
    }
   ],
   "source": [
    "# 문자열을 정수변환\n",
    "int(a)+b"
   ]
  },
  {
   "cell_type": "code",
   "execution_count": 119,
   "id": "bbe222be-af31-425f-8af8-0bf56402e2a7",
   "metadata": {},
   "outputs": [
    {
     "data": {
      "text/plain": [
       "'12'"
      ]
     },
     "execution_count": 119,
     "metadata": {},
     "output_type": "execute_result"
    }
   ],
   "source": [
    "a+str(b)"
   ]
  },
  {
   "cell_type": "code",
   "execution_count": 120,
   "id": "376f2d7d-ca2f-48d4-94a6-86549adbac83",
   "metadata": {},
   "outputs": [
    {
     "name": "stdout",
     "output_type": "stream",
     "text": [
      "안녕하세요\n"
     ]
    }
   ],
   "source": [
    "a='안녕하세요'\n",
    "print(a)"
   ]
  },
  {
   "cell_type": "code",
   "execution_count": 121,
   "id": "3b3725f2-f9cf-4422-b318-b659d23ff867",
   "metadata": {},
   "outputs": [
    {
     "data": {
      "text/plain": [
       "['안', '녕', '하', '세', '요']"
      ]
     },
     "execution_count": 121,
     "metadata": {},
     "output_type": "execute_result"
    }
   ],
   "source": [
    "# 문자열의 리스트화\n",
    "list(a)"
   ]
  },
  {
   "cell_type": "code",
   "execution_count": 125,
   "id": "992265cb-ad2c-4c8e-bc5a-e8076272f994",
   "metadata": {},
   "outputs": [
    {
     "data": {
      "text/plain": [
       "'안|녕|하|세|요|'"
      ]
     },
     "execution_count": 125,
     "metadata": {},
     "output_type": "execute_result"
    }
   ],
   "source": [
    "a='안녕하세요'\n",
    "res=''\n",
    "for i in a:\n",
    "    res=res+i+'|'\n",
    "res"
   ]
  },
  {
   "cell_type": "code",
   "execution_count": 126,
   "id": "b645beb6-0274-4edf-a042-f7b5b742a504",
   "metadata": {},
   "outputs": [
    {
     "data": {
      "text/plain": [
       "'안|녕|하|세|요'"
      ]
     },
     "execution_count": 126,
     "metadata": {},
     "output_type": "execute_result"
    }
   ],
   "source": [
    "# 리스트의 문자열화\n",
    "la=list(a)\n",
    "'|'.join(la)"
   ]
  },
  {
   "cell_type": "code",
   "execution_count": 1,
   "id": "bda29606-4e0b-4cd1-a567-4448a137e488",
   "metadata": {},
   "outputs": [
    {
     "data": {
      "text/plain": [
       "306"
      ]
     },
     "execution_count": 1,
     "metadata": {},
     "output_type": "execute_result"
    }
   ],
   "source": [
    "# 애국가에서 (~절) (후렴) 제거하고 중복해서 나오는 단어와 \n",
    "# 중복횟수를 딕셔너리로 만들어서 많이 나온 순서대로 정렬하시오\n",
    "sing=\"\"\"\n",
    "(1절)\n",
    "동해물과 백두산이 마르고 닳도록\n",
    "하느님이 보우하사 우리나라만세\n",
    "(후렴)무궁화 삼천리 화려강산 대한사람 대한으로 길이 보전하세\n",
    "\n",
    "(2절)\n",
    "남산위에 저 소나무 철갑을 두른듯\n",
    "바람서리 불변함은 우리기상 일세\n",
    "(후렴)무궁화 삼천리 화려강산 대한사람 대한으로 길이보전하세\n",
    "\n",
    "(3절)\n",
    "가을하늘 공활한데 높고 구름없이 \n",
    "밝은달은 우리가슴 일편단심일세\n",
    "(후렴)무궁화 삼천리 화려강산 대한사람 대한으로 길이보전하세\n",
    "\n",
    "(4절)\n",
    "이 기상과 이 맘으로 충성을 다하여\n",
    "괴로우나 즐거우나 나라사랑하세\n",
    "(후렴)무궁화 삼천리 화려강산 대한사람 대한으로 길이보전하세\n",
    "\"\"\"\n",
    "len(sing)"
   ]
  },
  {
   "cell_type": "markdown",
   "id": "bc00c5fe-1a6c-4ecb-a45f-6e9f80e876aa",
   "metadata": {},
   "source": [
    "* 말의 단위\n",
    "    * 음운<음절≦형태소≦단어≦어절<문장\n",
    "    * 음운 : 말의 뜻을 구별해 주는 소리의 가장 작은 단위\n",
    "    * 음절 : 한 번에 발음할 수 있는 말소리의 가장 작은 단위\n",
    "    * 형태소 : 뜻을 가진 가장 작은 말의 단위\n",
    "    * 단어 :  문장 안에서 홀로 쓰일 수 있는 말 또는 그 말 뒤에 붙어 쓰이지만 쉽게 분리되는 말\n",
    "    * 어절 : 문장 성분의 최소 단위\n",
    "    * 문장 : 생각이나 감정을 완결된 내용으로 표현하는 최소 단위"
   ]
  },
  {
   "cell_type": "code",
   "execution_count": 24,
   "id": "42176562-d097-49d7-b617-8bdfc6e248c4",
   "metadata": {},
   "outputs": [],
   "source": [
    "src=sing.strip()"
   ]
  },
  {
   "cell_type": "code",
   "execution_count": 25,
   "id": "b3fabba2-3f90-4ba3-a8b9-c7d4e2bdcf2f",
   "metadata": {
    "collapsed": true,
    "jupyter": {
     "outputs_hidden": true
    },
    "tags": []
   },
   "outputs": [
    {
     "name": "stdout",
     "output_type": "stream",
     "text": [
      "동해 물과 백두 산이 마르고 닳도록 하느님이 보우하사 우리 나라 만세  무궁화 삼천리 화려 강산 대한 사람 대한 으로 길이  보전 하세   남산 위에 저 소나무 철갑을 두른듯 바람 서리  불변함은 우리 기상  일세 무궁화 삼천리 화려 강산 대한 사람 대한 으로 길이 보전 하세   가을 하늘 공활 한데 높고 구름 없이  밝은 달은 우리 가슴  일편 단심 일세 무궁화 삼천리 화려 강산 대한 사람 대한 으로 길이 보전 하세   이 기상 과 이 맘으로 충성을 다하여 괴로우나 즐거우나 나라 사랑 하세 무궁화 삼천리 화려 강산 대한 사람 대한 으로 길이 보전 하세\n"
     ]
    }
   ],
   "source": [
    "src=src.replace('(후렴)','')\n",
    "for i in range(1,5):\n",
    "    src=src.replace('('+str(i)+'절)','')\n",
    "src=src.replace('\\n',' ').strip()\n",
    "wordlist=['동해','백두','우리','나라','만세','화려','길이'\n",
    "         ,'대한','남산','바람','서리','기상','가을','보전'\n",
    "         ,'공활','구름','밝은','가슴','일편','단심','사랑']\n",
    "for w in wordlist:\n",
    "    src=src.replace(w, w+' ')\n",
    "    \n",
    "print(src)\n",
    "slist=src.split()"
   ]
  },
  {
   "cell_type": "code",
   "execution_count": 21,
   "id": "5fe761f5-7123-48f5-8b73-b9861d62d8c3",
   "metadata": {
    "collapsed": true,
    "jupyter": {
     "outputs_hidden": true,
     "source_hidden": true
    },
    "tags": []
   },
   "outputs": [
    {
     "name": "stdout",
     "output_type": "stream",
     "text": [
      "dict_keys(['한국', '일본']) dict_values(['서울', '도쿄'])\n"
     ]
    },
    {
     "data": {
      "text/plain": [
       "True"
      ]
     },
     "execution_count": 21,
     "metadata": {},
     "output_type": "execute_result"
    }
   ],
   "source": [
    "d={'한국': '서울','일본':'도쿄'}\n",
    "print(d.keys(),d.values())\n",
    "'한국' in d"
   ]
  },
  {
   "cell_type": "code",
   "execution_count": 29,
   "id": "a7c309c4-fdb7-49cc-8a89-e1288be11e4f",
   "metadata": {},
   "outputs": [
    {
     "data": {
      "text/plain": [
       "{'동해': 1,\n",
       " '물과': 1,\n",
       " '백두': 1,\n",
       " '산이': 1,\n",
       " '마르고': 1,\n",
       " '닳도록': 1,\n",
       " '하느님이': 1,\n",
       " '보우하사': 1,\n",
       " '우리': 3,\n",
       " '나라': 2,\n",
       " '만세': 1,\n",
       " '무궁화': 4,\n",
       " '삼천리': 4,\n",
       " '화려': 4,\n",
       " '강산': 4,\n",
       " '대한': 8,\n",
       " '사람': 4,\n",
       " '으로': 4,\n",
       " '길이': 4,\n",
       " '보전': 4,\n",
       " '하세': 5,\n",
       " '남산': 1,\n",
       " '위에': 1,\n",
       " '저': 1,\n",
       " '소나무': 1,\n",
       " '철갑을': 1,\n",
       " '두른듯': 1,\n",
       " '바람': 1,\n",
       " '서리': 1,\n",
       " '불변함은': 1,\n",
       " '기상': 2,\n",
       " '일세': 2,\n",
       " '가을': 1,\n",
       " '하늘': 1,\n",
       " '공활': 1,\n",
       " '한데': 1,\n",
       " '높고': 1,\n",
       " '구름': 1,\n",
       " '없이': 1,\n",
       " '밝은': 1,\n",
       " '달은': 1,\n",
       " '가슴': 1,\n",
       " '일편': 1,\n",
       " '단심': 1,\n",
       " '이': 2,\n",
       " '과': 1,\n",
       " '맘으로': 1,\n",
       " '충성을': 1,\n",
       " '다하여': 1,\n",
       " '괴로우나': 1,\n",
       " '즐거우나': 1,\n",
       " '사랑': 1}"
      ]
     },
     "execution_count": 29,
     "metadata": {},
     "output_type": "execute_result"
    }
   ],
   "source": [
    "# tts text to speech \n",
    "res={}\n",
    "for s in slist:\n",
    "    if s in res:\n",
    "        res[s]+=1\n",
    "    else:\n",
    "        res[s]=1\n",
    "res"
   ]
  },
  {
   "cell_type": "code",
   "execution_count": 40,
   "id": "f563d633-bcdb-4034-a75f-850602ebf654",
   "metadata": {
    "collapsed": true,
    "jupyter": {
     "outputs_hidden": true
    },
    "tags": []
   },
   "outputs": [
    {
     "data": {
      "text/plain": [
       "{'우리': 3,\n",
       " '나라': 2,\n",
       " '무궁화': 4,\n",
       " '삼천리': 4,\n",
       " '화려': 4,\n",
       " '강산': 4,\n",
       " '대한': 8,\n",
       " '사람': 4,\n",
       " '으로': 4,\n",
       " '길이': 4,\n",
       " '보전': 4,\n",
       " '하세': 5,\n",
       " '기상': 2,\n",
       " '일세': 2,\n",
       " '이': 2}"
      ]
     },
     "execution_count": 40,
     "metadata": {},
     "output_type": "execute_result"
    }
   ],
   "source": [
    "# res sort 비중복제거\n",
    "fres={}\n",
    "for k,v in res.items():\n",
    "    if(v>1):\n",
    "        fres[k]=v\n",
    "fres"
   ]
  },
  {
   "cell_type": "code",
   "execution_count": 44,
   "id": "da3fbee6-4b6f-4f59-a1ed-598bf2dca801",
   "metadata": {},
   "outputs": [
    {
     "name": "stdout",
     "output_type": "stream",
     "text": [
      "['우리', '나라', '무궁화', '삼천리', '화려', '강산', '대한', '사람', '으로', '길이', '보전', '하세', '기상', '일세', '이'] [3, 2, 4, 4, 4, 4, 8, 4, 4, 4, 4, 5, 2, 2, 2]\n"
     ]
    }
   ],
   "source": []
  },
  {
   "cell_type": "code",
   "execution_count": 47,
   "id": "9bb9da43-a48b-41ec-a088-206ca95ac572",
   "metadata": {},
   "outputs": [
    {
     "name": "stdout",
     "output_type": "stream",
     "text": [
      "대한\n"
     ]
    },
    {
     "data": {
      "text/plain": [
       "({}, {})"
      ]
     },
     "execution_count": 47,
     "metadata": {},
     "output_type": "execute_result"
    }
   ],
   "source": [
    "def selectMax(fres={},sortd={}):\n",
    "    fv=list(fres.values())\n",
    "    fk=list(fres.keys())\n",
    "    #print(fk,fv)\n",
    "    mx=max(fv)\n",
    "    i=0\n",
    "    otherd={}\n",
    "    for v in fv:\n",
    "        if mx==v:\n",
    "            print(fk[i])\n",
    "            sortd[fk[i]]=v\n",
    "        else:\n",
    "            otherd[fk[i]]=v\n",
    "        i+=1\n",
    "    return (sortd,otherd)\n",
    "selectMax(fres)"
   ]
  },
  {
   "cell_type": "code",
   "execution_count": null,
   "id": "4d73b8ef-4b47-4f66-807f-0605a3d1ed55",
   "metadata": {},
   "outputs": [],
   "source": []
  }
 ],
 "metadata": {
  "kernelspec": {
   "display_name": "Python 3",
   "language": "python",
   "name": "python3"
  },
  "language_info": {
   "codemirror_mode": {
    "name": "ipython",
    "version": 3
   },
   "file_extension": ".py",
   "mimetype": "text/x-python",
   "name": "python",
   "nbconvert_exporter": "python",
   "pygments_lexer": "ipython3",
   "version": "3.8.8"
  }
 },
 "nbformat": 4,
 "nbformat_minor": 5
}
