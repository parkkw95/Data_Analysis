{
 "cells": [
  {
   "cell_type": "markdown",
   "id": "5722ae40-4767-453a-acfb-ddf28f109ec1",
   "metadata": {},
   "source": [
    "# 모듈과 클래스\n",
    "* 개요\n",
    "    * 객체 지향성  기능(function) 구별을 위한 블럭\n",
    "    * .(점) 연산자를 통해 하위 요소로 접근\n",
    "    * 장점: \n",
    "        - 구조적 프로그래밍 가능\n",
    "        - 유지 보수가 용이\n",
    "        - 가독성이 높고\n",
    "    \n",
    "* 모듈\n",
    "    * 파일 구조 기반의 객체\n",
    "    \n",
    "* 클래스\n",
    "    * class 기반의 객체\n"
   ]
  },
  {
   "cell_type": "code",
   "execution_count": null,
   "id": "844e8868-369b-495c-87b3-6d2e6ced0fd4",
   "metadata": {},
   "outputs": [],
   "source": []
  }
 ],
 "metadata": {
  "kernelspec": {
   "display_name": "Python 3",
   "language": "python",
   "name": "python3"
  },
  "language_info": {
   "codemirror_mode": {
    "name": "ipython",
    "version": 3
   },
   "file_extension": ".py",
   "mimetype": "text/x-python",
   "name": "python",
   "nbconvert_exporter": "python",
   "pygments_lexer": "ipython3",
   "version": "3.8.8"
  }
 },
 "nbformat": 4,
 "nbformat_minor": 5
}
