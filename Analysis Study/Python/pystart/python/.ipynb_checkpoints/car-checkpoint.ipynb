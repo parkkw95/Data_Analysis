{
 "cells": [
  {
   "cell_type": "code",
   "execution_count": 12,
   "id": "2ac02b65-f7fe-4db9-b49b-359bc7597e2c",
   "metadata": {},
   "outputs": [],
   "source": [
    "# 모듈연습\n",
    "# 폴더명을 하나의 객체로 활용 가능\n",
    "# 모듈을 전체 이름으로 불러오기\n",
    "import sedan.light "
   ]
  },
  {
   "cell_type": "code",
   "execution_count": 13,
   "id": "e03ca54d-a372-4ba9-ac5b-26a91fd34880",
   "metadata": {},
   "outputs": [
    {
     "name": "stdout",
     "output_type": "stream",
     "text": [
      "세단 라이트 갯수는? 2\n"
     ]
    }
   ],
   "source": [
    "# 직접 호출하기\n",
    "print('세단 라이트 갯수는?',sedan.light.lno)"
   ]
  },
  {
   "cell_type": "code",
   "execution_count": 14,
   "id": "8ecacf03-4a46-49c9-8771-e9e58c6fc2e0",
   "metadata": {},
   "outputs": [
    {
     "name": "stdout",
     "output_type": "stream",
     "text": [
      "라이트가 켜졌습니다.\n"
     ]
    }
   ],
   "source": [
    "sedan.light.poweron()"
   ]
  },
  {
   "cell_type": "code",
   "execution_count": 32,
   "id": "aac56743-c9e4-4264-a5ad-1a8c1e275879",
   "metadata": {},
   "outputs": [
    {
     "name": "stdout",
     "output_type": "stream",
     "text": [
      "라이트가 켜졌습니다.\n"
     ]
    }
   ],
   "source": [
    "# 모듈의 일부 불러오기 from~ import \n",
    "from sedan import light \n",
    "light.poweron()"
   ]
  },
  {
   "cell_type": "code",
   "execution_count": 33,
   "id": "b01c2d8c-382e-4f9b-ace2-531165ca18ec",
   "metadata": {},
   "outputs": [],
   "source": [
    "# 라이브러리 불러오기\n",
    "# as 다른명칭으로 부르기\n",
    "import truck.light as l1"
   ]
  },
  {
   "cell_type": "code",
   "execution_count": 16,
   "id": "9c04671a-45f5-4883-ad75-2fb7fc0a0654",
   "metadata": {},
   "outputs": [
    {
     "name": "stdout",
     "output_type": "stream",
     "text": [
      "트럭의 라이트 갯수는? 4\n"
     ]
    }
   ],
   "source": [
    "print('트럭의 라이트 갯수는?',l1.lno)"
   ]
  },
  {
   "cell_type": "code",
   "execution_count": 17,
   "id": "b340d6b3-7cbe-4b15-b6d0-88b702c9dbe7",
   "metadata": {},
   "outputs": [
    {
     "name": "stdout",
     "output_type": "stream",
     "text": [
      " 상단 라이트가 켜졌습니다.\n"
     ]
    }
   ],
   "source": [
    "l1.poweron()"
   ]
  },
  {
   "cell_type": "code",
   "execution_count": 19,
   "id": "415eb5d8-d594-426a-87a7-8f6f80beef9f",
   "metadata": {},
   "outputs": [],
   "source": [
    "import ecar"
   ]
  },
  {
   "cell_type": "code",
   "execution_count": 24,
   "id": "4f77215c-b048-4710-98b6-23d87e68adcf",
   "metadata": {},
   "outputs": [],
   "source": [
    "tm1=ecar.Tesla('모델1') # 클래스 기반 객체 생성"
   ]
  },
  {
   "cell_type": "code",
   "execution_count": 25,
   "id": "da76ba13-b7d5-4713-b96f-2c06bf7a7760",
   "metadata": {},
   "outputs": [
    {
     "data": {
      "text/plain": [
       "'모델1'"
      ]
     },
     "execution_count": 25,
     "metadata": {},
     "output_type": "execute_result"
    }
   ],
   "source": [
    "tm1.model"
   ]
  },
  {
   "cell_type": "code",
   "execution_count": 26,
   "id": "b5d8af3f-6d8c-4d75-aabb-5c5b385a4cb6",
   "metadata": {},
   "outputs": [],
   "source": [
    "tm2=ecar.Tesla('모델2') # 클래스 기반 객체 모델2"
   ]
  },
  {
   "cell_type": "code",
   "execution_count": 27,
   "id": "2a218f28-3caa-4d31-9f84-46ec4f4de338",
   "metadata": {},
   "outputs": [
    {
     "data": {
      "text/plain": [
       "'모델2'"
      ]
     },
     "execution_count": 27,
     "metadata": {},
     "output_type": "execute_result"
    }
   ],
   "source": [
    "tm2.model"
   ]
  },
  {
   "cell_type": "code",
   "execution_count": 29,
   "id": "affee5ae-7b2e-4b6c-af29-e191575761b8",
   "metadata": {},
   "outputs": [
    {
     "name": "stdout",
     "output_type": "stream",
     "text": [
      "모델1의 라이트가 켜졌습니다.\n",
      "모델2의 라이트가 켜졌습니다.\n"
     ]
    }
   ],
   "source": [
    "tm1.poweron()\n",
    "tm2.poweron()"
   ]
  },
  {
   "cell_type": "code",
   "execution_count": null,
   "id": "781fd26f-2277-403a-8884-44e99970d335",
   "metadata": {},
   "outputs": [],
   "source": []
  }
 ],
 "metadata": {
  "kernelspec": {
   "display_name": "Python 3",
   "language": "python",
   "name": "python3"
  },
  "language_info": {
   "codemirror_mode": {
    "name": "ipython",
    "version": 3
   },
   "file_extension": ".py",
   "mimetype": "text/x-python",
   "name": "python",
   "nbconvert_exporter": "python",
   "pygments_lexer": "ipython3",
   "version": "3.8.8"
  }
 },
 "nbformat": 4,
 "nbformat_minor": 5
}
