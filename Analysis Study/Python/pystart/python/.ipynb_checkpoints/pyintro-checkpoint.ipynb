{
 "cells": [
  {
   "cell_type": "markdown",
   "id": "23dc11b2-7925-4a30-8c60-570d856340ed",
   "metadata": {},
   "source": [
    "# 파이썬 기초\n",
    "* 특징    \n",
    "    * 고급 프로그래밍 언어( 사람이 사용하는 언어와 유사)\n",
    "    * 플랫폼에 독립적( 윈도우 맥 리눅스 다 사용가능)\n",
    "    * 인터프리터식 ( 매 명령어를 즉시 실행 처리 결과를 반환)\n",
    "    * 객체 지향적 (OOP: 사건(문제)을 하나의 대상으로 보는 관점의 프로그래밍) \n",
    "    * 동적 타이핑(dynamically typed) 대화형\n",
    "    * 알고리즘 집중 구현에 유리: 프로토 타입 제작에 유리\n",
    "* 프로그래밍 기초\n",
    "    * 코딩\n",
    "        - 알고리즘을 선정한 프로그래밍 언어의 명령으로 변환하여 작성\n",
    "        - 기본적으로 한 언어에서 다른 언어로 코드를 만드는 과정\n",
    "        - 프로그래밍의 초기 단계를 구현하는 데 사용되기 때문에 프로그래밍의 하위 집합\n",
    "    * 프로그래밍\n",
    "        - 컴퓨터에 부여하는 명령을 만드는 작업\n",
    "        - 실행 가능한 기계 또는 응용 프로그램을 개발하는 과정\n",
    "        - 코드 작성, 분석 및 구현, 기계 레벨 출력 생성, 디버깅, 컴파일, 테스트 및 구현을 포함\n",
    "        - 아키텍쳐 설계( SE 소프트웨어 엔지니어링 )\n",
    "            - 업무 지식\n",
    "            - 업무 데이터에 대한 직관\n",
    "    * 프로그래밍 과정\n",
    "        - 문제 정의: 특정 문제를 해결하기 위한 프로그램의 요구를 인지한다.\n",
    "        - 기획: 프로그램을 기획 \n",
    "        - 환경구성: 개발 환경 (도구, 인력, 플랫폼과 프로그래밍 언어(파이썬)를 포함한)를 선택\n",
    "        \n",
    "        - 코딩: 프로그램 언어를 사용하여 프로그램을 제작한다.\n",
    "        \n",
    "        - 테스트: 테스트 등을 통하여 디버깅(업무 고도화) 과정 QC\n",
    "        - 공개: 일반 사용자에게 공개한 후, 지속적인 유지/보수를\n",
    "    *  프로그램이 하는일\n",
    "        - 메모리상에 데이터를 저장한다.  : 변수에 저장\n",
    "        - 메모리상에 데이터를 꺼내서 시키는 대로 작업한다 : 변수 -> 함수, 연산, 변환 -> 결과\n",
    "        - 메모리 상의 데이터를 다시 저장한다  : 결과 -> 저장 ( DB)\n",
    "        - 메모리 상의 데이터를 출력해서 보여준다 : 프린트, SAVE"
   ]
  },
  {
   "cell_type": "markdown",
   "id": "ed56e08a-cdb5-411d-9106-ab0c85766485",
   "metadata": {},
   "source": [
    "# 변수 : 데이터를 담는 그릇 메모리상의 위치\n",
    "    * 데이터 형식\n",
    "        - 정수 : ... -2,-1,0,1,2...\n",
    "        - 실수 : 1.2,-2.3 ..\n",
    "        - 문자열: 'hello' '1' \"2\" \"안녕하세요\"\n",
    "    * 변수 규칙\n",
    "        - 알파뉴메릭: 알파벳(a~zA~Z  + 숫자(0~9) + _\n",
    "        - 시작은 숫자는 안된다\n",
    "        - 띄어쓰기 없음\n",
    "        - 대소문자 구별\n",
    "    * 변수 명명법:\n",
    "        - 변수의 가독성을 높이기 위한 표기법\n",
    "        - 내가 이해하기 편한 변수명을 사용한다\n",
    "        - 예\n",
    "            *  일반 변수a=13 \n",
    "            * 나이인 경우 age=13 \n",
    "            * 나의 나이인 경우 myAge=13 my_Age=13\n",
    "* 파이썬 문법 특징\n",
    "    - 한줄이 한 명령어\n",
    "    - 들여쓰기가 블럭\n",
    "\n",
    "* 파이썬 변수의 특징\n",
    "\n",
    "    - 변수 타입 구별 안함\n",
    "    - 다양한 변수 타입 \n",
    "        * 숫자(문자)형 변수\n",
    "        * 리스트\n",
    "        * 튜플\n",
    "        * 딕셔너리\n",
    "        * 집합"
   ]
  },
  {
   "cell_type": "code",
   "execution_count": 2,
   "id": "4531099d-25fa-4acf-9437-6b5094aedd77",
   "metadata": {},
   "outputs": [],
   "source": [
    "# 숫자형 변수\n",
    "a=1\n",
    "b=2"
   ]
  },
  {
   "cell_type": "code",
   "execution_count": 5,
   "id": "aa4f74eb-f6a1-44dd-91e7-ed2faa852b10",
   "metadata": {},
   "outputs": [
    {
     "name": "stdout",
     "output_type": "stream",
     "text": [
      "a에 들어있는 값은: 1\n"
     ]
    }
   ],
   "source": [
    "# 출력해라 포맷에 따른 출력 가능\n",
    "print('a에 들어있는 값은:',a)"
   ]
  },
  {
   "cell_type": "code",
   "execution_count": 7,
   "id": "fc76a8d7-b02f-4564-99d2-58c07a2f17ae",
   "metadata": {},
   "outputs": [
    {
     "data": {
      "text/plain": [
       "1"
      ]
     },
     "execution_count": 7,
     "metadata": {},
     "output_type": "execute_result"
    }
   ],
   "source": [
    "a"
   ]
  },
  {
   "cell_type": "code",
   "execution_count": 8,
   "id": "e4e42f59-a5aa-4600-b8b5-ee20cc27f14f",
   "metadata": {},
   "outputs": [
    {
     "data": {
      "text/plain": [
       "'a에 들어있는 값은:'"
      ]
     },
     "execution_count": 8,
     "metadata": {},
     "output_type": "execute_result"
    }
   ],
   "source": [
    "'a에 들어있는 값은:'"
   ]
  },
  {
   "cell_type": "code",
   "execution_count": 6,
   "id": "2a81fbf6-407b-4a17-9811-ee915db15e89",
   "metadata": {},
   "outputs": [
    {
     "ename": "SyntaxError",
     "evalue": "invalid syntax (<ipython-input-6-e1ae923c3276>, line 2)",
     "output_type": "error",
     "traceback": [
      "\u001b[1;36m  File \u001b[1;32m\"<ipython-input-6-e1ae923c3276>\"\u001b[1;36m, line \u001b[1;32m2\u001b[0m\n\u001b[1;33m    'a에 들어있는 값은:'a\u001b[0m\n\u001b[1;37m                 ^\u001b[0m\n\u001b[1;31mSyntaxError\u001b[0m\u001b[1;31m:\u001b[0m invalid syntax\n"
     ]
    }
   ],
   "source": [
    "# 변수정보 확인 (인터프리터 성격의 IDE  주피터...)\n",
    "'a에 들어있는 값은:'a"
   ]
  },
  {
   "cell_type": "code",
   "execution_count": 9,
   "id": "48e6bd3b-4a4c-4d8b-89de-4b161a122759",
   "metadata": {},
   "outputs": [
    {
     "data": {
      "text/plain": [
       "140733780404016"
      ]
     },
     "execution_count": 9,
     "metadata": {},
     "output_type": "execute_result"
    }
   ],
   "source": [
    "#메모리 어드레스 보기 : 변수는 메모리를 참조한다\n",
    "id(a)"
   ]
  },
  {
   "cell_type": "code",
   "execution_count": 10,
   "id": "4c9cf943-f2fc-484a-a707-b445f2c1d0c8",
   "metadata": {},
   "outputs": [
    {
     "data": {
      "text/plain": [
       "140733780404048"
      ]
     },
     "execution_count": 10,
     "metadata": {},
     "output_type": "execute_result"
    }
   ],
   "source": [
    "id(b)"
   ]
  },
  {
   "cell_type": "code",
   "execution_count": 11,
   "id": "4992a67e-d47e-4bcd-82fe-51e150ecc3d4",
   "metadata": {},
   "outputs": [
    {
     "data": {
      "text/plain": [
       "1"
      ]
     },
     "execution_count": 11,
     "metadata": {},
     "output_type": "execute_result"
    }
   ],
   "source": [
    "a"
   ]
  },
  {
   "cell_type": "code",
   "execution_count": 12,
   "id": "16cc1a03-6961-4919-82c0-b7eab9ed3686",
   "metadata": {},
   "outputs": [],
   "source": [
    "c=a"
   ]
  },
  {
   "cell_type": "code",
   "execution_count": 22,
   "id": "c6c9517e-87db-41bc-87ae-240c3e9581a9",
   "metadata": {},
   "outputs": [
    {
     "data": {
      "text/plain": [
       "140733780404016"
      ]
     },
     "execution_count": 22,
     "metadata": {},
     "output_type": "execute_result"
    }
   ],
   "source": [
    "id(c)"
   ]
  },
  {
   "cell_type": "code",
   "execution_count": 14,
   "id": "2b9f62f8-585e-46e5-8efe-32cadc0afdd0",
   "metadata": {},
   "outputs": [
    {
     "data": {
      "text/plain": [
       "1"
      ]
     },
     "execution_count": 14,
     "metadata": {},
     "output_type": "execute_result"
    }
   ],
   "source": [
    "c"
   ]
  },
  {
   "cell_type": "code",
   "execution_count": 17,
   "id": "147fcfa5-9aba-4c7d-94ec-b74271eeb2b1",
   "metadata": {},
   "outputs": [
    {
     "data": {
      "text/plain": [
       "3"
      ]
     },
     "execution_count": 17,
     "metadata": {},
     "output_type": "execute_result"
    }
   ],
   "source": [
    "a=3\n",
    "a"
   ]
  },
  {
   "cell_type": "code",
   "execution_count": 19,
   "id": "589e627c-0d91-463d-8698-f9acf2df622d",
   "metadata": {},
   "outputs": [
    {
     "data": {
      "text/plain": [
       "140733780404016"
      ]
     },
     "execution_count": 19,
     "metadata": {},
     "output_type": "execute_result"
    }
   ],
   "source": [
    "id(c)"
   ]
  },
  {
   "cell_type": "code",
   "execution_count": 20,
   "id": "e58bbdc0-8543-46b6-b199-22bdc0f852e1",
   "metadata": {},
   "outputs": [
    {
     "data": {
      "text/plain": [
       "140733780404080"
      ]
     },
     "execution_count": 20,
     "metadata": {},
     "output_type": "execute_result"
    }
   ],
   "source": [
    "id(a)"
   ]
  },
  {
   "cell_type": "code",
   "execution_count": 26,
   "id": "ee36f8bc-4074-4ef1-b8c8-5951c7987980",
   "metadata": {},
   "outputs": [],
   "source": [
    "# 단열 주석\n",
    "########################### 또 주석\n",
    "\n",
    "########################### 파이썬 연습 ######################\n",
    "#  작성자: 홍길동\n",
    "#  작성일: 2021.10.07\n",
    "#  version:1.10.07\n",
    "#  기능: 파이썬 연습을 위한 기능\n",
    "#############################################################"
   ]
  },
  {
   "cell_type": "code",
   "execution_count": 28,
   "id": "5eca2ccd-4d1b-4b72-985e-021d1bc3ed80",
   "metadata": {},
   "outputs": [
    {
     "ename": "SyntaxError",
     "evalue": "invalid syntax (<ipython-input-28-974d580b0038>, line 2)",
     "output_type": "error",
     "traceback": [
      "\u001b[1;36m  File \u001b[1;32m\"<ipython-input-28-974d580b0038>\"\u001b[1;36m, line \u001b[1;32m2\u001b[0m\n\u001b[1;33m    1a=1 # 변수 명 규칙 위배  숫자 먼저 못온다\u001b[0m\n\u001b[1;37m     ^\u001b[0m\n\u001b[1;31mSyntaxError\u001b[0m\u001b[1;31m:\u001b[0m invalid syntax\n"
     ]
    }
   ],
   "source": [
    "# 주석 변수 명명법 연습\n",
    "1a=1 # 변수 명 규칙 위배  숫자 먼저 못온다"
   ]
  },
  {
   "cell_type": "code",
   "execution_count": 29,
   "id": "93f9ba43-adf9-4fc4-b715-77cf71527d50",
   "metadata": {},
   "outputs": [
    {
     "ename": "SyntaxError",
     "evalue": "invalid syntax (<ipython-input-29-67ad72887bde>, line 1)",
     "output_type": "error",
     "traceback": [
      "\u001b[1;36m  File \u001b[1;32m\"<ipython-input-29-67ad72887bde>\"\u001b[1;36m, line \u001b[1;32m1\u001b[0m\n\u001b[1;33m    a 1=1\u001b[0m\n\u001b[1;37m      ^\u001b[0m\n\u001b[1;31mSyntaxError\u001b[0m\u001b[1;31m:\u001b[0m invalid syntax\n"
     ]
    }
   ],
   "source": [
    "a 1=1 #  띄어쓰기 위배"
   ]
  },
  {
   "cell_type": "code",
   "execution_count": 32,
   "id": "3e500e35-4f38-47f7-9cda-53b284e7ddf4",
   "metadata": {},
   "outputs": [],
   "source": [
    "a_1=1\n",
    "a1_=1\n",
    "_a=1"
   ]
  },
  {
   "cell_type": "code",
   "execution_count": 34,
   "id": "7faec18e-cbbd-4d18-a273-2a784ba1c8ec",
   "metadata": {},
   "outputs": [
    {
     "ename": "SyntaxError",
     "evalue": "invalid syntax (<ipython-input-34-9fb5b28fee23>, line 1)",
     "output_type": "error",
     "traceback": [
      "\u001b[1;36m  File \u001b[1;32m\"<ipython-input-34-9fb5b28fee23>\"\u001b[1;36m, line \u001b[1;32m1\u001b[0m\n\u001b[1;33m    홍 길동=1\u001b[0m\n\u001b[1;37m      ^\u001b[0m\n\u001b[1;31mSyntaxError\u001b[0m\u001b[1;31m:\u001b[0m invalid syntax\n"
     ]
    }
   ],
   "source": [
    "홍 길동=1"
   ]
  },
  {
   "cell_type": "code",
   "execution_count": 37,
   "id": "68a40fbb-cbc8-43d2-8602-dac77783c172",
   "metadata": {},
   "outputs": [
    {
     "name": "stdout",
     "output_type": "stream",
     "text": [
      "a 주소: 140733780404016 \n",
      "A 주소: 140733780404048\n"
     ]
    }
   ],
   "source": [
    "# 대소문자 구별\n",
    "a=1\n",
    "A=2\n",
    "print('a 주소:',id(a),'\\nA 주소:',id(A))"
   ]
  },
  {
   "cell_type": "code",
   "execution_count": 38,
   "id": "705bc7cc-e478-4d7c-85df-a1a4787481b5",
   "metadata": {},
   "outputs": [
    {
     "name": "stdout",
     "output_type": "stream",
     "text": [
      "안녕하세요 \t 여러분 \n",
      " 이스케이프 문자열 \\n은 한줄 내리는 것입니다.\n"
     ]
    }
   ],
   "source": [
    "# 이스케이프 문자열\n",
    "# 문자열에 역슬래시를 사용하면 문자열 이외의 행동\n",
    "# \\n : 한줄내리기\n",
    "# \\t : 탭\n",
    "# \\\\: 역슬래시 표시\n",
    "print('안녕하세요 \\t 여러분 \\n 이스케이프 문자열 \\\\n은 한줄 내리는 것입니다.')"
   ]
  },
  {
   "cell_type": "code",
   "execution_count": 40,
   "id": "d314d4dd-c393-4cfc-ac88-37cc0ee16f3d",
   "metadata": {},
   "outputs": [
    {
     "name": "stdout",
     "output_type": "stream",
     "text": [
      "안녕 하세요 \n",
      "여러분\n"
     ]
    }
   ],
   "source": [
    "# 일반 문자열\n",
    "a='안녕'\n",
    "b='하세요 \\n여러분'\n",
    "print(a,b)"
   ]
  },
  {
   "cell_type": "code",
   "execution_count": 41,
   "id": "8fc42c64-3c20-4144-901f-074b62091b8c",
   "metadata": {},
   "outputs": [
    {
     "data": {
      "text/plain": [
       "' 안녕하세요\\n여러분\\n'"
      ]
     },
     "execution_count": 41,
     "metadata": {},
     "output_type": "execute_result"
    }
   ],
   "source": [
    "# 다중문자열 \"\"\" ~ \"\"\"\n",
    "c=\"\"\" 안녕하세요\n",
    "여러분\n",
    "\"\"\"\n",
    "c"
   ]
  },
  {
   "cell_type": "code",
   "execution_count": 42,
   "id": "90a2d36b-ab87-4567-8aa8-4bf615432416",
   "metadata": {},
   "outputs": [
    {
     "ename": "SyntaxError",
     "evalue": "EOL while scanning string literal (<ipython-input-42-18f6169636f0>, line 1)",
     "output_type": "error",
     "traceback": [
      "\u001b[1;36m  File \u001b[1;32m\"<ipython-input-42-18f6169636f0>\"\u001b[1;36m, line \u001b[1;32m1\u001b[0m\n\u001b[1;33m    d= '안\u001b[0m\n\u001b[1;37m         ^\u001b[0m\n\u001b[1;31mSyntaxError\u001b[0m\u001b[1;31m:\u001b[0m EOL while scanning string literal\n"
     ]
    }
   ],
   "source": [
    "# 변수 규칙 위배\n",
    "d= '안\n",
    "녕'"
   ]
  },
  {
   "cell_type": "code",
   "execution_count": 45,
   "id": "6975d61b-3dfd-4b14-9efb-d7125b1237b0",
   "metadata": {},
   "outputs": [
    {
     "name": "stdout",
     "output_type": "stream",
     "text": [
      "3\n",
      "안녕하세요\n"
     ]
    }
   ],
   "source": [
    "# 숫자형 변수 연산\n",
    "a=1\n",
    "b=2\n",
    "c=a + b\n",
    "print(c)\n",
    "# 문자형 변수 연산\n",
    "a='안녕'\n",
    "b=\"하세요\"\n",
    "c= a + b\n",
    "print(c)"
   ]
  },
  {
   "cell_type": "code",
   "execution_count": 46,
   "id": "f1ff1957-5c15-4b62-96d8-fc47dc40fc37",
   "metadata": {},
   "outputs": [
    {
     "ename": "TypeError",
     "evalue": "can only concatenate str (not \"int\") to str",
     "output_type": "error",
     "traceback": [
      "\u001b[1;31m---------------------------------------------------------------------------\u001b[0m",
      "\u001b[1;31mTypeError\u001b[0m                                 Traceback (most recent call last)",
      "\u001b[1;32m<ipython-input-46-506f1751ac05>\u001b[0m in \u001b[0;36m<module>\u001b[1;34m\u001b[0m\n\u001b[0;32m      2\u001b[0m \u001b[0mb\u001b[0m\u001b[1;33m=\u001b[0m\u001b[1;36m11\u001b[0m\u001b[1;33m\u001b[0m\u001b[1;33m\u001b[0m\u001b[0m\n\u001b[0;32m      3\u001b[0m \u001b[0mc\u001b[0m\u001b[1;33m=\u001b[0m\u001b[1;34m'주세요'\u001b[0m\u001b[1;33m\u001b[0m\u001b[1;33m\u001b[0m\u001b[0m\n\u001b[1;32m----> 4\u001b[1;33m \u001b[0mprint\u001b[0m\u001b[1;33m(\u001b[0m\u001b[0ma\u001b[0m\u001b[1;33m+\u001b[0m\u001b[0mb\u001b[0m\u001b[1;33m+\u001b[0m\u001b[0mc\u001b[0m\u001b[1;33m)\u001b[0m\u001b[1;33m\u001b[0m\u001b[1;33m\u001b[0m\u001b[0m\n\u001b[0m",
      "\u001b[1;31mTypeError\u001b[0m: can only concatenate str (not \"int\") to str"
     ]
    }
   ],
   "source": [
    "# 데이터 타입이 다른 경우 연산 불가\n",
    "a='과자를'\n",
    "b=11\n",
    "c='주세요'\n",
    "print(a+b+c)"
   ]
  },
  {
   "cell_type": "code",
   "execution_count": 49,
   "id": "66ab3e3b-1d33-4c23-bdc8-0b9a17bcecbe",
   "metadata": {},
   "outputs": [
    {
     "name": "stdout",
     "output_type": "stream",
     "text": [
      "과자를 11개 주세요\n"
     ]
    }
   ],
   "source": [
    "# 문자열 변수화  str(숫자) => 문자로 변환\n",
    "a='과자를 '\n",
    "b= str(11)\n",
    "c='개 주세요'\n",
    "print(a+b+c)"
   ]
  },
  {
   "cell_type": "markdown",
   "id": "3b6ab450-cef1-465e-919d-67bfa532ba6e",
   "metadata": {},
   "source": [
    "# 파이썬 연산\n",
    "* 산술연산(6) +, -, *, /, %, //\n",
    "* 비교연산(6) <, >, <=, >=, ==, !=\n",
    "* 대입연산자 = \n",
    "* 논리연산자 and or"
   ]
  },
  {
   "cell_type": "code",
   "execution_count": 15,
   "id": "89a9a75d-9830-4568-948d-9a9504f521ea",
   "metadata": {},
   "outputs": [
    {
     "name": "stdout",
     "output_type": "stream",
     "text": [
      "0\n"
     ]
    }
   ],
   "source": [
    "# 산술연산\n",
    "a=3\n",
    "b=4\n",
    "c=a+3\n",
    "c=a-b\n",
    "c=a*b\n",
    "c=a/b\n",
    "\n",
    "c=a % b # 나머지 연산\n",
    "c=a // b # 몫 연산\n",
    "\n",
    "print(c)"
   ]
  },
  {
   "cell_type": "code",
   "execution_count": 22,
   "id": "e95912aa-f5f8-4d5a-a29e-cebcdaaa5716",
   "metadata": {},
   "outputs": [
    {
     "name": "stdout",
     "output_type": "stream",
     "text": [
      "몫이 2 입니다.\n",
      "몫: 2  나머지: 1\n"
     ]
    }
   ],
   "source": [
    "a=9\n",
    "b=4\n",
    "c=a//b\n",
    "d=a%b\n",
    "if(c==2):\n",
    "    print('몫이 2 입니다.')\n",
    "    \n",
    "print('몫:',a//b,' 나머지:',a%b)\n",
    "\n"
   ]
  },
  {
   "cell_type": "code",
   "execution_count": 60,
   "id": "bfc67c68-659e-4817-b784-74f6cea0c571",
   "metadata": {},
   "outputs": [
    {
     "name": "stdout",
     "output_type": "stream",
     "text": [
      "True\n"
     ]
    }
   ],
   "source": [
    "# 비교 연산자 => 불린\n",
    "c= a > b \n",
    "c= a < b\n",
    "print(c) #True,False"
   ]
  },
  {
   "cell_type": "code",
   "execution_count": 62,
   "id": "a00e9dc2-fa82-4d5b-8adf-e88a5f37bae5",
   "metadata": {},
   "outputs": [
    {
     "data": {
      "text/plain": [
       "True"
      ]
     },
     "execution_count": 62,
     "metadata": {},
     "output_type": "execute_result"
    }
   ],
   "source": [
    "# 논리 연산자 : and  한쪽이 False 면 False\n",
    "d=True and True \n",
    "d"
   ]
  },
  {
   "cell_type": "code",
   "execution_count": 63,
   "id": "99044189-bfbf-4748-94eb-1348cbd95a7a",
   "metadata": {},
   "outputs": [
    {
     "data": {
      "text/plain": [
       "False"
      ]
     },
     "execution_count": 63,
     "metadata": {},
     "output_type": "execute_result"
    }
   ],
   "source": [
    "d=True and False\n",
    "d"
   ]
  },
  {
   "cell_type": "code",
   "execution_count": 64,
   "id": "de733c40-1ea6-438f-a250-48338a81dbfa",
   "metadata": {
    "jupyter": {
     "source_hidden": true
    },
    "tags": []
   },
   "outputs": [
    {
     "data": {
      "text/plain": [
       "True"
      ]
     },
     "execution_count": 64,
     "metadata": {},
     "output_type": "execute_result"
    }
   ],
   "source": [
    "# 논리 연산자 : or  한쪽이 True 면 True\n",
    "d=True or True \n",
    "d"
   ]
  },
  {
   "cell_type": "code",
   "execution_count": 65,
   "id": "2a9d1616-7ea3-4077-aa7d-a39177dd2f1a",
   "metadata": {},
   "outputs": [
    {
     "data": {
      "text/plain": [
       "True"
      ]
     },
     "execution_count": 65,
     "metadata": {},
     "output_type": "execute_result"
    }
   ],
   "source": [
    "d=True or False\n",
    "d"
   ]
  },
  {
   "cell_type": "code",
   "execution_count": 66,
   "id": "772504fe-5d06-410d-8bd3-2fd9988f18a9",
   "metadata": {},
   "outputs": [
    {
     "data": {
      "text/plain": [
       "False"
      ]
     },
     "execution_count": 66,
     "metadata": {},
     "output_type": "execute_result"
    }
   ],
   "source": [
    "d=False or False\n",
    "d"
   ]
  },
  {
   "cell_type": "code",
   "execution_count": 70,
   "id": "022e9aae-2c39-4a14-9c6b-1ba3c8f8655e",
   "metadata": {},
   "outputs": [
    {
     "data": {
      "text/plain": [
       "True"
      ]
     },
     "execution_count": 70,
     "metadata": {},
     "output_type": "execute_result"
    }
   ],
   "source": [
    "# 비교 연산자와 논리연산의 결합\n",
    "a=3\n",
    "b=4\n",
    "c=5\n",
    "d= (a<b) and (b<c)\n",
    "d"
   ]
  },
  {
   "cell_type": "markdown",
   "id": "24ff91d9-a171-4a06-8d2b-af04dc28632e",
   "metadata": {},
   "source": [
    "# 제어문\n",
    "* 프로그램 로직을 만드는 명령어\n",
    "* 블럭 : 들여쓰기!!!!!!\n",
    "    - 판단 if\n",
    "        > if 조건문- 비교/논리 연산자등 사용:\n",
    "        >> 참일때 작동\n",
    "        \n",
    "        > else:\n",
    "        >> 거짓일때 작동\n",
    "    - 반복 for \n",
    "        > for 값 in 집합 :\n",
    "        >> 조건이 맞는 경우\n",
    "    - 반복 while\n",
    "    > while 조건문:\n",
    "        >> 조건이 참일때 시행"
   ]
  },
  {
   "cell_type": "code",
   "execution_count": 33,
   "id": "ecce2286-0d0e-4030-9e3d-9f7b0b7a3d8f",
   "metadata": {},
   "outputs": [
    {
     "name": "stdout",
     "output_type": "stream",
     "text": [
      "******************************\n",
      "중첩 if\n",
      "------------------------------\n",
      "a를 참으로 처리하였습니다.\n",
      "c를 참으로 처리하였습니다 .\n",
      "******************************\n",
      "연속 if\n",
      "------------------------------\n",
      "d를 거짓으로 처리하였습니다.\n"
     ]
    }
   ],
   "source": [
    "a=True\n",
    "b=False\n",
    "c=True\n",
    "d=False\n",
    "#중첩 if\n",
    "print('*' * 30)\n",
    "print('중첩 if')\n",
    "print('-' * 30)\n",
    "if (a):\n",
    "    print('a를 참으로 처리하였습니다.')\n",
    "    if(c):\n",
    "        print('c를 참으로 처리하였습니다 .')\n",
    "    else:\n",
    "        print('c는 false 입니다.')\n",
    "else:\n",
    "    if(d):\n",
    "        print('d 는 참입니다.')\n",
    "    else:\n",
    "        print('d 는 거짓입니다.')\n",
    "        \n",
    "#  ctrl+[ 단 앞으로 나오기 ctrl+] 단 뒤로 들어가기\n",
    "# 코드 어시스트 Tab \n",
    "# 연속 if\n",
    "print('*' * 30)\n",
    "print('연속 if')\n",
    "print('-' * 30)\n",
    "if b:\n",
    "    print('b를 참으로 처리하였습니다.')\n",
    "elif d:\n",
    "    print('d를 참으로 처리하였습니다.')\n",
    "else:\n",
    "    print('d를 거짓으로 처리하였습니다.')\n",
    "    \n"
   ]
  },
  {
   "cell_type": "code",
   "execution_count": 6,
   "id": "e8ae1db6-6235-429d-becc-2e6673913cc1",
   "metadata": {},
   "outputs": [
    {
     "name": "stdout",
     "output_type": "stream",
     "text": [
      "b( 4 )가 a( 3 )보다 큽니다.\n"
     ]
    }
   ],
   "source": [
    "# 일반 if\n",
    "a=3\n",
    "b=4\n",
    "if a>b:\n",
    "    print('a(',a,')가 b(',b,')보다 큽니다.')\n",
    "else:\n",
    "    print('b(',b,')가 a(',a,')보다 큽니다.')"
   ]
  },
  {
   "cell_type": "code",
   "execution_count": 14,
   "id": "2f24ff02-0570-4e06-b890-a5ac3a1e7f65",
   "metadata": {},
   "outputs": [
    {
     "name": "stdout",
     "output_type": "stream",
     "text": [
      "성적은 C( 75 ) 입니다.\n"
     ]
    }
   ],
   "source": [
    "# 중첩 if\n",
    "score=75\n",
    "if( score >=90):\n",
    "    print('성적은 A(',score,') 입니다.')\n",
    "else:\n",
    "    if(score >=80 ):#  and score < 90 을 내포\n",
    "        print('성적은 B(',score,')  입니다.')\n",
    "    else:\n",
    "        if(score >=70 ):#  and score < 80 을 내포\n",
    "            print('성적은 C(',score,') 입니다.')\n",
    "        else:\n",
    "            print('성적은 D 입니다.')"
   ]
  },
  {
   "cell_type": "code",
   "execution_count": 12,
   "id": "52150041-cda8-43df-bc88-d539df0920be",
   "metadata": {},
   "outputs": [
    {
     "name": "stdout",
     "output_type": "stream",
     "text": [
      "성적은 A ( 100 )입니다.\n"
     ]
    }
   ],
   "source": [
    "# 중복 최소화 원리 - 재사용성을 극대화 - 유지보수성\n",
    "# 연속 if  switch 를 대체\n",
    "score=100\n",
    "grade='A'\n",
    "if( score >= 90):\n",
    "    grade='A'\n",
    "elif( score >= 80):\n",
    "    grade='B'\n",
    "elif( score >= 70):\n",
    "    grade='C'\n",
    "else:\n",
    "    grade='D'\n",
    "print('성적은' ,grade,'(',score,')입니다.')"
   ]
  },
  {
   "cell_type": "code",
   "execution_count": null,
   "id": "35bf0687-2070-4e98-a2fe-d1bc04c226f8",
   "metadata": {},
   "outputs": [],
   "source": [
    "print('1','2')"
   ]
  },
  {
   "cell_type": "code",
   "execution_count": 15,
   "id": "4d3de263-c239-47d3-8806-a45baef55adb",
   "metadata": {},
   "outputs": [],
   "source": [
    "# 양쪽 한정\n",
    "if(score<70):\n",
    "    grade='D'\n",
    "elif(score >= 70 and score <80):\n",
    "    grade='C'\n",
    "elif(score >=80  and score <90 ):\n",
    "    grade='B'\n",
    "else:\n",
    "    grade='A'\n",
    "    "
   ]
  },
  {
   "cell_type": "code",
   "execution_count": 17,
   "id": "5fc74a46-35de-47a7-8a9f-7ec85499a739",
   "metadata": {
    "collapsed": true,
    "jupyter": {
     "outputs_hidden": true
    },
    "tags": []
   },
   "outputs": [
    {
     "name": "stdout",
     "output_type": "stream",
     "text": [
      "1\n",
      "2\n",
      "3\n",
      "4\n",
      "5\n",
      "6\n",
      "100\n"
     ]
    }
   ],
   "source": [
    "# list [] 요소나열 집합 array ==>\n",
    "# for(var i=1; i<5; i++)\n",
    "lista=[1,2,3,4,5,6,100]\n",
    "for i in lista:\n",
    "    print(i)\n"
   ]
  },
  {
   "cell_type": "code",
   "execution_count": 18,
   "id": "5802f1ec-fb4a-4614-b41a-3315645690c7",
   "metadata": {
    "collapsed": true,
    "jupyter": {
     "outputs_hidden": true
    },
    "tags": []
   },
   "outputs": [
    {
     "name": "stdout",
     "output_type": "stream",
     "text": [
      "1\n",
      "2\n",
      "3\n",
      "4\n",
      "5\n",
      "6\n",
      "7\n",
      "8\n",
      "9\n"
     ]
    }
   ],
   "source": [
    "# 반복할 대상의 집합을 만드는 함수 range\n",
    "for i in range(1,10):\n",
    "    print(i)"
   ]
  },
  {
   "cell_type": "code",
   "execution_count": 3,
   "id": "d2e81bae-3bdc-43b1-b621-1738a47a08a6",
   "metadata": {
    "collapsed": true,
    "jupyter": {
     "outputs_hidden": true
    },
    "tags": []
   },
   "outputs": [
    {
     "name": "stdout",
     "output_type": "stream",
     "text": [
      "값은 4 입니다.\n",
      "값은 5 입니다.\n",
      "값은 6 입니다.\n",
      "값은 7 입니다.\n",
      "값은 8 입니다.\n",
      "값은 9 입니다.\n",
      "값은 10 입니다.\n"
     ]
    }
   ],
   "source": [
    "# 반복문 while\n",
    "# 무한루프에 빠지는 것을 주의\n",
    "# 초기화\n",
    "a=3\n",
    "# 조건식\n",
    "while a<10:\n",
    "    # 반복블럭 내부에 조건 변경식\n",
    "    a=a+1\n",
    "    print('값은',a,'입니다.')"
   ]
  },
  {
   "cell_type": "code",
   "execution_count": 8,
   "id": "9445981d-66ac-485f-95e6-2064aea8ff09",
   "metadata": {
    "tags": []
   },
   "outputs": [
    {
     "name": "stdout",
     "output_type": "stream",
     "text": [
      "2\t4\t6\t8\t10\t12\t14\t16\t18\t"
     ]
    }
   ],
   "source": [
    "# 숫자 집합 생성 함수\n",
    "# range (시작숫자, 한계숫자, 스텝)#\n",
    "#2단\n",
    "a=2\n",
    "for i in range(1,10):\n",
    "    print(a*i,end='\\t') # 매번 옆으로 출력"
   ]
  },
  {
   "cell_type": "raw",
   "id": "b4d66a73-9286-4a05-b841-fae53fa171fe",
   "metadata": {},
   "source": [
    "# 구구단 매트릭스\n",
    "1*2=2    1*3=3*   ...           1*9=9*$\n",
    "2*2=4    2*3=6   ...            2*9=9*$\n",
    "..\n",
    "\n"
   ]
  },
  {
   "cell_type": "code",
   "execution_count": 23,
   "id": "dda0ba25-4872-4db6-8950-bc1b19f437e8",
   "metadata": {
    "collapsed": true,
    "jupyter": {
     "outputs_hidden": true
    },
    "tags": []
   },
   "outputs": [
    {
     "ename": "SyntaxError",
     "evalue": "invalid syntax (<ipython-input-23-1870fb63373e>, line 1)",
     "output_type": "error",
     "traceback": [
      "\u001b[1;36m  File \u001b[1;32m\"<ipython-input-23-1870fb63373e>\"\u001b[1;36m, line \u001b[1;32m1\u001b[0m\n\u001b[1;33m    print(if(1>2):)\u001b[0m\n\u001b[1;37m          ^\u001b[0m\n\u001b[1;31mSyntaxError\u001b[0m\u001b[1;31m:\u001b[0m invalid syntax\n"
     ]
    }
   ],
   "source": [
    "print(if(1>2):)"
   ]
  },
  {
   "cell_type": "code",
   "execution_count": 41,
   "id": "b3cedb36-6b35-4d1b-9279-1ca175ab9bc4",
   "metadata": {},
   "outputs": [
    {
     "name": "stdout",
     "output_type": "stream",
     "text": [
      "------------------------------\n",
      "i: 1 j: 1\n",
      "i: 1 j: 2 *\n",
      "i: 1 j: 3\n",
      "i: 1 j: 4\n",
      "------------------------------\n",
      "i: 2 j: 1\n",
      "i: 2 j: 2 *\n",
      "i: 2 j: 3\n",
      "i: 2 j: 4\n",
      "------------------------------\n",
      "i: 3 j: 1\n",
      "i: 3 j: 2 *\n",
      "i: 3 j: 3\n",
      "i: 3 j: 4\n",
      "------------------------------\n",
      "i: 4 j: 1\n",
      "i: 4 j: 2 *\n",
      "i: 4 j: 3\n",
      "i: 4 j: 4\n"
     ]
    }
   ],
   "source": [
    "for i in range(1,5):\n",
    "    print('-'*30)\n",
    "    for j in range(1,5):\n",
    "        if j%3==2:\n",
    "            print('i:',i,'j:',j,'*')\n",
    "        else:\n",
    "            print('i:',i,'j:',j)"
   ]
  },
  {
   "cell_type": "code",
   "execution_count": 85,
   "id": "3afb4be9-c9c4-4316-abac-df40765532df",
   "metadata": {
    "tags": []
   },
   "outputs": [
    {
     "name": "stdout",
     "output_type": "stream",
     "text": [
      "\n",
      "\n",
      "1*2=2\t1*3=3\t1*4=4\t1*5=5\t1*6=6\t1*7=7\t1*8=8\t1*9=9\t\n",
      "\n",
      "2*2=4\t2*3=6\t2*4=8\t2*5=10\t2*6=12\t2*7=14\t2*8=16\t2*9=18\t\n",
      "\n",
      "3*2=6\t3*3=9\t3*4=12\t3*5=15\t3*6=18\t3*7=21\t3*8=24\t3*9=27\t\n",
      "\n",
      "4*2=8\t4*3=12\t4*4=16\t4*5=20\t4*6=24\t4*7=28\t4*8=32\t4*9=36\t\n",
      "\n",
      "5*2=10\t5*3=15\t5*4=20\t5*5=25\t5*6=30\t5*7=35\t5*8=40\t5*9=45\t\n",
      "\n",
      "6*2=12\t6*3=18\t6*4=24\t6*5=30\t6*6=36\t6*7=42\t6*8=48\t6*9=54\t\n",
      "\n",
      "7*2=14\t7*3=21\t7*4=28\t7*5=35\t7*6=42\t7*7=49\t7*8=56\t7*9=63\t\n",
      "\n",
      "8*2=16\t8*3=24\t8*4=32\t8*5=40\t8*6=48\t8*7=56\t8*8=64\t8*9=72\t\n",
      "\n",
      "9*2=18\t9*3=27\t9*4=36\t9*5=45\t9*6=54\t9*7=63\t9*8=72\t9*9=81\t"
     ]
    }
   ],
   "source": [
    "# if 조건문\n",
    "# 중첩 for\n",
    "# 3 으로 나눠지는 숫자옆 *를 표시하고  # 나머지 연산자\n",
    "# 4 로 나눠서 1이 남는 숫자 옆에 $ 를표시  # 나머지 연산자\n",
    "\n",
    "for i in range(1,10):\n",
    "    print('\\n')\n",
    "    for j in range(2,10):\n",
    "        d=str(i)+'*'+str(j)+'='+str(i*j)\n",
    "        print(d,end='\\t')"
   ]
  },
  {
   "cell_type": "code",
   "execution_count": 56,
   "id": "5f556d34-b46c-4da3-907c-ee0fc0b0d024",
   "metadata": {
    "collapsed": true,
    "jupyter": {
     "outputs_hidden": true
    },
    "tags": []
   },
   "outputs": [
    {
     "name": "stdout",
     "output_type": "stream",
     "text": [
      "\n",
      " ------------------------------------------------------------\n",
      "2\t3*\t4\t5$\t6*\t7\t8\t9*$\t\n",
      " ------------------------------------------------------------\n",
      "4\t6*\t8\t10\t12*\t14\t16\t18*\t\n",
      " ------------------------------------------------------------\n",
      "6*\t9*$\t12*\t15*\t18*\t21*$\t24*\t27*\t\n",
      " ------------------------------------------------------------\n",
      "8\t12*\t16\t20\t24*\t28\t32\t36*\t\n",
      " ------------------------------------------------------------\n",
      "10\t15*\t20\t25$\t30*\t35\t40\t45*$\t\n",
      " ------------------------------------------------------------\n",
      "12*\t18*\t24*\t30*\t36*\t42*\t48*\t54*\t\n",
      " ------------------------------------------------------------\n",
      "14\t21*$\t28\t35\t42*\t49$\t56\t63*\t\n",
      " ------------------------------------------------------------\n",
      "16\t24*\t32\t40\t48*\t56\t64\t72*\t\n",
      " ------------------------------------------------------------\n",
      "18*\t27*\t36*\t45*$\t54*\t63*\t72*\t81*$\t"
     ]
    }
   ],
   "source": [
    "# 풀이 단순 1 if:2 for:2\n",
    "for i in range(1,10):\n",
    "    print('\\n','-'*60)\n",
    "    for j in range(2,10):\n",
    "        result=i*j\n",
    "        if(result%3==0 ):\n",
    "            append3='*'\n",
    "        else:\n",
    "            append3=''\n",
    "        if(result%4==1 ):\n",
    "            append4='$'\n",
    "        else:\n",
    "            append4=''            \n",
    "        print(str(i*j)+ append3+append4,end='\\t')\n",
    "        "
   ]
  },
  {
   "cell_type": "code",
   "execution_count": 59,
   "id": "11cb5291-401d-4167-9347-12f0c9d66ce5",
   "metadata": {
    "collapsed": true,
    "jupyter": {
     "outputs_hidden": true
    },
    "tags": []
   },
   "outputs": [
    {
     "name": "stdout",
     "output_type": "stream",
     "text": [
      "\n",
      " ------------------------------------------------------------\n",
      "2\t3*\t4\t5$\t6*\t7\t8\t9*$\t\n",
      " ------------------------------------------------------------\n",
      "4\t6*\t8\t10\t12*\t14\t16\t18*\t\n",
      " ------------------------------------------------------------\n",
      "6*\t9*$\t12*\t15*\t18*\t21*$\t24*\t27*\t\n",
      " ------------------------------------------------------------\n",
      "8\t12*\t16\t20\t24*\t28\t32\t36*\t\n",
      " ------------------------------------------------------------\n",
      "10\t15*\t20\t25$\t30*\t35\t40\t45*$\t\n",
      " ------------------------------------------------------------\n",
      "12*\t18*\t24*\t30*\t36*\t42*\t48*\t54*\t\n",
      " ------------------------------------------------------------\n",
      "14\t21*$\t28\t35\t42*\t49$\t56\t63*\t\n",
      " ------------------------------------------------------------\n",
      "16\t24*\t32\t40\t48*\t56\t64\t72*\t\n",
      " ------------------------------------------------------------\n",
      "18*\t27*\t36*\t45*$\t54*\t63*\t72*\t81*$\t"
     ]
    }
   ],
   "source": [
    "# 풀이 연속 2 elif:1 for:2\n",
    "for i in range(1,10):\n",
    "    print('\\n','-'*60)\n",
    "    for j in range(2,10):\n",
    "        result=i*j\n",
    "        if( result%3==0 and result%4==1 ): # 좁은 범위부터 걸러간다\n",
    "            append = '*$'\n",
    "        elif( result%3==0 ):\n",
    "            append = '*'\n",
    "        elif( result%4==1 ):\n",
    "            append = '$'\n",
    "        else:\n",
    "            append = ''            \n",
    "        print(str(i*j)+ append,end='\\t')"
   ]
  },
  {
   "cell_type": "code",
   "execution_count": 62,
   "id": "7572b738-1818-4f79-9a0d-d4e6356d9b6b",
   "metadata": {
    "collapsed": true,
    "jupyter": {
     "outputs_hidden": true
    },
    "tags": []
   },
   "outputs": [
    {
     "name": "stdout",
     "output_type": "stream",
     "text": [
      "\n",
      " ------------------------------------------------------------\n",
      "2\t3*\t4\t5$\t6*\t7\t8\t9*$\t\n",
      " ------------------------------------------------------------\n",
      "4\t6*\t8\t10\t12*\t14\t16\t18*\t\n",
      " ------------------------------------------------------------\n",
      "6*\t9*$\t12*\t15*\t18*\t21*$\t24*\t27*\t\n",
      " ------------------------------------------------------------\n",
      "8\t12*\t16\t20\t24*\t28\t32\t36*\t\n",
      " ------------------------------------------------------------\n",
      "10\t15*\t20\t25$\t30*\t35\t40\t45*$\t\n",
      " ------------------------------------------------------------\n",
      "12*\t18*\t24*\t30*\t36*\t42*\t48*\t54*\t\n",
      " ------------------------------------------------------------\n",
      "14\t21*$\t28\t35\t42*\t49$\t56\t63*\t\n",
      " ------------------------------------------------------------\n",
      "16\t24*\t32\t40\t48*\t56\t64\t72*\t\n",
      " ------------------------------------------------------------\n",
      "18*\t27*\t36*\t45*$\t54*\t63*\t72*\t81*$\t"
     ]
    }
   ],
   "source": [
    "# 풀이  중첩 3 elif:1 for:2\n",
    "for i in range(1,10):\n",
    "    print('\\n','-'*60)\n",
    "    for j in range(2,10):\n",
    "        result=i*j\n",
    "        if( result%3==0): # 좁은 범위부터 걸러간다\n",
    "            if( result%4==1 ):\n",
    "                append = '*$'\n",
    "            else:\n",
    "                append = '*'\n",
    "        else:\n",
    "            if( result%4==1 ):\n",
    "                append = '$'\n",
    "            else:\n",
    "                append = ''            \n",
    "        print(str(i*j)+ append,end='\\t')"
   ]
  },
  {
   "cell_type": "markdown",
   "id": "ff3b23a0-c969-43ed-97c6-500925ccd2c8",
   "metadata": {},
   "source": [
    "# 배열 array \n",
    "* 여러 값을 모아 놓은 객체\n",
    "* 종류\n",
    "    - 리스트 [ ]\n",
    "        * 단순 나열: [1,2,3,4]\n",
    "    - 튜플 ( )\n",
    "        * 단순 나열: (1,2,3,4)\n",
    "    - 딕셔너리 { }\n",
    "        * 연관 배열(나열): {'한국':'서울','일본':'도쿄'}\n",
    "        * 키 - 밸류\n",
    "\n",
    "\n"
   ]
  },
  {
   "cell_type": "code",
   "execution_count": 75,
   "id": "b4314efe-fffc-4411-b485-9505a1f9fd71",
   "metadata": {
    "collapsed": true,
    "jupyter": {
     "outputs_hidden": true
    },
    "tags": []
   },
   "outputs": [
    {
     "name": "stdout",
     "output_type": "stream",
     "text": [
      "전체: ['서울', '도쿄', '뉴욕', 1] \n",
      " 첫번째: 도쿄\n",
      "------------------------------\n",
      "서울\n",
      "도쿄\n",
      "뉴욕\n",
      "1\n",
      "------------------------------\n",
      "서울\n",
      "베이징\n",
      "뉴욕\n"
     ]
    }
   ],
   "source": [
    "# 리스트\n",
    "city=['서울','도쿄','뉴욕',1]\n",
    "# 인덱스로 접근\n",
    "print('전체:',city,'\\n 첫번째:',city[1])\n",
    "print('-'*30)   \n",
    "for c in city:\n",
    "    print(c)\n",
    "#값 변경\n",
    "city[1]='베이징'\n",
    "print('-'*30)\n",
    "for i in range(0,3):\n",
    "    print(city[i])"
   ]
  },
  {
   "cell_type": "code",
   "execution_count": 74,
   "id": "4e08972d-8cbb-4b95-b9db-b2e18d5b3593",
   "metadata": {
    "collapsed": true,
    "jupyter": {
     "outputs_hidden": true
    },
    "tags": []
   },
   "outputs": [
    {
     "name": "stdout",
     "output_type": "stream",
     "text": [
      "전체: ('서울', '도쿄', '뉴욕') \n",
      " 첫번째: 도쿄\n",
      "------------------------------\n",
      "서울\n",
      "도쿄\n",
      "뉴욕\n"
     ]
    },
    {
     "ename": "TypeError",
     "evalue": "'tuple' object does not support item assignment",
     "output_type": "error",
     "traceback": [
      "\u001b[1;31m---------------------------------------------------------------------------\u001b[0m",
      "\u001b[1;31mTypeError\u001b[0m                                 Traceback (most recent call last)",
      "\u001b[1;32m<ipython-input-74-eddbea8f98ff>\u001b[0m in \u001b[0;36m<module>\u001b[1;34m\u001b[0m\n\u001b[0;32m      7\u001b[0m     \u001b[0mprint\u001b[0m\u001b[1;33m(\u001b[0m\u001b[0mc\u001b[0m\u001b[1;33m)\u001b[0m\u001b[1;33m\u001b[0m\u001b[1;33m\u001b[0m\u001b[0m\n\u001b[0;32m      8\u001b[0m \u001b[1;31m#값 변경\u001b[0m\u001b[1;33m\u001b[0m\u001b[1;33m\u001b[0m\u001b[1;33m\u001b[0m\u001b[0m\n\u001b[1;32m----> 9\u001b[1;33m \u001b[0mcity\u001b[0m\u001b[1;33m[\u001b[0m\u001b[1;36m1\u001b[0m\u001b[1;33m]\u001b[0m\u001b[1;33m=\u001b[0m\u001b[1;34m'베이징'\u001b[0m\u001b[1;33m\u001b[0m\u001b[1;33m\u001b[0m\u001b[0m\n\u001b[0m\u001b[0;32m     10\u001b[0m \u001b[0mprint\u001b[0m\u001b[1;33m(\u001b[0m\u001b[1;34m'-'\u001b[0m\u001b[1;33m*\u001b[0m\u001b[1;36m30\u001b[0m\u001b[1;33m)\u001b[0m\u001b[1;33m\u001b[0m\u001b[1;33m\u001b[0m\u001b[0m\n\u001b[0;32m     11\u001b[0m \u001b[1;32mfor\u001b[0m \u001b[0mi\u001b[0m \u001b[1;32min\u001b[0m \u001b[0mrange\u001b[0m\u001b[1;33m(\u001b[0m\u001b[1;36m0\u001b[0m\u001b[1;33m,\u001b[0m\u001b[1;36m3\u001b[0m\u001b[1;33m)\u001b[0m\u001b[1;33m:\u001b[0m\u001b[1;33m\u001b[0m\u001b[1;33m\u001b[0m\u001b[0m\n",
      "\u001b[1;31mTypeError\u001b[0m: 'tuple' object does not support item assignment"
     ]
    }
   ],
   "source": [
    "# 튜플 고정된 데이터에 사용\n",
    "city=('서울','도쿄','뉴욕')\n",
    "# 인덱스로 접근\n",
    "print('전체:',city,'\\n 첫번째:',city[1])\n",
    "print('-'*30)   \n",
    "for c in city:\n",
    "    print(c)\n",
    "#값 변경\n",
    "city[1]='베이징'\n",
    "print('-'*30)    \n",
    "for i in range(0,3):\n",
    "    print(city[i])"
   ]
  },
  {
   "cell_type": "code",
   "execution_count": 84,
   "id": "52e83281-6c2b-4e48-bf69-a7a878dbe1cf",
   "metadata": {
    "collapsed": true,
    "jupyter": {
     "outputs_hidden": true
    },
    "tags": []
   },
   "outputs": [
    {
     "name": "stdout",
     "output_type": "stream",
     "text": [
      "도쿄\n",
      "******************************\n",
      "for 로 풀면 key 만 보임\n",
      "******************************\n",
      "한국\n",
      "일본\n",
      "중국\n",
      "******************************\n",
      "for 로 단순하게 풀때 items 사용\n",
      "******************************\n",
      "('한국', '서울')\n",
      "('일본', '도쿄')\n",
      "('중국', '베이징')\n",
      "******************************\n",
      "for 로 key value로 풀때 items 사용\n",
      "******************************\n",
      "국가는: 한국 도시는: 서울\n",
      "국가는: 일본 도시는: 도쿄\n",
      "국가는: 중국 도시는: 베이징\n"
     ]
    }
   ],
   "source": [
    "# 딕셔너리\n",
    "city={'한국':'서울','일본':'도쿄','중국':'베이징'}\n",
    "#city[0]\n",
    "#키값으로 접근\n",
    "print(city['일본'])\n",
    "print('*'*30)\n",
    "print('for 로 풀면 key 만 보임')\n",
    "print('*'*30)\n",
    "for c in city:\n",
    "    print(c)\n",
    "    \n",
    "print('*'*30)\n",
    "print('for 로 단순하게 풀때 items 사용')\n",
    "print('*'*30)\n",
    "for c in city.items():\n",
    "    print(c)\n",
    "\n",
    "print('*'*30)\n",
    "print('for 로 key value로 풀때 items 사용')\n",
    "print('*'*30)\n",
    "for kk,vv in city.items():\n",
    "    print('국가는:',kk,'도시는:',vv)"
   ]
  },
  {
   "cell_type": "raw",
   "id": "da53258d-75b4-455f-9d85-044d2ad0c993",
   "metadata": {},
   "source": [
    "https://devpouch.tistory.com/107"
   ]
  }
 ],
 "metadata": {
  "kernelspec": {
   "display_name": "Python 3",
   "language": "python",
   "name": "python3"
  },
  "language_info": {
   "codemirror_mode": {
    "name": "ipython",
    "version": 3
   },
   "file_extension": ".py",
   "mimetype": "text/x-python",
   "name": "python",
   "nbconvert_exporter": "python",
   "pygments_lexer": "ipython3",
   "version": "3.8.8"
  }
 },
 "nbformat": 4,
 "nbformat_minor": 5
}
