{
 "cells": [
  {
   "cell_type": "code",
   "execution_count": null,
   "id": "5a06885b-c680-4d2f-b6b2-cecd2c72db26",
   "metadata": {},
   "outputs": [],
   "source": [
    "# 수학라이브러리 numpy\n"
   ]
  }
 ],
 "metadata": {
  "kernelspec": {
   "display_name": "Python 3",
   "language": "python",
   "name": "python3"
  },
  "language_info": {
   "codemirror_mode": {
    "name": "ipython",
    "version": 3
   },
   "file_extension": ".py",
   "mimetype": "text/x-python",
   "name": "python",
   "nbconvert_exporter": "python",
   "pygments_lexer": "ipython3",
   "version": "3.8.8"
  }
 },
 "nbformat": 4,
 "nbformat_minor": 5
}
