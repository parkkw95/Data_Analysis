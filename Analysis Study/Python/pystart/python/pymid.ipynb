{
 "cells": [
  {
   "cell_type": "markdown",
   "id": "ed0197a6-725a-4ebf-90a5-6d1ff96c8cb8",
   "metadata": {},
   "source": [
    "# 함수\n",
    "## 함수:기능 묶음 function\n",
    "* 목적\n",
    "    - 재사용성 극대화\n",
    "    - 논리적 프로그래밍 가능\n",
    "* 사용법\n",
    "    * 함수 선언\n",
    "        - def 함수명():\n",
    "    * 함수 호출\n",
    "        - 함수명()\n",
    "* 함수의 종류\n",
    "    * 함수위치\n",
    "        - 내장함수\n",
    "            * 출력함수 print ...\n",
    "            * 문자열함수 str ...\n",
    "        - 외장함수\n",
    "            * 사용자 정의\n",
    "            * 라이브러리\n",
    "    * 함수 입출력 관련\n",
    "        - 매개변수\n",
    "        - 반환값\n",
    "        "
   ]
  },
  {
   "cell_type": "code",
   "execution_count": 5,
   "id": "24e73e0c-aa47-4c59-9dbd-6f4ec9ada865",
   "metadata": {
    "collapsed": true,
    "jupyter": {
     "outputs_hidden": true
    },
    "tags": []
   },
   "outputs": [
    {
     "name": "stdout",
     "output_type": "stream",
     "text": [
      "hello\n",
      "hello\n",
      "hello\n",
      "hello\n",
      "hello\n",
      "hello\n",
      "hello\n",
      "hello\n",
      "hello\n",
      "hello\n"
     ]
    }
   ],
   "source": [
    "# 함수의 선언\n",
    "# 단순함수: 입력을 받지 않고 출력만 하기\n",
    "def myhello():\n",
    "    print('hello')\n",
    "# 함수의 호출\n",
    "for i in range(10):\n",
    "    myhello()"
   ]
  },
  {
   "cell_type": "code",
   "execution_count": 21,
   "id": "6893472c-4ff0-4540-b3ca-f0338ea797f8",
   "metadata": {},
   "outputs": [
    {
     "ename": "TypeError",
     "evalue": "sayhello() missing 1 required positional argument: 'hello'",
     "output_type": "error",
     "traceback": [
      "\u001b[1;31m---------------------------------------------------------------------------\u001b[0m",
      "\u001b[1;31mTypeError\u001b[0m                                 Traceback (most recent call last)",
      "\u001b[1;32m<ipython-input-21-2a7c1dee0213>\u001b[0m in \u001b[0;36m<module>\u001b[1;34m\u001b[0m\n\u001b[0;32m      4\u001b[0m     \u001b[0mprint\u001b[0m\u001b[1;33m(\u001b[0m\u001b[0mhello\u001b[0m\u001b[1;33m,\u001b[0m\u001b[1;34m' 번 학생 안녕하세요'\u001b[0m\u001b[1;33m)\u001b[0m\u001b[1;33m\u001b[0m\u001b[1;33m\u001b[0m\u001b[0m\n\u001b[0;32m      5\u001b[0m \u001b[1;31m# 함수 호출\u001b[0m\u001b[1;33m\u001b[0m\u001b[1;33m\u001b[0m\u001b[1;33m\u001b[0m\u001b[0m\n\u001b[1;32m----> 6\u001b[1;33m \u001b[0msayhello\u001b[0m\u001b[1;33m(\u001b[0m\u001b[1;33m)\u001b[0m\u001b[1;33m\u001b[0m\u001b[1;33m\u001b[0m\u001b[0m\n\u001b[0m",
      "\u001b[1;31mTypeError\u001b[0m: sayhello() missing 1 required positional argument: 'hello'"
     ]
    }
   ],
   "source": [
    "# 입력값이 있는 함수 : 매개변수 초기화\n",
    "# 다양한 변수를 통해 함수의 기능변화\n",
    "def sayhello(hello):\n",
    "    print(hello,' 번 학생 안녕하세요')\n",
    "# 함수 호출    \n",
    "sayhello()"
   ]
  },
  {
   "cell_type": "code",
   "execution_count": 12,
   "id": "ce5fc6de-de0b-436f-b24e-d024f6acdf2e",
   "metadata": {
    "tags": []
   },
   "outputs": [
    {
     "name": "stdout",
     "output_type": "stream",
     "text": [
      "0  번 학생 안녕하세요\n",
      "1  번 학생 안녕하세요\n",
      "2  번 학생 안녕하세요\n",
      "3  번 학생 안녕하세요\n",
      "4  번 학생 안녕하세요\n",
      "5  번 학생 안녕하세요\n",
      "6  번 학생 안녕하세요\n",
      "7  번 학생 안녕하세요\n",
      "8  번 학생 안녕하세요\n",
      "9  번 학생 안녕하세요\n"
     ]
    }
   ],
   "source": [
    "for i in range(10):\n",
    "    sayhello(i)"
   ]
  },
  {
   "cell_type": "code",
   "execution_count": 15,
   "id": "fe20add0-d17e-42b8-a435-9c74f98f07dd",
   "metadata": {},
   "outputs": [],
   "source": [
    "# 입력과 반환(return)이 있는 형태\n",
    "def helloName(man=''):\n",
    "    result= man+' 번 학생'\n",
    "    return result\n",
    "\n",
    "res=helloName('A')"
   ]
  },
  {
   "cell_type": "markdown",
   "id": "130ea6b5-d467-45a8-b48c-bd535cf8ce24",
   "metadata": {},
   "source": [
    "# 구구단 만들기\n",
    "* 프로그래밍 기획\n",
    "    - 가로와 세로의 숫자를 주면 해당크기까지의 구구단을 생성할것\n",
    "    - 3,2 1~3단까지의 매트릭스를 생성\n",
    "    - 기능 1\n",
    "        * 가로 헤더 만들기\n",
    "        * 세로 구분 만들기\n",
    "        * 내부 값 채우기 :filldata\n",
    "    - 기능 2\n",
    "        * 행만들기\n",
    "        * 열만들기\n",
    "    - 쉽게 만들기\n",
    "        1. 만들고 싶은 프로그래밍 예제를 먼저 한다\n",
    "        2. def 함수명() 로 감싼다\n",
    "        3. 매개변수 부분을 교체한다\n",
    "        4. 기타 기능을 수정한다."
   ]
  },
  {
   "cell_type": "code",
   "execution_count": 23,
   "id": "be7c3263-ec9f-40b8-8d5e-e0ffb5d7f544",
   "metadata": {
    "jupyter": {
     "source_hidden": true
    },
    "tags": []
   },
   "outputs": [],
   "source": [
    "def make99(h=1,v=1):\n",
    "    ..."
   ]
  },
  {
   "cell_type": "code",
   "execution_count": 31,
   "id": "26570132-5d14-4166-a128-a469f6edb089",
   "metadata": {
    "collapsed": true,
    "jupyter": {
     "outputs_hidden": true,
     "source_hidden": true
    },
    "tags": []
   },
   "outputs": [
    {
     "name": "stdout",
     "output_type": "stream",
     "text": [
      "구분\t1\t2\t3\t4\t\n",
      "1단\t1\t2\t3\t4\t\n",
      "2단\t2\t4\t6\t8\t\n",
      "3단\t3\t6\t9\t12\t"
     ]
    }
   ],
   "source": [
    "make99(4,3)"
   ]
  },
  {
   "cell_type": "raw",
   "id": "11b38136-9bfd-440a-aba6-d9e9cf24aa6c",
   "metadata": {
    "tags": []
   },
   "source": [
    "#예  make99(2,98,2,3)\n",
    "\n",
    "구분      2    3 ...   98 \n",
    "==========================\n",
    "2:       4    6 ...   196\n",
    "--------------------------\n",
    "3단      6    9 ...   288"
   ]
  },
  {
   "cell_type": "code",
   "execution_count": 1,
   "id": "51f86773-4ebd-4477-804d-5c439e37df30",
   "metadata": {},
   "outputs": [
    {
     "name": "stdout",
     "output_type": "stream",
     "text": [
      "구분\t1\t2\t3\t4\t\n",
      "1 :\t1\t2\t3\t4\t\n",
      "2 :\t2\t4\t6\t8\t\n",
      "3 :\t3\t6\t9\t12\t"
     ]
    }
   ],
   "source": [
    "# 홀수줄은 단으로 표시 짝수줄은 : 로 표시 원하는 구간만 구구단 만드는 예제 만들기\n",
    "#  make99(2,98,2,3)\n",
    "def makeHeader(b=5):\n",
    "    print('구분',end='\\t')\n",
    "    for i in range(1,b):\n",
    "        print(i,end='\\t')\n",
    "def vHeader(i):\n",
    "    print(i,':',end='\\t')\n",
    "    \n",
    "def fillData(a=4,b=5):\n",
    "    makeHeader(b)    \n",
    "    for i in range(1,a):\n",
    "        print('\\n',end='')\n",
    "        vHeader(i)\n",
    "        for j in range(1,b):\n",
    "            print(i*j,end='\\t')\n",
    "# 호출\n",
    "fillData()"
   ]
  },
  {
   "cell_type": "code",
   "execution_count": 31,
   "id": "71ba2d8e-323f-41e1-9f24-b34720864a14",
   "metadata": {},
   "outputs": [
    {
     "name": "stdout",
     "output_type": "stream",
     "text": [
      "구분\t3\t4\t5\t6\t7\t\n",
      "=================================================="
     ]
    }
   ],
   "source": [
    "# 헤더 만들기\n",
    "def mHeader(h1=2,h2=5):\n",
    "    print('구분',end='\\t')\n",
    "    for i in range(h1,h2+1):\n",
    "        print(i,end='\\t')\n",
    "    print(\"\\n\",end='')\n",
    "    print('='*10*(h2-h1+1),end='')\n",
    "mHeader(3,7)"
   ]
  },
  {
   "cell_type": "code",
   "execution_count": 32,
   "id": "75afa05d-e51f-441f-a6e9-481bae13aa20",
   "metadata": {
    "collapsed": true,
    "jupyter": {
     "outputs_hidden": true
    },
    "tags": []
   },
   "outputs": [
    {
     "name": "stdout",
     "output_type": "stream",
     "text": [
      "\n",
      "3 단\t6\t9\t12\t15\t\n",
      "----------------------------------------\n",
      "4 :\t8\t12\t16\t20\t\n",
      "----------------------------------------\n",
      "5 단\t10\t15\t20\t25\t\n",
      "----------------------------------------\n",
      "6 :\t12\t18\t24\t30\t\n",
      "----------------------------------------\n",
      "7 단\t14\t21\t28\t35\t\n",
      "----------------------------------------"
     ]
    }
   ],
   "source": [
    "def mvHeader(i):\n",
    "    if(i%2==0):\n",
    "        print(i,':',end='\\t')\n",
    "    else:\n",
    "        print(i,'단',end='\\t')\n",
    "\n",
    "def mfillData(h1=2,h2=5,v1=3,v2=7):    \n",
    "    for i in range(v1,v2+1):\n",
    "        print('\\n',end='')\n",
    "        mvHeader(i)\n",
    "        for j in range(h1,h2+1):\n",
    "            print(i*j,end='\\t')\n",
    "        print('\\n',end='')\n",
    "        print('-'*10*(h2-h1+1),end='')\n",
    "mfillData()"
   ]
  },
  {
   "cell_type": "code",
   "execution_count": 33,
   "id": "096ae05e-169a-43ce-aac8-87490fb7140f",
   "metadata": {},
   "outputs": [
    {
     "name": "stdout",
     "output_type": "stream",
     "text": [
      "구분\t2\t3\t4\t5\t\n",
      "========================================\n",
      "3 단\t6\t9\t12\t15\t\n",
      "----------------------------------------\n",
      "4 :\t8\t12\t16\t20\t\n",
      "----------------------------------------\n",
      "5 단\t10\t15\t20\t25\t\n",
      "----------------------------------------\n",
      "6 :\t12\t18\t24\t30\t\n",
      "----------------------------------------\n",
      "7 단\t14\t21\t28\t35\t\n",
      "----------------------------------------"
     ]
    }
   ],
   "source": [
    "def make99(h1=2,h2=5,v1=3,v2=7):  \n",
    "    mHeader(h1,h2)\n",
    "    mfillData(h1,h2,v1,v2)\n",
    "make99()"
   ]
  },
  {
   "cell_type": "code",
   "execution_count": null,
   "id": "72884bed-0dc0-4519-a510-6f25d1abfe72",
   "metadata": {},
   "outputs": [],
   "source": [
    "#피보나치 수열 만들기\n",
    "* 이전에 나온 숫자 2개를 더한숫자가 다음에 나열될것\n",
    "* 30개 피보나치 수열을 만들고 \n",
    "* 그 중 3의 배수가 되는 숫자의 총합을 계산할것\n",
    "0,1,1\n",
    "0,1,1,2\n",
    "0,1,1,2,3\n",
    "0,1,1,2,3,5\n"
   ]
  },
  {
   "cell_type": "code",
   "execution_count": 50,
   "id": "73e76659-7a33-4bb4-95bc-bf6808f752d2",
   "metadata": {},
   "outputs": [
    {
     "name": "stdout",
     "output_type": "stream",
     "text": [
      "32 : [0, 1, 1, 2, 3, 5, 8, 13, 21, 34, 55, 89, 144, 233, 377, 610, 987, 1597, 2584, 4181, 6765, 10946, 17711, 28657, 46368, 75025, 121393, 196418, 317811, 514229, 832040, 1346269] | 372099\n"
     ]
    }
   ],
   "source": [
    "# 리스트 내부에 특정숫자로 나눠지는 요소의 합을 반환\n",
    "def insum(seedlist=[]):\n",
    "    ans=0\n",
    "    for fi in fiseed:\n",
    "        if(fi%3==0):\n",
    "            ans=ans+fi\n",
    "    return ans\n",
    "\n",
    "def makefi(n=1):\n",
    "    fiseed=[0,1]\n",
    "    for i in range(n):\n",
    "        nfi=fiseed[i]+fiseed[i+1]\n",
    "        fiseed.append(nfi)\n",
    "        ans=insum(fiseed)            \n",
    "    print(i+3,':',fiseed,'|',ans)\n",
    "\n",
    "makefi(30)\n"
   ]
  },
  {
   "cell_type": "code",
   "execution_count": 51,
   "id": "e4fc9d11-fb46-464a-a0d0-87d3fc8766ba",
   "metadata": {},
   "outputs": [
    {
     "name": "stdin",
     "output_type": "stream",
     "text": [
      " 2\n"
     ]
    },
    {
     "name": "stdout",
     "output_type": "stream",
     "text": [
      "2\n"
     ]
    }
   ],
   "source": []
  },
  {
   "cell_type": "code",
   "execution_count": null,
   "id": "8fa52c5c-7240-4e33-8318-062710754f36",
   "metadata": {},
   "outputs": [],
   "source": []
  }
 ],
 "metadata": {
  "kernelspec": {
   "display_name": "Python 3",
   "language": "python",
   "name": "python3"
  },
  "language_info": {
   "codemirror_mode": {
    "name": "ipython",
    "version": 3
   },
   "file_extension": ".py",
   "mimetype": "text/x-python",
   "name": "python",
   "nbconvert_exporter": "python",
   "pygments_lexer": "ipython3",
   "version": "3.8.8"
  }
 },
 "nbformat": 4,
 "nbformat_minor": 5
}
