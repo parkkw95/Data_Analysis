{
 "cells": [
  {
   "cell_type": "markdown",
   "id": "91dd8540-b219-4a92-a1a8-78094c3a4c2f",
   "metadata": {},
   "source": [
    "### 논리연산\n",
    "|논리연산자|의미|활용|설명\n",
    "|---|---|---|---|\n",
    "|and|논리곱|a and b| a,b 가 참일때만 하나만 거짓이어도 거짓|\n",
    "|or|논리합|a or b| a,b 가 둘다 거짓일때 거짓 하나만 참이어도 참|\n",
    "|not|논리부정|not a | 논리의 반대 a가 참이면 부정으로 바뀜|\n",
    "\n",
    "\n",
    "### 비교\n",
    "|비교연산자|의미|활용|설명\n",
    "|---|---|---|---|\n",
    "|==|같다|a == b| a,b 가 같다|\n",
    "|!=|다르다|a != b| a,b 가 다르다|\n",
    "|>,<,>=,<= |비교연산|a >= b | a가 b 보다 크거나 같다|\n"
   ]
  },
  {
   "cell_type": "markdown",
   "id": "9bec5e3d-97e0-4b60-b95e-1c889348ee6b",
   "metadata": {},
   "source": [
    "### 리스트\n",
    "* [ ] 대괄호 이용\n",
    "* 리스트 덧셈: 이어 붙여 준다\n",
    "* 리스트 곱셈: 반복 생성해준다\n",
    "* 리스트 슬라이스: 일부분 가져오기\n",
    "* 리스트 메서드\n",
    "\n",
    "|메서드|설명|활용|\n",
    "|---|---|---|\n",
    "|append(값)|마지막에 추가|listdata.append(1)|\n",
    "|insert(위치,값)|특정 위치에 값 삽입|listdata.insert(2,'서울')|\n",
    "|extend(리스트값)| 리스트값을 뒤에 추가 |listdata.extend(['부산','광주'])\n",
    "|remove(값)|리스트에서 해당값을 삭제| listdata.remove('제주')|\n",
    "|pop()|리스트에서 마지막 요소를 추출|listdata.pop()|\n",
    "|index(값)| 값을 찾아서 인덱스 반환|listdata.index('인천')|\n",
    "|count(값)| 값의 갯수를 반환|listdata.count('인천')|\n",
    "|sort()| 오름차순 정렬|listdata.sort(reverse=False)|\n",
    "|reverse()|순서 뒤집기메서드\t설명\t활용|listdata.reverse()|\n"
   ]
  },
  {
   "cell_type": "code",
   "execution_count": 2,
   "id": "b2626cce-5052-4354-a23c-34ca94a46442",
   "metadata": {},
   "outputs": [
    {
     "name": "stdout",
     "output_type": "stream",
     "text": [
      "[1, 2, 3, 4, 5, 6]\n"
     ]
    }
   ],
   "source": [
    "# append\n",
    "li=[1,2,3,4,5]\n",
    "li.append(6)\n",
    "print(li)"
   ]
  },
  {
   "cell_type": "code",
   "execution_count": 3,
   "id": "f69b7d74-f174-4e98-b262-a6b39733c662",
   "metadata": {},
   "outputs": [
    {
     "name": "stdout",
     "output_type": "stream",
     "text": [
      "[1, 2, '서울', 3, 4, 5, 6]\n"
     ]
    }
   ],
   "source": [
    "# insert\n",
    "li.insert(2,'서울')\n",
    "print(li)"
   ]
  },
  {
   "cell_type": "code",
   "execution_count": 4,
   "id": "3c2d3b61-97ae-4527-b3da-d83378eb291b",
   "metadata": {},
   "outputs": [
    {
     "name": "stdout",
     "output_type": "stream",
     "text": [
      "[1, 2, '서울', 3, 4, 5, 6, '부산', '광주']\n"
     ]
    }
   ],
   "source": [
    "# extend\n",
    "li.extend(['부산','광주'])\n",
    "print(li)"
   ]
  },
  {
   "cell_type": "code",
   "execution_count": 5,
   "id": "a8ce6e5f-3739-41f5-be4a-ea7ab0b6526b",
   "metadata": {},
   "outputs": [
    {
     "name": "stdout",
     "output_type": "stream",
     "text": [
      "[1, 2, '서울', 3, 4, 5, 6, '부산', '광주', '제주', '인천']\n"
     ]
    }
   ],
   "source": [
    "# 리스트 합\n",
    "li=li+['제주','인천']\n",
    "print(li)"
   ]
  },
  {
   "cell_type": "code",
   "execution_count": 7,
   "id": "d9a2951e-631a-403b-b66a-732925cd79c9",
   "metadata": {},
   "outputs": [
    {
     "name": "stdout",
     "output_type": "stream",
     "text": [
      "[1, 2, '서울', 3, '제주', '제주', 4, 5, 6, '부산', '광주', '제주', '인천']\n"
     ]
    }
   ],
   "source": [
    "li.insert(4,'제주')\n",
    "print(li)"
   ]
  },
  {
   "cell_type": "code",
   "execution_count": 8,
   "id": "f03873eb-2ea7-472b-8bae-3d6dd75bdaed",
   "metadata": {},
   "outputs": [
    {
     "name": "stdout",
     "output_type": "stream",
     "text": [
      "[1, 2, '서울', 3, 4, 5, 6, '부산', '광주', '제주', '인천']\n"
     ]
    }
   ],
   "source": [
    "# 한번에 하나씩 없애줌\n",
    "li.remove('제주')\n",
    "print(li)"
   ]
  },
  {
   "cell_type": "code",
   "execution_count": 9,
   "id": "ff8db8bc-3ce2-436b-99cd-c25bbe88b36d",
   "metadata": {},
   "outputs": [
    {
     "name": "stdout",
     "output_type": "stream",
     "text": [
      "[1, 2, '서울', 3, 4, 5, 6, '부산', '광주', '인천']\n"
     ]
    }
   ],
   "source": [
    "li.remove('제주')\n",
    "print(li)"
   ]
  },
  {
   "cell_type": "code",
   "execution_count": 10,
   "id": "6786ce03-1194-4957-afa6-39cf7ddfe3b3",
   "metadata": {},
   "outputs": [
    {
     "name": "stdout",
     "output_type": "stream",
     "text": [
      "인천\n"
     ]
    }
   ],
   "source": [
    "# pop\n",
    "lastdata=li.pop()\n",
    "print(lastdata)"
   ]
  },
  {
   "cell_type": "code",
   "execution_count": 11,
   "id": "a81ca569-2815-405e-8e08-b15d6fcef75d",
   "metadata": {},
   "outputs": [
    {
     "data": {
      "text/plain": [
       "'광주'"
      ]
     },
     "execution_count": 11,
     "metadata": {},
     "output_type": "execute_result"
    }
   ],
   "source": [
    "li[-1]"
   ]
  },
  {
   "cell_type": "code",
   "execution_count": 12,
   "id": "9448ed4e-8343-4d86-9fba-d744514f975b",
   "metadata": {},
   "outputs": [
    {
     "ename": "ValueError",
     "evalue": "'인천' is not in list",
     "output_type": "error",
     "traceback": [
      "\u001b[1;31m---------------------------------------------------------------------------\u001b[0m",
      "\u001b[1;31mValueError\u001b[0m                                Traceback (most recent call last)",
      "\u001b[1;32m<ipython-input-12-892d548574c1>\u001b[0m in \u001b[0;36m<module>\u001b[1;34m\u001b[0m\n\u001b[1;32m----> 1\u001b[1;33m \u001b[0mli\u001b[0m\u001b[1;33m.\u001b[0m\u001b[0mindex\u001b[0m\u001b[1;33m(\u001b[0m\u001b[1;34m'인천'\u001b[0m\u001b[1;33m)\u001b[0m\u001b[1;33m\u001b[0m\u001b[1;33m\u001b[0m\u001b[0m\n\u001b[0m",
      "\u001b[1;31mValueError\u001b[0m: '인천' is not in list"
     ]
    }
   ],
   "source": [
    "li.index('인천')"
   ]
  },
  {
   "cell_type": "code",
   "execution_count": 13,
   "id": "bbe20023-fed0-4d1c-be4e-9eb7eadd0744",
   "metadata": {},
   "outputs": [
    {
     "data": {
      "text/plain": [
       "7"
      ]
     },
     "execution_count": 13,
     "metadata": {},
     "output_type": "execute_result"
    }
   ],
   "source": [
    "li.index('부산')"
   ]
  },
  {
   "cell_type": "code",
   "execution_count": 16,
   "id": "d3c68bf8-f78c-430e-b689-6ff659dc46a0",
   "metadata": {},
   "outputs": [
    {
     "data": {
      "text/plain": [
       "True"
      ]
     },
     "execution_count": 16,
     "metadata": {},
     "output_type": "execute_result"
    }
   ],
   "source": [
    "'부산' in li"
   ]
  },
  {
   "cell_type": "code",
   "execution_count": 17,
   "id": "1215a33b-0f32-4aec-b346-2a8856fe410e",
   "metadata": {},
   "outputs": [
    {
     "data": {
      "text/plain": [
       "0"
      ]
     },
     "execution_count": 17,
     "metadata": {},
     "output_type": "execute_result"
    }
   ],
   "source": [
    "li.count('인천')"
   ]
  },
  {
   "cell_type": "code",
   "execution_count": 18,
   "id": "d3acddee-0eb3-4c40-90ff-71dbb3ca8a64",
   "metadata": {},
   "outputs": [
    {
     "data": {
      "text/plain": [
       "1"
      ]
     },
     "execution_count": 18,
     "metadata": {},
     "output_type": "execute_result"
    }
   ],
   "source": [
    "# 해당 요소 갯수\n",
    "li.count('부산')"
   ]
  },
  {
   "cell_type": "code",
   "execution_count": 19,
   "id": "aca37282-6ccb-40d1-8c60-f666fa82aad4",
   "metadata": {},
   "outputs": [
    {
     "data": {
      "text/plain": [
       "9"
      ]
     },
     "execution_count": 19,
     "metadata": {},
     "output_type": "execute_result"
    }
   ],
   "source": [
    "# 전체 갯수\n",
    "len(li)"
   ]
  },
  {
   "cell_type": "code",
   "execution_count": 26,
   "id": "b5fb6379-b92b-4b06-8b76-08bc779005f8",
   "metadata": {},
   "outputs": [
    {
     "name": "stdout",
     "output_type": "stream",
     "text": [
      "[1, 4, 2, 5, 3, 7, 2]\n",
      "[1, 2, 2, 3, 4, 5, 7]\n"
     ]
    }
   ],
   "source": [
    "ili=[1,4,2,5,3,7,2]\n",
    "print(ili)\n",
    "ili.sort()\n",
    "print(ili)"
   ]
  },
  {
   "cell_type": "code",
   "execution_count": 27,
   "id": "38ee42c2-62c2-4736-86d9-bcc13eaaff14",
   "metadata": {},
   "outputs": [
    {
     "name": "stdout",
     "output_type": "stream",
     "text": [
      "[1, 4, 2, 5, 3, 7, 2]\n",
      "[2, 7, 3, 5, 2, 4, 1]\n"
     ]
    }
   ],
   "source": [
    "# reverse 뒤집기\n",
    "ili=[1,4,2,5,3,7,2]\n",
    "print(ili)\n",
    "ili.reverse()\n",
    "print(ili)"
   ]
  },
  {
   "cell_type": "code",
   "execution_count": 29,
   "id": "3e2cbf3e-06af-4158-8422-c47a33066967",
   "metadata": {},
   "outputs": [
    {
     "name": "stdout",
     "output_type": "stream",
     "text": [
      "[1, 4, 2, 5, 3, 7, 2]\n",
      "[7, 5, 4, 3, 2, 2, 1]\n"
     ]
    }
   ],
   "source": [
    "# 정렬하고 뒤집기\n",
    "ili=[1,4,2,5,3,7,2]\n",
    "print(ili)\n",
    "ili.sort()\n",
    "ili.reverse()\n",
    "print(ili)"
   ]
  },
  {
   "cell_type": "code",
   "execution_count": 30,
   "id": "a6044d6e-2ae8-40ba-b700-67cd072b9845",
   "metadata": {},
   "outputs": [
    {
     "name": "stdout",
     "output_type": "stream",
     "text": [
      "[1, 4, 2, 5, 3, 7, 2]\n",
      "[7, 5, 4, 3, 2, 2, 1]\n"
     ]
    }
   ],
   "source": [
    "# 정렬하고 뒤집기\n",
    "ili=[1,4,2,5,3,7,2]\n",
    "print(ili)\n",
    "ili.sort(reverse=True)\n",
    "print(ili)"
   ]
  },
  {
   "cell_type": "markdown",
   "id": "2214c7ce-919e-4548-924c-de3cf5293747",
   "metadata": {},
   "source": [
    "### 셋 {}\n",
    "* 집합 중복없는 리스트 {}\n",
    "* 메서드\n",
    "|메서드|설명|활용|\n",
    "|---|---|---|\n",
    "|intersection|교집합|공통 부분만 추출|\n",
    "|union \\||합집합| 공통부분의 중복을 피한 요소의 합|\n",
    "|difference -|차집합| 공통부분 제거|"
   ]
  },
  {
   "cell_type": "code",
   "execution_count": 40,
   "id": "3cc9830a-c37b-4dea-a1f2-87752b1a8133",
   "metadata": {},
   "outputs": [
    {
     "name": "stdout",
     "output_type": "stream",
     "text": [
      "{1, 2, 3, 4, 5} {4, 5, 6, 7}\n",
      "교집합: {4, 5}\n",
      "합집합: {1, 2, 3, 4, 5, 6, 7} {1, 2, 3, 4, 5, 6, 7}\n",
      "차집합: {1, 2, 3} {1, 2, 3}\n"
     ]
    }
   ],
   "source": [
    "# 셋: 집합 중복없는 리스트 {}\n",
    "s1={1,2,3,4,4,5,5}\n",
    "s2={4,4,5,6,7}\n",
    "print(s1,s2)\n",
    "sinter=s1.intersection(s2)\n",
    "print('교집합:',sinter)\n",
    "sunion=s1.union(s2)\n",
    "su=s1|s2\n",
    "print('합집합:',sunion,su)\n",
    "sd=s1-s2\n",
    "sdiff=s1.difference(s2)\n",
    "print('차집합:',sdiff,sd)"
   ]
  },
  {
   "cell_type": "code",
   "execution_count": 44,
   "id": "063c8dd4-0457-45fb-98b4-d2785db74deb",
   "metadata": {},
   "outputs": [
    {
     "name": "stdout",
     "output_type": "stream",
     "text": [
      "[1, 2, 3] <class 'list'>\n",
      "(1, 2, 3) <class 'tuple'>\n",
      "{1, 2, 3} <class 'set'>\n"
     ]
    }
   ],
   "source": [
    "# 타입변환\n",
    "ldata=[1,2,3]\n",
    "print(ldata,type(ldata))\n",
    "tdata=tuple(ldata)\n",
    "print(tdata,type(tdata))\n",
    "sdata=set(ldata)\n",
    "print(sdata,type(sdata))"
   ]
  },
  {
   "cell_type": "markdown",
   "id": "3ebe875a-18b7-48d0-9ba3-cdd13d4d7489",
   "metadata": {},
   "source": [
    "### 딕셔너리\n",
    "* method\n",
    "\n",
    "|메서드|설명|활용|\n",
    "|---|---|---|\n",
    "|keys()|키값만 가져오기|dict.keys()|\n",
    "|values()|밸류값만 가져오기|dict.values()|\n",
    "|items()|키값 밸류값 가져오기|dict.items()|\n",
    "|update(키,밸류)|해당키의 밸류를 업데이트|dict.update(키,밸류)|\n",
    "|clear()| 내용 비우기|dict.clear()|\n",
    "| del(dict[키])| 해당 키만 지우기| del(dict[키])|\n"
   ]
  },
  {
   "cell_type": "code",
   "execution_count": 45,
   "id": "a4002e97-0ce2-4cc6-b2a9-e473f25fe2b4",
   "metadata": {},
   "outputs": [
    {
     "data": {
      "text/plain": [
       "dict_keys(['한국', '일본', '중국'])"
      ]
     },
     "execution_count": 45,
     "metadata": {},
     "output_type": "execute_result"
    }
   ],
   "source": [
    "#키값만 가져오기 keys()\n",
    "dicta={'한국':'서울','일본':'도쿄','중국':'베이징'}\n",
    "dicta.keys()"
   ]
  },
  {
   "cell_type": "code",
   "execution_count": 46,
   "id": "b72c3877-0b28-4e81-9594-271bb71e7cb4",
   "metadata": {},
   "outputs": [
    {
     "data": {
      "text/plain": [
       "dict_values(['서울', '도쿄', '베이징'])"
      ]
     },
     "execution_count": 46,
     "metadata": {},
     "output_type": "execute_result"
    }
   ],
   "source": [
    "# 값만 가져오기\n",
    "dicta.values()"
   ]
  },
  {
   "cell_type": "code",
   "execution_count": 47,
   "id": "f6ae0544-7b6e-4357-a9c9-8369e769b3c3",
   "metadata": {},
   "outputs": [
    {
     "data": {
      "text/plain": [
       "dict_items([('한국', '서울'), ('일본', '도쿄'), ('중국', '베이징')])"
      ]
     },
     "execution_count": 47,
     "metadata": {},
     "output_type": "execute_result"
    }
   ],
   "source": [
    "# 아이템 가져오기\n",
    "dicta.items()"
   ]
  },
  {
   "cell_type": "code",
   "execution_count": 49,
   "id": "ea226878-b144-474f-9139-1d032d88e6f2",
   "metadata": {},
   "outputs": [
    {
     "name": "stdout",
     "output_type": "stream",
     "text": [
      "한국  의 수도는  서울  입니다.\n",
      "일본  의 수도는  도쿄  입니다.\n",
      "중국  의 수도는  베이징  입니다.\n"
     ]
    }
   ],
   "source": [
    "for k,v in dicta.items():\n",
    "    print(k,' 의 수도는 ',v,' 입니다.')"
   ]
  },
  {
   "cell_type": "code",
   "execution_count": 55,
   "id": "e35214fc-27c3-428c-8b08-c0771e08f4f6",
   "metadata": {},
   "outputs": [
    {
     "data": {
      "text/plain": [
       "{'한국': '서울', '일본': '도쿄', '중국': '상하이'}"
      ]
     },
     "execution_count": 55,
     "metadata": {},
     "output_type": "execute_result"
    }
   ],
   "source": [
    "# 키가 존재하면 수정\n",
    "dicta.update({'중국':'상하이'})\n",
    "dicta"
   ]
  },
  {
   "cell_type": "code",
   "execution_count": 56,
   "id": "8ea20a0a-24c4-4e35-8d79-df1727ad3877",
   "metadata": {},
   "outputs": [
    {
     "data": {
      "text/plain": [
       "{'한국': '서울', '일본': '도쿄', '중국': '상하이', '미국': '워싱턴'}"
      ]
     },
     "execution_count": 56,
     "metadata": {},
     "output_type": "execute_result"
    }
   ],
   "source": [
    "# 없는 요소는 생성\n",
    "dicta.update({'미국':'워싱턴'})\n",
    "dicta"
   ]
  },
  {
   "cell_type": "code",
   "execution_count": 59,
   "id": "1370218a-fe8c-4ce7-acaa-e93f2723503e",
   "metadata": {},
   "outputs": [
    {
     "data": {
      "text/plain": [
       "{'한국': '서울', '일본': '도쿄', '중국': '상하이', '미국': '워싱턴', '프랑스': '파리'}"
      ]
     },
     "execution_count": 59,
     "metadata": {},
     "output_type": "execute_result"
    }
   ],
   "source": [
    "# 키 밸류 직접 지정\n",
    "dicta['프랑스']='파리'\n",
    "dicta"
   ]
  },
  {
   "cell_type": "code",
   "execution_count": null,
   "id": "3a0e9834-12d6-4f5b-87ef-3f148911ff91",
   "metadata": {},
   "outputs": [],
   "source": []
  }
 ],
 "metadata": {
  "kernelspec": {
   "display_name": "Python 3",
   "language": "python",
   "name": "python3"
  },
  "language_info": {
   "codemirror_mode": {
    "name": "ipython",
    "version": 3
   },
   "file_extension": ".py",
   "mimetype": "text/x-python",
   "name": "python",
   "nbconvert_exporter": "python",
   "pygments_lexer": "ipython3",
   "version": "3.8.8"
  }
 },
 "nbformat": 4,
 "nbformat_minor": 5
}
