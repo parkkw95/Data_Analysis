{
 "cells": [
  {
   "cell_type": "markdown",
   "id": "ae93ec4b-1f65-4232-882b-ff0e86c72e86",
   "metadata": {},
   "source": [
    "###  금융\n",
    "* 금융의 역할\n",
    "\n",
    "* 금융 지표"
   ]
  }
 ],
 "metadata": {
  "kernelspec": {
   "display_name": "Python 3",
   "language": "python",
   "name": "python3"
  },
  "language_info": {
   "codemirror_mode": {
    "name": "ipython",
    "version": 3
   },
   "file_extension": ".py",
   "mimetype": "text/x-python",
   "name": "python",
   "nbconvert_exporter": "python",
   "pygments_lexer": "ipython3",
   "version": "3.8.8"
  }
 },
 "nbformat": 4,
 "nbformat_minor": 5
}
