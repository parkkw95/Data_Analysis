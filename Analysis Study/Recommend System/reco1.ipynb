{
 "cells": [
  {
   "cell_type": "markdown",
   "id": "07b247ea-16c1-4e28-be4e-91bad9f42c8d",
   "metadata": {},
   "source": [
    "### 추천시스템\n",
    "* 구분\n",
    "    - 컨텐츠기반 필터링(Content-Based Filtering:CB)\n",
    "        - 사용자가 선택한 컨텐츠와 비슷한 컨텐츠를 추천\n",
    "        - NLP,태그,주제,작가..등\n",
    "        - 유사 사용자 추천 방식\n",
    "        \n",
    "    - 협업기반 필터링(Collaborative Filtering:CF)\n",
    "        - 구매 패턴이 비슷 한 사용자 집단으로 가정하고 추천\n",
    "        \n",
    "        \n",
    "    "
   ]
  },
  {
   "cell_type": "code",
   "execution_count": null,
   "id": "ddecd8c4-30c4-49bc-9387-52c04c616960",
   "metadata": {},
   "outputs": [],
   "source": []
  },
  {
   "cell_type": "code",
   "execution_count": 1,
   "id": "9a4fb7cd-95e4-481c-8725-86301fc7e9a8",
   "metadata": {},
   "outputs": [],
   "source": [
    "import numpy as np\n",
    "import pandas as pd\n",
    "import matplotlib.pyplot as plt"
   ]
  },
  {
   "cell_type": "code",
   "execution_count": 2,
   "id": "ce553ffa-535b-4da2-b34e-e81ec7c0ca92",
   "metadata": {},
   "outputs": [
    {
     "name": "stdout",
     "output_type": "stream",
     "text": [
      "-0.9999999999999998\n"
     ]
    }
   ],
   "source": [
    "from numpy import dot\n",
    "from numpy.linalg import norm\n",
    "# 코사인유사도\n",
    "# 두 벡터간의 각과  이용하여 유사도 측정\n",
    "# -1 ~ 1 -1: 반대 취향 1: 적합 취향\n",
    "def cos_sim(a,b):\n",
    "    return dot(a,b)/(norm(a)*norm(b))\n",
    "cosres=cos_sim([1,1],[-1,-1])\n",
    "print(cosres)"
   ]
  },
  {
   "cell_type": "code",
   "execution_count": 3,
   "id": "9cba01ab-9d0e-48fb-a684-8c1b34c4c637",
   "metadata": {},
   "outputs": [
    {
     "name": "stdout",
     "output_type": "stream",
     "text": [
      "2.8284271247461903 0.0\n"
     ]
    }
   ],
   "source": [
    "# 유클리드 유사도\n",
    "# 두 벡터간의 거리를 이용하여 유사도 측정\n",
    "def dist(al=[],bl=[]):\n",
    "    a=np.array(al)\n",
    "    b=np.array(bl)\n",
    "    return np.sqrt(np.sum((a-b)**2))\n",
    "d1=dist([1,1],[-1,-1])\n",
    "d2=dist([1,1],[1,1])\n",
    "print(d1,d2)"
   ]
  },
  {
   "cell_type": "code",
   "execution_count": 4,
   "id": "000b8883-c0db-4b3a-b8d2-96ca585daf2f",
   "metadata": {
    "tags": []
   },
   "outputs": [
    {
     "data": {
      "text/html": [
       "<div>\n",
       "<style scoped>\n",
       "    .dataframe tbody tr th:only-of-type {\n",
       "        vertical-align: middle;\n",
       "    }\n",
       "\n",
       "    .dataframe tbody tr th {\n",
       "        vertical-align: top;\n",
       "    }\n",
       "\n",
       "    .dataframe thead th {\n",
       "        text-align: right;\n",
       "    }\n",
       "</style>\n",
       "<table border=\"1\" class=\"dataframe\">\n",
       "  <thead>\n",
       "    <tr style=\"text-align: right;\">\n",
       "      <th></th>\n",
       "      <th>수퍼맨</th>\n",
       "      <th>스파이더맨</th>\n",
       "      <th>원더우먼</th>\n",
       "      <th>헐크</th>\n",
       "      <th>배트맨</th>\n",
       "    </tr>\n",
       "  </thead>\n",
       "  <tbody>\n",
       "    <tr>\n",
       "      <th>0</th>\n",
       "      <td>2.0</td>\n",
       "      <td>3.0</td>\n",
       "      <td>NaN</td>\n",
       "      <td>4.0</td>\n",
       "      <td>NaN</td>\n",
       "    </tr>\n",
       "    <tr>\n",
       "      <th>1</th>\n",
       "      <td>1.0</td>\n",
       "      <td>NaN</td>\n",
       "      <td>2.0</td>\n",
       "      <td>NaN</td>\n",
       "      <td>5.0</td>\n",
       "    </tr>\n",
       "    <tr>\n",
       "      <th>2</th>\n",
       "      <td>2.0</td>\n",
       "      <td>4.0</td>\n",
       "      <td>1.0</td>\n",
       "      <td>4.0</td>\n",
       "      <td>1.0</td>\n",
       "    </tr>\n",
       "    <tr>\n",
       "      <th>3</th>\n",
       "      <td>NaN</td>\n",
       "      <td>5.0</td>\n",
       "      <td>1.0</td>\n",
       "      <td>4.0</td>\n",
       "      <td>NaN</td>\n",
       "    </tr>\n",
       "    <tr>\n",
       "      <th>4</th>\n",
       "      <td>3.0</td>\n",
       "      <td>4.0</td>\n",
       "      <td>NaN</td>\n",
       "      <td>4.0</td>\n",
       "      <td>NaN</td>\n",
       "    </tr>\n",
       "  </tbody>\n",
       "</table>\n",
       "</div>"
      ],
      "text/plain": [
       "   수퍼맨  스파이더맨  원더우먼   헐크  배트맨\n",
       "0  2.0    3.0   NaN  4.0  NaN\n",
       "1  1.0    NaN   2.0  NaN  5.0\n",
       "2  2.0    4.0   1.0  4.0  1.0\n",
       "3  NaN    5.0   1.0  4.0  NaN\n",
       "4  3.0    4.0   NaN  4.0  NaN"
      ]
     },
     "execution_count": 4,
     "metadata": {},
     "output_type": "execute_result"
    }
   ],
   "source": [
    "## 컨텐츠 기반 필터링\n",
    "data=[[2,3,None,4,None],\n",
    "      [1,None,2,None,5],\n",
    "      [2,4,1,4,1],\n",
    "      [None,5,1,4,None],\n",
    "      [3,4,None,4,None]]\n",
    "cols=['수퍼맨','스파이더맨','원더우먼','헐크','배트맨']\n",
    "herodf=pd.DataFrame(data,columns=cols)\n",
    "herodf.head()"
   ]
  },
  {
   "cell_type": "code",
   "execution_count": 5,
   "id": "d12cf87b-3591-4ee8-94d4-35c8d690b8c9",
   "metadata": {
    "tags": []
   },
   "outputs": [
    {
     "data": {
      "text/html": [
       "<div>\n",
       "<style scoped>\n",
       "    .dataframe tbody tr th:only-of-type {\n",
       "        vertical-align: middle;\n",
       "    }\n",
       "\n",
       "    .dataframe tbody tr th {\n",
       "        vertical-align: top;\n",
       "    }\n",
       "\n",
       "    .dataframe thead th {\n",
       "        text-align: right;\n",
       "    }\n",
       "</style>\n",
       "<table border=\"1\" class=\"dataframe\">\n",
       "  <thead>\n",
       "    <tr style=\"text-align: right;\">\n",
       "      <th></th>\n",
       "      <th>수퍼맨</th>\n",
       "      <th>스파이더맨</th>\n",
       "      <th>원더우먼</th>\n",
       "      <th>헐크</th>\n",
       "      <th>배트맨</th>\n",
       "    </tr>\n",
       "  </thead>\n",
       "  <tbody>\n",
       "    <tr>\n",
       "      <th>0</th>\n",
       "      <td>2.0</td>\n",
       "      <td>3.0</td>\n",
       "      <td>0.0</td>\n",
       "      <td>4.0</td>\n",
       "      <td>0.0</td>\n",
       "    </tr>\n",
       "    <tr>\n",
       "      <th>1</th>\n",
       "      <td>1.0</td>\n",
       "      <td>0.0</td>\n",
       "      <td>2.0</td>\n",
       "      <td>0.0</td>\n",
       "      <td>5.0</td>\n",
       "    </tr>\n",
       "    <tr>\n",
       "      <th>2</th>\n",
       "      <td>2.0</td>\n",
       "      <td>4.0</td>\n",
       "      <td>1.0</td>\n",
       "      <td>4.0</td>\n",
       "      <td>1.0</td>\n",
       "    </tr>\n",
       "    <tr>\n",
       "      <th>3</th>\n",
       "      <td>0.0</td>\n",
       "      <td>5.0</td>\n",
       "      <td>1.0</td>\n",
       "      <td>4.0</td>\n",
       "      <td>0.0</td>\n",
       "    </tr>\n",
       "    <tr>\n",
       "      <th>4</th>\n",
       "      <td>3.0</td>\n",
       "      <td>4.0</td>\n",
       "      <td>0.0</td>\n",
       "      <td>4.0</td>\n",
       "      <td>0.0</td>\n",
       "    </tr>\n",
       "  </tbody>\n",
       "</table>\n",
       "</div>"
      ],
      "text/plain": [
       "   수퍼맨  스파이더맨  원더우먼   헐크  배트맨\n",
       "0  2.0    3.0   0.0  4.0  0.0\n",
       "1  1.0    0.0   2.0  0.0  5.0\n",
       "2  2.0    4.0   1.0  4.0  1.0\n",
       "3  0.0    5.0   1.0  4.0  0.0\n",
       "4  3.0    4.0   0.0  4.0  0.0"
      ]
     },
     "execution_count": 5,
     "metadata": {},
     "output_type": "execute_result"
    }
   ],
   "source": [
    "wdf=herodf.fillna(0)\n",
    "wdf.head()"
   ]
  },
  {
   "cell_type": "code",
   "execution_count": 6,
   "id": "0bdea4be-0bb4-43ab-a4b3-f9aa9dadad17",
   "metadata": {},
   "outputs": [
    {
     "data": {
      "text/plain": [
       "array([[2., 3., 0., 4.],\n",
       "       [1., 0., 2., 0.],\n",
       "       [2., 4., 1., 4.],\n",
       "       [0., 5., 1., 4.],\n",
       "       [3., 4., 0., 4.]])"
      ]
     },
     "execution_count": 6,
     "metadata": {},
     "output_type": "execute_result"
    }
   ],
   "source": [
    "wval=wdf.iloc[:,:4].values\n",
    "wval"
   ]
  },
  {
   "cell_type": "code",
   "execution_count": 7,
   "id": "e62cdfed-769f-4505-bfba-c52358820808",
   "metadata": {},
   "outputs": [
    {
     "name": "stdout",
     "output_type": "stream",
     "text": [
      "0 1 : [2. 3. 0. 4.] - [1. 0. 2. 0.] : 0.17 , 5.0\n",
      "0 2 : [2. 3. 0. 4.] - [2. 4. 1. 4.] : 0.98 , 1.0\n",
      "0 3 : [2. 3. 0. 4.] - [0. 5. 1. 4.] : 0.89 , 3.0\n",
      "0 4 : [2. 3. 0. 4.] - [3. 4. 0. 4.] : 0.99 , 1.0\n",
      "1 2 : [1. 0. 2. 0.] - [2. 4. 1. 4.] : 0.29 , 6.0\n",
      "1 3 : [1. 0. 2. 0.] - [0. 5. 1. 4.] : 0.14 , 7.0\n",
      "1 4 : [1. 0. 2. 0.] - [3. 4. 0. 4.] : 0.21 , 6.0\n",
      "2 3 : [2. 4. 1. 4.] - [0. 5. 1. 4.] : 0.94 , 2.0\n",
      "2 4 : [2. 4. 1. 4.] - [3. 4. 0. 4.] : 0.98 , 1.0\n",
      "3 4 : [0. 5. 1. 4.] - [3. 4. 0. 4.] : 0.87 , 3.0\n"
     ]
    }
   ],
   "source": [
    "sims=[]\n",
    "for i in range(len(wval)):\n",
    "    for j in range(i+1,len(wval)):\n",
    "        cosres=cos_sim(wval[i],wval[j])\n",
    "        d=dist(wval[i],wval[j])\n",
    "        rd=np.round(d)\n",
    "        cosr=np.round(cosres,2)\n",
    "        sims.append([cosr,rd])\n",
    "        print(i,j,':',wval[i],'-',wval[j],':',cosr,',',rd)\n"
   ]
  },
  {
   "cell_type": "code",
   "execution_count": 8,
   "id": "d263f2b5-20eb-4065-ae50-c6b9eeae2178",
   "metadata": {},
   "outputs": [
    {
     "data": {
      "text/html": [
       "<div>\n",
       "<style scoped>\n",
       "    .dataframe tbody tr th:only-of-type {\n",
       "        vertical-align: middle;\n",
       "    }\n",
       "\n",
       "    .dataframe tbody tr th {\n",
       "        vertical-align: top;\n",
       "    }\n",
       "\n",
       "    .dataframe thead th {\n",
       "        text-align: right;\n",
       "    }\n",
       "</style>\n",
       "<table border=\"1\" class=\"dataframe\">\n",
       "  <thead>\n",
       "    <tr style=\"text-align: right;\">\n",
       "      <th></th>\n",
       "      <th>cos</th>\n",
       "      <th>dis</th>\n",
       "    </tr>\n",
       "  </thead>\n",
       "  <tbody>\n",
       "    <tr>\n",
       "      <th>0</th>\n",
       "      <td>0.17</td>\n",
       "      <td>5.0</td>\n",
       "    </tr>\n",
       "    <tr>\n",
       "      <th>1</th>\n",
       "      <td>0.98</td>\n",
       "      <td>1.0</td>\n",
       "    </tr>\n",
       "    <tr>\n",
       "      <th>2</th>\n",
       "      <td>0.89</td>\n",
       "      <td>3.0</td>\n",
       "    </tr>\n",
       "    <tr>\n",
       "      <th>3</th>\n",
       "      <td>0.99</td>\n",
       "      <td>1.0</td>\n",
       "    </tr>\n",
       "    <tr>\n",
       "      <th>4</th>\n",
       "      <td>0.29</td>\n",
       "      <td>6.0</td>\n",
       "    </tr>\n",
       "  </tbody>\n",
       "</table>\n",
       "</div>"
      ],
      "text/plain": [
       "    cos  dis\n",
       "0  0.17  5.0\n",
       "1  0.98  1.0\n",
       "2  0.89  3.0\n",
       "3  0.99  1.0\n",
       "4  0.29  6.0"
      ]
     },
     "execution_count": 8,
     "metadata": {},
     "output_type": "execute_result"
    }
   ],
   "source": [
    "simdf=pd.DataFrame(sims,columns=['cos','dis'])\n",
    "simdf.head()"
   ]
  },
  {
   "cell_type": "code",
   "execution_count": 9,
   "id": "10bd1eed-ab49-4992-b7db-fdfc750e17fa",
   "metadata": {},
   "outputs": [
    {
     "data": {
      "text/plain": [
       "[<matplotlib.lines.Line2D at 0x7f848191f6a0>]"
      ]
     },
     "execution_count": 9,
     "metadata": {},
     "output_type": "execute_result"
    },
    {
     "data": {
      "image/png": "[encoded data removed]",
      "text/plain": [
       "<Figure size 432x288 with 1 Axes>"
      ]
     },
     "metadata": {
      "needs_background": "light"
     },
     "output_type": "display_data"
    }
   ],
   "source": [
    "plt.plot(simdf['cos'],simdf['dis'],'r+')"
   ]
  },
  {
   "cell_type": "code",
   "execution_count": null,
   "id": "e8322d53-b20d-43c0-9aab-1dbf37696afc",
   "metadata": {},
   "outputs": [],
   "source": []
  }
 ],
 "metadata": {
  "kernelspec": {
   "display_name": "Python 3 (ipykernel)",
   "language": "python",
   "name": "python3"
  },
  "language_info": {
   "codemirror_mode": {
    "name": "ipython",
    "version": 3
   },
   "file_extension": ".py",
   "mimetype": "text/x-python",
   "name": "python",
   "nbconvert_exporter": "python",
   "pygments_lexer": "ipython3",
   "version": "3.9.7"
  }
 },
 "nbformat": 4,
 "nbformat_minor": 5
}
