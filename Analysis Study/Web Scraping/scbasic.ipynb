{
 "cells": [
  {
   "cell_type": "markdown",
   "id": "23caa382-d7a4-4295-a920-ca89a12df92a",
   "metadata": {},
   "source": [
    "### 웹 스크래이핑\n",
    "* 개요\n",
    "    - 웹의 정보를 활용하여 데이터 생성이 목적\n",
    "    - 웹의 원시 코드(원본)을 읽어들여 해당하는 데이터 추출\n",
    "* 라이브러리\n",
    "    - request : 데이터 원본 코드 가져오기\n",
    "    - BeautifulSoup : html->DOM 객체기반의 요소 검색에 최적화\n",
    "    - sqlite : 경량 파일기반 데이터 베이스\n",
    "    "
   ]
  },
  {
   "cell_type": "code",
   "execution_count": 1,
   "id": "8e9bc54a-d73a-446e-8c48-a3941d2ffed1",
   "metadata": {},
   "outputs": [],
   "source": [
    "# url =https://finance.naver.com/item/sise.naver?code=003490\n",
    "import requests\n",
    "#pip install beautifulsoup4\n",
    "from bs4 import BeautifulSoup as bsp\n",
    "import sqlite3"
   ]
  },
  {
   "cell_type": "code",
   "execution_count": 2,
   "id": "a4d0c8d3-3a2d-412a-b99e-8555dac6656d",
   "metadata": {},
   "outputs": [
    {
     "data": {
      "text/plain": [
       "'003490'"
      ]
     },
     "execution_count": 2,
     "metadata": {},
     "output_type": "execute_result"
    }
   ],
   "source": [
    "url='https://finance.naver.com/item/sise.naver?code=003490'\n",
    "# url 에 접속해서 데이터 가져오기\n",
    "src=requests.get(url)\n",
    "# 데이터의 content 를 가져오기\n",
    "html=bsp(src.text,'html.parser')\n",
    "# css 셀렉터 기반의 서치 (태그 클래스 아이디)\n",
    "htitle=html.select('title')\n",
    "htitle[0].getText()\n",
    "hcode=html.select('.code')\n",
    "hcode[0].getText()\n"
   ]
  },
  {
   "cell_type": "code",
   "execution_count": 12,
   "id": "38db7e0b-40e1-4241-988c-5f9263ba7212",
   "metadata": {},
   "outputs": [
    {
     "data": {
      "text/plain": [
       "'esc2\">방문하시려는 페이지의 주소가 잘못 입력되었거나,<br>\\n\\t\\t페이지의 주소가 변경 혹은 삭제되어 요청하신 페이지를 찾을 수 없습니다.<br>\\n\\t\\t입력하신 주소가 정확한지 다시 한번 확인해 주시기 바랍니다.\\n\\t</p>\\n\\t<p class=\"error_desc3\">관련 문의사항은 <a href=\"https://help.naver.com/\" target=\"_blank\">고객센터</a>에 알려주시면 친절히 안내해드리겠습니다. 감사합니다.</p>\\n\\t<p class=\"btn\">\\n\\t\\t<a href=\"javascript:history.back()\"><img src=\"https://ssl.pstatic.net/static/common/error/090610/btn_prevpage.gif\" width=\"115\" height=\"35\" alt=\"이전 페이지로\"></a>\\n\\t\\t<a href=\"https://finance.naver.com\"><img src=\"https://ssl.pstatic.net/static/nfinance/btn_home.gif\" width=\"115\" height=\"35\" alt=\"금융홈으로\"></a>\\n\\t</p>\\n</div>\\n</body>\\n</html>\\n'"
      ]
     },
     "execution_count": 12,
     "metadata": {},
     "output_type": "execute_result"
    }
   ],
   "source": [
    "# 허들 1: 데이터 원본상에 해당 요소를 찾을수 없을때\n",
    "# 소스 원본상에 원하는 데이터를 찾을 수 없어서 내부 분석결과  \n",
    "# iframe 태그발견  src 가져옴\n",
    "newurl='https://finance.naver.com/item/sise_day.naver?code=003490'\n",
    "src=requests.get(newurl)\n",
    "src.text[-600:]\n",
    "# iframe 소스를 긁어와도 찾을수 없음으로 나올때"
   ]
  },
  {
   "cell_type": "markdown",
   "id": "47962ad2-a503-498f-9347-6ff0b52a7341",
   "metadata": {},
   "source": [
    "### 해결1: 서버 속이기\n",
    "* 헤더 정보를 브라우저라고 속이기\n",
    "    - headers = {'User-Agent':'Mozilla/5.0 (Windows NT 6.3; Win64; x64) AppleWebKit/537.36 (KHTML, like Gecko) Chrome/63.0.3239.132 Safari/537.36'}\n",
    "\n",
    "#### 해결2: 직접 브라우저 조작하기\n",
    "* webdriver 이용하기"
   ]
  },
  {
   "cell_type": "code",
   "execution_count": 22,
   "id": "d8204ae8-19e7-43b2-bc6f-99f292371295",
   "metadata": {},
   "outputs": [
    {
     "name": "stdout",
     "output_type": "stream",
     "text": [
      "[<span class=\"red03\">일별</span>]\n"
     ]
    }
   ],
   "source": [
    "# 허들2:  헤더정보를 속여서 브라우저인것 처럼 알림\n",
    "# 헤더정보를 속이기\n",
    "h = {'User-Agent':'Mozilla/5.0 (Windows NT 6.3; Win64; x64) AppleWebKit/537.36 (KHTML, like Gecko) Chrome/63.0.3239.132 Safari/537.36'}\n",
    "newurl='https://finance.naver.com/item/sise_day.naver?code=003490'\n",
    "src=requests.get(newurl,headers=h)\n",
    "#src.text[:600]\n",
    "htdoc=bsp(src.text,'html.parser')\n",
    "# css 셀렉터\n",
    "tgt=htdoc.select('.red03')\n",
    "if(tgt):\n",
    "    print(tgt)\n",
    "else:\n",
    "    print('데이터가 존재하지 않습니다.')"
   ]
  },
  {
   "cell_type": "raw",
   "id": "cc87baa6-64d3-4a3b-abaf-626a7dcbdd57",
   "metadata": {},
   "source": [
    "'sno','scode','sname','sopenp','shighp','slowp','sclosep','svol'\n",
    "sno,scode,sname,sopenp,shighp,slowp,sclosep,svol"
   ]
  },
  {
   "cell_type": "code",
   "execution_count": 68,
   "id": "dc0bbf5d-ebe0-4111-a878-3c459cff20e7",
   "metadata": {},
   "outputs": [],
   "source": [
    "# 데이터 베이스 사용하기 SQLITE3\n",
    "def insdata(d=[]):\n",
    "    dbname='../_db/stockdb.db'\n",
    "    if(len(d)==9):\n",
    "        with sqlite3.connect(dbname) as conn:\n",
    "            cur=conn.cursor()\n",
    "            sql=\"insert into stockp (skey,scode,sname,sday,sopenp,shighp,slowp,sclosep,svol) values(?,?,?,?,?,?,?,?,?)\"\n",
    "            cur.execute(sql,d)\n",
    "    else:\n",
    "        print('입력데이터 오류')\n",
    "    print('.',end='')\n"
   ]
  },
  {
   "cell_type": "code",
   "execution_count": 77,
   "id": "d15330d6-6dbe-49a8-ae27-2ca6a7f99e02",
   "metadata": {},
   "outputs": [],
   "source": [
    "def getPage(no='1'):\n",
    "    h = {'User-Agent':'Mozilla/5.0 (Windows NT 6.3; Win64; x64) AppleWebKit/537.36 (KHTML, like Gecko) Chrome/63.0.3239.132 Safari/537.36'}\n",
    "    newurl='https://finance.naver.com/item/sise_day.naver?code=003490&page='+no\n",
    "    print(newurl)\n",
    "    src=requests.get(newurl,headers=h)\n",
    "    htdoc=bsp(src.text,'html.parser') \n",
    "    tbl=htdoc.select('table.type2 tr')\n",
    "    # 데이터가 있는 라인만 접근\n",
    "    for tr in tbl:\n",
    "        tday=tr.select('.p10')\n",
    "        if(len(tday)):\n",
    "            tds=tr.select('td')\n",
    "            sday=tds[0].getText().strip().replace('.','-')\n",
    "            sendp=tds[1].getText().strip().replace(',','')\n",
    "            sstartp=tds[3].getText().strip().replace(',','')\n",
    "            shighp=tds[4].getText().strip().replace(',','')\n",
    "            slowp=tds[5].getText().strip().replace(',','')\n",
    "            svol=tds[6].getText().strip().replace(',','')\n",
    "            sktxt=sday.replace('-','')+'003490'\n",
    "            skey=int(sktxt)\n",
    "            d=[skey,'003490','대한항공',sday,sendp,sstartp,shighp,slowp,svol]\n",
    "            insdata(d)\n"
   ]
  },
  {
   "cell_type": "code",
   "execution_count": 79,
   "id": "7888619e-7179-4339-9bf2-63597bda18ee",
   "metadata": {
    "collapsed": true,
    "jupyter": {
     "outputs_hidden": true
    },
    "tags": []
   },
   "outputs": [
    {
     "name": "stdout",
     "output_type": "stream",
     "text": [
      "https://finance.naver.com/item/sise_day.naver?code=003490&page=600\n"
     ]
    },
    {
     "ename": "IntegrityError",
     "evalue": "UNIQUE constraint failed: stockp.skey",
     "output_type": "error",
     "traceback": [
      "\u001b[1;31m---------------------------------------------------------------------------\u001b[0m",
      "\u001b[1;31mIntegrityError\u001b[0m                            Traceback (most recent call last)",
      "\u001b[1;32m~\\AppData\\Local\\Temp/ipykernel_13676/3932708102.py\u001b[0m in \u001b[0;36m<module>\u001b[1;34m\u001b[0m\n\u001b[0;32m      1\u001b[0m \u001b[1;32mfor\u001b[0m \u001b[0mi\u001b[0m \u001b[1;32min\u001b[0m \u001b[0mrange\u001b[0m\u001b[1;33m(\u001b[0m\u001b[1;36m600\u001b[0m\u001b[1;33m,\u001b[0m\u001b[1;36m638\u001b[0m\u001b[1;33m)\u001b[0m\u001b[1;33m:\u001b[0m\u001b[1;33m\u001b[0m\u001b[1;33m\u001b[0m\u001b[0m\n\u001b[1;32m----> 2\u001b[1;33m     \u001b[0mgetPage\u001b[0m\u001b[1;33m(\u001b[0m\u001b[0mstr\u001b[0m\u001b[1;33m(\u001b[0m\u001b[0mi\u001b[0m\u001b[1;33m)\u001b[0m\u001b[1;33m)\u001b[0m\u001b[1;33m\u001b[0m\u001b[1;33m\u001b[0m\u001b[0m\n\u001b[0m",
      "\u001b[1;32m~\\AppData\\Local\\Temp/ipykernel_13676/2505795031.py\u001b[0m in \u001b[0;36mgetPage\u001b[1;34m(no)\u001b[0m\n\u001b[0;32m     20\u001b[0m             \u001b[0mskey\u001b[0m\u001b[1;33m=\u001b[0m\u001b[0mint\u001b[0m\u001b[1;33m(\u001b[0m\u001b[0msktxt\u001b[0m\u001b[1;33m)\u001b[0m\u001b[1;33m\u001b[0m\u001b[1;33m\u001b[0m\u001b[0m\n\u001b[0;32m     21\u001b[0m             \u001b[0md\u001b[0m\u001b[1;33m=\u001b[0m\u001b[1;33m[\u001b[0m\u001b[0mskey\u001b[0m\u001b[1;33m,\u001b[0m\u001b[1;34m'003490'\u001b[0m\u001b[1;33m,\u001b[0m\u001b[1;34m'대한항공'\u001b[0m\u001b[1;33m,\u001b[0m\u001b[0msday\u001b[0m\u001b[1;33m,\u001b[0m\u001b[0msendp\u001b[0m\u001b[1;33m,\u001b[0m\u001b[0msstartp\u001b[0m\u001b[1;33m,\u001b[0m\u001b[0mshighp\u001b[0m\u001b[1;33m,\u001b[0m\u001b[0mslowp\u001b[0m\u001b[1;33m,\u001b[0m\u001b[0msvol\u001b[0m\u001b[1;33m]\u001b[0m\u001b[1;33m\u001b[0m\u001b[1;33m\u001b[0m\u001b[0m\n\u001b[1;32m---> 22\u001b[1;33m             \u001b[0minsdata\u001b[0m\u001b[1;33m(\u001b[0m\u001b[0md\u001b[0m\u001b[1;33m)\u001b[0m\u001b[1;33m\u001b[0m\u001b[1;33m\u001b[0m\u001b[0m\n\u001b[0m",
      "\u001b[1;32m~\\AppData\\Local\\Temp/ipykernel_13676/4197894467.py\u001b[0m in \u001b[0;36minsdata\u001b[1;34m(d)\u001b[0m\n\u001b[0;32m      6\u001b[0m             \u001b[0mcur\u001b[0m\u001b[1;33m=\u001b[0m\u001b[0mconn\u001b[0m\u001b[1;33m.\u001b[0m\u001b[0mcursor\u001b[0m\u001b[1;33m(\u001b[0m\u001b[1;33m)\u001b[0m\u001b[1;33m\u001b[0m\u001b[1;33m\u001b[0m\u001b[0m\n\u001b[0;32m      7\u001b[0m             \u001b[0msql\u001b[0m\u001b[1;33m=\u001b[0m\u001b[1;34m\"insert into stockp (skey,scode,sname,sday,sopenp,shighp,slowp,sclosep,svol) values(?,?,?,?,?,?,?,?,?)\"\u001b[0m\u001b[1;33m\u001b[0m\u001b[1;33m\u001b[0m\u001b[0m\n\u001b[1;32m----> 8\u001b[1;33m             \u001b[0mcur\u001b[0m\u001b[1;33m.\u001b[0m\u001b[0mexecute\u001b[0m\u001b[1;33m(\u001b[0m\u001b[0msql\u001b[0m\u001b[1;33m,\u001b[0m\u001b[0md\u001b[0m\u001b[1;33m)\u001b[0m\u001b[1;33m\u001b[0m\u001b[1;33m\u001b[0m\u001b[0m\n\u001b[0m\u001b[0;32m      9\u001b[0m     \u001b[1;32melse\u001b[0m\u001b[1;33m:\u001b[0m\u001b[1;33m\u001b[0m\u001b[1;33m\u001b[0m\u001b[0m\n\u001b[0;32m     10\u001b[0m         \u001b[0mprint\u001b[0m\u001b[1;33m(\u001b[0m\u001b[1;34m'입력데이터 오류'\u001b[0m\u001b[1;33m)\u001b[0m\u001b[1;33m\u001b[0m\u001b[1;33m\u001b[0m\u001b[0m\n",
      "\u001b[1;31mIntegrityError\u001b[0m: UNIQUE constraint failed: stockp.skey"
     ]
    }
   ],
   "source": [
    "for i in range(1,2):\n",
    "    getPage(str(i))"
   ]
  },
  {
   "cell_type": "code",
   "execution_count": null,
   "id": "210b98e6-1d04-4d4a-ab1f-df27ee3381dd",
   "metadata": {},
   "outputs": [],
   "source": [
    "###\n"
   ]
  }
 ],
 "metadata": {
  "kernelspec": {
   "display_name": "Python 3",
   "language": "python",
   "name": "python3"
  },
  "language_info": {
   "codemirror_mode": {
    "name": "ipython",
    "version": 3
   },
   "file_extension": ".py",
   "mimetype": "text/x-python",
   "name": "python",
   "nbconvert_exporter": "python",
   "pygments_lexer": "ipython3",
   "version": "3.8.8"
  }
 },
 "nbformat": 4,
 "nbformat_minor": 5
}
