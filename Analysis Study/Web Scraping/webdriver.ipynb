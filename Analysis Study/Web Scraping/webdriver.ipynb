{
 "cells": [
  {
   "cell_type": "markdown",
   "id": "572c910f-6d53-4a76-a1da-46034cb970b4",
   "metadata": {},
   "source": [
    "#### 데이터 스크래이핑2\n",
    "* 웹드라이버를 이용한 스크래이핑\n",
    "    - webdriver 를 크롬버전에 맞춰서 다운로드\n",
    "    - https://chromedriver.chromium.org/downloads\n",
    "    - selenium 셀레늄을 이용한 크롬 드라이버의 제어\n",
    "    - 브라우저의 작동방식을 그대로 적용\n",
    "    \n",
    "    "
   ]
  },
  {
   "cell_type": "code",
   "execution_count": 13,
   "id": "468914e7-9be7-434d-8783-f11c59776abb",
   "metadata": {},
   "outputs": [],
   "source": [
    "user=''\n",
    "pw=''"
   ]
  },
  {
   "cell_type": "raw",
   "id": "fe5fb2a4-8f30-4079-b4f6-8027c2ddbb0d",
   "metadata": {},
   "source": [
    "!pip install selenium"
   ]
  },
  {
   "cell_type": "code",
   "execution_count": 16,
   "id": "e0d5281b-ece6-4a51-a804-1c3b3d415956",
   "metadata": {
    "tags": []
   },
   "outputs": [
    {
     "name": "stderr",
     "output_type": "stream",
     "text": [
      "<ipython-input-16-0aecddfa1c41>:9: DeprecationWarning: executable_path has been deprecated, please pass in a Service object\n",
      "  driver=webdriver.Chrome(cdriver)\n"
     ]
    }
   ],
   "source": [
    "import numpy as np\n",
    "import pandas as pd\n",
    "import matplotlib.pyplot as plt\n",
    "from selenium import webdriver\n",
    "from selenium.webdriver.common.keys import Keys\n",
    "import time\n",
    "# 드라이버를 로드하여 해당 페이지로 이동\n",
    "cdriver='./driver/chromedriver.exe'\n",
    "driver=webdriver.Chrome(cdriver)\n",
    "url='https://www.ivyro.net/html/login/login.php'\n",
    "driver.get(url)\n"
   ]
  },
  {
   "cell_type": "raw",
   "id": "0fc12ece-3c20-4ebb-8a0e-ff3fe7370510",
   "metadata": {},
   "source": [
    "user='heizer'\n",
    "pw='1234'"
   ]
  },
  {
   "cell_type": "code",
   "execution_count": 17,
   "id": "6381a276-c406-4030-b6a5-435f3d926580",
   "metadata": {
    "collapsed": true,
    "jupyter": {
     "outputs_hidden": true
    },
    "tags": []
   },
   "outputs": [
    {
     "name": "stderr",
     "output_type": "stream",
     "text": [
      "<ipython-input-17-c3358308b5ea>:3: DeprecationWarning: find_element_by_* commands are deprecated. Please use find_element() instead\n",
      "  elem=driver.find_element_by_id('login_id')\n",
      "<ipython-input-17-c3358308b5ea>:5: DeprecationWarning: find_element_by_* commands are deprecated. Please use find_element() instead\n",
      "  elem=driver.find_element_by_id('login_pw')\n"
     ]
    }
   ],
   "source": [
    "# 로그인 위치 찾아서 로그인하기\n",
    "time.sleep(3)\n",
    "elem=driver.find_element_by_id('login_id')\n",
    "elem.send_keys(user)\n",
    "elem=driver.find_element_by_id('login_pw')\n",
    "elem.send_keys(pw)\n",
    "elem.send_keys(Keys.RETURN)"
   ]
  },
  {
   "cell_type": "code",
   "execution_count": 19,
   "id": "940a48e7-5878-41b2-8756-ed479331ca09",
   "metadata": {},
   "outputs": [],
   "source": [
    "# 타겟 url로 이동\n",
    "myurl='https://www.ivyro.net/html/mypage/'\n",
    "driver.get(myurl)"
   ]
  },
  {
   "cell_type": "code",
   "execution_count": 24,
   "id": "7080bad4-00db-4f94-8b92-32eae851eade",
   "metadata": {},
   "outputs": [
    {
     "name": "stdout",
     "output_type": "stream",
     "text": [
      "나의 사용량은 10.8M입니다.\n"
     ]
    },
    {
     "name": "stderr",
     "output_type": "stream",
     "text": [
      "<ipython-input-24-e717b631ae75>:2: DeprecationWarning: find_element_by_* commands are deprecated. Please use find_element() instead\n",
      "  elem=driver.find_element_by_css_selector(tcss).text\n"
     ]
    }
   ],
   "source": [
    "# css 셀렉터 기반으로 목표엘리먼트 찾기\n",
    "tcss='.pr-1 .mt-2 .wd-95'\n",
    "elem=driver.find_element_by_css_selector(tcss).text\n",
    "tx= '나의 사용량은 '+elem.replace(' /','')+'입니다.'\n",
    "print(tx)"
   ]
  },
  {
   "cell_type": "code",
   "execution_count": null,
   "id": "e36b4d51-c7ec-44aa-ab29-519c31e9432c",
   "metadata": {},
   "outputs": [],
   "source": []
  }
 ],
 "metadata": {
  "kernelspec": {
   "display_name": "Python 3",
   "language": "python",
   "name": "python3"
  },
  "language_info": {
   "codemirror_mode": {
    "name": "ipython",
    "version": 3
   },
   "file_extension": ".py",
   "mimetype": "text/x-python",
   "name": "python",
   "nbconvert_exporter": "python",
   "pygments_lexer": "ipython3",
   "version": "3.8.8"
  }
 },
 "nbformat": 4,
 "nbformat_minor": 5
}
