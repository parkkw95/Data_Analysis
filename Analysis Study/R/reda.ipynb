{
 "cells": [
  {
   "cell_type": "markdown",
   "id": "f3093210-f869-4276-824a-e344277801a4",
   "metadata": {},
   "source": [
    "# R을 활용한 탐색적 자료 분석 EDA\n",
    "* Exploratory Data Analysis 탐색적 데이터 분석\n",
    "* 개요\n",
    "    - 수집한 데이터를 다양한 각도에서 관찰하고 이해하는 과정\n",
    "    - 사전에 그래프나 통계적인 방법으로 데이터를 직관적으로 바라보는 과정\n",
    "    - src:https://www.data.go.kr/data/15064213/fileData.do\n",
    "* 장점\n",
    "    - 데이터의 분포 및 값을 검토함으로써 데이터가 표현하는 현상을 더 잘 이해\n",
    "    - 문제 정의 단계에서 발견한 패턴을 바탕으로 가설을 강화\n",
    "\n",
    "* 과정\n",
    "    - 데이터 요인(컬럼) 등의 성질 분석\n",
    "    - 데이터 사이즈와 전체적 형태 분석\n",
    "    - 데이터 기초통계량을 통한 전체적 요약값으로 파악\n",
    "    - 결측치등의 성질 분석 -> 처리 결정\n",
    "    - 시각화를 통한 기초적 관계 분석\n"
   ]
  },
  {
   "cell_type": "code",
   "execution_count": null,
   "id": "8cbaa109-6079-4f43-93a0-fe173adf21fb",
   "metadata": {},
   "outputs": [],
   "source": []
  }
 ],
 "metadata": {
  "kernelspec": {
   "display_name": "Python 3 (ipykernel)",
   "language": "python",
   "name": "python3"
  },
  "language_info": {
   "codemirror_mode": {
    "name": "ipython",
    "version": 3
   },
   "file_extension": ".py",
   "mimetype": "text/x-python",
   "name": "python",
   "nbconvert_exporter": "python",
   "pygments_lexer": "ipython3",
   "version": "3.7.11"
  }
 },
 "nbformat": 4,
 "nbformat_minor": 5
}
