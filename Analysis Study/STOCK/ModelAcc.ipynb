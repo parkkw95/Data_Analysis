{
 "cells": [
  {
   "cell_type": "code",
   "execution_count": 8,
   "id": "8c4d98bd-cd42-47ad-978f-fec7cdff4ecf",
   "metadata": {},
   "outputs": [],
   "source": [
    "import sklearn\n",
    "import numpy as np\n",
    "import pandas as pd\n",
    "import matplotlib as mpl\n",
    "import matplotlib.pyplot as plt\n",
    "import seaborn as sns"
   ]
  },
  {
   "cell_type": "code",
   "execution_count": 9,
   "id": "ac6a50e2-5721-4851-83f0-4624417be272",
   "metadata": {},
   "outputs": [],
   "source": [
    "#### 머신러닝을 활용한 데이터 분석\n",
    "# 정확도 정밀도 재현율\n",
    "from sklearn.preprocessing import LabelEncoder\n",
    "from sklearn.model_selection import train_test_split,KFold,StratifiedKFold,GridSearchCV\n",
    "# 분류모델 테스트\n",
    "from sklearn.metrics import confusion_matrix,precision_recall_curve\n",
    "from sklearn.metrics import roc_curve,roc_auc_score\n",
    "# 데이터셋 분류: 트레인테스트셋분류,k-fold,s-kfold, gridsearchcv\n",
    "from sklearn.metrics import accuracy_score,f1_score,precision_score,recall_score\n",
    "#ROC AUC 오차행렬\n",
    "from sklearn.tree import export_graphviz\n",
    "import graphviz\n",
    "# 경고 무시 LogisticRegression solver 및 maxiter 문제 \n",
    "import warnings\n",
    "warnings.filterwarnings('ignore')"
   ]
  },
  {
   "cell_type": "code",
   "execution_count": 10,
   "id": "ae08b1f7-18c0-4135-b3b3-50b869074bee",
   "metadata": {},
   "outputs": [],
   "source": [
    "from sklearn.tree import DecisionTreeClassifier\n",
    "from sklearn.neighbors import KNeighborsClassifier\n",
    "from sklearn.linear_model import LogisticRegression\n",
    "from sklearn.ensemble import RandomForestClassifier\n",
    "from sklearn.ensemble import GradientBoostingClassifier\n",
    "from xgboost import XGBClassifier\n",
    "from lightgbm import LGBMClassifier"
   ]
  },
  {
   "cell_type": "code",
   "execution_count": 66,
   "id": "e652ae20-3102-4f52-a676-143440041499",
   "metadata": {},
   "outputs": [],
   "source": [
    "def modelacc(title,model,X_train,y_train,X_test,y_test):\n",
    "    model.fit(X_train,y_train)\n",
    "    pred=model.predict(X_test)\n",
    "    acc=np.round(accuracy_score(pred,y_test),4)\n",
    "    f1=np.round(f1_score(pred,y_test),4)\n",
    "    pre=np.round(precision_score(pred,y_test),4)\n",
    "    rec=np.round(recall_score(pred,y_test),4)\n",
    "    pp=model.predict_proba(X_test)[:,1]\n",
    "    auc=np.round(roc_auc_score(y_test,pp),4)\n",
    "    res={'model':title,'accuracy':acc,'precision':pre,'recall':rec,'f1':f1,'roc_auc':auc}\n",
    "    print('정확도:',res)\n",
    "    return res"
   ]
  },
  {
   "cell_type": "code",
   "execution_count": 63,
   "id": "bb255d92-4f8a-4018-be3f-33cd2d348bdc",
   "metadata": {},
   "outputs": [
    {
     "data": {
      "text/plain": [
       "dict_keys(['data', 'target', 'frame', 'target_names', 'DESCR', 'feature_names', 'filename'])"
      ]
     },
     "execution_count": 63,
     "metadata": {},
     "output_type": "execute_result"
    }
   ],
   "source": [
    "from sklearn.datasets import load_breast_cancer\n",
    "breast= load_breast_cancer()\n",
    "breast.keys()"
   ]
  },
  {
   "cell_type": "code",
   "execution_count": 64,
   "id": "2894878d-9962-45dd-a0b5-18b5a58c9311",
   "metadata": {
    "tags": []
   },
   "outputs": [],
   "source": [
    "X=breast['data']\n",
    "Y=breast['target']"
   ]
  },
  {
   "cell_type": "markdown",
   "id": "f5be47be-3cd9-4ec2-a54e-01aac0e89a66",
   "metadata": {
    "tags": []
   },
   "source": [
    "* 데이터 컬럼정보\n",
    "    - radius : 반경 \n",
    "    - texture: 질감 \n",
    "    - perimeter:  둘레\n",
    "    - area: 면적\n",
    "    - smoothness : 매끄러움\n",
    "    - compactness : 작은정도\n",
    "    - concavity: 오목함\n",
    "    - concave points : 오목한 숫자\n",
    "    - symmetry: 대칭성\n",
    "    - fractal dimension : 프랙탈 차원\n",
    "        "
   ]
  },
  {
   "cell_type": "code",
   "execution_count": 38,
   "id": "da2d3ec2-9019-4c74-b96b-dbd5c4ba0a81",
   "metadata": {},
   "outputs": [
    {
     "data": {
      "text/html": [
       "<div>\n",
       "<style scoped>\n",
       "    .dataframe tbody tr th:only-of-type {\n",
       "        vertical-align: middle;\n",
       "    }\n",
       "\n",
       "    .dataframe tbody tr th {\n",
       "        vertical-align: top;\n",
       "    }\n",
       "\n",
       "    .dataframe thead th {\n",
       "        text-align: right;\n",
       "    }\n",
       "</style>\n",
       "<table border=\"1\" class=\"dataframe\">\n",
       "  <thead>\n",
       "    <tr style=\"text-align: right;\">\n",
       "      <th></th>\n",
       "      <th>mean radius</th>\n",
       "      <th>mean texture</th>\n",
       "      <th>mean perimeter</th>\n",
       "      <th>mean area</th>\n",
       "      <th>mean smoothness</th>\n",
       "      <th>mean compactness</th>\n",
       "      <th>mean concavity</th>\n",
       "      <th>mean concave points</th>\n",
       "      <th>mean symmetry</th>\n",
       "      <th>mean fractal dimension</th>\n",
       "      <th>...</th>\n",
       "      <th>worst texture</th>\n",
       "      <th>worst perimeter</th>\n",
       "      <th>worst area</th>\n",
       "      <th>worst smoothness</th>\n",
       "      <th>worst compactness</th>\n",
       "      <th>worst concavity</th>\n",
       "      <th>worst concave points</th>\n",
       "      <th>worst symmetry</th>\n",
       "      <th>worst fractal dimension</th>\n",
       "      <th>target</th>\n",
       "    </tr>\n",
       "  </thead>\n",
       "  <tbody>\n",
       "    <tr>\n",
       "      <th>564</th>\n",
       "      <td>21.56</td>\n",
       "      <td>22.39</td>\n",
       "      <td>142.00</td>\n",
       "      <td>1479.0</td>\n",
       "      <td>0.11100</td>\n",
       "      <td>0.11590</td>\n",
       "      <td>0.24390</td>\n",
       "      <td>0.13890</td>\n",
       "      <td>0.1726</td>\n",
       "      <td>0.05623</td>\n",
       "      <td>...</td>\n",
       "      <td>26.40</td>\n",
       "      <td>166.10</td>\n",
       "      <td>2027.0</td>\n",
       "      <td>0.14100</td>\n",
       "      <td>0.21130</td>\n",
       "      <td>0.4107</td>\n",
       "      <td>0.2216</td>\n",
       "      <td>0.2060</td>\n",
       "      <td>0.07115</td>\n",
       "      <td>0</td>\n",
       "    </tr>\n",
       "    <tr>\n",
       "      <th>565</th>\n",
       "      <td>20.13</td>\n",
       "      <td>28.25</td>\n",
       "      <td>131.20</td>\n",
       "      <td>1261.0</td>\n",
       "      <td>0.09780</td>\n",
       "      <td>0.10340</td>\n",
       "      <td>0.14400</td>\n",
       "      <td>0.09791</td>\n",
       "      <td>0.1752</td>\n",
       "      <td>0.05533</td>\n",
       "      <td>...</td>\n",
       "      <td>38.25</td>\n",
       "      <td>155.00</td>\n",
       "      <td>1731.0</td>\n",
       "      <td>0.11660</td>\n",
       "      <td>0.19220</td>\n",
       "      <td>0.3215</td>\n",
       "      <td>0.1628</td>\n",
       "      <td>0.2572</td>\n",
       "      <td>0.06637</td>\n",
       "      <td>0</td>\n",
       "    </tr>\n",
       "    <tr>\n",
       "      <th>566</th>\n",
       "      <td>16.60</td>\n",
       "      <td>28.08</td>\n",
       "      <td>108.30</td>\n",
       "      <td>858.1</td>\n",
       "      <td>0.08455</td>\n",
       "      <td>0.10230</td>\n",
       "      <td>0.09251</td>\n",
       "      <td>0.05302</td>\n",
       "      <td>0.1590</td>\n",
       "      <td>0.05648</td>\n",
       "      <td>...</td>\n",
       "      <td>34.12</td>\n",
       "      <td>126.70</td>\n",
       "      <td>1124.0</td>\n",
       "      <td>0.11390</td>\n",
       "      <td>0.30940</td>\n",
       "      <td>0.3403</td>\n",
       "      <td>0.1418</td>\n",
       "      <td>0.2218</td>\n",
       "      <td>0.07820</td>\n",
       "      <td>0</td>\n",
       "    </tr>\n",
       "    <tr>\n",
       "      <th>567</th>\n",
       "      <td>20.60</td>\n",
       "      <td>29.33</td>\n",
       "      <td>140.10</td>\n",
       "      <td>1265.0</td>\n",
       "      <td>0.11780</td>\n",
       "      <td>0.27700</td>\n",
       "      <td>0.35140</td>\n",
       "      <td>0.15200</td>\n",
       "      <td>0.2397</td>\n",
       "      <td>0.07016</td>\n",
       "      <td>...</td>\n",
       "      <td>39.42</td>\n",
       "      <td>184.60</td>\n",
       "      <td>1821.0</td>\n",
       "      <td>0.16500</td>\n",
       "      <td>0.86810</td>\n",
       "      <td>0.9387</td>\n",
       "      <td>0.2650</td>\n",
       "      <td>0.4087</td>\n",
       "      <td>0.12400</td>\n",
       "      <td>0</td>\n",
       "    </tr>\n",
       "    <tr>\n",
       "      <th>568</th>\n",
       "      <td>7.76</td>\n",
       "      <td>24.54</td>\n",
       "      <td>47.92</td>\n",
       "      <td>181.0</td>\n",
       "      <td>0.05263</td>\n",
       "      <td>0.04362</td>\n",
       "      <td>0.00000</td>\n",
       "      <td>0.00000</td>\n",
       "      <td>0.1587</td>\n",
       "      <td>0.05884</td>\n",
       "      <td>...</td>\n",
       "      <td>30.37</td>\n",
       "      <td>59.16</td>\n",
       "      <td>268.6</td>\n",
       "      <td>0.08996</td>\n",
       "      <td>0.06444</td>\n",
       "      <td>0.0000</td>\n",
       "      <td>0.0000</td>\n",
       "      <td>0.2871</td>\n",
       "      <td>0.07039</td>\n",
       "      <td>1</td>\n",
       "    </tr>\n",
       "  </tbody>\n",
       "</table>\n",
       "<p>5 rows × 31 columns</p>\n",
       "</div>"
      ],
      "text/plain": [
       "     mean radius  mean texture  mean perimeter  mean area  mean smoothness  \\\n",
       "564        21.56         22.39          142.00     1479.0          0.11100   \n",
       "565        20.13         28.25          131.20     1261.0          0.09780   \n",
       "566        16.60         28.08          108.30      858.1          0.08455   \n",
       "567        20.60         29.33          140.10     1265.0          0.11780   \n",
       "568         7.76         24.54           47.92      181.0          0.05263   \n",
       "\n",
       "     mean compactness  mean concavity  mean concave points  mean symmetry  \\\n",
       "564           0.11590         0.24390              0.13890         0.1726   \n",
       "565           0.10340         0.14400              0.09791         0.1752   \n",
       "566           0.10230         0.09251              0.05302         0.1590   \n",
       "567           0.27700         0.35140              0.15200         0.2397   \n",
       "568           0.04362         0.00000              0.00000         0.1587   \n",
       "\n",
       "     mean fractal dimension  ...  worst texture  worst perimeter  worst area  \\\n",
       "564                 0.05623  ...          26.40           166.10      2027.0   \n",
       "565                 0.05533  ...          38.25           155.00      1731.0   \n",
       "566                 0.05648  ...          34.12           126.70      1124.0   \n",
       "567                 0.07016  ...          39.42           184.60      1821.0   \n",
       "568                 0.05884  ...          30.37            59.16       268.6   \n",
       "\n",
       "     worst smoothness  worst compactness  worst concavity  \\\n",
       "564           0.14100            0.21130           0.4107   \n",
       "565           0.11660            0.19220           0.3215   \n",
       "566           0.11390            0.30940           0.3403   \n",
       "567           0.16500            0.86810           0.9387   \n",
       "568           0.08996            0.06444           0.0000   \n",
       "\n",
       "     worst concave points  worst symmetry  worst fractal dimension  target  \n",
       "564                0.2216          0.2060                  0.07115       0  \n",
       "565                0.1628          0.2572                  0.06637       0  \n",
       "566                0.1418          0.2218                  0.07820       0  \n",
       "567                0.2650          0.4087                  0.12400       0  \n",
       "568                0.0000          0.2871                  0.07039       1  \n",
       "\n",
       "[5 rows x 31 columns]"
      ]
     },
     "execution_count": 38,
     "metadata": {},
     "output_type": "execute_result"
    }
   ],
   "source": [
    "brdf=pd.DataFrame(data=X,columns=breast['feature_names'])\n",
    "brdf['target']=Y\n",
    "brdf.tail()"
   ]
  },
  {
   "cell_type": "code",
   "execution_count": 49,
   "id": "e270d536-f7d2-4eac-84bd-8c6ad75a9933",
   "metadata": {
    "tags": []
   },
   "outputs": [
    {
     "name": "stdout",
     "output_type": "stream",
     "text": [
      "(426, 30) (143, 30) (426,) (143,)\n"
     ]
    }
   ],
   "source": [
    "X_train,X_test,y_train,y_test= train_test_split(X,Y,random_state=123)\n",
    "print(X_train.shape,X_test.shape,y_train.shape,y_test.shape)"
   ]
  },
  {
   "cell_type": "code",
   "execution_count": 61,
   "id": "7ee0a2ca-32c3-47f0-b5ac-35cb5ceea886",
   "metadata": {},
   "outputs": [
    {
     "data": {
      "text/plain": [
       "array([1, 1, 0, 1, 0, 1, 1, 0, 1, 1, 1, 0, 0, 1, 0, 1, 1, 1, 1, 1, 0, 0,\n",
       "       1, 1, 1, 0, 0, 1, 0, 1, 0, 1, 1, 1, 0, 1, 1, 1, 1, 0, 0, 1, 0, 1,\n",
       "       0, 1, 0, 0, 0, 0, 0, 0, 1, 1, 1, 0, 1, 0, 0, 1, 0, 1, 1, 1, 1, 0,\n",
       "       1, 1, 1, 0, 1, 1, 0, 1, 0, 1, 1, 0, 0, 0, 1, 0, 0, 1, 1, 1, 0, 1,\n",
       "       0, 1, 0, 1, 1, 0, 1, 1, 1, 1, 1, 1, 1, 1, 1, 1, 1, 1, 1, 1, 1, 1,\n",
       "       1, 1, 1, 0, 0, 0, 1, 0, 1, 1, 1, 1, 1, 1, 0, 1, 0, 0, 1, 1, 0, 1,\n",
       "       1, 0, 0, 1, 1, 1, 0, 0, 0, 1, 0])"
      ]
     },
     "execution_count": 61,
     "metadata": {},
     "output_type": "execute_result"
    }
   ],
   "source": [
    "y_test"
   ]
  },
  {
   "cell_type": "code",
   "execution_count": 75,
   "id": "a3d47dc5-480a-41a8-a9f9-61a404b85570",
   "metadata": {},
   "outputs": [],
   "source": [
    "modelres=[]"
   ]
  },
  {
   "cell_type": "code",
   "execution_count": 76,
   "id": "c6997344-9f05-47e3-a4bd-a056c95bdd7b",
   "metadata": {},
   "outputs": [
    {
     "name": "stdout",
     "output_type": "stream",
     "text": [
      "정확도: {'model': 'DT', 'accuracy': 0.965, 'precision': 0.9775, 'recall': 0.9667, 'f1': 0.9721, 'roc_auc': 0.961}\n",
      "정확도: {'model': 'KNN', 'accuracy': 0.9441, 'precision': 0.9663, 'recall': 0.9451, 'f1': 0.9556, 'roc_auc': 0.9778}\n",
      "정확도: {'model': 'LR', 'accuracy': 0.986, 'precision': 1.0, 'recall': 0.978, 'f1': 0.9889, 'roc_auc': 0.9963}\n",
      "정확도: {'model': 'RF', 'accuracy': 0.993, 'precision': 1.0, 'recall': 0.9889, 'f1': 0.9944, 'roc_auc': 0.9944}\n",
      "정확도: {'model': 'GB', 'accuracy': 0.979, 'precision': 0.9888, 'recall': 0.9778, 'f1': 0.9832, 'roc_auc': 0.9915}\n"
     ]
    }
   ],
   "source": [
    "model=DecisionTreeClassifier(random_state=123)\n",
    "res=modelacc('DT',model,X_train,y_train,X_test,y_test)\n",
    "modelres.append(res)\n",
    "\n",
    "model=KNeighborsClassifier( n_neighbors=3)\n",
    "res=modelacc('KNN',model,X_train,y_train,X_test,y_test)\n",
    "modelres.append(res)\n",
    "\n",
    "model=LogisticRegression(random_state=123)\n",
    "res=modelacc('LR',model,X_train,y_train,X_test,y_test)\n",
    "modelres.append(res)\n",
    "\n",
    "model=RandomForestClassifier(random_state=123)\n",
    "res=modelacc('RF',model,X_train,y_train,X_test,y_test)\n",
    "modelres.append(res)\n",
    "\n",
    "model=GradientBoostingClassifier(random_state=123)\n",
    "res=modelacc('GB',model,X_train,y_train,X_test,y_test)\n",
    "modelres.append(res)"
   ]
  },
  {
   "cell_type": "code",
   "execution_count": 77,
   "id": "10e481ec-37a1-4adc-80e1-90d1add88e9e",
   "metadata": {},
   "outputs": [
    {
     "name": "stdout",
     "output_type": "stream",
     "text": [
      "[10:32:41] WARNING: ..\\src\\learner.cc:1115: Starting in XGBoost 1.3.0, the default evaluation metric used with the objective 'binary:logistic' was changed from 'error' to 'logloss'. Explicitly set eval_metric if you'd like to restore the old behavior.\n",
      "정확도: {'model': 'XGB', 'accuracy': 0.972, 'precision': 0.9888, 'recall': 0.967, 'f1': 0.9778, 'roc_auc': 0.9946}\n"
     ]
    }
   ],
   "source": [
    "#XGB\n",
    "\n",
    "model=XGBClassifier( random_state=123)\n",
    "res=modelacc('XGB',model,X_train,y_train,X_test,y_test)\n",
    "modelres.append(res)\n"
   ]
  },
  {
   "cell_type": "code",
   "execution_count": 78,
   "id": "ace5ee07-639f-4899-be3b-512cfc0b2198",
   "metadata": {},
   "outputs": [
    {
     "name": "stdout",
     "output_type": "stream",
     "text": [
      "정확도: {'model': 'LGB', 'accuracy': 0.986, 'precision': 0.9888, 'recall': 0.9888, 'f1': 0.9888, 'roc_auc': 0.9948}\n"
     ]
    }
   ],
   "source": [
    "#LGBM\n",
    "model =LGBMClassifier(n_estimators=100,\n",
    "                      learning_rate=0.1,\n",
    "                      max_depth=20,\n",
    "                      min_child_samples=20,\n",
    "                      num_leaves=31\n",
    "                     )\n",
    "res=modelacc('LGB',model,X_train,y_train,X_test,y_test)\n",
    "modelres.append(res)"
   ]
  },
  {
   "cell_type": "code",
   "execution_count": 79,
   "id": "fac8a268-04ca-4ab2-8b6c-d0d8626518e4",
   "metadata": {},
   "outputs": [
    {
     "data": {
      "text/html": [
       "<div>\n",
       "<style scoped>\n",
       "    .dataframe tbody tr th:only-of-type {\n",
       "        vertical-align: middle;\n",
       "    }\n",
       "\n",
       "    .dataframe tbody tr th {\n",
       "        vertical-align: top;\n",
       "    }\n",
       "\n",
       "    .dataframe thead th {\n",
       "        text-align: right;\n",
       "    }\n",
       "</style>\n",
       "<table border=\"1\" class=\"dataframe\">\n",
       "  <thead>\n",
       "    <tr style=\"text-align: right;\">\n",
       "      <th></th>\n",
       "      <th>model</th>\n",
       "      <th>accuracy</th>\n",
       "      <th>precision</th>\n",
       "      <th>recall</th>\n",
       "      <th>f1</th>\n",
       "      <th>roc_auc</th>\n",
       "    </tr>\n",
       "  </thead>\n",
       "  <tbody>\n",
       "    <tr>\n",
       "      <th>0</th>\n",
       "      <td>DT</td>\n",
       "      <td>0.9650</td>\n",
       "      <td>0.9775</td>\n",
       "      <td>0.9667</td>\n",
       "      <td>0.9721</td>\n",
       "      <td>0.9610</td>\n",
       "    </tr>\n",
       "    <tr>\n",
       "      <th>1</th>\n",
       "      <td>KNN</td>\n",
       "      <td>0.9441</td>\n",
       "      <td>0.9663</td>\n",
       "      <td>0.9451</td>\n",
       "      <td>0.9556</td>\n",
       "      <td>0.9778</td>\n",
       "    </tr>\n",
       "    <tr>\n",
       "      <th>2</th>\n",
       "      <td>LR</td>\n",
       "      <td>0.9860</td>\n",
       "      <td>1.0000</td>\n",
       "      <td>0.9780</td>\n",
       "      <td>0.9889</td>\n",
       "      <td>0.9963</td>\n",
       "    </tr>\n",
       "    <tr>\n",
       "      <th>3</th>\n",
       "      <td>RF</td>\n",
       "      <td>0.9930</td>\n",
       "      <td>1.0000</td>\n",
       "      <td>0.9889</td>\n",
       "      <td>0.9944</td>\n",
       "      <td>0.9944</td>\n",
       "    </tr>\n",
       "    <tr>\n",
       "      <th>4</th>\n",
       "      <td>GB</td>\n",
       "      <td>0.9790</td>\n",
       "      <td>0.9888</td>\n",
       "      <td>0.9778</td>\n",
       "      <td>0.9832</td>\n",
       "      <td>0.9915</td>\n",
       "    </tr>\n",
       "    <tr>\n",
       "      <th>5</th>\n",
       "      <td>XGB</td>\n",
       "      <td>0.9720</td>\n",
       "      <td>0.9888</td>\n",
       "      <td>0.9670</td>\n",
       "      <td>0.9778</td>\n",
       "      <td>0.9946</td>\n",
       "    </tr>\n",
       "    <tr>\n",
       "      <th>6</th>\n",
       "      <td>LGB</td>\n",
       "      <td>0.9860</td>\n",
       "      <td>0.9888</td>\n",
       "      <td>0.9888</td>\n",
       "      <td>0.9888</td>\n",
       "      <td>0.9948</td>\n",
       "    </tr>\n",
       "  </tbody>\n",
       "</table>\n",
       "</div>"
      ],
      "text/plain": [
       "  model  accuracy  precision  recall      f1  roc_auc\n",
       "0    DT    0.9650     0.9775  0.9667  0.9721   0.9610\n",
       "1   KNN    0.9441     0.9663  0.9451  0.9556   0.9778\n",
       "2    LR    0.9860     1.0000  0.9780  0.9889   0.9963\n",
       "3    RF    0.9930     1.0000  0.9889  0.9944   0.9944\n",
       "4    GB    0.9790     0.9888  0.9778  0.9832   0.9915\n",
       "5   XGB    0.9720     0.9888  0.9670  0.9778   0.9946\n",
       "6   LGB    0.9860     0.9888  0.9888  0.9888   0.9948"
      ]
     },
     "execution_count": 79,
     "metadata": {},
     "output_type": "execute_result"
    }
   ],
   "source": [
    "\n",
    "modeldf=pd.DataFrame(modelres)\n",
    "modeldf\n"
   ]
  },
  {
   "cell_type": "code",
   "execution_count": null,
   "id": "52c050e4-96eb-4808-8ba6-76054a43f025",
   "metadata": {},
   "outputs": [],
   "source": []
  }
 ],
 "metadata": {
  "kernelspec": {
   "display_name": "Python 3",
   "language": "python",
   "name": "python3"
  },
  "language_info": {
   "codemirror_mode": {
    "name": "ipython",
    "version": 3
   },
   "file_extension": ".py",
   "mimetype": "text/x-python",
   "name": "python",
   "nbconvert_exporter": "python",
   "pygments_lexer": "ipython3",
   "version": "3.8.8"
  }
 },
 "nbformat": 4,
 "nbformat_minor": 5
}
