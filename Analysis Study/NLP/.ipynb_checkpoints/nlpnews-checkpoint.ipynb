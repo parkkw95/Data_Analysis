{
 "cells": [
  {
   "cell_type": "markdown",
   "id": "23caa382-d7a4-4295-a920-ca89a12df92a",
   "metadata": {},
   "source": [
    "### 뉴스 스크래이핑"
   ]
  },
  {
   "cell_type": "code",
   "execution_count": 1,
   "id": "8e9bc54a-d73a-446e-8c48-a3941d2ffed1",
   "metadata": {},
   "outputs": [],
   "source": [
    "# url =https://finance.naver.com/item/sise.naver?code=003490\n",
    "# https://search.naver.com/search.naver?sm=tab_hty.top&where=news&query=비트코인\n",
    "import requests\n",
    "#pip install beautifulsoup4\n",
    "from bs4 import BeautifulSoup as bsp\n",
    "import sqlite3"
   ]
  },
  {
   "cell_type": "raw",
   "id": "6e61c4ef-4c2a-4699-8dba-f2b3c726bffd",
   "metadata": {},
   "source": [
    "&sort=0&photo=0&field=0&pd=0&ds=&de=&cluster_rank=22&mynews=0&office_type=0&office_section_code=0&news_office_checked=&nso=so:r,p:all,a:all&start=11\n",
    "&sort=1&photo=0&field=0&pd=0&ds=&de=&mynews=0&office_type=0&office_section_code=0&news_office_checked=&nso=so:dd,p:all,a:all&start=11"
   ]
  },
  {
   "cell_type": "code",
   "execution_count": 2,
   "id": "a4d0c8d3-3a2d-412a-b99e-8555dac6656d",
   "metadata": {
    "tags": []
   },
   "outputs": [
    {
     "data": {
      "text/plain": [
       "1"
      ]
     },
     "execution_count": 2,
     "metadata": {},
     "output_type": "execute_result"
    }
   ],
   "source": [
    "subject='비트코인'\n",
    "pgstart='11'\n",
    "url='https://search.naver.com/search.naver?sm=tab_hty.top&where=news&query='+subject+'&sort=1&photo=0&field=0&pd=0&ds=&de=&mynews=0&office_type=0&office_section_code=0&news_office_checked=&nso=so:dd,p:all,a:all&start='+pgstart\n",
    "# url 에 접속해서 데이터 가져오기\n",
    "def scrape(url,css=['div'],opt=1):\n",
    "    h = {'User-Agent':'Mozilla/5.0 (Windows NT 6.3; Win64; x64) AppleWebKit/537.36 (KHTML, like Gecko) Chrome/63.0.3239.132 Safari/537.36'}\n",
    "    #newurl='https://finance.naver.com/item/sise_day.naver?code=003490'\n",
    "    src=requests.get(url,headers=h)\n",
    "    # 데이터의 content 를 가져오기\n",
    "    html=bsp(src.text,'html.parser')\n",
    "    # css 셀렉터 기반의 서치 (태그 클래스 아이디)\n",
    "    res=[]\n",
    "    for c in css:\n",
    "        if opt:\n",
    "            ctxt=html.select(c)[0].getText().strip()\n",
    "        else:\n",
    "            ctxt=html.select(c)\n",
    "        res.append(ctxt)\n",
    "        \n",
    "    return res\n",
    "nlist=scrape(url,css=['ul.list_news li'])\n",
    "len(nlist)"
   ]
  },
  {
   "cell_type": "code",
   "execution_count": 3,
   "id": "2da0dda8-eaf0-4363-aa68-fcb6d4568661",
   "metadata": {},
   "outputs": [
    {
     "data": {
      "text/plain": [
       "'e8f817f346d1d411cc59d5bdda64fab3763890e1f0f8f4c15805cf78874d68bf'"
      ]
     },
     "execution_count": 3,
     "metadata": {},
     "output_type": "execute_result"
    }
   ],
   "source": [
    "import hashlib\n",
    "def makeHash(txt=''):\n",
    "    m = hashlib.sha256()\n",
    "    m.update(txt.encode('utf-8'))\n",
    "    return m.hexdigest()\n",
    "makeHash('안녕')"
   ]
  },
  {
   "cell_type": "code",
   "execution_count": 4,
   "id": "d03a1620-6590-49ba-94a1-711410bb7661",
   "metadata": {
    "collapsed": true,
    "jupyter": {
     "outputs_hidden": true
    },
    "tags": []
   },
   "outputs": [
    {
     "name": "stdout",
     "output_type": "stream",
     "text": [
      "2022.01.05. 오전 10:02 디파이→NFT→웹3 패러다임 이동… 韓 금융계 참여 본격화2021년 12월 서울 서초구 빗썸 고객지원센터 전광판에 암호화폐 시세가 표시돼 있다. [GETTYIMAGES, 동아DB]2020년 가상자산업계의 주요 키워드가 탈중앙화금융(DeFi·디파이)이었다면 2021년은 대체 불가능한 토큰(NFT)이었다. 2022년 화두는 뭘까. 웹3(Web3)가 유망하다. 웹3의 패러다임은 “대형 IT(정보기술)업체가 독점하던 인터넷(웹2)을 민주화하자”다. 웹3 생태계에서는 사용자들이 네트워크를 운영하고, 그 과정에서 발생한 이익도 사용자들이 스스로 분배한다.디파이 수난에도 웹3 패러다임 확산할 듯가상자산업계에서 ‘다윗과 골리앗 싸움’이 이어지고 있다. 디파이는 블록체인 네트워크에 참여하는 누구나 금융기관이 독식하던 금융서비스를 제공할 수 있도록 도왔다. NFT는 신진 예술가들이 대형 갤러리에 입점하지 않고도 대중과 만날 수 있게 했다. 디파이는 금융기관, NFT는 대형 갤러리와 맞선 셈인데, 웹3 역시 대형 IT업체에 선전포고를 했다. 무정부주의를 지향하는 암호화폐 비트코인이 2008년 탄생한 것을 고려하면 10년 이상 저항정신이 계승됐다고 볼 수 있다.‘골리앗’은 가만히 있을까. 2021년 세계 각국 정부가 규제를 강화한 점을 고려하면 2022년도 녹록지는 않을 것이다. 가상자산 과세가 1년 유예됐지만, 과세 범위를 정하는 과정에서 업계가 혼란을 겪을 가능성이 있다. 중국의 중앙은행 디지털화폐(CBDC) 상용화도 업계 전반에 영향을 미칠 것으로 예상된다. 이미 미국 금융당국은 디파이업체에 칼을 빼 들었다. 미국 증권거래위원회(SEC)는 테라폼랩스의 ‘미러 프로토콜’(미국주식을 추종하는 토큰)이 증권법을 위반했는지 여부를 수사하고 있다. 일본과 한국도 CBDC 실험에 박차를 가하고 있다.한국에서는 자금이동규칙(Travel Rule·트래블룰) 시행으로 거래소에서 개인지갑으로 가상자산을 전송할 수 있을지 여부가 주요 쟁점이 될 전망이다. 트래블룰은 가상자산 거래 시 송신인과 수신인의 신원을 확인하고 거래 내용을 저장하도록 의무화한 것이 골자다. 한국 가상자산사업자는 ‘특정 금융거래정보의 보고 및 이용 등에 관한 법률’(특금법)에 따라 2022년 3월 25일부터 100만 원 이상 가상자산 거래가 발생할 경우 송신인과 수신인 정보를 금융당국에 보고해야 한다. 사실상 ‘트래블룰 솔루션’을 도입한 가상자산사업자 간 거래만 가능할 전망이지만, 메타마스크 등 개인지갑에도 트래블룰 솔루션을 적용할 수 있을지 여부는 미지수다. 정부가 세부 가이드라인을 발표하지 않아서다.한국 디파이 투자자는 2022년 말 세금 문제로 골머리를 앓을 수도 있다. 기획재정부는 2021년 10월 가상자산 담보대출 이자에 대해 25% 세율을 적용해 원천징수하겠다고 밝혔다. 디파이는 중앙기관 없이 서비스를 제공한다. 중개자가 존재하지 않는 만큼 세금을 누구에게 부과할지가 과제다.이러한 난제에도 디파이가 블록체인 생태계에 남긴 족적은 NFT에서 웹3로 이어질 전망이다. 린다 시에 스칼라캐피털 공동창업자는 웹3가 대두된 배경으로 디파이를 꼽으면서 “디파이 붐에 따라 확산된 개인지갑 기술을 토대로 NFT 시장이 개화했고, NFT는 (웹3의 주요 요소인) 탈중앙화 자율조직(DAO)에 긍정적 영향을 미쳤다”고 진단했다. 기관들도 점차 웹3에 주목하고 있다. 대표적으로 미래에셋증권과 삼성전자의 스타트업 투자 자회사 삼성넥스트는 각각 웹3 인프라 개발업체에 투자했다.페이스북 사명 변경도 웹3 패러다임을 앞당겼다는 분석이 나온다. 글로벌 디지털 자산운용사 그레이스케일은 “페이스북이 사명을 ‘메타’로 바꾼 결정이 거대 IT업체들이 메타버스로 전환하는 촉매제가 될 것으로 본다”고 진단했다. 2021년 플레이 투 언(Play to Earn·P2E)으로 NFT 시장에 발을 들여놓은 게임업체들도 좀 더 발 빠르게 웹3 패러다임에 합류할 것으로 기대된다(표 참조).중국 런민은행은 2022년 2월 베이징동계올림픽 개최에 맞춰 ‘디지털 위안화’를 상용화할 계획이다. 중국 국민은 지폐나 동전 없이 스마트폰 애플리케이션(앱)으로 법정화폐를 지불하게 된다. 디지털 위안화 앱을 설치하고 가맹점의 QR코드를 스캔하면 결제가 이뤄지는 방식이다. 일본 정부는 2023년으로 예정했던 CBDC 발행 시기를 앞당기는 방안을 검토하고 있다.한국 금융권·가상자산업계 판도 개편주요국의 CBDC 상용화가 가시화하면서 가상자산에 다소 보수적인 한국 금융권에도 변화가 생길 것이라는 전망이 나온다. 한국은행은 2022년 6월까지 CBDC 모의시험을 마친다는 입장이다. 금융권이 한국은행의 CBDC 연계 테스트에 참여하려면 가상자산 관련 기술을 확보해야 한다. KB국민은행이 최근 CBDC와 가상자산, 지역화폐, NFT 등을 보관할 수 있는 블록체인 지갑을 개발한 이유다.2021년 원화(KRW)로 거래할 수 있는 가상자산 거래소도 업비트, 빗썸, 코인원, 코빗 등 4곳에 불과했지만 향후 늘어날 전망이다. 그간 은행들은 자금세탁 리스크를 우려해 원화 입출금 실명계정 계약을 맺는 것을 주저했으나 거래소들이 금융당국 심사를 통과하자 상황이 달라졌다. 코인마켓 사업자로 신고가 수리된 거래소 중 일부는 은행과 실명계정 협약을 다시 논의 중인 것으로 알려졌다.2022년 한국 가상자산 시장은 다소 안정화될 것으로 보인다. 과세도 1년 유예된 데다 특금법에 의거한 가상자산사업자 신고 수리가 2021년 중으로 마무리되기 때문이다. 3월 대선이 시장에 영향을 미칠 수는 있겠으나, 여야 대선 후보 모두 아직은 가상자산에 친화적인 행보를 보이고 있다.다만 시장 규제는 다소 강화될 전망이다. 현재 여야 의원들이 가장자산에 대한 과세 인프라를 구축하기 위해 발의한 가상자산 업권법 여러 안이 국회에 계류 중이다. 2022년 안으로 투자자 보호 방안 등을 담은 가상자산 업권법이 제정될지 여부가 초미의 관심사다. 여당은 이와 별도로 가상자산 불법행위에 대한 관리·감독을 전담하는 ‘디지털자산관리감독원’ 설립도 추진하고 있다.*유튜브와 포털에서 각각 ‘매거진동아’와 ‘투벤저스’를 검색해 팔로잉하시면 기사 외에도 동영상 등 다채로운 투자 정보를 만나보실 수 있습니다. 함지현 코인데스크 코리아 기자\n"
     ]
    }
   ],
   "source": [
    "url='https://news.naver.com/main/read.naver?mode=LSD&mid=sec&sid1=101&oid=037&aid=0000030157'\n",
    "content=scrape(url,['#main_content .t11','#articleBodyContents','div.byline'])\n",
    "#print(content)\n",
    "dday=content[0]\n",
    "article=content[1]\n",
    "writer=content[2]\n",
    "print(dday,article,writer)"
   ]
  },
  {
   "cell_type": "code",
   "execution_count": 61,
   "id": "7b461f92-ab40-40c7-bbab-bf498ef1a7b8",
   "metadata": {},
   "outputs": [
    {
     "name": "stdout",
     "output_type": "stream",
     "text": [
      "주간동아 | 2022.01.05. 오전 10:02 | 함지현 코인데스크 코리아 기자 | 과세·신원 확인 등\n",
      "딜라이트닷넷 | 47분 전 |  | 비트코인 또 떨어져\n",
      "이코노미스트 | 2022.01.05. 오전 10:02 | 함지현 코인데스크 코리아 기자 | 지난해 최고 446\n",
      "코인리더스 | 1시간 전 |  | 비트코인 투심 꺾였\n",
      "이투데이 | 1시간 전 |  | 비트코인, 금 밀어\n",
      "디지털투데이 | 1시간 전 |  | 美 SEC, 비트코\n",
      "푸드경제신문 organiclife | 1시간 전 |  | 골드만삭스, 비트코\n",
      "한국경제 | 2022.01.05. 오전 10:02 | 함지현 코인데스크 코리아 기자 | 트럼프는 사기랬는데\n",
      "헤럴드경제 | 2022.01.05. 오전 10:02 | 함지현 코인데스크 코리아 기자 | 골드만삭스 “비트코\n",
      "파이낸셜투데이 | 1시간 전 |  | 게임사는 블록체인 \n"
     ]
    }
   ],
   "source": []
  },
  {
   "cell_type": "raw",
   "id": "5ca39c55-5ffb-4643-940c-4dc9c84a9058",
   "metadata": {},
   "source": [
    "'cindex','chash','ccomp','cwriter','cdaytime','cnurl','curl','carticle',\n",
    "chash,ccomp,cwriter,cdaytime,cnurl,curl,ctitle,carticle"
   ]
  },
  {
   "cell_type": "raw",
   "id": "cc87baa6-64d3-4a3b-abaf-626a7dcbdd57",
   "metadata": {},
   "source": [
    "'sno','scode','sname','sopenp','shighp','slowp','sclosep','svol'\n",
    "sno,scode,sname,sopenp,shighp,slowp,sclosep,svol"
   ]
  },
  {
   "cell_type": "code",
   "execution_count": 5,
   "id": "dc0bbf5d-ebe0-4111-a878-3c459cff20e7",
   "metadata": {},
   "outputs": [],
   "source": [
    "# 데이터 베이스 사용하기 SQLITE3\n",
    "def insdata(d=[]):\n",
    "    dbname='../_db/stockdb.db'\n",
    "    if(len(d[0])>3):\n",
    "        with sqlite3.connect(dbname) as conn:\n",
    "            cur=conn.cursor()\n",
    "            selsql='select chash from coinnews where chash=\"'+d[0]+'\"'\n",
    "            hashdata=cur.execute(sql,d).fetch_all()\n",
    "            if(not hashdata):\n",
    "                sql=\"insert into coinnews (chash,ccomp,cwriter,cdaytime,cnurl,curl,ctitle,carticle) values(?,?,?,?,?,?,?)\"\n",
    "                cur.execute(sql,d)\n",
    "                print('.',end='')\n",
    "            else:\n",
    "                print('x:',hashdata)\n",
    "    \n"
   ]
  },
  {
   "cell_type": "code",
   "execution_count": 6,
   "id": "ccc5ef24-8dd5-44b4-9ac8-e883d5362a3e",
   "metadata": {},
   "outputs": [],
   "source": [
    "url='https://search.naver.com/search.naver?sm=tab_hty.top&where=news&query='+subject+'&sort=1&photo=0&field=0&pd=0&ds=&de=&mynews=0&office_type=0&office_section_code=0&news_office_checked=&nso=so:dd,p:all,a:all&start='+pgstart\n",
    "nlist=scrape(url,css=['ul.list_news li'])\n",
    "newslist=bsp(nlist[0],'html.parser')\n",
    "newslist=bsp(nlist[0],'html.parser')\n"
   ]
  },
  {
   "cell_type": "code",
   "execution_count": 7,
   "id": "4d94f7b9-3cb5-4100-aab6-7ca72c22d800",
   "metadata": {},
   "outputs": [
    {
     "data": {
      "text/plain": [
       "-1"
      ]
     },
     "execution_count": 7,
     "metadata": {},
     "output_type": "execute_result"
    }
   ],
   "source": [
    "'1 전'.find('분')"
   ]
  },
  {
   "cell_type": "code",
   "execution_count": 8,
   "id": "a0359994-9919-4d9f-b8ee-8b5b3e2e7d3a",
   "metadata": {},
   "outputs": [
    {
     "data": {
      "text/plain": [
       "'2022-01-05 14:32:13'"
      ]
     },
     "execution_count": 8,
     "metadata": {},
     "output_type": "execute_result"
    }
   ],
   "source": [
    "from datetime import datetime,timedelta\n",
    "def str2time(txt='1 분 전'):\n",
    "    now=datetime.now()\n",
    "    if txt.find('분')>-1:\n",
    "        mn=int(txt.replace('분 전','').strip())\n",
    "        resnow=now+timedelta(minutes=-mn)\n",
    "    elif txt.find('시')>-1:\n",
    "        hr=int(txt.replace('시간 전','').strip())\n",
    "        resnow=now+timedelta(hours=-hr)\n",
    "    elif txt.find('오전')>-1:\n",
    "        resnow=now\n",
    "    elif txt.find('오후')>-1:\n",
    "        resnow=now\n",
    "    \n",
    "    #print(now)\n",
    "    #print(resnow)\n",
    "    return resnow.strftime('%Y-%m-%d %H:%M:%S')\n",
    "str2time()"
   ]
  },
  {
   "cell_type": "code",
   "execution_count": 9,
   "id": "0775e635-7c87-4bd3-b003-be4e07f1156f",
   "metadata": {},
   "outputs": [],
   "source": [
    "def getPage(no=1,subject='비트코인'):\n",
    "    pgstart=str(10*(no-1)+1)\n",
    "    url='https://search.naver.com/search.naver?sm=tab_hty.top&where=news&query='+subject+'&sort=1&photo=0&field=0&pd=0&ds=&de=&mynews=0&office_type=0&office_section_code=0&news_office_checked=&nso=so:dd,p:all,a:all&start='+pgstart\n",
    "    newslist=scrape(url,css=['ul.list_news li'],opt=0)[0]\n",
    "    #print(len(newslist))\n",
    "    for news in newslist:\n",
    "        #print(news)\n",
    "        #news=bsp(news,'html.parser')\n",
    "        \n",
    "        press=news.select('.press')\n",
    "        info=news.select('.info')\n",
    "        tit=news.select('.news_tit')\n",
    "        if(len(info)>2):\n",
    "            naverurl=info[2]['href']\n",
    "            ncont=scrape(naverurl,['#main_content .t11','#articleBodyContents','div.byline'])\n",
    "            dday=content[0]\n",
    "            article=content[1]\n",
    "            writer=content[2]\n",
    "        else:\n",
    "            naverurl=''\n",
    "            dday=info[1].getText()\n",
    "            article=''\n",
    "            writer=''\n",
    "        title=tit[0].getText()\n",
    "        oriurl=tit[0]['href']\n",
    "        hcode=makeHash(oriurl)\n",
    "        comp=press[0].getText().strip('언론사 선정')\n",
    "        dday=str2time(dday)\n",
    "        d=[hcode,comp,writer,dday,naverurl,oriurl,title,article]\n",
    "        print(comp,'|',dday,'|',writer,'|',title[:10])\n"
   ]
  },
  {
   "cell_type": "code",
   "execution_count": 10,
   "id": "04e60968-5820-4120-88e6-413232516888",
   "metadata": {},
   "outputs": [
    {
     "name": "stdout",
     "output_type": "stream",
     "text": [
      "핀포인트뉴스 | 2022-01-05 14:24:17 |  | 비덴트 급등이후 비\n",
      "아시아경제 | 2022-01-05 14:33:17 | 함지현 코인데스크 코리아 기자 | [비트코인 지금] \n",
      "아시아경제 | 2022-01-05 14:33:17 | 함지현 코인데스크 코리아 기자 | 스페인·호주서 은행\n",
      "한국경제 | 2022-01-05 14:33:17 | 함지현 코인데스크 코리아 기자 | \"비트코인, 10만\n",
      "헤럴드경제 | 2022-01-05 14:33:17 | 함지현 코인데스크 코리아 기자 | “우린 건강해” 백\n",
      "핀포인트뉴스 | 2022-01-05 14:02:17 |  | \"비트코인 10만 \n",
      "이투데이 | 2022-01-05 14:02:17 |  | 글로벌 은행들, 가\n",
      "이코노뉴스 | 2022-01-05 14:02:17 |  | [가상화폐 시세] \n",
      "이데일리 | 2022-01-05 14:33:18 | 함지현 코인데스크 코리아 기자 | 중국, 디지털위안화\n",
      "서울문화투데이 | 2022-01-05 13:58:18 |  | 강이연 작가 '0.\n"
     ]
    }
   ],
   "source": [
    "getPage()"
   ]
  },
  {
   "cell_type": "code",
   "execution_count": 11,
   "id": "7888619e-7179-4339-9bf2-63597bda18ee",
   "metadata": {
    "tags": []
   },
   "outputs": [
    {
     "ename": "TypeError",
     "evalue": "unsupported operand type(s) for -: 'str' and 'int'",
     "output_type": "error",
     "traceback": [
      "\u001b[0;31m---------------------------------------------------------------------------\u001b[0m",
      "\u001b[0;31mTypeError\u001b[0m                                 Traceback (most recent call last)",
      "\u001b[0;32m/var/folders/_q/ls_vymhn1t5dvchk274ybs1m0000gn/T/ipykernel_12589/1826769567.py\u001b[0m in \u001b[0;36m<module>\u001b[0;34m\u001b[0m\n\u001b[1;32m      1\u001b[0m \u001b[0;32mfor\u001b[0m \u001b[0mi\u001b[0m \u001b[0;32min\u001b[0m \u001b[0mrange\u001b[0m\u001b[0;34m(\u001b[0m\u001b[0;36m1\u001b[0m\u001b[0;34m,\u001b[0m\u001b[0;36m2\u001b[0m\u001b[0;34m)\u001b[0m\u001b[0;34m:\u001b[0m\u001b[0;34m\u001b[0m\u001b[0;34m\u001b[0m\u001b[0m\n\u001b[0;32m----> 2\u001b[0;31m     \u001b[0mgetPage\u001b[0m\u001b[0;34m(\u001b[0m\u001b[0mstr\u001b[0m\u001b[0;34m(\u001b[0m\u001b[0mi\u001b[0m\u001b[0;34m)\u001b[0m\u001b[0;34m)\u001b[0m\u001b[0;34m\u001b[0m\u001b[0;34m\u001b[0m\u001b[0m\n\u001b[0m",
      "\u001b[0;32m/var/folders/_q/ls_vymhn1t5dvchk274ybs1m0000gn/T/ipykernel_12589/1186397962.py\u001b[0m in \u001b[0;36mgetPage\u001b[0;34m(no, subject)\u001b[0m\n\u001b[1;32m      1\u001b[0m \u001b[0;32mdef\u001b[0m \u001b[0mgetPage\u001b[0m\u001b[0;34m(\u001b[0m\u001b[0mno\u001b[0m\u001b[0;34m=\u001b[0m\u001b[0;36m1\u001b[0m\u001b[0;34m,\u001b[0m\u001b[0msubject\u001b[0m\u001b[0;34m=\u001b[0m\u001b[0;34m'비트코인'\u001b[0m\u001b[0;34m)\u001b[0m\u001b[0;34m:\u001b[0m\u001b[0;34m\u001b[0m\u001b[0;34m\u001b[0m\u001b[0m\n\u001b[0;32m----> 2\u001b[0;31m     \u001b[0mpgstart\u001b[0m\u001b[0;34m=\u001b[0m\u001b[0mstr\u001b[0m\u001b[0;34m(\u001b[0m\u001b[0;36m10\u001b[0m\u001b[0;34m*\u001b[0m\u001b[0;34m(\u001b[0m\u001b[0mno\u001b[0m\u001b[0;34m-\u001b[0m\u001b[0;36m1\u001b[0m\u001b[0;34m)\u001b[0m\u001b[0;34m+\u001b[0m\u001b[0;36m1\u001b[0m\u001b[0;34m)\u001b[0m\u001b[0;34m\u001b[0m\u001b[0;34m\u001b[0m\u001b[0m\n\u001b[0m\u001b[1;32m      3\u001b[0m     \u001b[0murl\u001b[0m\u001b[0;34m=\u001b[0m\u001b[0;34m'https://search.naver.com/search.naver?sm=tab_hty.top&where=news&query='\u001b[0m\u001b[0;34m+\u001b[0m\u001b[0msubject\u001b[0m\u001b[0;34m+\u001b[0m\u001b[0;34m'&sort=1&photo=0&field=0&pd=0&ds=&de=&mynews=0&office_type=0&office_section_code=0&news_office_checked=&nso=so:dd,p:all,a:all&start='\u001b[0m\u001b[0;34m+\u001b[0m\u001b[0mpgstart\u001b[0m\u001b[0;34m\u001b[0m\u001b[0;34m\u001b[0m\u001b[0m\n\u001b[1;32m      4\u001b[0m     \u001b[0mnewslist\u001b[0m\u001b[0;34m=\u001b[0m\u001b[0mscrape\u001b[0m\u001b[0;34m(\u001b[0m\u001b[0murl\u001b[0m\u001b[0;34m,\u001b[0m\u001b[0mcss\u001b[0m\u001b[0;34m=\u001b[0m\u001b[0;34m[\u001b[0m\u001b[0;34m'ul.list_news li'\u001b[0m\u001b[0;34m]\u001b[0m\u001b[0;34m,\u001b[0m\u001b[0mopt\u001b[0m\u001b[0;34m=\u001b[0m\u001b[0;36m0\u001b[0m\u001b[0;34m)\u001b[0m\u001b[0;34m[\u001b[0m\u001b[0;36m0\u001b[0m\u001b[0;34m]\u001b[0m\u001b[0;34m\u001b[0m\u001b[0;34m\u001b[0m\u001b[0m\n\u001b[1;32m      5\u001b[0m     \u001b[0;31m#print(len(newslist))\u001b[0m\u001b[0;34m\u001b[0m\u001b[0;34m\u001b[0m\u001b[0m\n",
      "\u001b[0;31mTypeError\u001b[0m: unsupported operand type(s) for -: 'str' and 'int'"
     ]
    }
   ],
   "source": [
    "for i in range(1,2):\n",
    "    getPage(str(i))"
   ]
  },
  {
   "cell_type": "code",
   "execution_count": 8,
   "id": "210b98e6-1d04-4d4a-ab1f-df27ee3381dd",
   "metadata": {},
   "outputs": [],
   "source": [
    "###\n"
   ]
  }
 ],
 "metadata": {
  "kernelspec": {
   "display_name": "Python 3 (ipykernel)",
   "language": "python",
   "name": "python3"
  },
  "language_info": {
   "codemirror_mode": {
    "name": "ipython",
    "version": 3
   },
   "file_extension": ".py",
   "mimetype": "text/x-python",
   "name": "python",
   "nbconvert_exporter": "python",
   "pygments_lexer": "ipython3",
   "version": "3.9.7"
  }
 },
 "nbformat": 4,
 "nbformat_minor": 5
}
