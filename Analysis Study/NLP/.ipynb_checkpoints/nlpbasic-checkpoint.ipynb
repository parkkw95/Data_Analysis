{
 "cells": [
  {
   "cell_type": "markdown",
   "id": "e43b3b31-0474-4af9-a0b1-241282666c28",
   "metadata": {},
   "source": [
    "### 자연어 처리(NLP : Natural Language Processing)\n",
    "* 목적\n",
    "    - 언어 -> 디지털화 프로세싱\n",
    "    - 텍스트의 의미 성격 등을 과학적으로 분석하기 위함\n",
    "* 차이\n",
    "    - 상대적 라벨링 : 정형화(객관화) 데이터\n",
    "    - 객관적 숨은 의미 언어간의 거리\n",
    "* 방법\n",
    "    - 글의 요소\n",
    "        * copus 글덩어리(코퍼스 : 책)\n",
    "        * paper 문서(페이지)\n",
    "        * paragraph 문단(주제의 단위 : 의미 좀 작음)\n",
    "        * sentence 문장(주어 서술어 목적어 등을 통해 의미 확보) \n",
    "        * word 어휘 + 문장 부호\n",
    "* 분야\n",
    "    - 텍스트 분류(Text Classification)\n",
    "        - 주제분류(가심, 연예, 정치)\n",
    "        - 스팸메일 분류\n",
    "    - 감성분석(Sentiment Analysis)\n",
    "        - 긍부정 판단\n",
    "        - 여론조사 의견강약\n",
    "    - 텍스트 요약(Summarization)\n",
    "        - 주요 주제나 중심사상 발췌\n",
    "    - 유사도 측정\n",
    "        - 해당하는 말이 같은 주제를 말하고 있는가\n",
    "        - 표절과 유사\n",
    "* NLP 핵심 요소\n",
    "    - 형태소\n",
    "        - 정의 : 의미가 있는 가장 작은 말 더 분석하면 뜻이 없어지는 말의 단위\n",
    "        - 종류\n",
    "            - 문법(형식) 형태소\n",
    "            - 어휘 형태소"
   ]
  }
 ],
 "metadata": {
  "kernelspec": {
   "display_name": "Python 3 (ipykernel)",
   "language": "python",
   "name": "python3"
  },
  "language_info": {
   "codemirror_mode": {
    "name": "ipython",
    "version": 3
   },
   "file_extension": ".py",
   "mimetype": "text/x-python",
   "name": "python",
   "nbconvert_exporter": "python",
   "pygments_lexer": "ipython3",
   "version": "3.8.0"
  }
 },
 "nbformat": 4,
 "nbformat_minor": 5
}
