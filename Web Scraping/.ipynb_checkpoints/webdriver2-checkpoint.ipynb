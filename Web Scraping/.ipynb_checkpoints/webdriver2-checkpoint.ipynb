{
 "cells": [
  {
   "cell_type": "code",
   "execution_count": 1,
   "id": "8a999145-9b09-4bd5-a4fd-9e261f795327",
   "metadata": {},
   "outputs": [
    {
     "name": "stderr",
     "output_type": "stream",
     "text": [
      "<ipython-input-1-a43c71dc39c5>:10: DeprecationWarning: executable_path has been deprecated, please pass in a Service object\n",
      "  driver=webdriver.Chrome(cdriver)\n"
     ]
    }
   ],
   "source": [
    "import numpy as np\n",
    "import pandas as pd\n",
    "import matplotlib.pyplot as plt\n",
    "from selenium import webdriver\n",
    "from selenium.webdriver.common.keys import Keys\n",
    "from selenium.webdriver.common.by import By\n",
    "import time\n",
    "# 드라이버를 로드하여 해당 페이지로 이동\n",
    "cdriver='./driver/chromedriver.exe'\n",
    "driver=webdriver.Chrome(cdriver)\n",
    "url='https://finance.naver.com/'\n",
    "driver.get(url)"
   ]
  },
  {
   "cell_type": "code",
   "execution_count": 5,
   "id": "81cfa60f-1b2c-464c-bfed-e9b2a6d2277b",
   "metadata": {},
   "outputs": [],
   "source": [
    "# input 아이템 아이디로 찾아서 코드 넣고 검색\n",
    "elem=driver.find_element(By.ID,'stock_items')\n",
    "elem.send_keys('003490')\n",
    "elem.send_keys(Keys.RETURN)"
   ]
  },
  {
   "cell_type": "code",
   "execution_count": 6,
   "id": "9640937b-e8d2-4537-a015-91e13a607fef",
   "metadata": {},
   "outputs": [],
   "source": [
    "# 시세로 이동\n",
    "elem= driver.find_element(By.XPATH,'//*[@id=\"content\"]/ul/li[2]/a')\n",
    "elem.click()"
   ]
  },
  {
   "cell_type": "code",
   "execution_count": 41,
   "id": "1aa15a03-a3b8-413a-896f-2a9b4c8deba5",
   "metadata": {},
   "outputs": [],
   "source": [
    "# 기본 드라이버로 돌아가기\n",
    "driver.switch_to.default_content()"
   ]
  },
  {
   "cell_type": "code",
   "execution_count": 80,
   "id": "4e0b0482-6dfe-4d86-989d-ea1f2a6ac1e2",
   "metadata": {},
   "outputs": [],
   "source": [
    "driver.switch_to.default_content()\n",
    "# iframe 이 있을 경우 해당 iframe 으로 이동\n",
    "elem=driver.find_element(By.XPATH,'//*[@id=\"content\"]/div[2]/iframe[2]')\n",
    "# 해당 프레임으로 이동\n",
    "driver.switch_to.frame(elem)\n",
    "elem=driver.find_element(By.XPATH,'/html/body/table[1]')"
   ]
  },
  {
   "cell_type": "raw",
   "id": "f375da6d-6fed-4777-9770-04a04346313c",
   "metadata": {
    "tags": []
   },
   "source": [
    "# Webdriver 와 Bs4를 결합\n",
    "from bs4 import BeautifulSoup as bsp\n",
    "html=bsp(driver.page_source,'html.parser')\n",
    "html"
   ]
  },
  {
   "cell_type": "code",
   "execution_count": 96,
   "id": "33b4735d-c84c-4a91-b008-f6a0e745daf6",
   "metadata": {},
   "outputs": [
    {
     "name": "stdout",
     "output_type": "stream",
     "text": [
      "['2021-11-19', '29250', '29600', '29200', '29550', '739922']\n",
      "['2021-11-18', '29850', '29900', '29300', '29400', '1899679']\n",
      "['2021-11-17', '30450', '30450', '29850', '29850', '2419449']\n",
      "['2021-11-16', '30550', '31000', '30450', '30450', '1774387']\n",
      "['2021-11-15', '31050', '31200', '30300', '30400', '2801729']\n",
      "['2021-11-12', '30650', '30800', '30500', '30550', '1482218']\n",
      "['2021-11-11', '30100', '31050', '30000', '30550', '2424645']\n",
      "['2021-11-10', '30650', '30700', '30200', '30450', '1292035']\n",
      "['2021-11-09', '31150', '31150', '30600', '30850', '1474811']\n",
      "['2021-11-08', '30950', '31250', '30700', '31150', '3084762']\n"
     ]
    }
   ],
   "source": [
    "# 요소의 html을 BS4를 통한 접근\n",
    "elemhtml=elem.get_attribute('innerHTML')\n",
    "#print(elemhtml)\n",
    "html=bsp(elemhtml,'html.parser')\n",
    "trs=html.select('tr')\n",
    "#날짜\t종가\t전일비\t시가\t고가\t저가\t거래량\n",
    "for tr in trs:\n",
    "    dateitem=tr.select('.p10')\n",
    "    if(dateitem):\n",
    "        tds=tr.select('td')\n",
    "        sday=tds[0].getText().strip().replace('.','-')\n",
    "        sendp=tds[1].getText().strip().replace(',','')\n",
    "        sstartp=tds[3].getText().strip().replace(',','')\n",
    "        shighp=tds[4].getText().strip().replace(',','')\n",
    "        slowp=tds[5].getText().strip().replace(',','')\n",
    "        svol=tds[6].getText().strip().replace(',','')\n",
    "        print([sday,sstartp,shighp,slowp,sendp,svol])"
   ]
  },
  {
   "cell_type": "code",
   "execution_count": null,
   "id": "9a17c1af-2dbd-4e3a-bf70-2a05418e6221",
   "metadata": {},
   "outputs": [],
   "source": [
    "### Webdriver\n",
    "* 페이지 명령어\n",
    "    - driver.get(url): 해당url로 이동\n",
    "    - driver.close(): 현재탭 닫기\n",
    "    - driver.quit(): 끝내기\n",
    "    - driver.back(): 뒤로가기\n",
    "    - driver.forward(): 앞으로가기\n",
    "* 엘리먼트 찾기 명령어\n",
    "    - driver.find_element(By.ID,'~'): 아이디로 찾기\n",
    "    - driver.find_element(By.CLASS_NAME) :클래스명으로찾기\n",
    "    - driver.find_element(By.CSS_SELECTOR) :CSS 셀렉터\n",
    "    - driver.find_element(By.XPATH): XPATH \n",
    "    - driver.find_element(By.NAME): 이름으로 찾기\n",
    "    - driver.find_element(By.TAG_NAME): 태그 이름으로 찾기\n",
    "* 엘리먼트 제어\n",
    "    - elem=driver.find_element(By.ID,'~')  \n",
    "    - elem.click(): 클릭\n",
    "    - elem.send_keys(): 입력\n",
    "    - elem.clear(): 내용삭제    "
   ]
  }
 ],
 "metadata": {
  "kernelspec": {
   "display_name": "Python 3",
   "language": "python",
   "name": "python3"
  },
  "language_info": {
   "codemirror_mode": {
    "name": "ipython",
    "version": 3
   },
   "file_extension": ".py",
   "mimetype": "text/x-python",
   "name": "python",
   "nbconvert_exporter": "python",
   "pygments_lexer": "ipython3",
   "version": "3.8.8"
  }
 },
 "nbformat": 4,
 "nbformat_minor": 5
}
